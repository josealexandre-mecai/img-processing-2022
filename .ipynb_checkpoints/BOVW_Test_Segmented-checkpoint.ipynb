{
 "cells": [
  {
   "cell_type": "code",
   "execution_count": 1,
   "id": "3d95ef06",
   "metadata": {},
   "outputs": [],
   "source": [
    "import cv2\n",
    "import numpy as np\n",
    "import pandas as pd\n",
    "import os\n",
    "\n",
    "# Importing metrics tools\n",
    "from sklearn.metrics import confusion_matrix, accuracy_score, ConfusionMatrixDisplay\n",
    "\n",
    "# Importing visualization tools\n",
    "import seaborn as sn\n",
    "import matplotlib.pyplot as plt\n",
    "import pylab as pl\n",
    "\n",
    "# Perform k-means clustering and vector quantization\n",
    "from scipy.cluster.vq import kmeans, vq\n",
    "\n",
    "# Importing feature extraction tools\n",
    "from skimage.feature import greycomatrix, greycoprops\n",
    "import mahotas as mt # Mahotas library for GLCM calculation\n",
    "from skimage import feature # feature.local_binary_pattern for LBP calculation\n",
    "\n",
    "import joblib as jb"
   ]
  },
  {
   "cell_type": "markdown",
   "id": "d8eb3d0d",
   "metadata": {},
   "source": [
    "# BRISK - Feature Point Detector"
   ]
  },
  {
   "cell_type": "code",
   "execution_count": 2,
   "id": "bf7a1ff5",
   "metadata": {},
   "outputs": [],
   "source": [
    "# Load the classifier, class names, scaler, number of clusters and vocabulary \n",
    "# from stored pickle file (generated during training)\n",
    "clf, classes_names, stdSlr, k, voc = jb.load(\"bovw_segmented_brisk_rf.pkl\")"
   ]
  },
  {
   "cell_type": "code",
   "execution_count": 3,
   "id": "da50d2a7",
   "metadata": {},
   "outputs": [
    {
     "data": {
      "text/plain": [
       "(RandomForestClassifier(criterion='entropy', max_depth=50, min_samples_split=30,\n",
       "                        n_estimators=50, random_state=0),\n",
       " ['Aluminium',\n",
       "  'Battery',\n",
       "  'Cable and Wire',\n",
       "  'Cardboard and Paper',\n",
       "  'Connector',\n",
       "  'Copper',\n",
       "  'Iron',\n",
       "  'Magnetic Tape',\n",
       "  'Printed Circuit Board',\n",
       "  'Printer Ribbon and Toner',\n",
       "  'Tube and Screen',\n",
       "  'Water Pump'],\n",
       " StandardScaler(),\n",
       " 25,\n",
       " array([[161.15197356, 175.04203128,  86.48012474, ...,  55.58922919,\n",
       "          71.32051759, 100.96620741],\n",
       "        [178.44390774,  96.55347583,  61.72080667, ..., 140.021656  ,\n",
       "         113.76729864, 109.21241396],\n",
       "        [100.42639768,  76.69189614, 114.92573504, ...,  73.05772346,\n",
       "          91.40676385, 115.87380356],\n",
       "        ...,\n",
       "        [119.14279566, 172.60489694, 172.60537516, ..., 103.46353594,\n",
       "         127.73918034, 107.38338673],\n",
       "        [162.27713927, 126.91011292, 197.10494354, ..., 171.61550816,\n",
       "         143.99202008, 112.53480552],\n",
       "        [209.49876695, 213.21415761, 229.6042484 , ...,  90.46003811,\n",
       "          87.29789261, 102.59539289]]))"
      ]
     },
     "execution_count": 3,
     "metadata": {},
     "output_type": "execute_result"
    }
   ],
   "source": [
    "clf, classes_names, stdSlr, k, voc"
   ]
  },
  {
   "cell_type": "code",
   "execution_count": 4,
   "id": "080dbd74",
   "metadata": {},
   "outputs": [
    {
     "data": {
      "text/plain": [
       "(25, 64)"
      ]
     },
     "execution_count": 4,
     "metadata": {},
     "output_type": "execute_result"
    }
   ],
   "source": [
    "voc.shape"
   ]
  },
  {
   "cell_type": "code",
   "execution_count": 5,
   "id": "0e64e5b3",
   "metadata": {},
   "outputs": [],
   "source": [
    "# Get the path of the testing image(s) and store them in a list\n",
    "test_path = './waste_images/test_segmented'  "
   ]
  },
  {
   "cell_type": "code",
   "execution_count": 6,
   "id": "f49b2ff6",
   "metadata": {},
   "outputs": [],
   "source": [
    "testing_names = os.listdir(test_path)\n",
    "\n",
    "# Get path to all images and save them in a list\n",
    "# image_paths and the corresponding label in image_paths\n",
    "image_paths = []\n",
    "image_classes = []\n",
    "class_id = 0\n",
    "\n",
    "#To make it easy to list all file names in a directory let us define a function\n",
    "def imglist(path):\n",
    "    return [os.path.join(path, f) for f in os.listdir(path)]\n",
    "\n",
    "#Fill the placeholder empty lists with image path, classes, and add class ID number\n",
    "for testing_name in testing_names:\n",
    "    dir = os.path.join(test_path, testing_name)\n",
    "    class_path = imglist(dir)\n",
    "    image_paths+=class_path\n",
    "    image_classes+=[class_id]*len(class_path)\n",
    "    class_id+=1"
   ]
  },
  {
   "cell_type": "code",
   "execution_count": 8,
   "id": "2a7c3a74",
   "metadata": {},
   "outputs": [
    {
     "data": {
      "text/plain": [
       "['./waste_images/test_segmented\\\\Aluminium\\\\Aluminium17_segmented.JPG',\n",
       " './waste_images/test_segmented\\\\Aluminium\\\\Aluminium49_segmented.JPG',\n",
       " './waste_images/test_segmented\\\\Aluminium\\\\Aluminium55_segmented.JPG',\n",
       " './waste_images/test_segmented\\\\Aluminium\\\\Aluminium57_segmented.JPG',\n",
       " './waste_images/test_segmented\\\\Aluminium\\\\Aluminium5_segmented.JPG',\n",
       " './waste_images/test_segmented\\\\Aluminium\\\\Aluminium63_segmented.JPG',\n",
       " './waste_images/test_segmented\\\\Aluminium\\\\Aluminium70_segmented.JPG',\n",
       " './waste_images/test_segmented\\\\Aluminium\\\\Aluminium83_segmented.JPG',\n",
       " './waste_images/test_segmented\\\\Aluminium\\\\Aluminium85_segmented.JPG',\n",
       " './waste_images/test_segmented\\\\Battery\\\\Battery100_segmented.JPG']"
      ]
     },
     "execution_count": 8,
     "metadata": {},
     "output_type": "execute_result"
    }
   ],
   "source": [
    "image_paths[:10]"
   ]
  },
  {
   "cell_type": "code",
   "execution_count": 9,
   "id": "fa4e8e18",
   "metadata": {},
   "outputs": [
    {
     "data": {
      "text/plain": [
       "array([ 0,  1,  2,  3,  4,  5,  6,  7,  8,  9, 10, 11])"
      ]
     },
     "execution_count": 9,
     "metadata": {},
     "output_type": "execute_result"
    }
   ],
   "source": [
    "np.unique(image_classes)"
   ]
  },
  {
   "cell_type": "code",
   "execution_count": 10,
   "id": "c9bd4bb8",
   "metadata": {},
   "outputs": [],
   "source": [
    "# Create feature extraction and keypoint detector objects\n",
    "# SIFT is not available anymore in openCV    \n",
    "\n",
    "# Create list where all the descriptors will be stored\n",
    "des_list = []\n",
    "\n",
    "# BRISK is a good replacement to SIFT. ORB also works but didn't work well for this example\n",
    "brisk = cv2.BRISK_create(30)\n",
    "\n",
    "for image_path in image_paths:\n",
    "    im = cv2.imread(image_path)\n",
    "    kpts, des = brisk.detectAndCompute(im, None)\n",
    "    des_list.append((image_path, des))"
   ]
  },
  {
   "cell_type": "code",
   "execution_count": 12,
   "id": "e523894c",
   "metadata": {},
   "outputs": [
    {
     "data": {
      "text/plain": [
       "(1012, 64)"
      ]
     },
     "execution_count": 12,
     "metadata": {},
     "output_type": "execute_result"
    }
   ],
   "source": [
    "des_list[0][1].shape"
   ]
  },
  {
   "cell_type": "code",
   "execution_count": 13,
   "id": "34042c3c",
   "metadata": {},
   "outputs": [],
   "source": [
    "# Stack all the descriptors vertically in a numpy array\n",
    "descriptors = des_list[0][1]\n",
    "for image_path, descriptor in des_list[0:]:\n",
    "    descriptors = np.vstack((descriptors, descriptor)) "
   ]
  },
  {
   "cell_type": "code",
   "execution_count": 15,
   "id": "7ff9ec9c",
   "metadata": {},
   "outputs": [
    {
     "data": {
      "text/plain": [
       "(169965, 64)"
      ]
     },
     "execution_count": 15,
     "metadata": {},
     "output_type": "execute_result"
    }
   ],
   "source": [
    "descriptors.shape"
   ]
  },
  {
   "cell_type": "code",
   "execution_count": 16,
   "id": "2f18377d",
   "metadata": {},
   "outputs": [],
   "source": [
    "# Calculate the histogram of features\n",
    "# vq Assigns codes from a code book to observations.\n",
    "from scipy.cluster.vq import vq    \n",
    "test_features = np.zeros((len(image_paths), k), \"float32\")\n",
    "for i in range(len(image_paths)):\n",
    "    words, distance = vq(des_list[i][1],voc)\n",
    "    for w in words:\n",
    "        test_features[i][w] += 1"
   ]
  },
  {
   "cell_type": "code",
   "execution_count": 18,
   "id": "eaca1376",
   "metadata": {},
   "outputs": [
    {
     "data": {
      "text/plain": [
       "(139, 25)"
      ]
     },
     "execution_count": 18,
     "metadata": {},
     "output_type": "execute_result"
    }
   ],
   "source": [
    "test_features.shape"
   ]
  },
  {
   "cell_type": "code",
   "execution_count": 19,
   "id": "21784c88",
   "metadata": {},
   "outputs": [
    {
     "name": "stdout",
     "output_type": "stream",
     "text": [
      "true_class =['Aluminium', 'Aluminium', 'Aluminium', 'Aluminium', 'Aluminium', 'Aluminium', 'Aluminium', 'Aluminium', 'Aluminium', 'Battery', 'Battery', 'Battery', 'Battery', 'Battery', 'Battery', 'Battery', 'Battery', 'Battery', 'Battery', 'Battery', 'Battery', 'Battery', 'Battery', 'Battery', 'Battery', 'Battery', 'Battery', 'Battery', 'Cable and Wire', 'Cable and Wire', 'Cable and Wire', 'Cable and Wire', 'Cable and Wire', 'Cable and Wire', 'Cable and Wire', 'Cable and Wire', 'Cable and Wire', 'Cable and Wire', 'Cardboard and Paper', 'Cardboard and Paper', 'Cardboard and Paper', 'Cardboard and Paper', 'Cardboard and Paper', 'Cardboard and Paper', 'Cardboard and Paper', 'Cardboard and Paper', 'Cardboard and Paper', 'Cardboard and Paper', 'Connector', 'Connector', 'Connector', 'Connector', 'Connector', 'Connector', 'Connector', 'Connector', 'Connector', 'Copper', 'Copper', 'Copper', 'Copper', 'Copper', 'Copper', 'Copper', 'Copper', 'Copper', 'Copper', 'Copper', 'Iron', 'Iron', 'Iron', 'Iron', 'Iron', 'Iron', 'Magnetic Tape', 'Magnetic Tape', 'Magnetic Tape', 'Printed Circuit Board', 'Printed Circuit Board', 'Printed Circuit Board', 'Printed Circuit Board', 'Printed Circuit Board', 'Printed Circuit Board', 'Printed Circuit Board', 'Printed Circuit Board', 'Printed Circuit Board', 'Printed Circuit Board', 'Printed Circuit Board', 'Printed Circuit Board', 'Printed Circuit Board', 'Printed Circuit Board', 'Printed Circuit Board', 'Printed Circuit Board', 'Printed Circuit Board', 'Printed Circuit Board', 'Printed Circuit Board', 'Printed Circuit Board', 'Printed Circuit Board', 'Printed Circuit Board', 'Printed Circuit Board', 'Printed Circuit Board', 'Printed Circuit Board', 'Printed Circuit Board', 'Printed Circuit Board', 'Printed Circuit Board', 'Printed Circuit Board', 'Printed Circuit Board', 'Printed Circuit Board', 'Printed Circuit Board', 'Printed Circuit Board', 'Printed Circuit Board', 'Printed Circuit Board', 'Printed Circuit Board', 'Printed Circuit Board', 'Printed Circuit Board', 'Printed Circuit Board', 'Printed Circuit Board', 'Printed Circuit Board', 'Printed Circuit Board', 'Printer Ribbon and Toner', 'Printer Ribbon and Toner', 'Printer Ribbon and Toner', 'Printer Ribbon and Toner', 'Printer Ribbon and Toner', 'Printer Ribbon and Toner', 'Printer Ribbon and Toner', 'Printer Ribbon and Toner', 'Tube and Screen', 'Tube and Screen', 'Tube and Screen', 'Tube and Screen', 'Tube and Screen', 'Tube and Screen', 'Tube and Screen', 'Tube and Screen', 'Tube and Screen', 'Tube and Screen', 'Water Pump', 'Water Pump']\n",
      "prediction =['Printed Circuit Board', 'Battery', 'Copper', 'Battery', 'Printed Circuit Board', 'Printed Circuit Board', 'Battery', 'Battery', 'Printed Circuit Board', 'Printed Circuit Board', 'Printed Circuit Board', 'Tube and Screen', 'Printed Circuit Board', 'Connector', 'Battery', 'Tube and Screen', 'Battery', 'Connector', 'Battery', 'Battery', 'Battery', 'Printed Circuit Board', 'Battery', 'Printed Circuit Board', 'Cardboard and Paper', 'Printed Circuit Board', 'Battery', 'Battery', 'Cardboard and Paper', 'Battery', 'Printed Circuit Board', 'Printed Circuit Board', 'Battery', 'Printed Circuit Board', 'Printed Circuit Board', 'Battery', 'Tube and Screen', 'Battery', 'Connector', 'Cardboard and Paper', 'Connector', 'Printed Circuit Board', 'Printed Circuit Board', 'Battery', 'Battery', 'Battery', 'Battery', 'Printed Circuit Board', 'Connector', 'Battery', 'Printed Circuit Board', 'Printed Circuit Board', 'Connector', 'Copper', 'Cardboard and Paper', 'Tube and Screen', 'Connector', 'Printed Circuit Board', 'Printed Circuit Board', 'Printed Circuit Board', 'Connector', 'Printed Circuit Board', 'Printed Circuit Board', 'Connector', 'Connector', 'Printed Circuit Board', 'Printed Circuit Board', 'Printed Circuit Board', 'Battery', 'Battery', 'Battery', 'Printed Circuit Board', 'Printed Circuit Board', 'Printed Circuit Board', 'Battery', 'Connector', 'Battery', 'Printed Circuit Board', 'Printed Circuit Board', 'Printed Circuit Board', 'Printed Circuit Board', 'Printed Circuit Board', 'Printed Circuit Board', 'Printed Circuit Board', 'Printed Circuit Board', 'Printed Circuit Board', 'Printed Circuit Board', 'Printed Circuit Board', 'Printed Circuit Board', 'Battery', 'Printed Circuit Board', 'Printed Circuit Board', 'Printed Circuit Board', 'Printed Circuit Board', 'Printed Circuit Board', 'Printed Circuit Board', 'Printed Circuit Board', 'Printed Circuit Board', 'Printed Circuit Board', 'Printed Circuit Board', 'Printed Circuit Board', 'Printed Circuit Board', 'Printed Circuit Board', 'Printed Circuit Board', 'Printed Circuit Board', 'Printed Circuit Board', 'Printed Circuit Board', 'Printed Circuit Board', 'Printed Circuit Board', 'Battery', 'Printed Circuit Board', 'Printed Circuit Board', 'Printed Circuit Board', 'Printed Circuit Board', 'Printed Circuit Board', 'Printed Circuit Board', 'Printed Circuit Board', 'Printed Circuit Board', 'Printed Circuit Board', 'Connector', 'Battery', 'Printed Circuit Board', 'Printed Circuit Board', 'Printed Circuit Board', 'Connector', 'Cardboard and Paper', 'Printed Circuit Board', 'Tube and Screen', 'Battery', 'Copper', 'Connector', 'Tube and Screen', 'Printed Circuit Board', 'Aluminium', 'Tube and Screen', 'Connector', 'Battery', 'Printed Circuit Board', 'Battery']\n"
     ]
    }
   ],
   "source": [
    "# Scale the features\n",
    "# Standardize features by removing the mean and scaling to unit variance\n",
    "# Scaler (stdSlr comes from the pickled file we imported)\n",
    "test_features = stdSlr.transform(test_features)\n",
    "\n",
    "#######Until here most of the above code is similar to Train except for kmeans clustering####\n",
    "\n",
    "# Report true class names so they can be compared with predicted classes\n",
    "true_class =  [classes_names[i] for i in image_classes]\n",
    "# Perform the predictions and report predicted class names. \n",
    "predictions =  [classes_names[i] for i in clf.predict(test_features)]\n",
    "\n",
    "# Print the true class and Predictions \n",
    "print (\"true_class =\"  + str(true_class))\n",
    "print (\"prediction =\"  + str(predictions))"
   ]
  },
  {
   "cell_type": "code",
   "execution_count": 20,
   "id": "916a8a54",
   "metadata": {},
   "outputs": [
    {
     "data": {
      "text/plain": [
       "139"
      ]
     },
     "execution_count": 20,
     "metadata": {},
     "output_type": "execute_result"
    }
   ],
   "source": [
    "len(predictions)"
   ]
  },
  {
   "cell_type": "code",
   "execution_count": 21,
   "id": "0787a38b",
   "metadata": {},
   "outputs": [
    {
     "name": "stdout",
     "output_type": "stream",
     "text": [
      "accuracy =  0.39568345323741005\n"
     ]
    }
   ],
   "source": [
    "# To make it easy to understand the accuracy let us print the confusion matrix\n",
    "\n",
    "def showconfusionmatrix(cm):\n",
    "    pl.matshow(cm)\n",
    "    pl.title('Confusion matrix')\n",
    "    pl.colorbar()\n",
    "    pl.show()\n",
    "\n",
    "\n",
    "accuracy = accuracy_score(true_class, predictions)\n",
    "print (\"accuracy = \", accuracy)\n",
    "cm = confusion_matrix(true_class, predictions, labels=classes_names)\n",
    "#print (cm)\n",
    "#showconfusionmatrix(cm)"
   ]
  },
  {
   "cell_type": "code",
   "execution_count": 22,
   "id": "30d97695",
   "metadata": {},
   "outputs": [
    {
     "data": {
      "image/png": "[encoded data removed]",
      "text/plain": [
       "<Figure size 432x288 with 2 Axes>"
      ]
     },
     "metadata": {
      "needs_background": "light"
     },
     "output_type": "display_data"
    }
   ],
   "source": [
    "disp = ConfusionMatrixDisplay(confusion_matrix=cm, display_labels=classes_names)\n",
    "disp.plot(xticks_rotation = 'vertical')\n",
    "plt.show()"
   ]
  },
  {
   "cell_type": "markdown",
   "id": "70caa3f2",
   "metadata": {},
   "source": [
    "# GLCM Haralick Features"
   ]
  },
  {
   "cell_type": "code",
   "execution_count": 2,
   "id": "af703d5d",
   "metadata": {},
   "outputs": [],
   "source": [
    "# Load the classifier, class names, scaler, number of clusters and vocabulary \n",
    "# from stored pickle file (generated during training)\n",
    "clf, classes_names, stdSlr, k, voc = jb.load(\"bovw_segmented_glcm_svm.pkl\")"
   ]
  },
  {
   "cell_type": "code",
   "execution_count": 3,
   "id": "249396bf",
   "metadata": {},
   "outputs": [
    {
     "data": {
      "text/plain": [
       "(SVC(gamma=10, random_state=0),\n",
       " ['Aluminium',\n",
       "  'Battery',\n",
       "  'Cable and Wire',\n",
       "  'Cardboard and Paper',\n",
       "  'Connector',\n",
       "  'Copper',\n",
       "  'Iron',\n",
       "  'Magnetic Tape',\n",
       "  'Printed Circuit Board',\n",
       "  'Printer Ribbon and Toner',\n",
       "  'Tube and Screen',\n",
       "  'Water Pump'],\n",
       " StandardScaler(),\n",
       " 25,\n",
       " array([[ 2.84349562e-01,  1.07749055e+02,  9.93490468e-01,\n",
       "          8.26464112e+03,  6.83491793e-01,  3.62443396e+02,\n",
       "          3.29508154e+04,  4.80357574e+00,  6.42945309e+00,\n",
       "          1.55322263e-03,  2.53236843e+00, -5.08883985e-01,\n",
       "          9.91039857e-01],\n",
       "        [ 4.17241099e-01,  6.78440334e+01,  9.91861162e-01,\n",
       "          4.16417062e+03,  7.61149725e-01,  4.27764987e+02,\n",
       "          1.65888385e+04,  3.80200575e+00,  5.02025723e+00,\n",
       "          2.01158964e-03,  2.02934121e+00, -5.31698593e-01,\n",
       "          9.79136924e-01],\n",
       "        [ 4.90172759e-01,  5.56590276e+01,  9.91375239e-01,\n",
       "          3.22991695e+03,  8.18886221e-01,  4.45701311e+02,\n",
       "          1.28640088e+04,  3.24676226e+00,  4.16993105e+00,\n",
       "          2.38919230e-03,  1.63056528e+00, -5.75045669e-01,\n",
       "          9.66999712e-01],\n",
       "        [ 2.91913792e-01,  1.01680177e+02,  9.91291670e-01,\n",
       "          5.80461448e+03,  6.76430829e-01,  3.87615885e+02,\n",
       "          2.31167777e+04,  4.77653531e+00,  6.44911388e+00,\n",
       "          1.52771986e-03,  2.56652922e+00, -4.96602878e-01,\n",
       "          9.89866236e-01],\n",
       "        [ 4.64707873e-01,  5.08396301e+01,  9.92739273e-01,\n",
       "          3.49472493e+03,  8.06316919e-01,  4.39451433e+02,\n",
       "          1.39280601e+04,  3.36032204e+00,  4.33794746e+00,\n",
       "          2.28167735e-03,  1.71868869e+00, -5.53475607e-01,\n",
       "          9.68203791e-01],\n",
       "        [ 3.85034968e-01,  8.13564887e+01,  9.91543367e-01,\n",
       "          4.80337355e+03,  7.37990638e-01,  4.12271807e+02,\n",
       "          1.91321377e+04,  4.05732821e+00,  5.39622696e+00,\n",
       "          1.88935903e-03,  2.15990170e+00, -5.18989502e-01,\n",
       "          9.79735192e-01],\n",
       "        [ 3.03656765e-01,  1.19043426e+02,  9.91187519e-01,\n",
       "          6.75875856e+03,  6.82384686e-01,  3.81240134e+02,\n",
       "          2.69159908e+04,  4.74598781e+00,  6.42678073e+00,\n",
       "          1.58799676e-03,  2.56880562e+00, -4.96072283e-01,\n",
       "          9.87788930e-01],\n",
       "        [ 5.67515417e-01,  3.94783447e+01,  9.88877761e-01,\n",
       "          1.81574263e+03,  8.61509730e-01,  4.73354977e+02,\n",
       "          7.22349219e+03,  2.68106577e+00,  3.36021090e+00,\n",
       "          2.66010711e-03,  1.31171632e+00, -5.96823470e-01,\n",
       "          9.46403835e-01],\n",
       "        [ 3.47772546e-01,  9.18128141e+01,  9.92589856e-01,\n",
       "          6.16548557e+03,  7.11108641e-01,  3.90617431e+02,\n",
       "          2.45701295e+04,  4.34813266e+00,  5.83884664e+00,\n",
       "          1.74788918e-03,  2.34036920e+00, -5.09396727e-01,\n",
       "          9.84376059e-01],\n",
       "        [ 6.03278351e-01,  6.47652594e+01,  9.87232606e-01,\n",
       "          2.49893058e+03,  8.51177989e-01,  4.65016001e+02,\n",
       "          9.93095708e+03,  2.54586883e+00,  3.31053212e+00,\n",
       "          2.63634285e-03,  1.42546542e+00, -5.57986235e-01,\n",
       "          9.41841502e-01],\n",
       "        [ 3.17626439e-01,  1.20878999e+02,  9.92117061e-01,\n",
       "          7.67319431e+03,  6.88402377e-01,  3.72501362e+02,\n",
       "          3.05718983e+04,  4.52553811e+00,  6.13470795e+00,\n",
       "          1.61262616e-03,  2.50328267e+00, -4.95529686e-01,\n",
       "          9.87208968e-01],\n",
       "        [ 3.96435161e-01,  9.37470706e+01,  9.89756560e-01,\n",
       "          4.57774421e+03,  7.43472084e-01,  4.20752735e+02,\n",
       "          1.82172298e+04,  3.99435460e+00,  5.33059503e+00,\n",
       "          1.91446409e-03,  2.17237977e+00, -5.15428624e-01,\n",
       "          9.80641986e-01],\n",
       "        [ 2.96304014e-01,  1.26496198e+02,  9.91247933e-01,\n",
       "          7.20333329e+03,  6.62877821e-01,  3.73659987e+02,\n",
       "          2.86868370e+04,  4.71362378e+00,  6.47469202e+00,\n",
       "          1.49052044e-03,  2.67788318e+00, -4.70258191e-01,\n",
       "          9.84844903e-01],\n",
       "        [ 2.47740564e-01,  1.17150543e+02,  9.94404031e-01,\n",
       "          1.04514499e+04,  6.66921359e-01,  3.27259595e+02,\n",
       "          4.16886491e+04,  4.90047028e+00,  6.58822117e+00,\n",
       "          1.43687271e-03,  2.64741450e+00, -4.94627326e-01,\n",
       "          9.92382925e-01],\n",
       "        [ 3.41032741e-01,  1.34128293e+02,  9.89636553e-01,\n",
       "          6.43902722e+03,  6.71861585e-01,  3.90306739e+02,\n",
       "          2.56219806e+04,  4.51165452e+00,  6.26495510e+00,\n",
       "          1.59395041e-03,  2.65051693e+00, -4.67880678e-01,\n",
       "          9.82043586e-01],\n",
       "        [ 5.08615585e-01,  2.71608195e+01,  9.80047926e-01,\n",
       "          8.48957994e+02,  8.75861338e-01,  4.87313737e+02,\n",
       "          3.36867116e+03,  2.80721490e+00,  3.40528040e+00,\n",
       "          2.71247946e-03,  1.19421599e+00, -6.38912864e-01,\n",
       "          9.70836055e-01],\n",
       "        [ 4.16702648e-01,  7.53933288e+01,  9.90499427e-01,\n",
       "          3.95996223e+03,  7.62423584e-01,  4.25099743e+02,\n",
       "          1.57644556e+04,  3.77138044e+00,  4.98708751e+00,\n",
       "          2.03159674e-03,  2.00983219e+00, -5.24903029e-01,\n",
       "          9.75884870e-01],\n",
       "        [ 3.50757348e-01,  1.02725023e+02,  9.90479245e-01,\n",
       "          5.38139550e+03,  6.98766468e-01,  3.99634639e+02,\n",
       "          2.14228570e+04,  4.38858921e+00,  5.98418533e+00,\n",
       "          1.70224222e-03,  2.44888962e+00, -4.88020189e-01,\n",
       "          9.81111041e-01],\n",
       "        [ 4.46129690e-01,  8.35129442e+01,  9.90502459e-01,\n",
       "          4.38748446e+03,  7.71845805e-01,  4.26592088e+02,\n",
       "          1.74664249e+04,  3.58915941e+00,  4.77413207e+00,\n",
       "          2.09626734e-03,  1.99233758e+00, -5.20382001e-01,\n",
       "          9.72252809e-01],\n",
       "        [ 4.64668916e-01,  9.15306412e+01,  9.87831286e-01,\n",
       "          3.74315452e+03,  7.80318179e-01,  4.36418424e+02,\n",
       "          1.48810874e+04,  3.49153111e+00,  4.63775393e+00,\n",
       "          2.15559009e-03,  1.92849787e+00, -5.24901438e-01,\n",
       "          9.68730578e-01],\n",
       "        [ 3.41794730e-01,  1.21301453e+02,  9.89211820e-01,\n",
       "          5.60759552e+03,  6.84545003e-01,  3.99022638e+02,\n",
       "          2.23090806e+04,  4.36776437e+00,  6.03512202e+00,\n",
       "          1.63868061e-03,  2.57420700e+00, -4.69320599e-01,\n",
       "          9.81213516e-01],\n",
       "        [ 3.39903289e-01,  1.37410485e+02,  9.88579603e-01,\n",
       "          6.00420436e+03,  6.94740245e-01,  3.98383024e+02,\n",
       "          2.38794069e+04,  4.43233790e+00,  6.05085386e+00,\n",
       "          1.65815172e-03,  2.52716587e+00, -4.81710808e-01,\n",
       "          9.82804064e-01],\n",
       "        [ 2.64351214e-01,  9.35454782e+01,  9.94758146e-01,\n",
       "          8.92297849e+03,  6.56292572e-01,  3.45115851e+02,\n",
       "          3.55983685e+04,  4.88441986e+00,  6.60391900e+00,\n",
       "          1.41571386e-03,  2.63660840e+00, -4.89667841e-01,\n",
       "          9.91551924e-01],\n",
       "        [ 5.21426408e-01,  5.17642695e+01,  9.91194355e-01,\n",
       "          2.93218188e+03,  8.31585676e-01,  4.53674646e+02,\n",
       "          1.16769632e+04,  3.08147306e+00,  3.91316533e+00,\n",
       "          2.45081229e-03,  1.52611446e+00, -5.76685367e-01,\n",
       "          9.58057818e-01],\n",
       "        [ 3.63503374e-01,  1.36340855e+02,  9.86698419e-01,\n",
       "          5.09751865e+03,  7.08711790e-01,  4.06551828e+02,\n",
       "          2.02537337e+04,  4.25687395e+00,  5.82582478e+00,\n",
       "          1.75216743e-03,  2.44191524e+00, -4.80012130e-01,\n",
       "          9.78352099e-01]]))"
      ]
     },
     "execution_count": 3,
     "metadata": {},
     "output_type": "execute_result"
    }
   ],
   "source": [
    "clf, classes_names, stdSlr, k, voc"
   ]
  },
  {
   "cell_type": "code",
   "execution_count": 4,
   "id": "7f35ee04",
   "metadata": {},
   "outputs": [],
   "source": [
    "# Get the path of the testing image(s) and store them in a list\n",
    "test_path = './waste_images/test_segmented'  "
   ]
  },
  {
   "cell_type": "code",
   "execution_count": 5,
   "id": "40dd72d2",
   "metadata": {},
   "outputs": [],
   "source": [
    "testing_names = os.listdir(test_path)\n",
    "\n",
    "# Get path to all images and save them in a list\n",
    "# image_paths and the corresponding label in image_paths\n",
    "image_paths = []\n",
    "image_classes = []\n",
    "class_id = 0\n",
    "\n",
    "#To make it easy to list all file names in a directory let us define a function\n",
    "def imglist(path):\n",
    "    return [os.path.join(path, f) for f in os.listdir(path)]\n",
    "\n",
    "#Fill the placeholder empty lists with image path, classes, and add class ID number\n",
    "for testing_name in testing_names:\n",
    "    dir = os.path.join(test_path, testing_name)\n",
    "    class_path = imglist(dir)\n",
    "    image_paths+=class_path\n",
    "    image_classes+=[class_id]*len(class_path)\n",
    "    class_id+=1"
   ]
  },
  {
   "cell_type": "code",
   "execution_count": 6,
   "id": "ea046ccf",
   "metadata": {},
   "outputs": [
    {
     "data": {
      "text/plain": [
       "['./waste_images/test_segmented\\\\Aluminium\\\\Aluminium17_segmented.JPG',\n",
       " './waste_images/test_segmented\\\\Aluminium\\\\Aluminium49_segmented.JPG',\n",
       " './waste_images/test_segmented\\\\Aluminium\\\\Aluminium55_segmented.JPG',\n",
       " './waste_images/test_segmented\\\\Aluminium\\\\Aluminium57_segmented.JPG',\n",
       " './waste_images/test_segmented\\\\Aluminium\\\\Aluminium5_segmented.JPG',\n",
       " './waste_images/test_segmented\\\\Aluminium\\\\Aluminium63_segmented.JPG',\n",
       " './waste_images/test_segmented\\\\Aluminium\\\\Aluminium70_segmented.JPG',\n",
       " './waste_images/test_segmented\\\\Aluminium\\\\Aluminium83_segmented.JPG',\n",
       " './waste_images/test_segmented\\\\Aluminium\\\\Aluminium85_segmented.JPG',\n",
       " './waste_images/test_segmented\\\\Battery\\\\Battery100_segmented.JPG']"
      ]
     },
     "execution_count": 6,
     "metadata": {},
     "output_type": "execute_result"
    }
   ],
   "source": [
    "image_paths[:10]"
   ]
  },
  {
   "cell_type": "code",
   "execution_count": 7,
   "id": "017dfba1",
   "metadata": {},
   "outputs": [
    {
     "data": {
      "text/plain": [
       "array([ 0,  1,  2,  3,  4,  5,  6,  7,  8,  9, 10, 11])"
      ]
     },
     "execution_count": 7,
     "metadata": {},
     "output_type": "execute_result"
    }
   ],
   "source": [
    "np.unique(image_classes)"
   ]
  },
  {
   "cell_type": "code",
   "execution_count": 8,
   "id": "3fb427be",
   "metadata": {},
   "outputs": [],
   "source": [
    "# Create List where all the descriptors will be stored\n",
    "des_list = []"
   ]
  },
  {
   "cell_type": "code",
   "execution_count": 9,
   "id": "59d41570",
   "metadata": {},
   "outputs": [],
   "source": [
    "def extract_glcm_features(image):\n",
    "        \n",
    "        # Calculate haralick texture features for 4 types of adjacency\n",
    "        textures = mt.features.haralick(image)\n",
    "\n",
    "        # Return the mean\n",
    "        #ht_mean = textures.mean(axis=0)\n",
    "        #return ht_mean\n",
    "        \n",
    "        return textures"
   ]
  },
  {
   "cell_type": "code",
   "execution_count": 10,
   "id": "1bc2eb58",
   "metadata": {},
   "outputs": [],
   "source": [
    "for image_path in image_paths:\n",
    "    im = cv2.imread(image_path)\n",
    "    gray_img = cv2.cvtColor(im, cv2.COLOR_BGR2GRAY) # Convert the image to grayscale\n",
    "    des = extract_glcm_features(gray_img)\n",
    "    des_list.append((image_path, des)) "
   ]
  },
  {
   "cell_type": "code",
   "execution_count": 11,
   "id": "913c51db",
   "metadata": {},
   "outputs": [],
   "source": [
    "# Stack all the descriptors vertically in a numpy array\n",
    "descriptors = des_list[0][1]\n",
    "for image_path, descriptor in des_list[0:]:\n",
    "    descriptors = np.vstack((descriptors, descriptor)) "
   ]
  },
  {
   "cell_type": "code",
   "execution_count": 12,
   "id": "1a4c100f",
   "metadata": {},
   "outputs": [
    {
     "data": {
      "text/plain": [
       "array([[  0.25541848,  53.46811424,   0.99400251, ...,   2.55347476,\n",
       "         -0.49449156,   0.99391223],\n",
       "       [  0.25134064, 103.11209778,   0.98843892, ...,   3.01946635,\n",
       "         -0.41484841,   0.9876471 ],\n",
       "       [  0.25472432,  50.81886091,   0.99430029, ...,   2.50270948,\n",
       "         -0.50561515,   0.99449909],\n",
       "       ...,\n",
       "       [  0.45014546, 116.02675109,   0.98987712, ...,   1.9056002 ,\n",
       "         -0.55516559,   0.98617585],\n",
       "       [  0.45427096,  67.6491584 ,   0.99409152, ...,   1.66985712,\n",
       "         -0.60630148,   0.99004167],\n",
       "       [  0.45026187, 101.98340962,   0.99110235, ...,   1.89785562,\n",
       "         -0.55694351,   0.9863352 ]])"
      ]
     },
     "execution_count": 12,
     "metadata": {},
     "output_type": "execute_result"
    }
   ],
   "source": [
    "descriptors"
   ]
  },
  {
   "cell_type": "code",
   "execution_count": 13,
   "id": "742db1c3",
   "metadata": {},
   "outputs": [],
   "source": [
    "# Calculate the histogram of features\n",
    "# vq Assigns codes from a code book to observations. \n",
    "test_features = np.zeros((len(image_paths), k), \"float32\")\n",
    "for i in range(len(image_paths)):\n",
    "    words, distance = vq(des_list[i][1],voc)\n",
    "    for w in words:\n",
    "        test_features[i][w] += 1"
   ]
  },
  {
   "cell_type": "code",
   "execution_count": 14,
   "id": "51c3a54c",
   "metadata": {},
   "outputs": [
    {
     "data": {
      "text/plain": [
       "array([0., 1., 2., 3., 4.], dtype=float32)"
      ]
     },
     "execution_count": 14,
     "metadata": {},
     "output_type": "execute_result"
    }
   ],
   "source": [
    "np.unique(test_features)"
   ]
  },
  {
   "cell_type": "code",
   "execution_count": 15,
   "id": "c0bd4c28",
   "metadata": {},
   "outputs": [
    {
     "name": "stdout",
     "output_type": "stream",
     "text": [
      "true_class =['Aluminium', 'Aluminium', 'Aluminium', 'Aluminium', 'Aluminium', 'Aluminium', 'Aluminium', 'Aluminium', 'Aluminium', 'Battery', 'Battery', 'Battery', 'Battery', 'Battery', 'Battery', 'Battery', 'Battery', 'Battery', 'Battery', 'Battery', 'Battery', 'Battery', 'Battery', 'Battery', 'Battery', 'Battery', 'Battery', 'Battery', 'Cable and Wire', 'Cable and Wire', 'Cable and Wire', 'Cable and Wire', 'Cable and Wire', 'Cable and Wire', 'Cable and Wire', 'Cable and Wire', 'Cable and Wire', 'Cable and Wire', 'Cardboard and Paper', 'Cardboard and Paper', 'Cardboard and Paper', 'Cardboard and Paper', 'Cardboard and Paper', 'Cardboard and Paper', 'Cardboard and Paper', 'Cardboard and Paper', 'Cardboard and Paper', 'Cardboard and Paper', 'Connector', 'Connector', 'Connector', 'Connector', 'Connector', 'Connector', 'Connector', 'Connector', 'Connector', 'Copper', 'Copper', 'Copper', 'Copper', 'Copper', 'Copper', 'Copper', 'Copper', 'Copper', 'Copper', 'Copper', 'Iron', 'Iron', 'Iron', 'Iron', 'Iron', 'Iron', 'Magnetic Tape', 'Magnetic Tape', 'Magnetic Tape', 'Printed Circuit Board', 'Printed Circuit Board', 'Printed Circuit Board', 'Printed Circuit Board', 'Printed Circuit Board', 'Printed Circuit Board', 'Printed Circuit Board', 'Printed Circuit Board', 'Printed Circuit Board', 'Printed Circuit Board', 'Printed Circuit Board', 'Printed Circuit Board', 'Printed Circuit Board', 'Printed Circuit Board', 'Printed Circuit Board', 'Printed Circuit Board', 'Printed Circuit Board', 'Printed Circuit Board', 'Printed Circuit Board', 'Printed Circuit Board', 'Printed Circuit Board', 'Printed Circuit Board', 'Printed Circuit Board', 'Printed Circuit Board', 'Printed Circuit Board', 'Printed Circuit Board', 'Printed Circuit Board', 'Printed Circuit Board', 'Printed Circuit Board', 'Printed Circuit Board', 'Printed Circuit Board', 'Printed Circuit Board', 'Printed Circuit Board', 'Printed Circuit Board', 'Printed Circuit Board', 'Printed Circuit Board', 'Printed Circuit Board', 'Printed Circuit Board', 'Printed Circuit Board', 'Printed Circuit Board', 'Printed Circuit Board', 'Printed Circuit Board', 'Printer Ribbon and Toner', 'Printer Ribbon and Toner', 'Printer Ribbon and Toner', 'Printer Ribbon and Toner', 'Printer Ribbon and Toner', 'Printer Ribbon and Toner', 'Printer Ribbon and Toner', 'Printer Ribbon and Toner', 'Tube and Screen', 'Tube and Screen', 'Tube and Screen', 'Tube and Screen', 'Tube and Screen', 'Tube and Screen', 'Tube and Screen', 'Tube and Screen', 'Tube and Screen', 'Tube and Screen', 'Water Pump', 'Water Pump']\n",
      "prediction =['Printed Circuit Board', 'Printed Circuit Board', 'Printed Circuit Board', 'Printed Circuit Board', 'Printed Circuit Board', 'Printed Circuit Board', 'Copper', 'Printed Circuit Board', 'Printed Circuit Board', 'Printed Circuit Board', 'Printer Ribbon and Toner', 'Cardboard and Paper', 'Printed Circuit Board', 'Printed Circuit Board', 'Battery', 'Copper', 'Printed Circuit Board', 'Printed Circuit Board', 'Printed Circuit Board', 'Printed Circuit Board', 'Printed Circuit Board', 'Printed Circuit Board', 'Cardboard and Paper', 'Tube and Screen', 'Cardboard and Paper', 'Printed Circuit Board', 'Battery', 'Printed Circuit Board', 'Printed Circuit Board', 'Printed Circuit Board', 'Printed Circuit Board', 'Printed Circuit Board', 'Printed Circuit Board', 'Printed Circuit Board', 'Printed Circuit Board', 'Printed Circuit Board', 'Copper', 'Printed Circuit Board', 'Printed Circuit Board', 'Printed Circuit Board', 'Printed Circuit Board', 'Printed Circuit Board', 'Cardboard and Paper', 'Battery', 'Printed Circuit Board', 'Printed Circuit Board', 'Cardboard and Paper', 'Printed Circuit Board', 'Printed Circuit Board', 'Printed Circuit Board', 'Printed Circuit Board', 'Printed Circuit Board', 'Printed Circuit Board', 'Battery', 'Copper', 'Printed Circuit Board', 'Tube and Screen', 'Printed Circuit Board', 'Printed Circuit Board', 'Battery', 'Printed Circuit Board', 'Printed Circuit Board', 'Printed Circuit Board', 'Printed Circuit Board', 'Printed Circuit Board', 'Printed Circuit Board', 'Printed Circuit Board', 'Printed Circuit Board', 'Printed Circuit Board', 'Printed Circuit Board', 'Printed Circuit Board', 'Printed Circuit Board', 'Printed Circuit Board', 'Printed Circuit Board', 'Battery', 'Printer Ribbon and Toner', 'Tube and Screen', 'Battery', 'Printed Circuit Board', 'Printed Circuit Board', 'Printed Circuit Board', 'Battery', 'Printed Circuit Board', 'Printed Circuit Board', 'Printed Circuit Board', 'Printed Circuit Board', 'Printed Circuit Board', 'Printed Circuit Board', 'Printed Circuit Board', 'Printed Circuit Board', 'Printed Circuit Board', 'Printed Circuit Board', 'Printed Circuit Board', 'Printed Circuit Board', 'Printed Circuit Board', 'Printed Circuit Board', 'Printed Circuit Board', 'Printed Circuit Board', 'Battery', 'Printed Circuit Board', 'Printed Circuit Board', 'Printed Circuit Board', 'Printed Circuit Board', 'Printed Circuit Board', 'Printed Circuit Board', 'Printed Circuit Board', 'Printed Circuit Board', 'Printed Circuit Board', 'Printed Circuit Board', 'Printed Circuit Board', 'Printed Circuit Board', 'Printed Circuit Board', 'Printed Circuit Board', 'Printed Circuit Board', 'Printed Circuit Board', 'Printed Circuit Board', 'Printed Circuit Board', 'Printed Circuit Board', 'Printed Circuit Board', 'Printed Circuit Board', 'Printed Circuit Board', 'Printer Ribbon and Toner', 'Battery', 'Printed Circuit Board', 'Tube and Screen', 'Battery', 'Printed Circuit Board', 'Printed Circuit Board', 'Printed Circuit Board', 'Printed Circuit Board', 'Battery', 'Printed Circuit Board', 'Printed Circuit Board', 'Printed Circuit Board', 'Printed Circuit Board', 'Printed Circuit Board', 'Printed Circuit Board', 'Printed Circuit Board', 'Printed Circuit Board']\n"
     ]
    }
   ],
   "source": [
    "# Scale the features\n",
    "# Standardize features by removing the mean and scaling to unit variance\n",
    "# Scaler (stdSlr comes from the pickled file we imported)\n",
    "test_features = stdSlr.transform(test_features)\n",
    "\n",
    "#######Until here most of the above code is similar to Train except for kmeans clustering####\n",
    "\n",
    "# Report true class names so they can be compared with predicted classes\n",
    "true_class =  [classes_names[i] for i in image_classes]\n",
    "# Perform the predictions and report predicted class names. \n",
    "predictions =  [classes_names[i] for i in clf.predict(test_features)]\n",
    "\n",
    "\n",
    "# Print the true class and Predictions \n",
    "print (\"true_class =\"  + str(true_class))\n",
    "print (\"prediction =\"  + str(predictions))"
   ]
  },
  {
   "cell_type": "code",
   "execution_count": 16,
   "id": "b953a0b3",
   "metadata": {},
   "outputs": [
    {
     "name": "stdout",
     "output_type": "stream",
     "text": [
      "accuracy =  0.31654676258992803\n"
     ]
    }
   ],
   "source": [
    "# To make it easy to understand the accuracy let us print the confusion matrix\n",
    "\n",
    "def showconfusionmatrix(cm):\n",
    "    pl.matshow(cm)\n",
    "    pl.title('Confusion matrix')\n",
    "    pl.colorbar()\n",
    "    pl.show()\n",
    "\n",
    "\n",
    "accuracy = accuracy_score(true_class, predictions)\n",
    "print (\"accuracy = \", accuracy)\n",
    "cm = confusion_matrix(true_class, predictions, labels=classes_names)\n",
    "#print (cm)\n",
    "#showconfusionmatrix(cm)"
   ]
  },
  {
   "cell_type": "code",
   "execution_count": 17,
   "id": "f4df08bd",
   "metadata": {},
   "outputs": [
    {
     "data": {
      "image/png": "[encoded data removed]",
      "text/plain": [
       "<Figure size 432x288 with 2 Axes>"
      ]
     },
     "metadata": {
      "needs_background": "light"
     },
     "output_type": "display_data"
    }
   ],
   "source": [
    "disp = ConfusionMatrixDisplay(confusion_matrix=cm, display_labels=classes_names)\n",
    "disp.plot(xticks_rotation = 'vertical')\n",
    "plt.show()"
   ]
  },
  {
   "cell_type": "markdown",
   "id": "088cf28c",
   "metadata": {},
   "source": [
    "# LBP - Local Binary Patterns"
   ]
  },
  {
   "cell_type": "code",
   "execution_count": 3,
   "id": "c5ec5bd2",
   "metadata": {},
   "outputs": [],
   "source": [
    "# Load the classifier, class names, scaler, number of clusters and vocabulary \n",
    "# from stored pickle file (generated during training)\n",
    "clf, classes_names, stdSlr, k, voc = jb.load(\"bovw_segmented_lbp_rf.pkl\")"
   ]
  },
  {
   "cell_type": "code",
   "execution_count": 4,
   "id": "e5b25414",
   "metadata": {},
   "outputs": [
    {
     "data": {
      "text/plain": [
       "(RandomForestClassifier(criterion='entropy', max_depth=50, min_samples_split=30,\n",
       "                        n_estimators=50, random_state=0),\n",
       " ['Aluminium',\n",
       "  'Battery',\n",
       "  'Cable and Wire',\n",
       "  'Cardboard and Paper',\n",
       "  'Connector',\n",
       "  'Copper',\n",
       "  'Iron',\n",
       "  'Magnetic Tape',\n",
       "  'Printed Circuit Board',\n",
       "  'Printer Ribbon and Toner',\n",
       "  'Tube and Screen',\n",
       "  'Water Pump'],\n",
       " StandardScaler(),\n",
       " 25,\n",
       " array([[4.37569582, 6.76714784, 6.78809322, ..., 6.25125012, 6.29672611,\n",
       "         4.22756864],\n",
       "        [4.99178157, 7.97667486, 7.97654422, ..., 7.97264878, 7.97470339,\n",
       "         5.00100949],\n",
       "        [4.99590756, 7.9735195 , 7.96569571, ..., 7.91056813, 7.92838228,\n",
       "         4.98110255],\n",
       "        ...,\n",
       "        [4.98197976, 7.96507035, 7.9648235 , ..., 7.93014071, 7.93915083,\n",
       "         4.98259689],\n",
       "        [4.99061804, 7.97818694, 7.9746687 , ..., 7.96106485, 7.96153395,\n",
       "         4.98909347],\n",
       "        [4.875     , 7.63460243, 7.63005391, ..., 6.46276954, 6.46445418,\n",
       "         4.293969  ]]))"
      ]
     },
     "execution_count": 4,
     "metadata": {},
     "output_type": "execute_result"
    }
   ],
   "source": [
    "clf, classes_names, stdSlr, k, voc"
   ]
  },
  {
   "cell_type": "code",
   "execution_count": 5,
   "id": "839a6775",
   "metadata": {},
   "outputs": [
    {
     "data": {
      "text/plain": [
       "(22, 640)"
      ]
     },
     "execution_count": 5,
     "metadata": {},
     "output_type": "execute_result"
    }
   ],
   "source": [
    "voc.shape"
   ]
  },
  {
   "cell_type": "code",
   "execution_count": 6,
   "id": "c376d298",
   "metadata": {},
   "outputs": [],
   "source": [
    "# Get the path of the testing image(s) and store them in a list\n",
    "test_path = './waste_images/test_segmented'"
   ]
  },
  {
   "cell_type": "code",
   "execution_count": 7,
   "id": "881d8d1a",
   "metadata": {},
   "outputs": [],
   "source": [
    "testing_names = os.listdir(test_path)"
   ]
  },
  {
   "cell_type": "code",
   "execution_count": 8,
   "id": "57891579",
   "metadata": {},
   "outputs": [],
   "source": [
    "# Get path to all images and save them in a list\n",
    "# image_paths and the corresponding label in image_paths\n",
    "image_paths = []\n",
    "image_classes = []\n",
    "class_id = 0\n",
    "\n",
    "#To make it easy to list all file names in a directory let us define a function\n",
    "def imglist(path):\n",
    "    return [os.path.join(path, f) for f in os.listdir(path)]\n",
    "\n",
    "#Fill the placeholder empty lists with image path, classes, and add class ID number\n",
    "\n",
    "for testing_name in testing_names:\n",
    "    dir = os.path.join(test_path, testing_name)\n",
    "    class_path = imglist(dir)\n",
    "    image_paths+=class_path\n",
    "    image_classes+=[class_id]*len(class_path)\n",
    "    class_id+=1"
   ]
  },
  {
   "cell_type": "code",
   "execution_count": 10,
   "id": "9aabb4fd",
   "metadata": {},
   "outputs": [
    {
     "data": {
      "text/plain": [
       "['./waste_images/test_segmented\\\\Aluminium\\\\Aluminium17_segmented.JPG',\n",
       " './waste_images/test_segmented\\\\Aluminium\\\\Aluminium49_segmented.JPG',\n",
       " './waste_images/test_segmented\\\\Aluminium\\\\Aluminium55_segmented.JPG',\n",
       " './waste_images/test_segmented\\\\Aluminium\\\\Aluminium57_segmented.JPG',\n",
       " './waste_images/test_segmented\\\\Aluminium\\\\Aluminium5_segmented.JPG',\n",
       " './waste_images/test_segmented\\\\Aluminium\\\\Aluminium63_segmented.JPG',\n",
       " './waste_images/test_segmented\\\\Aluminium\\\\Aluminium70_segmented.JPG',\n",
       " './waste_images/test_segmented\\\\Aluminium\\\\Aluminium83_segmented.JPG',\n",
       " './waste_images/test_segmented\\\\Aluminium\\\\Aluminium85_segmented.JPG',\n",
       " './waste_images/test_segmented\\\\Battery\\\\Battery100_segmented.JPG']"
      ]
     },
     "execution_count": 10,
     "metadata": {},
     "output_type": "execute_result"
    }
   ],
   "source": [
    "image_paths[:10]"
   ]
  },
  {
   "cell_type": "code",
   "execution_count": 11,
   "id": "3f846204",
   "metadata": {},
   "outputs": [
    {
     "data": {
      "text/plain": [
       "array([ 0,  1,  2,  3,  4,  5,  6,  7,  8,  9, 10, 11])"
      ]
     },
     "execution_count": 11,
     "metadata": {},
     "output_type": "execute_result"
    }
   ],
   "source": [
    "np.unique(image_classes)"
   ]
  },
  {
   "cell_type": "code",
   "execution_count": 12,
   "id": "f767e1a2",
   "metadata": {},
   "outputs": [],
   "source": [
    "# Create list where all the descriptors will be stored\n",
    "des_list = []"
   ]
  },
  {
   "cell_type": "code",
   "execution_count": 13,
   "id": "21b381f6",
   "metadata": {},
   "outputs": [],
   "source": [
    "def extract_lbp_features(img, radius=1, sampling_pixels=8):\n",
    "    \n",
    "    # LBP operates in single channel images so if RGB images are provided\n",
    "    # we have to convert it to grayscale\n",
    "    if (len(img.shape) > 2):\n",
    "        img = img.astype(float)\n",
    "        # RGB to grayscale convertion using Luminance\n",
    "        img = img[:,:,0]*0.3 + img[:,:,1]*0.59 + img[:,:,2]*0.11\n",
    "\n",
    "    # converting to uint8 type for 256 graylevels\n",
    "    img = img.astype(np.uint8)\n",
    "    \n",
    "    # normalize values can also help improving description\n",
    "    i_min = np.min(img)\n",
    "    i_max = np.max(img)\n",
    "    if (i_max - i_min != 0):\n",
    "        img = (img - i_min)/(i_max-i_min)\n",
    "    \n",
    "    # compute LBP\n",
    "    lbp = feature.local_binary_pattern(img, sampling_pixels, radius, method=\"uniform\")\n",
    "    \n",
    "    '''\n",
    "    # LBP returns a matrix with the codes, so we compute the histogram\n",
    "    (hist, _) = np.histogram(lbp.ravel(), bins=np.arange(0, sampling_pixels + 3), range=(0, sampling_pixels + 2))\n",
    "\n",
    "    # normalization\n",
    "    hist = hist.astype(\"float\")\n",
    "    hist /= (hist.sum() + 1e-6)\n",
    "    # return the histogram of Local Binary Patterns\n",
    "    return hist\n",
    "    '''\n",
    "    \n",
    "    return lbp"
   ]
  },
  {
   "cell_type": "code",
   "execution_count": 14,
   "id": "d6b1b9a4",
   "metadata": {},
   "outputs": [],
   "source": [
    "for image_path in image_paths:\n",
    "    im = cv2.imread(image_path)\n",
    "    #gray_img = cv2.cvtColor(im, cv2.COLOR_BGR2GRAY) # Convert the image to grayscale\n",
    "    des = extract_lbp_features(im)\n",
    "    des_list.append((image_path, des)) "
   ]
  },
  {
   "cell_type": "code",
   "execution_count": 15,
   "id": "fcbf5e8d",
   "metadata": {},
   "outputs": [
    {
     "data": {
      "text/plain": [
       "139"
      ]
     },
     "execution_count": 15,
     "metadata": {},
     "output_type": "execute_result"
    }
   ],
   "source": [
    "len(des_list)"
   ]
  },
  {
   "cell_type": "code",
   "execution_count": 16,
   "id": "e04b39c0",
   "metadata": {},
   "outputs": [],
   "source": [
    "removal_list = []\n",
    "\n",
    "for image_path, descriptor in des_list[1:]:\n",
    "    if (descriptor.shape[1] != (640)):\n",
    "        #print(image_path, descriptor.shape)\n",
    "        removal_list.append(image_path)"
   ]
  },
  {
   "cell_type": "code",
   "execution_count": 17,
   "id": "083df424",
   "metadata": {},
   "outputs": [
    {
     "data": {
      "text/plain": [
       "['./waste_images/test_segmented\\\\Cable and Wire\\\\Cable and Wire106_segmented.JPG',\n",
       " './waste_images/test_segmented\\\\Copper\\\\Copper28_segmented.JPG',\n",
       " './waste_images/test_segmented\\\\Copper\\\\Copper5_segmented.JPG',\n",
       " './waste_images/test_segmented\\\\Printed Circuit Board\\\\Printed Circuit Board130_segmented.JPG',\n",
       " './waste_images/test_segmented\\\\Printer Ribbon and Toner\\\\Printer Ribbon and Toner38_segmented.JPG']"
      ]
     },
     "execution_count": 17,
     "metadata": {},
     "output_type": "execute_result"
    }
   ],
   "source": [
    "removal_list"
   ]
  },
  {
   "cell_type": "code",
   "execution_count": 19,
   "id": "a276dcbc",
   "metadata": {},
   "outputs": [],
   "source": [
    "# Stack all the descriptors vertically in a numpy array\n",
    "descriptors = des_list[0][1]\n",
    "for image_path, descriptor in des_list[1:]:\n",
    "        if image_path not in removal_list:\n",
    "            #print(image_path)\n",
    "            descriptors = np.vstack((descriptors, descriptor))"
   ]
  },
  {
   "cell_type": "code",
   "execution_count": 20,
   "id": "16b2a7c9",
   "metadata": {},
   "outputs": [
    {
     "data": {
      "text/plain": [
       "array([[3., 5., 5., ..., 5., 5., 3.],\n",
       "       [5., 8., 8., ..., 8., 8., 5.],\n",
       "       [5., 8., 8., ..., 8., 8., 5.],\n",
       "       ...,\n",
       "       [5., 8., 8., ..., 8., 8., 5.],\n",
       "       [5., 8., 8., ..., 8., 8., 5.],\n",
       "       [3., 5., 5., ..., 5., 5., 3.]])"
      ]
     },
     "execution_count": 20,
     "metadata": {},
     "output_type": "execute_result"
    }
   ],
   "source": [
    "descriptors"
   ]
  },
  {
   "cell_type": "code",
   "execution_count": 21,
   "id": "412b7652",
   "metadata": {},
   "outputs": [],
   "source": [
    "adjusted_des_list = []\n",
    "\n",
    "for item in des_list:\n",
    "    if item[0] not in removal_list:\n",
    "        #print(item[0])\n",
    "        adjusted_des_list.append(item)"
   ]
  },
  {
   "cell_type": "code",
   "execution_count": 22,
   "id": "e34464c6",
   "metadata": {},
   "outputs": [
    {
     "data": {
      "text/plain": [
       "134"
      ]
     },
     "execution_count": 22,
     "metadata": {},
     "output_type": "execute_result"
    }
   ],
   "source": [
    "len(adjusted_des_list)"
   ]
  },
  {
   "cell_type": "code",
   "execution_count": 23,
   "id": "e0386ae3",
   "metadata": {},
   "outputs": [
    {
     "data": {
      "text/plain": [
       "(5, 139)"
      ]
     },
     "execution_count": 23,
     "metadata": {},
     "output_type": "execute_result"
    }
   ],
   "source": [
    "len(removal_list), len(image_paths)"
   ]
  },
  {
   "cell_type": "code",
   "execution_count": 24,
   "id": "b0b74722",
   "metadata": {},
   "outputs": [],
   "source": [
    "def list_difference(b, a):\n",
    "    c = list(b)\n",
    "    for item in a:\n",
    "        try:\n",
    "            c.remove(item)\n",
    "        except ValueError:\n",
    "            pass            #or maybe you want to keep a values here\n",
    "    return c"
   ]
  },
  {
   "cell_type": "code",
   "execution_count": 25,
   "id": "3cc89de2",
   "metadata": {},
   "outputs": [
    {
     "data": {
      "text/plain": [
       "134"
      ]
     },
     "execution_count": 25,
     "metadata": {},
     "output_type": "execute_result"
    }
   ],
   "source": [
    "adjusted_image_paths = list_difference(image_paths, removal_list)\n",
    "len(adjusted_image_paths)"
   ]
  },
  {
   "cell_type": "code",
   "execution_count": 26,
   "id": "19dd23fd",
   "metadata": {},
   "outputs": [],
   "source": [
    "# Calculate the histogram of features and represent them as vector\n",
    "# vq assigns codes from a code book to observations\n",
    "\n",
    "test_features = np.zeros((len(adjusted_image_paths), k), \"float32\")\n",
    "\n",
    "for i in range(len(adjusted_image_paths)):\n",
    "    words, distance = vq(adjusted_des_list[i][1],voc)\n",
    "    for w in words:\n",
    "        test_features[i][w] += 1"
   ]
  },
  {
   "cell_type": "code",
   "execution_count": 27,
   "id": "0f98b4a4",
   "metadata": {},
   "outputs": [
    {
     "data": {
      "text/plain": [
       "array([  0.,   1.,   2.,   3.,   4.,   5.,   6.,   7.,   8.,   9.,  10.,\n",
       "        11.,  12.,  13.,  14.,  15.,  16.,  17.,  18.,  19.,  20.,  21.,\n",
       "        22.,  23.,  24.,  25.,  26.,  27.,  28.,  29.,  30.,  31.,  32.,\n",
       "        33.,  34.,  35.,  36.,  37.,  38.,  39.,  40.,  41.,  42.,  43.,\n",
       "        44.,  45.,  46.,  47.,  48.,  49.,  50.,  51.,  52.,  53.,  54.,\n",
       "        55.,  56.,  57.,  58.,  59.,  60.,  61.,  62.,  63.,  64.,  65.,\n",
       "        66.,  67.,  68.,  69.,  70.,  71.,  72.,  73.,  74.,  75.,  76.,\n",
       "        77.,  78.,  79.,  80.,  81.,  82.,  83.,  84.,  85.,  86.,  87.,\n",
       "        88.,  89.,  90.,  91.,  92.,  93.,  94.,  95.,  96.,  97.,  98.,\n",
       "        99., 100., 101., 102., 103., 104., 105., 106., 107., 108., 109.,\n",
       "       110., 111., 112., 114., 115., 116., 117., 118., 119., 120., 121.,\n",
       "       122., 124., 125., 126., 127., 129., 130., 131., 132., 133., 134.,\n",
       "       135., 136., 138., 139., 140., 142., 143., 144., 145., 146., 148.,\n",
       "       150., 151., 152., 155., 156., 157., 158., 159., 160., 161., 162.,\n",
       "       163., 164., 165., 166., 167., 168., 169., 170., 171., 172., 173.,\n",
       "       174., 175., 176., 179., 184., 186., 187., 191., 195., 200., 201.,\n",
       "       202., 203., 208., 211., 212., 214., 215., 216., 218., 219., 221.,\n",
       "       223., 224., 225., 227., 229., 233., 234., 236., 237., 240., 242.,\n",
       "       245., 246., 249., 252., 254., 257., 259., 267., 270., 273., 278.,\n",
       "       279., 281., 282., 285., 290., 292., 297., 299., 310., 312., 313.,\n",
       "       314., 318., 324., 327., 338., 348.], dtype=float32)"
      ]
     },
     "execution_count": 27,
     "metadata": {},
     "output_type": "execute_result"
    }
   ],
   "source": [
    "np.unique(test_features)"
   ]
  },
  {
   "cell_type": "code",
   "execution_count": 28,
   "id": "991dc561",
   "metadata": {},
   "outputs": [
    {
     "data": {
      "text/plain": [
       "['Aluminium',\n",
       " 'Battery',\n",
       " 'Cable and Wire',\n",
       " 'Cardboard and Paper',\n",
       " 'Connector',\n",
       " 'Copper',\n",
       " 'Iron',\n",
       " 'Magnetic Tape',\n",
       " 'Printed Circuit Board',\n",
       " 'Printer Ribbon and Toner',\n",
       " 'Tube and Screen',\n",
       " 'Water Pump']"
      ]
     },
     "execution_count": 28,
     "metadata": {},
     "output_type": "execute_result"
    }
   ],
   "source": [
    "labels_classes = {'Aluminium':0, 'Battery':1, 'Cable and Wire':2, 'Cardboard and Paper':3, 'Connector':4,\n",
    "                'Copper':5, 'Iron':6, 'Magnetic Tape':7, 'Printed Circuit Board':8, \n",
    "                'Printer Ribbon and Toner':9, 'Tube and Screen':10, 'Water Pump':11}\n",
    "\n",
    "list(labels_classes.keys())"
   ]
  },
  {
   "cell_type": "code",
   "execution_count": 29,
   "id": "a399b95b",
   "metadata": {},
   "outputs": [],
   "source": [
    "classesToRemove = []\n",
    "\n",
    "for key in labels_classes:\n",
    "    for string in removal_list:\n",
    "        if key in string:\n",
    "            #print(labels_classes[key])\n",
    "            classesToRemove.append(labels_classes[key])"
   ]
  },
  {
   "cell_type": "code",
   "execution_count": 30,
   "id": "03c6be13",
   "metadata": {},
   "outputs": [
    {
     "data": {
      "text/plain": [
       "[2, 5, 5, 8, 9]"
      ]
     },
     "execution_count": 30,
     "metadata": {},
     "output_type": "execute_result"
    }
   ],
   "source": [
    "classesToRemove"
   ]
  },
  {
   "cell_type": "code",
   "execution_count": 31,
   "id": "5ef87fdc",
   "metadata": {},
   "outputs": [],
   "source": [
    "adjusted_image_classes = list_difference(image_classes, classesToRemove)"
   ]
  },
  {
   "cell_type": "code",
   "execution_count": 32,
   "id": "bb01194a",
   "metadata": {},
   "outputs": [
    {
     "data": {
      "text/plain": [
       "134"
      ]
     },
     "execution_count": 32,
     "metadata": {},
     "output_type": "execute_result"
    }
   ],
   "source": [
    "len(adjusted_image_classes)"
   ]
  },
  {
   "cell_type": "code",
   "execution_count": 33,
   "id": "dd793938",
   "metadata": {},
   "outputs": [
    {
     "name": "stdout",
     "output_type": "stream",
     "text": [
      "true_class =['Aluminium', 'Aluminium', 'Aluminium', 'Aluminium', 'Aluminium', 'Aluminium', 'Aluminium', 'Aluminium', 'Aluminium', 'Battery', 'Battery', 'Battery', 'Battery', 'Battery', 'Battery', 'Battery', 'Battery', 'Battery', 'Battery', 'Battery', 'Battery', 'Battery', 'Battery', 'Battery', 'Battery', 'Battery', 'Battery', 'Battery', 'Cable and Wire', 'Cable and Wire', 'Cable and Wire', 'Cable and Wire', 'Cable and Wire', 'Cable and Wire', 'Cable and Wire', 'Cable and Wire', 'Cable and Wire', 'Cardboard and Paper', 'Cardboard and Paper', 'Cardboard and Paper', 'Cardboard and Paper', 'Cardboard and Paper', 'Cardboard and Paper', 'Cardboard and Paper', 'Cardboard and Paper', 'Cardboard and Paper', 'Cardboard and Paper', 'Connector', 'Connector', 'Connector', 'Connector', 'Connector', 'Connector', 'Connector', 'Connector', 'Connector', 'Copper', 'Copper', 'Copper', 'Copper', 'Copper', 'Copper', 'Copper', 'Copper', 'Copper', 'Iron', 'Iron', 'Iron', 'Iron', 'Iron', 'Iron', 'Magnetic Tape', 'Magnetic Tape', 'Magnetic Tape', 'Printed Circuit Board', 'Printed Circuit Board', 'Printed Circuit Board', 'Printed Circuit Board', 'Printed Circuit Board', 'Printed Circuit Board', 'Printed Circuit Board', 'Printed Circuit Board', 'Printed Circuit Board', 'Printed Circuit Board', 'Printed Circuit Board', 'Printed Circuit Board', 'Printed Circuit Board', 'Printed Circuit Board', 'Printed Circuit Board', 'Printed Circuit Board', 'Printed Circuit Board', 'Printed Circuit Board', 'Printed Circuit Board', 'Printed Circuit Board', 'Printed Circuit Board', 'Printed Circuit Board', 'Printed Circuit Board', 'Printed Circuit Board', 'Printed Circuit Board', 'Printed Circuit Board', 'Printed Circuit Board', 'Printed Circuit Board', 'Printed Circuit Board', 'Printed Circuit Board', 'Printed Circuit Board', 'Printed Circuit Board', 'Printed Circuit Board', 'Printed Circuit Board', 'Printed Circuit Board', 'Printed Circuit Board', 'Printed Circuit Board', 'Printed Circuit Board', 'Printed Circuit Board', 'Printed Circuit Board', 'Printed Circuit Board', 'Printer Ribbon and Toner', 'Printer Ribbon and Toner', 'Printer Ribbon and Toner', 'Printer Ribbon and Toner', 'Printer Ribbon and Toner', 'Printer Ribbon and Toner', 'Printer Ribbon and Toner', 'Tube and Screen', 'Tube and Screen', 'Tube and Screen', 'Tube and Screen', 'Tube and Screen', 'Tube and Screen', 'Tube and Screen', 'Tube and Screen', 'Tube and Screen', 'Tube and Screen', 'Water Pump', 'Water Pump']\n",
      "prediction =['Printed Circuit Board', 'Printed Circuit Board', 'Printed Circuit Board', 'Printed Circuit Board', 'Printed Circuit Board', 'Printed Circuit Board', 'Printed Circuit Board', 'Printed Circuit Board', 'Printed Circuit Board', 'Printed Circuit Board', 'Printed Circuit Board', 'Battery', 'Printed Circuit Board', 'Printed Circuit Board', 'Battery', 'Printed Circuit Board', 'Battery', 'Printed Circuit Board', 'Battery', 'Printed Circuit Board', 'Printed Circuit Board', 'Printed Circuit Board', 'Printed Circuit Board', 'Printed Circuit Board', 'Battery', 'Printed Circuit Board', 'Printed Circuit Board', 'Battery', 'Printed Circuit Board', 'Printed Circuit Board', 'Printed Circuit Board', 'Printed Circuit Board', 'Printed Circuit Board', 'Printed Circuit Board', 'Battery', 'Printed Circuit Board', 'Printed Circuit Board', 'Printed Circuit Board', 'Printed Circuit Board', 'Printed Circuit Board', 'Printed Circuit Board', 'Printed Circuit Board', 'Printed Circuit Board', 'Printed Circuit Board', 'Printed Circuit Board', 'Printed Circuit Board', 'Tube and Screen', 'Printed Circuit Board', 'Printed Circuit Board', 'Printed Circuit Board', 'Printed Circuit Board', 'Connector', 'Printed Circuit Board', 'Printed Circuit Board', 'Printed Circuit Board', 'Printed Circuit Board', 'Printed Circuit Board', 'Printed Circuit Board', 'Printed Circuit Board', 'Printed Circuit Board', 'Printed Circuit Board', 'Printed Circuit Board', 'Printed Circuit Board', 'Printed Circuit Board', 'Printed Circuit Board', 'Printed Circuit Board', 'Printed Circuit Board', 'Printed Circuit Board', 'Printed Circuit Board', 'Printed Circuit Board', 'Printed Circuit Board', 'Printed Circuit Board', 'Printed Circuit Board', 'Printed Circuit Board', 'Printed Circuit Board', 'Printed Circuit Board', 'Printed Circuit Board', 'Printed Circuit Board', 'Printed Circuit Board', 'Printed Circuit Board', 'Printed Circuit Board', 'Printed Circuit Board', 'Printed Circuit Board', 'Printed Circuit Board', 'Connector', 'Printed Circuit Board', 'Printed Circuit Board', 'Printed Circuit Board', 'Printed Circuit Board', 'Printed Circuit Board', 'Printed Circuit Board', 'Printed Circuit Board', 'Printed Circuit Board', 'Printed Circuit Board', 'Printed Circuit Board', 'Printed Circuit Board', 'Printed Circuit Board', 'Printed Circuit Board', 'Printed Circuit Board', 'Printed Circuit Board', 'Printed Circuit Board', 'Printed Circuit Board', 'Printed Circuit Board', 'Printed Circuit Board', 'Printed Circuit Board', 'Printed Circuit Board', 'Printed Circuit Board', 'Battery', 'Printed Circuit Board', 'Printed Circuit Board', 'Printed Circuit Board', 'Printed Circuit Board', 'Printed Circuit Board', 'Printed Circuit Board', 'Printed Circuit Board', 'Printed Circuit Board', 'Printed Circuit Board', 'Printed Circuit Board', 'Printed Circuit Board', 'Printed Circuit Board', 'Printed Circuit Board', 'Printed Circuit Board', 'Printed Circuit Board', 'Printed Circuit Board', 'Printed Circuit Board', 'Printed Circuit Board', 'Printed Circuit Board', 'Printed Circuit Board', 'Tube and Screen', 'Tube and Screen', 'Printed Circuit Board', 'Battery', 'Printed Circuit Board', 'Printed Circuit Board']\n"
     ]
    }
   ],
   "source": [
    "# Scale the features\n",
    "# Standardize features by removing the mean and scaling to unit variance\n",
    "# Scaler (stdSlr comes from the pickled file we imported)\n",
    "test_features = stdSlr.transform(test_features)\n",
    "\n",
    "#######Until here most of the above code is similar to Train except for kmeans clustering####\n",
    "\n",
    "# Report true class names so they can be compared with predicted classes\n",
    "true_class =  [classes_names[i] for i in adjusted_image_classes]\n",
    "# Perform the predictions and report predicted class names. \n",
    "predictions =  [classes_names[i] for i in clf.predict(test_features)]\n",
    "\n",
    "\n",
    "# Print the true class and Predictions \n",
    "print (\"true_class =\"  + str(true_class))\n",
    "print (\"prediction =\"  + str(predictions))"
   ]
  },
  {
   "cell_type": "code",
   "execution_count": 34,
   "id": "1dfe7832",
   "metadata": {},
   "outputs": [
    {
     "name": "stdout",
     "output_type": "stream",
     "text": [
      "accuracy =  0.3582089552238806\n"
     ]
    }
   ],
   "source": [
    "# To make it easy to understand the accuracy let us print the confusion matrix\n",
    "\n",
    "def showconfusionmatrix(cm):\n",
    "    pl.matshow(cm)\n",
    "    pl.title('Confusion matrix')\n",
    "    pl.colorbar()\n",
    "    pl.show()\n",
    "\n",
    "\n",
    "accuracy = accuracy_score(true_class, predictions)\n",
    "print (\"accuracy = \", accuracy)\n",
    "cm = confusion_matrix(true_class, predictions, labels=classes_names)\n",
    "#print (cm)\n",
    "#showconfusionmatrix(cm)"
   ]
  },
  {
   "cell_type": "code",
   "execution_count": 35,
   "id": "1720f0f3",
   "metadata": {},
   "outputs": [
    {
     "data": {
      "image/png": "[encoded data removed]",
      "text/plain": [
       "<Figure size 432x288 with 2 Axes>"
      ]
     },
     "metadata": {
      "needs_background": "light"
     },
     "output_type": "display_data"
    }
   ],
   "source": [
    "disp = ConfusionMatrixDisplay(confusion_matrix=cm, display_labels=classes_names)\n",
    "disp.plot(xticks_rotation = 'vertical')\n",
    "plt.show()"
   ]
  },
  {
   "cell_type": "code",
   "execution_count": null,
   "id": "dbed3d6d",
   "metadata": {},
   "outputs": [],
   "source": []
  }
 ],
 "metadata": {
  "kernelspec": {
   "display_name": "Python 3",
   "language": "python",
   "name": "python3"
  },
  "language_info": {
   "codemirror_mode": {
    "name": "ipython",
    "version": 3
   },
   "file_extension": ".py",
   "mimetype": "text/x-python",
   "name": "python",
   "nbconvert_exporter": "python",
   "pygments_lexer": "ipython3",
   "version": "3.8.8"
  }
 },
 "nbformat": 4,
 "nbformat_minor": 5
}
