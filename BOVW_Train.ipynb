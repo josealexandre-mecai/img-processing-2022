{
 "cells": [
  {
   "cell_type": "code",
   "execution_count": 1,
   "id": "85656f66",
   "metadata": {},
   "outputs": [],
   "source": [
    "#!pip install scikit-learn"
   ]
  },
  {
   "cell_type": "code",
   "execution_count": 1,
   "id": "09b9af5c",
   "metadata": {},
   "outputs": [],
   "source": [
    "import cv2\n",
    "import numpy as np\n",
    "import os\n",
    "\n",
    "# Perform k-means clustering and vector quantization\n",
    "from scipy.cluster.vq import kmeans, vq\n",
    "\n",
    "from skimage.feature import greycomatrix, greycoprops\n",
    "import mahotas as mt # Mahotas library for GLCM calculation\n",
    "from skimage import feature # feature.local_binary_pattern for LBP calculation\n",
    "\n",
    "import joblib as jb\n",
    "# from sklearn.externals import joblib\n",
    "\n",
    "from sklearn.svm import LinearSVC"
   ]
  },
  {
   "cell_type": "code",
   "execution_count": 4,
   "id": "a82bc729",
   "metadata": {},
   "outputs": [],
   "source": [
    "train_path = './waste_images/train'  \n",
    "training_names = os.listdir(train_path)\n",
    "\n",
    "image_paths = [] # Get path to all images and save them in a list\n",
    "image_classes = [] # Corresponding labels in image_paths\n",
    "class_id = 0\n",
    "\n",
    "# To make it easy to list all file names in a directory let us define a function\n",
    "def imglist(path):    \n",
    "    return [os.path.join(path, f) for f in os.listdir(path)]\n",
    "\n",
    "# Fill the placeholder empty lists with image path, classes, and add class ID number\n",
    " \n",
    "for training_name in training_names:\n",
    "    dir = os.path.join(train_path, training_name)\n",
    "    class_path = imglist(dir)\n",
    "    image_paths+=class_path\n",
    "    image_classes+=[class_id]*len(class_path)\n",
    "    class_id+=1"
   ]
  },
  {
   "cell_type": "code",
   "execution_count": 5,
   "id": "4f6a17d3",
   "metadata": {},
   "outputs": [
    {
     "data": {
      "text/plain": [
       "['./waste_images/train\\\\Aluminium\\\\Aluminium1.JPG',\n",
       " './waste_images/train\\\\Aluminium\\\\Aluminium18.JPG',\n",
       " './waste_images/train\\\\Aluminium\\\\Aluminium21.JPG',\n",
       " './waste_images/train\\\\Aluminium\\\\Aluminium26.JPG',\n",
       " './waste_images/train\\\\Aluminium\\\\Aluminium3.JPG',\n",
       " './waste_images/train\\\\Aluminium\\\\Aluminium30.JPG',\n",
       " './waste_images/train\\\\Aluminium\\\\Aluminium31.JPG',\n",
       " './waste_images/train\\\\Aluminium\\\\Aluminium32.JPG',\n",
       " './waste_images/train\\\\Aluminium\\\\Aluminium37.JPG',\n",
       " './waste_images/train\\\\Aluminium\\\\Aluminium40.JPG']"
      ]
     },
     "execution_count": 5,
     "metadata": {},
     "output_type": "execute_result"
    }
   ],
   "source": [
    "image_paths[:10]"
   ]
  },
  {
   "cell_type": "code",
   "execution_count": 6,
   "id": "fd31e607",
   "metadata": {},
   "outputs": [
    {
     "data": {
      "text/plain": [
       "565"
      ]
     },
     "execution_count": 6,
     "metadata": {},
     "output_type": "execute_result"
    }
   ],
   "source": [
    "# total number of images in the training set\n",
    "len(image_paths)"
   ]
  },
  {
   "cell_type": "code",
   "execution_count": 7,
   "id": "87fcd540",
   "metadata": {},
   "outputs": [
    {
     "data": {
      "text/plain": [
       "array([ 0,  1,  2,  3,  4,  5,  6,  7,  8,  9, 10, 11])"
      ]
     },
     "execution_count": 7,
     "metadata": {},
     "output_type": "execute_result"
    }
   ],
   "source": [
    "# classes\n",
    "np.unique(image_classes)"
   ]
  },
  {
   "cell_type": "markdown",
   "id": "a8d857f4",
   "metadata": {},
   "source": [
    "# BRISK - Feature Point Detector"
   ]
  },
  {
   "cell_type": "markdown",
   "id": "c31bed2a",
   "metadata": {},
   "source": [
    "Binary Robust Invariant Scalable Keypoints (BRISK) is a feature point detection and description algorithm with scale and rotation invariance. It constructs the feature descriptor of the local image through the gray scale relationship of random point pairs in the neighborhood of the local image, and obtains the binary feature descriptor. More detailed information at:\n",
    "\n",
    "S. Leutenegger, M. Chli and R. Y. Siegwart, \"BRISK: Binary Robust invariant scalable keypoints,\" 2011 _International Conference on Computer Vision_, 2011, pp. 2548-2555, doi: 10.1109/ICCV.2011.6126542."
   ]
  },
  {
   "cell_type": "code",
   "execution_count": 8,
   "id": "21cb53e7",
   "metadata": {},
   "outputs": [],
   "source": [
    "# Create feature extraction and keypoint detector objects\n",
    "# SIFT is not available anymore in openCV    \n",
    "\n",
    "# Create list where all the descriptors will be stored\n",
    "des_list = []\n",
    "\n",
    "#BRISK is a good replacement to SIFT.\n",
    "brisk = cv2.BRISK_create(30)\n",
    "\n",
    "for image_path in image_paths:\n",
    "    im = cv2.imread(image_path)\n",
    "    kpts, des = brisk.detectAndCompute(im, None)\n",
    "    des_list.append((image_path, des))"
   ]
  },
  {
   "cell_type": "code",
   "execution_count": 9,
   "id": "a23f2b02",
   "metadata": {},
   "outputs": [
    {
     "data": {
      "text/plain": [
       "array([[176, 255, 255, ...,   0, 224, 239],\n",
       "       [252, 255, 255, ...,   0, 128, 205],\n",
       "       [180, 123, 207, ...,  13,   0, 128],\n",
       "       ...,\n",
       "       [255, 159,  33, ...,   8,   0, 128],\n",
       "       [176, 255, 223, ...,  60,   0,   0],\n",
       "       [160, 251, 255, ...,  32, 243, 242]], dtype=uint8)"
      ]
     },
     "execution_count": 9,
     "metadata": {},
     "output_type": "execute_result"
    }
   ],
   "source": [
    "# initialize vector to stack\n",
    "descriptors = des_list[0][1]\n",
    "descriptors"
   ]
  },
  {
   "cell_type": "code",
   "execution_count": 10,
   "id": "859a9674",
   "metadata": {},
   "outputs": [],
   "source": [
    "# Stack all the descriptors vertically into a numpy array\n",
    "for image_path, descriptor in des_list[1:]:\n",
    "    descriptors = np.vstack((descriptors, descriptor))"
   ]
  },
  {
   "cell_type": "code",
   "execution_count": 11,
   "id": "fe511690",
   "metadata": {},
   "outputs": [
    {
     "name": "stdout",
     "output_type": "stream",
     "text": [
      "(824182, 64)\n"
     ]
    },
    {
     "data": {
      "text/plain": [
       "array([[176, 255, 255, ...,   0, 224, 239],\n",
       "       [252, 255, 255, ...,   0, 128, 205],\n",
       "       [180, 123, 207, ...,  13,   0, 128],\n",
       "       ...,\n",
       "       [251, 255, 239, ..., 136,  25,  48],\n",
       "       [128, 255, 239, ..., 223, 153,  59],\n",
       "       [240,  63, 199, ...,   8, 145,  50]], dtype=uint8)"
      ]
     },
     "execution_count": 11,
     "metadata": {},
     "output_type": "execute_result"
    }
   ],
   "source": [
    "print(descriptors.shape)\n",
    "descriptors"
   ]
  },
  {
   "cell_type": "code",
   "execution_count": 12,
   "id": "1194e163",
   "metadata": {},
   "outputs": [],
   "source": [
    "# kmeans works only on float, so convert integers to float\n",
    "descriptors_float = descriptors.astype(float)"
   ]
  },
  {
   "cell_type": "markdown",
   "id": "1bc3a36c",
   "metadata": {},
   "source": [
    "## Clustering"
   ]
  },
  {
   "cell_type": "markdown",
   "id": "162db235",
   "metadata": {},
   "source": [
    "In order to analyse the best possible number of clusters to carry on with the analysis, we'll take a sample of the descriptors dataset and run the clustering algorithm with different values of __k__ and then use _Silhoutte Score_ to decide the best option."
   ]
  },
  {
   "cell_type": "code",
   "execution_count": 13,
   "id": "2db4ff80",
   "metadata": {},
   "outputs": [
    {
     "name": "stdout",
     "output_type": "stream",
     "text": [
      "(82418, 64)\n"
     ]
    }
   ],
   "source": [
    "np.random.seed(1658)\n",
    "sample_idx = np.random.choice(descriptors_float.shape[0], size = int(descriptors_float.shape[0]*0.1), replace = False)\n",
    "descriptors_sample = descriptors_float[sample_idx]\n",
    "print(descriptors_sample.shape)"
   ]
  },
  {
   "cell_type": "code",
   "execution_count": 14,
   "id": "749bba55",
   "metadata": {},
   "outputs": [],
   "source": [
    "# import Silhouette Score implementation from scikit-learn\n",
    "from sklearn.metrics import silhouette_score"
   ]
  },
  {
   "cell_type": "code",
   "execution_count": 15,
   "id": "47bf888c",
   "metadata": {},
   "outputs": [],
   "source": [
    "# recommendation is to explore between 25 and 1.000 clusters\n",
    "n_clusters = np.arange(25, 1000, 50)\n",
    "scores=[]\n",
    "for k in n_clusters:\n",
    "    voc_sample, _ = kmeans(descriptors_sample, k, 1) \n",
    "    clusters, _ = vq(descriptors_sample, voc_sample)\n",
    "    score = silhouette_score(descriptors_sample, clusters)\n",
    "    scores.append(score)"
   ]
  },
  {
   "cell_type": "code",
   "execution_count": 16,
   "id": "766d12a1",
   "metadata": {},
   "outputs": [],
   "source": [
    "import matplotlib.pyplot as plt"
   ]
  },
  {
   "cell_type": "code",
   "execution_count": 18,
   "id": "17feed12",
   "metadata": {},
   "outputs": [
    {
     "data": {
      "image/png": "[encoded data removed]",
      "text/plain": [
       "<Figure size 1080x504 with 1 Axes>"
      ]
     },
     "metadata": {
      "needs_background": "light"
     },
     "output_type": "display_data"
    }
   ],
   "source": [
    "fig=plt.figure(figsize=(15,7))\n",
    "plt.title(\"Silhouette Score for different numbers of clusters\")\n",
    "plt.plot(n_clusters, scores)\n",
    "plt.ylabel(\"Silhouette scores\")\n",
    "plt.xlabel(\"number of clusters\")\n",
    "plt.grid()\n",
    "plt.savefig('silhouette_scores.png')"
   ]
  },
  {
   "cell_type": "markdown",
   "id": "33b24234",
   "metadata": {},
   "source": [
    "The silhouette scores suggests that the clusters obtained do not provide good segmentation for the data. Either way, as we can see in the chart above, 25 clusters has the best result among the ones tested. So let's carry on with the analysis using k = 25 and clusterize the whole dataset."
   ]
  },
  {
   "cell_type": "code",
   "execution_count": null,
   "id": "b01e3943",
   "metadata": {},
   "outputs": [],
   "source": []
  },
  {
   "cell_type": "code",
   "execution_count": null,
   "id": "18b489b4",
   "metadata": {},
   "outputs": [],
   "source": []
  },
  {
   "cell_type": "code",
   "execution_count": null,
   "id": "a67fa846",
   "metadata": {},
   "outputs": [],
   "source": []
  },
  {
   "cell_type": "code",
   "execution_count": 17,
   "id": "4f290a0b",
   "metadata": {},
   "outputs": [],
   "source": [
    "k = 200  \n",
    "voc, variance = kmeans(descriptors_float, k, 1) "
   ]
  },
  {
   "cell_type": "code",
   "execution_count": 18,
   "id": "6fb51632",
   "metadata": {},
   "outputs": [
    {
     "data": {
      "text/plain": [
       "array([[230.30615508, 216.34479083, 232.46176392, ..., 113.50626166,\n",
       "        109.05622169,  99.07993605],\n",
       "       [163.81306629,  92.87815928, 190.29422985, ...,  46.01549833,\n",
       "         94.02646638, 108.00643777],\n",
       "       [193.54892865, 218.63132317, 238.59642147, ...,  50.93616081,\n",
       "         59.57123923,  84.5522421 ],\n",
       "       ...,\n",
       "       [206.86092308, 195.64123077, 227.98523077, ...,  47.13292308,\n",
       "         59.32020513,  89.84553846],\n",
       "       [113.94271357,  45.41105528,  73.82964824, ..., 138.10527638,\n",
       "         99.04170854, 107.31934673],\n",
       "       [126.25699034,  84.37417387, 197.98322318, ...,  69.93340112,\n",
       "         78.88739197,  88.59456024]])"
      ]
     },
     "execution_count": 18,
     "metadata": {},
     "output_type": "execute_result"
    }
   ],
   "source": [
    "voc"
   ]
  },
  {
   "cell_type": "code",
   "execution_count": 19,
   "id": "fdd76c44",
   "metadata": {},
   "outputs": [
    {
     "data": {
      "text/plain": [
       "584.8518772834215"
      ]
     },
     "execution_count": 19,
     "metadata": {},
     "output_type": "execute_result"
    }
   ],
   "source": [
    "variance"
   ]
  },
  {
   "cell_type": "code",
   "execution_count": 20,
   "id": "b6593151",
   "metadata": {},
   "outputs": [],
   "source": [
    "# Calculate the histogram of features and represent them as vector\n",
    "# vq assigns codes from a code book to observations\n",
    "\n",
    "im_features = np.zeros((len(image_paths), k), \"float32\")\n",
    "\n",
    "for i in range(len(image_paths)):\n",
    "    words, distance = vq(des_list[i][1],voc)\n",
    "    for w in words:\n",
    "        im_features[i][w] += 1\n"
   ]
  },
  {
   "cell_type": "code",
   "execution_count": 21,
   "id": "4a27b182",
   "metadata": {},
   "outputs": [
    {
     "data": {
      "text/plain": [
       "array([[ 1.,  0.,  0., ...,  0.,  1.,  1.],\n",
       "       [ 4.,  1.,  3., ...,  3.,  2.,  6.],\n",
       "       [ 0.,  0.,  1., ...,  1.,  1.,  0.],\n",
       "       ...,\n",
       "       [ 5.,  0.,  7., ...,  7.,  1.,  9.],\n",
       "       [ 5.,  0.,  8., ..., 20.,  3.,  3.],\n",
       "       [ 0.,  1.,  3., ...,  3.,  5.,  1.]], dtype=float32)"
      ]
     },
     "execution_count": 21,
     "metadata": {},
     "output_type": "execute_result"
    }
   ],
   "source": [
    "im_features"
   ]
  },
  {
   "cell_type": "code",
   "execution_count": 22,
   "id": "dc4360fb",
   "metadata": {},
   "outputs": [],
   "source": [
    "# Perform Tf-Idf vectorization\n",
    "#nbr_occurences = np.sum( (im_features > 0) * 1, axis = 0)\n",
    "#idf = np.array(np.log((1.0*len(image_paths)+1) / (1.0*nbr_occurences + 1)), 'float32')"
   ]
  },
  {
   "cell_type": "code",
   "execution_count": 23,
   "id": "c38b7655",
   "metadata": {},
   "outputs": [],
   "source": [
    "#idf"
   ]
  },
  {
   "cell_type": "code",
   "execution_count": 24,
   "id": "009f71ec",
   "metadata": {},
   "outputs": [],
   "source": [
    "# Scaling the words\n",
    "# Standardize features by removing the mean and scaling to unit variance\n",
    "# In a way normalization\n",
    "from sklearn.preprocessing import StandardScaler\n",
    "stdSlr = StandardScaler().fit(im_features)\n",
    "im_features = stdSlr.transform(im_features)"
   ]
  },
  {
   "cell_type": "code",
   "execution_count": 25,
   "id": "41eb4181",
   "metadata": {},
   "outputs": [
    {
     "data": {
      "text/plain": [
       "array([[-0.5542829 , -0.42659485, -0.7984955 , ..., -0.7781814 ,\n",
       "        -0.58311075, -0.72223747],\n",
       "       [-0.25958103, -0.3691119 , -0.49952266, ..., -0.50755817,\n",
       "        -0.4866371 , -0.11626157],\n",
       "       [-0.65251684, -0.42659485, -0.6988379 , ..., -0.6879737 ,\n",
       "        -0.58311075, -0.84343266],\n",
       "       ...,\n",
       "       [-0.16134708, -0.42659485, -0.1008923 , ..., -0.14672726,\n",
       "        -0.58311075,  0.24732399],\n",
       "       [-0.16134708, -0.42659485, -0.0012347 , ...,  1.0259732 ,\n",
       "        -0.39016342, -0.4798471 ],\n",
       "       [-0.65251684, -0.3691119 , -0.49952266, ..., -0.50755817,\n",
       "        -0.1972161 , -0.72223747]], dtype=float32)"
      ]
     },
     "execution_count": 25,
     "metadata": {},
     "output_type": "execute_result"
    }
   ],
   "source": [
    "im_features"
   ]
  },
  {
   "cell_type": "code",
   "execution_count": 26,
   "id": "69173963",
   "metadata": {},
   "outputs": [
    {
     "data": {
      "text/plain": [
       "LinearSVC(max_iter=10000)"
      ]
     },
     "execution_count": 26,
     "metadata": {},
     "output_type": "execute_result"
    }
   ],
   "source": [
    "# Train an algorithm to discriminate vectors corresponding to positive and negative training images\n",
    "# Train the Linear SVM\n",
    "clf = LinearSVC(max_iter=10000)  #Default of 100 is not converging\n",
    "clf.fit(im_features, np.array(image_classes))\n",
    "\n",
    "#Train Random forest to compare how it does against SVM\n",
    "#from sklearn.ensemble import RandomForestClassifier\n",
    "#clf = RandomForestClassifier(n_estimators = 100, random_state=30)\n",
    "#clf.fit(im_features, np.array(image_classes))"
   ]
  },
  {
   "cell_type": "code",
   "execution_count": 27,
   "id": "ff4c6310",
   "metadata": {},
   "outputs": [
    {
     "data": {
      "text/plain": [
       "['bovw_brisk.pkl']"
      ]
     },
     "execution_count": 27,
     "metadata": {},
     "output_type": "execute_result"
    }
   ],
   "source": [
    "# Save the SVM\n",
    "# Joblib dumps Python object into one file\n",
    "jb.dump((clf, training_names, stdSlr, k, voc), \"bovw_brisk.pkl\", compress=3) "
   ]
  },
  {
   "cell_type": "markdown",
   "id": "597a5968",
   "metadata": {},
   "source": [
    "# GLCM Haralick Features"
   ]
  },
  {
   "cell_type": "code",
   "execution_count": 5,
   "id": "4785fadf",
   "metadata": {},
   "outputs": [],
   "source": []
  },
  {
   "cell_type": "code",
   "execution_count": 6,
   "id": "043aa004",
   "metadata": {},
   "outputs": [],
   "source": [
    "# Create List where all the descriptors will be stored\n",
    "des_list = []"
   ]
  },
  {
   "cell_type": "code",
   "execution_count": 7,
   "id": "f045ce5a",
   "metadata": {},
   "outputs": [],
   "source": [
    "def extract_glcm_features(image):\n",
    "        \n",
    "        # Calculate haralick texture features for 4 types of adjacency\n",
    "        textures = mt.features.haralick(image)\n",
    "\n",
    "        # Return the mean\n",
    "        #ht_mean = textures.mean(axis=0)\n",
    "        #return ht_mean\n",
    "        \n",
    "        return textures"
   ]
  },
  {
   "cell_type": "code",
   "execution_count": 8,
   "id": "4f18090e",
   "metadata": {},
   "outputs": [],
   "source": [
    "im = cv2.imread('./waste_images/train\\\\Aluminium\\\\Aluminium1.JPG')\n",
    "#im"
   ]
  },
  {
   "cell_type": "code",
   "execution_count": 9,
   "id": "f9488e9d",
   "metadata": {},
   "outputs": [
    {
     "data": {
      "text/plain": [
       "array([[ 1.43874883e-03,  7.21694274e+01,  9.78804635e-01,\n",
       "         1.70248133e+03,  3.71078665e-01,  3.20915837e+02,\n",
       "         6.73775590e+03,  7.99154034e+00,  1.10220036e+01,\n",
       "         5.79455124e-04,  3.47754502e+00, -4.24903817e-01,\n",
       "         9.98691883e-01],\n",
       "       [ 1.10374277e-03,  7.96972871e+01,  9.76603290e-01,\n",
       "         1.70317294e+03,  3.18623452e-01,  3.20809783e+02,\n",
       "         6.73299447e+03,  7.98531811e+00,  1.13282624e+01,\n",
       "         4.82560369e-04,  3.69817928e+00, -3.81295916e-01,\n",
       "         9.97591688e-01],\n",
       "       [ 1.50913178e-03,  1.20304132e+01,  9.96465880e-01,\n",
       "         1.70203806e+03,  4.56491664e-01,  3.20943031e+02,\n",
       "         6.79612181e+03,  7.98560668e+00,  1.03308796e+01,\n",
       "         8.45868062e-04,  2.63666557e+00, -5.23454805e-01,\n",
       "         9.99670472e-01],\n",
       "       [ 1.05101975e-03,  8.20602564e+01,  9.75909607e-01,\n",
       "         1.70317387e+03,  3.09783006e-01,  3.20809810e+02,\n",
       "         6.73063522e+03,  7.98378936e+00,  1.13578710e+01,\n",
       "         4.71840718e-04,  3.71816399e+00, -3.77065628e-01,\n",
       "         9.97444601e-01],\n",
       "       [ 7.79460057e-04,  3.76136035e+01,  9.88881734e-01,\n",
       "         1.69152294e+03,  2.04509620e-01,  3.20138734e+02,\n",
       "         6.72847815e+03,  7.94005561e+00,  1.13752282e+01,\n",
       "         3.79614845e-04,  3.66521174e+00, -3.71220623e-01,\n",
       "         9.97196476e-01],\n",
       "       [ 6.22546427e-04,  1.15581371e+02,  9.65855795e-01,\n",
       "         1.69254740e+03,  1.72040543e-01,  3.20001781e+02,\n",
       "         6.65460823e+03,  7.94090061e+00,  1.19357810e+01,\n",
       "         2.69148188e-04,  4.29470367e+00, -2.91351886e-01,\n",
       "         9.91428703e-01],\n",
       "       [ 6.37007419e-04,  4.93367110e+01,  9.85424065e-01,\n",
       "         1.69240300e+03,  1.96752791e-01,  3.20037842e+02,\n",
       "         6.72027529e+03,  7.93357563e+00,  1.16167777e+01,\n",
       "         3.30798111e-04,  3.85985262e+00, -3.36877268e-01,\n",
       "         9.95469851e-01],\n",
       "       [ 5.89603603e-04,  1.23235330e+02,  9.63613497e-01,\n",
       "         1.69342091e+03,  1.68357831e-01,  3.19900641e+02,\n",
       "         6.65044830e+03,  7.93389119e+00,  1.20135659e+01,\n",
       "         2.55328019e-04,  4.35938352e+00, -2.80467773e-01,\n",
       "         9.90019662e-01],\n",
       "       [ 5.92199074e-04,  1.24508628e+02,  9.63229148e-01,\n",
       "         1.69303432e+03,  1.68796128e-01,  3.19890864e+02,\n",
       "         6.64762865e+03,  7.93159442e+00,  1.20048089e+01,\n",
       "         2.57297372e-04,  4.35264473e+00, -2.81567701e-01,\n",
       "         9.90169165e-01],\n",
       "       [ 6.17942112e-04,  1.00650230e+02,  9.70270135e-01,\n",
       "         1.69274614e+03,  1.69085735e-01,  3.20009615e+02,\n",
       "         6.67033434e+03,  7.94144982e+00,  1.19003780e+01,\n",
       "         2.67894542e-04,  4.24616406e+00, -2.96458552e-01,\n",
       "         9.92022046e-01],\n",
       "       [ 6.55479733e-04,  4.83650153e+01,  9.85707871e-01,\n",
       "         1.69201583e+03,  2.02464884e-01,  3.20028027e+02,\n",
       "         6.71969829e+03,  7.93319999e+00,  1.15836938e+01,\n",
       "         3.41273633e-04,  3.83058853e+00, -3.41465111e-01,\n",
       "         9.95749866e-01],\n",
       "       [ 5.99777690e-04,  1.07229194e+02,  9.68335949e-01,\n",
       "         1.69323242e+03,  1.68296727e-01,  3.19898671e+02,\n",
       "         6.66570050e+03,  7.93435502e+00,  1.19539714e+01,\n",
       "         2.60835494e-04,  4.29128328e+00, -2.88883170e-01,\n",
       "         9.91129415e-01],\n",
       "       [ 5.77225752e-04,  1.10630853e+02,  9.67338956e-01,\n",
       "         1.69362087e+03,  1.63120328e-01,  3.19908505e+02,\n",
       "         6.66385262e+03,  7.93240618e+00,  1.19877468e+01,\n",
       "         2.52575898e-04,  4.32076089e+00, -2.84202678e-01,\n",
       "         9.90530452e-01]])"
      ]
     },
     "execution_count": 9,
     "metadata": {},
     "output_type": "execute_result"
    }
   ],
   "source": [
    "extract_glcm_features(im)"
   ]
  },
  {
   "cell_type": "code",
   "execution_count": 10,
   "id": "5c8cf0d5",
   "metadata": {},
   "outputs": [],
   "source": [
    "for image_path in image_paths:\n",
    "    im = cv2.imread(image_path)\n",
    "    gray_img = cv2.cvtColor(im, cv2.COLOR_BGR2GRAY) # Convert the image to grayscale\n",
    "    des = extract_glcm_features(gray_img)\n",
    "    des_list.append((image_path, des)) "
   ]
  },
  {
   "cell_type": "code",
   "execution_count": 13,
   "id": "733d0972",
   "metadata": {},
   "outputs": [
    {
     "data": {
      "text/plain": [
       "565"
      ]
     },
     "execution_count": 13,
     "metadata": {},
     "output_type": "execute_result"
    }
   ],
   "source": [
    "len(des_list)"
   ]
  },
  {
   "cell_type": "code",
   "execution_count": 15,
   "id": "fff4b973",
   "metadata": {},
   "outputs": [
    {
     "data": {
      "text/plain": [
       "(4, 13)"
      ]
     },
     "execution_count": 15,
     "metadata": {},
     "output_type": "execute_result"
    }
   ],
   "source": [
    "des_list[0][1].shape"
   ]
  },
  {
   "cell_type": "code",
   "execution_count": 16,
   "id": "aaaa22f0",
   "metadata": {},
   "outputs": [
    {
     "data": {
      "text/plain": [
       "array([[ 1.78320759e-03,  1.13070227e+01,  9.96540274e-01,\n",
       "         1.63409244e+03,  4.75679478e-01,  3.19741334e+02,\n",
       "         6.52506274e+03,  7.89248241e+00,  1.01342390e+01,\n",
       "         9.16463324e-04,  2.56745517e+00, -5.32775787e-01,\n",
       "         9.99681803e-01],\n",
       "       [ 1.34598670e-03,  7.82852088e+01,  9.76062143e-01,\n",
       "         1.63517581e+03,  3.37424367e-01,  3.19610420e+02,\n",
       "         6.46241803e+03,  7.89342241e+00,  1.11145076e+01,\n",
       "         5.30418649e-04,  3.62929853e+00, -3.91262701e-01,\n",
       "         9.97753463e-01],\n",
       "       [ 1.75898786e-03,  7.11968098e+01,  9.78220608e-01,\n",
       "         1.63449951e+03,  3.92101849e-01,  3.19714933e+02,\n",
       "         6.46680125e+03,  7.90090805e+00,  1.08001789e+01,\n",
       "         6.37986698e-04,  3.40135486e+00, -4.36580354e-01,\n",
       "         9.98798738e-01],\n",
       "       [ 1.27394101e-03,  8.06387721e+01,  9.75342485e-01,\n",
       "         1.63517640e+03,  3.27667781e-01,  3.19610443e+02,\n",
       "         6.46006681e+03,  7.89043300e+00,  1.11449266e+01,\n",
       "         5.15992350e-04,  3.65242593e+00, -3.86860308e-01,\n",
       "         9.97612398e-01]])"
      ]
     },
     "execution_count": 16,
     "metadata": {},
     "output_type": "execute_result"
    }
   ],
   "source": [
    "descriptors = des_list[0][1]\n",
    "descriptors"
   ]
  },
  {
   "cell_type": "code",
   "execution_count": 17,
   "id": "0ec095b5",
   "metadata": {},
   "outputs": [],
   "source": [
    "# Stack all the descriptors vertically in a numpy array\n",
    "for image_path, descriptor in des_list[1:]:\n",
    "    descriptors = np.vstack((descriptors, descriptor)) "
   ]
  },
  {
   "cell_type": "code",
   "execution_count": 18,
   "id": "69c5658f",
   "metadata": {},
   "outputs": [
    {
     "data": {
      "text/plain": [
       "(2260, 13)"
      ]
     },
     "execution_count": 18,
     "metadata": {},
     "output_type": "execute_result"
    }
   ],
   "source": [
    "descriptors.shape"
   ]
  },
  {
   "cell_type": "code",
   "execution_count": 19,
   "id": "2c5fa19e",
   "metadata": {},
   "outputs": [],
   "source": [
    "#descriptors"
   ]
  },
  {
   "cell_type": "code",
   "execution_count": 20,
   "id": "7aa9db61",
   "metadata": {},
   "outputs": [
    {
     "data": {
      "text/plain": [
       "array([[ 1.78320759e-03,  1.13070227e+01,  9.96540274e-01, ...,\n",
       "         2.56745517e+00, -5.32775787e-01,  9.99681803e-01],\n",
       "       [ 1.34598670e-03,  7.82852088e+01,  9.76062143e-01, ...,\n",
       "         3.62929853e+00, -3.91262701e-01,  9.97753463e-01],\n",
       "       [ 1.75898786e-03,  7.11968098e+01,  9.78220608e-01, ...,\n",
       "         3.40135486e+00, -4.36580354e-01,  9.98798738e-01],\n",
       "       ...,\n",
       "       [ 2.50216100e-03,  6.23199055e+01,  9.80066095e-01, ...,\n",
       "         2.77042062e+00, -5.14099303e-01,  9.99596558e-01],\n",
       "       [ 3.09251666e-03,  3.62217184e+01,  9.88423939e-01, ...,\n",
       "         2.44478914e+00, -5.66680549e-01,  9.99805885e-01],\n",
       "       [ 2.54814157e-03,  6.35981489e+01,  9.79657470e-01, ...,\n",
       "         2.74138472e+00, -5.19656152e-01,  9.99626461e-01]])"
      ]
     },
     "execution_count": 20,
     "metadata": {},
     "output_type": "execute_result"
    }
   ],
   "source": [
    "# kmeans works only on float, so convert integers to float\n",
    "descriptors_float = descriptors.astype(float)  \n",
    "\n",
    "descriptors_float"
   ]
  },
  {
   "cell_type": "code",
   "execution_count": 21,
   "id": "5a0eb957",
   "metadata": {},
   "outputs": [],
   "source": [
    "k = 200\n",
    "voc, variance = kmeans(descriptors_float, k, 1) "
   ]
  },
  {
   "cell_type": "code",
   "execution_count": 22,
   "id": "0b06e7d1",
   "metadata": {},
   "outputs": [
    {
     "data": {
      "text/plain": [
       "array([[ 1.52404333e-03,  5.31175170e+01,  9.85161259e-01, ...,\n",
       "         3.06342753e+00, -4.66428082e-01,  9.98940030e-01],\n",
       "       [ 2.06742868e-03,  2.97386343e+01,  9.82996804e-01, ...,\n",
       "         2.90473142e+00, -4.62658344e-01,  9.98265198e-01],\n",
       "       [ 2.41402363e-03,  8.24309537e+01,  9.89735948e-01, ...,\n",
       "         3.28233103e+00, -3.99548437e-01,  9.96716812e-01],\n",
       "       ...,\n",
       "       [ 2.08939220e-03,  1.11503934e+02,  9.85125428e-01, ...,\n",
       "         3.83439733e+00, -4.10976468e-01,  9.98719841e-01],\n",
       "       [ 1.92315396e-03,  1.07962477e+02,  9.86078085e-01, ...,\n",
       "         3.36141421e+00, -4.44599671e-01,  9.98642746e-01],\n",
       "       [ 1.62699596e-03,  7.36795395e+01,  9.68948267e-01, ...,\n",
       "         3.16971280e+00, -4.40807363e-01,  9.98547483e-01]])"
      ]
     },
     "execution_count": 22,
     "metadata": {},
     "output_type": "execute_result"
    }
   ],
   "source": [
    "voc"
   ]
  },
  {
   "cell_type": "code",
   "execution_count": 23,
   "id": "51d9c379",
   "metadata": {},
   "outputs": [
    {
     "data": {
      "text/plain": [
       "99.19599928848882"
      ]
     },
     "execution_count": 23,
     "metadata": {},
     "output_type": "execute_result"
    }
   ],
   "source": [
    "variance"
   ]
  },
  {
   "cell_type": "code",
   "execution_count": 24,
   "id": "93132ca9",
   "metadata": {},
   "outputs": [
    {
     "data": {
      "text/plain": [
       "(200, 13)"
      ]
     },
     "execution_count": 24,
     "metadata": {},
     "output_type": "execute_result"
    }
   ],
   "source": [
    "voc.shape"
   ]
  },
  {
   "cell_type": "code",
   "execution_count": 25,
   "id": "c75a89db",
   "metadata": {},
   "outputs": [],
   "source": [
    "# Calculate the histogram of features and represent them as vector\n",
    "# vq assigns codes from a code book to observations\n",
    "\n",
    "im_features = np.zeros((len(image_paths), k), \"float32\")\n",
    "\n",
    "for i in range(len(image_paths)):\n",
    "    words, distance = vq(des_list[i][1],voc)\n",
    "    for w in words:\n",
    "        im_features[i][w] += 1"
   ]
  },
  {
   "cell_type": "code",
   "execution_count": 27,
   "id": "008c0d2a",
   "metadata": {},
   "outputs": [
    {
     "data": {
      "text/plain": [
       "array([0., 1., 2., 3., 4.], dtype=float32)"
      ]
     },
     "execution_count": 27,
     "metadata": {},
     "output_type": "execute_result"
    }
   ],
   "source": [
    "np.unique(im_features)"
   ]
  },
  {
   "cell_type": "code",
   "execution_count": 28,
   "id": "c9ed2d57",
   "metadata": {},
   "outputs": [],
   "source": [
    "# Scaling the words\n",
    "# Standardize features by removing the mean and scaling to unit variance\n",
    "# In a way normalization\n",
    "from sklearn.preprocessing import StandardScaler\n",
    "stdSlr = StandardScaler().fit(im_features)\n",
    "im_features = stdSlr.transform(im_features)"
   ]
  },
  {
   "cell_type": "code",
   "execution_count": 29,
   "id": "c59ec931",
   "metadata": {},
   "outputs": [
    {
     "data": {
      "text/plain": [
       "array([[-0.09963634, -0.08873292, -0.05108428, ..., -0.05653338,\n",
       "        -0.09396733, -0.08195126],\n",
       "       [-0.09963634, -0.08873292, -0.05108428, ..., -0.05653338,\n",
       "        -0.09396733, -0.08195126],\n",
       "       [-0.09963634, -0.08873292, -0.05108428, ..., -0.05653338,\n",
       "        -0.09396733, -0.08195126],\n",
       "       ...,\n",
       "       [-0.09963634, -0.08873292, -0.05108428, ..., -0.05653338,\n",
       "        -0.09396733, -0.08195126],\n",
       "       [-0.09963634, -0.08873292, -0.05108428, ..., -0.05653338,\n",
       "        -0.09396733, -0.08195126],\n",
       "       [-0.09963634, -0.08873292, -0.05108428, ..., -0.05653338,\n",
       "        -0.09396733, -0.08195126]], dtype=float32)"
      ]
     },
     "execution_count": 29,
     "metadata": {},
     "output_type": "execute_result"
    }
   ],
   "source": [
    "im_features"
   ]
  },
  {
   "cell_type": "code",
   "execution_count": 30,
   "id": "6596f18f",
   "metadata": {},
   "outputs": [
    {
     "data": {
      "text/plain": [
       "LinearSVC(max_iter=10000)"
      ]
     },
     "execution_count": 30,
     "metadata": {},
     "output_type": "execute_result"
    }
   ],
   "source": [
    "# Train an algorithm to discriminate vectors corresponding to positive and negative training images\n",
    "# Train the Linear SVM\n",
    "clf = LinearSVC(max_iter=10000)  #Default of 100 is not converging\n",
    "clf.fit(im_features, np.array(image_classes))\n",
    "\n",
    "#Train Random forest to compare how it does against SVM\n",
    "#from sklearn.ensemble import RandomForestClassifier\n",
    "#clf = RandomForestClassifier(n_estimators = 100, random_state=30)\n",
    "#clf.fit(im_features, np.array(image_classes))"
   ]
  },
  {
   "cell_type": "code",
   "execution_count": 33,
   "id": "7f8545ae",
   "metadata": {},
   "outputs": [
    {
     "data": {
      "text/plain": [
       "['bovw_glcm.pkl']"
      ]
     },
     "execution_count": 33,
     "metadata": {},
     "output_type": "execute_result"
    }
   ],
   "source": [
    "# Save the SVM\n",
    "# Joblib dumps Python object into one file\n",
    "jb.dump((clf, training_names, stdSlr, k, voc), \"bovw_glcm.pkl\", compress=3) "
   ]
  },
  {
   "cell_type": "markdown",
   "id": "19f271bd",
   "metadata": {},
   "source": [
    "# LBP - Local Binary Patterns"
   ]
  },
  {
   "cell_type": "code",
   "execution_count": 2,
   "id": "96440280",
   "metadata": {},
   "outputs": [],
   "source": [
    "# Create list where all the descriptors will be stored\n",
    "des_list = []"
   ]
  },
  {
   "cell_type": "code",
   "execution_count": 3,
   "id": "baa790ca",
   "metadata": {},
   "outputs": [],
   "source": [
    "def extract_lbp_features(img, radius=1, sampling_pixels=8):\n",
    "    \n",
    "    # LBP operates in single channel images so if RGB images are provided\n",
    "    # we have to convert it to grayscale\n",
    "    if (len(img.shape) > 2):\n",
    "        img = img.astype(float)\n",
    "        # RGB to grayscale convertion using Luminance\n",
    "        img = img[:,:,0]*0.3 + img[:,:,1]*0.59 + img[:,:,2]*0.11\n",
    "\n",
    "    # converting to uint8 type for 256 graylevels\n",
    "    img = img.astype(np.uint8)\n",
    "    \n",
    "    # normalize values can also help improving description\n",
    "    i_min = np.min(img)\n",
    "    i_max = np.max(img)\n",
    "    if (i_max - i_min != 0):\n",
    "        img = (img - i_min)/(i_max-i_min)\n",
    "    \n",
    "    # compute LBP\n",
    "    lbp = feature.local_binary_pattern(img, sampling_pixels, radius, method=\"uniform\")\n",
    "    \n",
    "    '''\n",
    "    # LBP returns a matrix with the codes, so we compute the histogram\n",
    "    (hist, _) = np.histogram(lbp.ravel(), bins=np.arange(0, sampling_pixels + 3), range=(0, sampling_pixels + 2))\n",
    "\n",
    "    # normalization\n",
    "    hist = hist.astype(\"float\")\n",
    "    hist /= (hist.sum() + 1e-6)\n",
    "    # return the histogram of Local Binary Patterns\n",
    "    return hist\n",
    "    '''\n",
    "    \n",
    "    return lbp"
   ]
  },
  {
   "cell_type": "code",
   "execution_count": 4,
   "id": "a4f39085",
   "metadata": {},
   "outputs": [],
   "source": [
    "im = cv2.imread('./waste_images/train\\\\Aluminium\\\\Aluminium1.JPG')"
   ]
  },
  {
   "cell_type": "code",
   "execution_count": 5,
   "id": "f9fe43b6",
   "metadata": {},
   "outputs": [
    {
     "data": {
      "text/plain": [
       "array([[3., 3., 5., ..., 1., 1., 1.],\n",
       "       [1., 9., 8., ..., 5., 5., 3.],\n",
       "       [5., 9., 7., ..., 5., 7., 5.],\n",
       "       ...,\n",
       "       [2., 0., 4., ..., 4., 4., 1.],\n",
       "       [2., 4., 5., ..., 8., 5., 2.],\n",
       "       [2., 4., 5., ..., 9., 9., 2.]])"
      ]
     },
     "execution_count": 5,
     "metadata": {},
     "output_type": "execute_result"
    }
   ],
   "source": [
    "extract_lbp_features(im)"
   ]
  },
  {
   "cell_type": "code",
   "execution_count": 9,
   "id": "bbee107f",
   "metadata": {},
   "outputs": [],
   "source": [
    "for image_path in image_paths:\n",
    "    im = cv2.imread(image_path)\n",
    "    #gray_img = cv2.cvtColor(im, cv2.COLOR_BGR2GRAY) # Convert the image to grayscale\n",
    "    des = extract_lbp_features(im)\n",
    "    des_list.append((image_path, des)) "
   ]
  },
  {
   "cell_type": "code",
   "execution_count": 13,
   "id": "d62d1eb1",
   "metadata": {},
   "outputs": [
    {
     "data": {
      "text/plain": [
       "565"
      ]
     },
     "execution_count": 13,
     "metadata": {},
     "output_type": "execute_result"
    }
   ],
   "source": [
    "len(des_list)"
   ]
  },
  {
   "cell_type": "code",
   "execution_count": 14,
   "id": "d398101e",
   "metadata": {},
   "outputs": [
    {
     "data": {
      "text/plain": [
       "(480, 640)"
      ]
     },
     "execution_count": 14,
     "metadata": {},
     "output_type": "execute_result"
    }
   ],
   "source": [
    "des_list[0][1].shape"
   ]
  },
  {
   "cell_type": "code",
   "execution_count": 15,
   "id": "4666e481",
   "metadata": {},
   "outputs": [
    {
     "data": {
      "text/plain": [
       "array([[3., 3., 5., ..., 1., 1., 1.],\n",
       "       [1., 9., 8., ..., 5., 5., 3.],\n",
       "       [5., 9., 7., ..., 5., 7., 5.],\n",
       "       ...,\n",
       "       [2., 0., 4., ..., 4., 4., 1.],\n",
       "       [2., 4., 5., ..., 8., 5., 2.],\n",
       "       [2., 4., 5., ..., 9., 9., 2.]])"
      ]
     },
     "execution_count": 15,
     "metadata": {},
     "output_type": "execute_result"
    }
   ],
   "source": [
    "descriptors = des_list[0][1]\n",
    "descriptors"
   ]
  },
  {
   "cell_type": "code",
   "execution_count": 25,
   "id": "9f812b25",
   "metadata": {},
   "outputs": [],
   "source": [
    "removal_list = []\n",
    "\n",
    "for image_path, descriptor in des_list[1:]:\n",
    "    if (descriptor.shape[1] != (640)):\n",
    "        #print(image_path, descriptor.shape)\n",
    "        removal_list.append(image_path)"
   ]
  },
  {
   "cell_type": "code",
   "execution_count": 26,
   "id": "a0cdfac7",
   "metadata": {},
   "outputs": [
    {
     "data": {
      "text/plain": [
       "['./waste_images/train\\\\Cable and Wire\\\\Cable and Wire105.JPG',\n",
       " './waste_images/train\\\\Cable and Wire\\\\Cable and Wire85.JPG',\n",
       " './waste_images/train\\\\Cardboard and Paper\\\\Cardboard and Paper11.JPG',\n",
       " './waste_images/train\\\\Cardboard and Paper\\\\Cardboard and Paper3.JPG',\n",
       " './waste_images/train\\\\Connector\\\\Connector24.JPG',\n",
       " './waste_images/train\\\\Connector\\\\Connector31.JPG',\n",
       " './waste_images/train\\\\Copper\\\\Copper29.JPG',\n",
       " './waste_images/train\\\\Iron\\\\Iron17.JPG',\n",
       " './waste_images/train\\\\Printed Circuit Board\\\\Printed Circuit Board170.JPG',\n",
       " './waste_images/train\\\\Printed Circuit Board\\\\Printed Circuit Board201.JPG',\n",
       " './waste_images/train\\\\Printed Circuit Board\\\\Printed Circuit Board218.JPG',\n",
       " './waste_images/train\\\\Printed Circuit Board\\\\Printed Circuit Board78.JPG',\n",
       " './waste_images/train\\\\Printer Ribbon and Toner\\\\Printer Ribbon and Toner19.JPG',\n",
       " './waste_images/train\\\\Printer Ribbon and Toner\\\\Printer Ribbon and Toner37.JPG',\n",
       " './waste_images/train\\\\Printer Ribbon and Toner\\\\Printer Ribbon and Toner40.JPG',\n",
       " './waste_images/train\\\\Tube and Screen\\\\Tube and Screen82.JPG',\n",
       " './waste_images/train\\\\Water Pump\\\\Water Pump1.JPG']"
      ]
     },
     "execution_count": 26,
     "metadata": {},
     "output_type": "execute_result"
    }
   ],
   "source": [
    "removal_list"
   ]
  },
  {
   "cell_type": "code",
   "execution_count": 49,
   "id": "bc38ced8",
   "metadata": {},
   "outputs": [],
   "source": [
    "#des_list[0][0]"
   ]
  },
  {
   "cell_type": "code",
   "execution_count": 43,
   "id": "d64f9cd1",
   "metadata": {},
   "outputs": [],
   "source": [
    "# Stack all the descriptors vertically in a numpy array\n",
    "for image_path, descriptor in des_list[1:]:\n",
    "        if image_path not in removal_list:\n",
    "            #print(image_path)\n",
    "            descriptors = np.vstack((descriptors, descriptor)) "
   ]
  },
  {
   "cell_type": "code",
   "execution_count": 47,
   "id": "01b77a13",
   "metadata": {},
   "outputs": [
    {
     "data": {
      "text/plain": [
       "(318720, 640)"
      ]
     },
     "execution_count": 47,
     "metadata": {},
     "output_type": "execute_result"
    }
   ],
   "source": [
    "descriptors.shape"
   ]
  },
  {
   "cell_type": "code",
   "execution_count": 50,
   "id": "26a12a67",
   "metadata": {},
   "outputs": [
    {
     "data": {
      "text/plain": [
       "array([[3., 3., 5., ..., 1., 1., 1.],\n",
       "       [1., 9., 8., ..., 5., 5., 3.],\n",
       "       [5., 9., 7., ..., 5., 7., 5.],\n",
       "       ...,\n",
       "       [3., 4., 4., ..., 9., 4., 3.],\n",
       "       [4., 5., 3., ..., 3., 8., 5.],\n",
       "       [3., 3., 3., ..., 3., 2., 3.]])"
      ]
     },
     "execution_count": 50,
     "metadata": {},
     "output_type": "execute_result"
    }
   ],
   "source": [
    "# kmeans works only on float, so convert integers to float\n",
    "descriptors_float = descriptors.astype(float)  \n",
    "\n",
    "descriptors_float"
   ]
  },
  {
   "cell_type": "code",
   "execution_count": 51,
   "id": "55e44d1f",
   "metadata": {},
   "outputs": [],
   "source": [
    "k = 200\n",
    "voc, variance = kmeans(descriptors_float, k, 1) "
   ]
  },
  {
   "cell_type": "code",
   "execution_count": 52,
   "id": "822e60af",
   "metadata": {},
   "outputs": [
    {
     "data": {
      "text/plain": [
       "array([[3.49900398, 4.98420603, 4.94649972, ..., 4.93184405, 4.93853159,\n",
       "        3.3981218 ],\n",
       "       [9.        , 5.        , 5.        , ..., 4.        , 5.        ,\n",
       "        3.        ],\n",
       "       [1.        , 4.        , 3.        , ..., 8.        , 9.        ,\n",
       "        2.        ],\n",
       "       ...,\n",
       "       [0.        , 2.        , 2.        , ..., 7.        , 0.        ,\n",
       "        1.        ],\n",
       "       [5.11764706, 6.05882353, 4.70588235, ..., 5.47058824, 6.05882353,\n",
       "        4.58823529],\n",
       "       [5.        , 6.        , 4.        , ..., 9.        , 3.        ,\n",
       "        3.        ]])"
      ]
     },
     "execution_count": 52,
     "metadata": {},
     "output_type": "execute_result"
    }
   ],
   "source": [
    "voc"
   ]
  },
  {
   "cell_type": "code",
   "execution_count": 53,
   "id": "83191432",
   "metadata": {},
   "outputs": [
    {
     "data": {
      "text/plain": [
       "62.59683020796944"
      ]
     },
     "execution_count": 53,
     "metadata": {},
     "output_type": "execute_result"
    }
   ],
   "source": [
    "variance"
   ]
  },
  {
   "cell_type": "code",
   "execution_count": 54,
   "id": "5ad4a13e",
   "metadata": {},
   "outputs": [
    {
     "data": {
      "text/plain": [
       "(200, 640)"
      ]
     },
     "execution_count": 54,
     "metadata": {},
     "output_type": "execute_result"
    }
   ],
   "source": [
    "voc.shape"
   ]
  },
  {
   "cell_type": "code",
   "execution_count": 64,
   "id": "6397e5a7",
   "metadata": {},
   "outputs": [],
   "source": [
    "adjusted_des_list = []\n",
    "\n",
    "for item in des_list:\n",
    "    if item[0] not in removal_list:\n",
    "        #print(item[0])\n",
    "        adjusted_des_list.append(item)"
   ]
  },
  {
   "cell_type": "code",
   "execution_count": 65,
   "id": "963d0d21",
   "metadata": {},
   "outputs": [
    {
     "data": {
      "text/plain": [
       "548"
      ]
     },
     "execution_count": 65,
     "metadata": {},
     "output_type": "execute_result"
    }
   ],
   "source": [
    "len(adjusted_des_list)"
   ]
  },
  {
   "cell_type": "code",
   "execution_count": 66,
   "id": "08dd8ec0",
   "metadata": {},
   "outputs": [],
   "source": [
    "# Calculate the histogram of features and represent them as vector\n",
    "# vq assigns codes from a code book to observations\n",
    "\n",
    "im_features = np.zeros((len(adjusted_des_list), k), \"float32\")\n",
    "\n",
    "for i in range(len(adjusted_des_list)):\n",
    "    words, distance = vq(adjusted_des_list[i][1],voc)\n",
    "    for w in words:\n",
    "        im_features[i][w] += 1"
   ]
  },
  {
   "cell_type": "code",
   "execution_count": 69,
   "id": "97498621",
   "metadata": {},
   "outputs": [
    {
     "data": {
      "text/plain": [
       "array([  0.,   1.,   2.,   3.,   4.,   5.,   6.,   7.,   8.,   9.,  10.,\n",
       "        11.,  12.,  13.,  14.,  15.,  16.,  17.,  18.,  19.,  20.,  21.,\n",
       "        22.,  23.,  24.,  25.,  26.,  27.,  28.,  29.,  30.,  31.,  32.,\n",
       "        33.,  34.,  35.,  36.,  37.,  38.,  39.,  40.,  41.,  42.,  43.,\n",
       "        44.,  45.,  46.,  47.,  48.,  49.,  50.,  51.,  52.,  53.,  54.,\n",
       "        55.,  56.,  57.,  58.,  59.,  60.,  61.,  62.,  63.,  64.,  65.,\n",
       "        66.,  67.,  68.,  69.,  70.,  71.,  72.,  73.,  74.,  75.,  76.,\n",
       "        77.,  78.,  79.,  80.,  81.,  82.,  83.,  84.,  85.,  86.,  87.,\n",
       "        88.,  89.,  90.,  91.,  92.,  93.,  94.,  95.,  96.,  97.,  98.,\n",
       "        99., 100., 101., 102., 103., 104., 105., 106., 107., 108., 109.,\n",
       "       110., 111., 112., 113., 114., 115., 116., 117., 118., 119., 120.,\n",
       "       121., 122., 123., 124., 126., 127., 128., 129., 130., 131., 134.,\n",
       "       136., 137., 139., 140., 141., 143., 146., 147., 149., 150., 152.,\n",
       "       154., 155., 158., 159., 162., 165., 167., 168., 173., 178., 179.,\n",
       "       183., 185., 188., 191., 193., 194., 195., 198., 199., 203., 204.,\n",
       "       214., 219., 221., 223., 228., 245., 246., 247., 255., 266., 268.,\n",
       "       269., 270., 289., 290., 292., 295., 308., 321., 334.],\n",
       "      dtype=float32)"
      ]
     },
     "execution_count": 69,
     "metadata": {},
     "output_type": "execute_result"
    }
   ],
   "source": [
    "np.unique(im_features)"
   ]
  },
  {
   "cell_type": "code",
   "execution_count": 70,
   "id": "dfbcdaed",
   "metadata": {},
   "outputs": [],
   "source": [
    "# Scaling the words\n",
    "# Standardize features by removing the mean and scaling to unit variance\n",
    "# In a way normalization\n",
    "from sklearn.preprocessing import StandardScaler\n",
    "stdSlr = StandardScaler().fit(im_features)\n",
    "im_features = stdSlr.transform(im_features)"
   ]
  },
  {
   "cell_type": "code",
   "execution_count": 71,
   "id": "e3cf506d",
   "metadata": {},
   "outputs": [
    {
     "data": {
      "text/plain": [
       "array([[ 0.22110155, -0.04275691, -0.04275691, ..., -0.04275691,\n",
       "        -0.14238352, -0.04275691],\n",
       "       [-0.7122319 , -0.04275691, -0.04275691, ..., -0.04275691,\n",
       "        -0.14238352, -0.04275691],\n",
       "       [-0.45768642, -0.04275691, -0.04275691, ..., -0.04275691,\n",
       "        -0.14238352, -0.04275691],\n",
       "       ...,\n",
       "       [-0.88192886, -0.04275691, -0.04275691, ..., -0.04275691,\n",
       "        -0.14238352, -0.04275691],\n",
       "       [-0.5425349 , -0.04275691, -0.04275691, ..., -0.04275691,\n",
       "        -0.14238352, -0.04275691],\n",
       "       [-0.2879894 , -0.04275691, -0.04275691, ..., -0.04275691,\n",
       "        -0.14238352, -0.04275691]], dtype=float32)"
      ]
     },
     "execution_count": 71,
     "metadata": {},
     "output_type": "execute_result"
    }
   ],
   "source": [
    "im_features"
   ]
  },
  {
   "cell_type": "code",
   "execution_count": 95,
   "id": "1d26a309",
   "metadata": {},
   "outputs": [
    {
     "data": {
      "text/plain": [
       "['Aluminium',\n",
       " 'Battery',\n",
       " 'Cable and Wire',\n",
       " 'Cardboard and Paper',\n",
       " 'Connector',\n",
       " 'Copper',\n",
       " 'Iron',\n",
       " 'Magnetic Tape',\n",
       " 'Printed Circuit Board',\n",
       " 'Printer Ribbon and Toner',\n",
       " 'Tube and Screen',\n",
       " 'Water Pump']"
      ]
     },
     "execution_count": 95,
     "metadata": {},
     "output_type": "execute_result"
    }
   ],
   "source": [
    "labels_classes = {'Aluminium':0, 'Battery':1, 'Cable and Wire':2, 'Cardboard and Paper':3, 'Connector':4,\n",
    "                'Copper':5, 'Iron':6, 'Magnetic Tape':7, 'Printed Circuit Board':8, \n",
    "                'Printer Ribbon and Toner':9, 'Tube and Screen':10, 'Water Pump':11}\n",
    "\n",
    "list(labels_classes.keys())"
   ]
  },
  {
   "cell_type": "code",
   "execution_count": 96,
   "id": "437f23c7",
   "metadata": {},
   "outputs": [],
   "source": [
    "classesToRemove = []\n",
    "\n",
    "for key in labels_classes:\n",
    "    for string in removal_list:\n",
    "        if key in string:\n",
    "            #print(labels_classes[key])\n",
    "            classesToRemove.append(labels_classes[key])"
   ]
  },
  {
   "cell_type": "code",
   "execution_count": 97,
   "id": "3b73853b",
   "metadata": {},
   "outputs": [
    {
     "data": {
      "text/plain": [
       "[2, 2, 3, 3, 4, 4, 5, 6, 8, 8, 8, 8, 9, 9, 9, 10, 11]"
      ]
     },
     "execution_count": 97,
     "metadata": {},
     "output_type": "execute_result"
    }
   ],
   "source": [
    "classesToRemove"
   ]
  },
  {
   "cell_type": "code",
   "execution_count": 104,
   "id": "5f379feb",
   "metadata": {},
   "outputs": [
    {
     "data": {
      "text/plain": [
       "17"
      ]
     },
     "execution_count": 104,
     "metadata": {},
     "output_type": "execute_result"
    }
   ],
   "source": [
    "len(classesToRemove)"
   ]
  },
  {
   "cell_type": "code",
   "execution_count": 107,
   "id": "3c3123e7",
   "metadata": {},
   "outputs": [],
   "source": [
    "def list_difference(b, a):\n",
    "    c = list(b)\n",
    "    for item in a:\n",
    "       try:\n",
    "           c.remove(item)\n",
    "       except ValueError:\n",
    "           pass            #or maybe you want to keep a values here\n",
    "    return c"
   ]
  },
  {
   "cell_type": "code",
   "execution_count": 110,
   "id": "26aef289",
   "metadata": {},
   "outputs": [],
   "source": [
    "adjusted_image_classes = list_difference(image_classes, classesToRemove)"
   ]
  },
  {
   "cell_type": "code",
   "execution_count": 111,
   "id": "2c6cfcbe",
   "metadata": {},
   "outputs": [
    {
     "data": {
      "text/plain": [
       "548"
      ]
     },
     "execution_count": 111,
     "metadata": {},
     "output_type": "execute_result"
    }
   ],
   "source": [
    "len(adjusted_image_classes)"
   ]
  },
  {
   "cell_type": "code",
   "execution_count": 113,
   "id": "abd1b229",
   "metadata": {},
   "outputs": [
    {
     "data": {
      "text/plain": [
       "LinearSVC(max_iter=10000)"
      ]
     },
     "execution_count": 113,
     "metadata": {},
     "output_type": "execute_result"
    }
   ],
   "source": [
    "# Train an algorithm to discriminate vectors corresponding to positive and negative training images\n",
    "# Train the Linear SVM\n",
    "clf = LinearSVC(max_iter=10000)  #Default of 100 is not converging\n",
    "clf.fit(im_features, np.array(adjusted_image_classes))\n",
    "\n",
    "#Train Random forest to compare how it does against SVM\n",
    "#from sklearn.ensemble import RandomForestClassifier\n",
    "#clf = RandomForestClassifier(n_estimators = 100, random_state=30)\n",
    "#clf.fit(im_features, np.array(adjusted_image_classes))"
   ]
  },
  {
   "cell_type": "code",
   "execution_count": 114,
   "id": "06030fa7",
   "metadata": {},
   "outputs": [
    {
     "data": {
      "text/plain": [
       "['bovw_lbp.pkl']"
      ]
     },
     "execution_count": 114,
     "metadata": {},
     "output_type": "execute_result"
    }
   ],
   "source": [
    "# Save the SVM\n",
    "# Joblib dumps Python object into one file\n",
    "jb.dump((clf, training_names, stdSlr, k, voc), \"bovw_lbp.pkl\", compress=3) "
   ]
  },
  {
   "cell_type": "code",
   "execution_count": null,
   "id": "b7a13375",
   "metadata": {},
   "outputs": [],
   "source": []
  }
 ],
 "metadata": {
  "kernelspec": {
   "display_name": "Python 3.8.8 ('base')",
   "language": "python",
   "name": "python3"
  },
  "language_info": {
   "codemirror_mode": {
    "name": "ipython",
    "version": 3
   },
   "file_extension": ".py",
   "mimetype": "text/x-python",
   "name": "python",
   "nbconvert_exporter": "python",
   "pygments_lexer": "ipython3",
   "version": "3.8.8"
  },
  "vscode": {
   "interpreter": {
    "hash": "b0205c421c64af847616f20a9a1a22b234a490e1b79ee204d590d785bf2a1b75"
   }
  }
 },
 "nbformat": 4,
 "nbformat_minor": 5
}
