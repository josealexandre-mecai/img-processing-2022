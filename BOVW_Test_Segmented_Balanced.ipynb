{
 "cells": [
  {
   "cell_type": "code",
   "execution_count": 109,
   "id": "3d95ef06",
   "metadata": {},
   "outputs": [],
   "source": [
    "import cv2\n",
    "import numpy as np\n",
    "import pandas as pd\n",
    "import os\n",
    "\n",
    "# Importing metrics tools\n",
    "from sklearn.metrics import confusion_matrix, accuracy_score, ConfusionMatrixDisplay\n",
    "\n",
    "# Importing visualization tools\n",
    "import seaborn as sn\n",
    "import matplotlib.pyplot as plt\n",
    "import pylab as pl\n",
    "import matplotlib.colors as mcolors\n",
    "\n",
    "# Perform k-means clustering and vector quantization\n",
    "from scipy.cluster.vq import kmeans, vq\n",
    "\n",
    "# Importing feature extraction tools\n",
    "from skimage.feature import greycomatrix, greycoprops\n",
    "import mahotas as mt # Mahotas library for GLCM calculation\n",
    "from skimage import feature # feature.local_binary_pattern for LBP calculation\n",
    "\n",
    "import joblib as jb"
   ]
  },
  {
   "cell_type": "markdown",
   "id": "d8eb3d0d",
   "metadata": {},
   "source": [
    "# BRISK - Feature Point Detector"
   ]
  },
  {
   "cell_type": "code",
   "execution_count": 110,
   "id": "bf7a1ff5",
   "metadata": {},
   "outputs": [],
   "source": [
    "# Load the classifier, class names, scaler, number of clusters and vocabulary \n",
    "# from stored pickle file (generated during training)\n",
    "clf, classes_names, stdSlr, k, voc = jb.load(\"bovw_segmented_balanced_brisk_rf.pkl\")"
   ]
  },
  {
   "cell_type": "code",
   "execution_count": 111,
   "id": "da50d2a7",
   "metadata": {},
   "outputs": [
    {
     "data": {
      "text/plain": [
       "(RandomForestClassifier(criterion='entropy', max_depth=50, min_samples_split=30,\n",
       "                        n_estimators=50, random_state=0),\n",
       " ['Aluminium',\n",
       "  'Battery',\n",
       "  'Cable and Wire',\n",
       "  'Cardboard and Paper',\n",
       "  'Connector',\n",
       "  'Copper',\n",
       "  'Iron',\n",
       "  'Magnetic Tape',\n",
       "  'Printed Circuit Board',\n",
       "  'Printer Ribbon and Toner',\n",
       "  'Tube and Screen',\n",
       "  'Water Pump'],\n",
       " StandardScaler(),\n",
       " 25,\n",
       " array([[190.45572644, 100.96573092,  78.43556816, ..., 150.36075855,\n",
       "         110.92989398, 100.39323578],\n",
       "        [103.64661565,  68.39692709, 133.36471496, ...,  90.07504301,\n",
       "         102.63997153, 110.40280002],\n",
       "        [152.56107522, 192.46417168, 196.93420955, ..., 170.76297616,\n",
       "         165.76787703, 116.50219054],\n",
       "        ...,\n",
       "        [168.96602381, 134.48005291, 186.07456659, ..., 109.88289355,\n",
       "          97.14154425, 116.69017615],\n",
       "        [191.64974237, 230.95262033, 231.51859997, ..., 165.02475807,\n",
       "         138.37526706, 130.17688827],\n",
       "        [ 89.3776115 , 144.17602608, 146.31308342, ...,  58.36368351,\n",
       "          89.48696103, 106.45666025]]))"
      ]
     },
     "execution_count": 111,
     "metadata": {},
     "output_type": "execute_result"
    }
   ],
   "source": [
    "clf, classes_names, stdSlr, k, voc"
   ]
  },
  {
   "cell_type": "code",
   "execution_count": 112,
   "id": "080dbd74",
   "metadata": {},
   "outputs": [
    {
     "data": {
      "text/plain": [
       "(25, 64)"
      ]
     },
     "execution_count": 112,
     "metadata": {},
     "output_type": "execute_result"
    }
   ],
   "source": [
    "voc.shape"
   ]
  },
  {
   "cell_type": "code",
   "execution_count": 113,
   "id": "0e64e5b3",
   "metadata": {},
   "outputs": [],
   "source": [
    "# Get the path of the testing image(s) and store them in a list\n",
    "test_path = './waste_images/test_segmented_balanced'  "
   ]
  },
  {
   "cell_type": "code",
   "execution_count": 114,
   "id": "f49b2ff6",
   "metadata": {},
   "outputs": [],
   "source": [
    "testing_names = os.listdir(test_path)\n",
    "\n",
    "# Get path to all images and save them in a list\n",
    "# image_paths and the corresponding label in image_paths\n",
    "image_paths = []\n",
    "image_classes = []\n",
    "class_id = 0\n",
    "\n",
    "#To make it easy to list all file names in a directory let us define a function\n",
    "def imglist(path):\n",
    "    return [os.path.join(path, f) for f in os.listdir(path)]\n",
    "\n",
    "#Fill the placeholder empty lists with image path, classes, and add class ID number\n",
    "for testing_name in testing_names:\n",
    "    dir = os.path.join(test_path, testing_name)\n",
    "    class_path = imglist(dir)\n",
    "    image_paths+=class_path\n",
    "    image_classes+=[class_id]*len(class_path)\n",
    "    class_id+=1"
   ]
  },
  {
   "cell_type": "code",
   "execution_count": 115,
   "id": "2a7c3a74",
   "metadata": {},
   "outputs": [
    {
     "data": {
      "text/plain": [
       "['./waste_images/test_segmented_balanced\\\\Aluminium\\\\Aluminium17_segmented.JPG',\n",
       " './waste_images/test_segmented_balanced\\\\Aluminium\\\\Aluminium49_segmented.JPG',\n",
       " './waste_images/test_segmented_balanced\\\\Aluminium\\\\Aluminium55_segmented.JPG',\n",
       " './waste_images/test_segmented_balanced\\\\Aluminium\\\\Aluminium57_segmented.JPG',\n",
       " './waste_images/test_segmented_balanced\\\\Aluminium\\\\Aluminium5_segmented.JPG',\n",
       " './waste_images/test_segmented_balanced\\\\Aluminium\\\\Aluminium63_segmented.JPG',\n",
       " './waste_images/test_segmented_balanced\\\\Aluminium\\\\Aluminium70_segmented.JPG',\n",
       " './waste_images/test_segmented_balanced\\\\Aluminium\\\\Aluminium83_segmented.JPG',\n",
       " './waste_images/test_segmented_balanced\\\\Aluminium\\\\Aluminium85_segmented.JPG',\n",
       " './waste_images/test_segmented_balanced\\\\Battery\\\\Battery100_segmented.JPG']"
      ]
     },
     "execution_count": 115,
     "metadata": {},
     "output_type": "execute_result"
    }
   ],
   "source": [
    "image_paths[:10]"
   ]
  },
  {
   "cell_type": "code",
   "execution_count": 116,
   "id": "fa4e8e18",
   "metadata": {},
   "outputs": [
    {
     "data": {
      "text/plain": [
       "array([ 0,  1,  2,  3,  4,  5,  6,  7,  8,  9, 10, 11])"
      ]
     },
     "execution_count": 116,
     "metadata": {},
     "output_type": "execute_result"
    }
   ],
   "source": [
    "np.unique(image_classes)"
   ]
  },
  {
   "cell_type": "code",
   "execution_count": 117,
   "id": "c9bd4bb8",
   "metadata": {},
   "outputs": [],
   "source": [
    "# Create feature extraction and keypoint detector objects\n",
    "# SIFT is not available anymore in openCV    \n",
    "\n",
    "# Create list where all the descriptors will be stored\n",
    "des_list = []\n",
    "\n",
    "# BRISK is a good replacement to SIFT. ORB also works but didn't work well for this example\n",
    "brisk = cv2.BRISK_create(30)\n",
    "\n",
    "for image_path in image_paths:\n",
    "    im = cv2.imread(image_path)\n",
    "    kpts, des = brisk.detectAndCompute(im, None)\n",
    "    des_list.append((image_path, des))"
   ]
  },
  {
   "cell_type": "code",
   "execution_count": 118,
   "id": "e523894c",
   "metadata": {},
   "outputs": [
    {
     "data": {
      "text/plain": [
       "(1012, 64)"
      ]
     },
     "execution_count": 118,
     "metadata": {},
     "output_type": "execute_result"
    }
   ],
   "source": [
    "des_list[0][1].shape"
   ]
  },
  {
   "cell_type": "code",
   "execution_count": 119,
   "id": "34042c3c",
   "metadata": {},
   "outputs": [],
   "source": [
    "# Stack all the descriptors vertically in a numpy array\n",
    "descriptors = des_list[0][1]\n",
    "for image_path, descriptor in des_list[0:]:\n",
    "    descriptors = np.vstack((descriptors, descriptor)) "
   ]
  },
  {
   "cell_type": "code",
   "execution_count": 120,
   "id": "7ff9ec9c",
   "metadata": {},
   "outputs": [
    {
     "data": {
      "text/plain": [
       "(97860, 64)"
      ]
     },
     "execution_count": 120,
     "metadata": {},
     "output_type": "execute_result"
    }
   ],
   "source": [
    "descriptors.shape"
   ]
  },
  {
   "cell_type": "code",
   "execution_count": 121,
   "id": "2f18377d",
   "metadata": {},
   "outputs": [],
   "source": [
    "# Calculate the histogram of features\n",
    "# vq Assigns codes from a code book to observations.\n",
    "from scipy.cluster.vq import vq    \n",
    "test_features = np.zeros((len(image_paths), k), \"float32\")\n",
    "for i in range(len(image_paths)):\n",
    "    words, distance = vq(des_list[i][1],voc)\n",
    "    for w in words:\n",
    "        test_features[i][w] += 1"
   ]
  },
  {
   "cell_type": "code",
   "execution_count": 122,
   "id": "eaca1376",
   "metadata": {},
   "outputs": [
    {
     "data": {
      "text/plain": [
       "(122, 25)"
      ]
     },
     "execution_count": 122,
     "metadata": {},
     "output_type": "execute_result"
    }
   ],
   "source": [
    "test_features.shape"
   ]
  },
  {
   "cell_type": "code",
   "execution_count": 123,
   "id": "21784c88",
   "metadata": {},
   "outputs": [
    {
     "name": "stdout",
     "output_type": "stream",
     "text": [
      "true_class =['Aluminium', 'Aluminium', 'Aluminium', 'Aluminium', 'Aluminium', 'Aluminium', 'Aluminium', 'Aluminium', 'Aluminium', 'Battery', 'Battery', 'Battery', 'Battery', 'Battery', 'Battery', 'Battery', 'Battery', 'Battery', 'Battery', 'Cable and Wire', 'Cable and Wire', 'Cable and Wire', 'Cable and Wire', 'Cable and Wire', 'Cable and Wire', 'Cable and Wire', 'Cable and Wire', 'Cable and Wire', 'Cable and Wire', 'Cardboard and Paper', 'Cardboard and Paper', 'Cardboard and Paper', 'Cardboard and Paper', 'Cardboard and Paper', 'Cardboard and Paper', 'Cardboard and Paper', 'Cardboard and Paper', 'Cardboard and Paper', 'Cardboard and Paper', 'Connector', 'Connector', 'Connector', 'Connector', 'Connector', 'Connector', 'Connector', 'Connector', 'Connector', 'Copper', 'Copper', 'Copper', 'Copper', 'Copper', 'Copper', 'Copper', 'Copper', 'Copper', 'Copper', 'Copper', 'Iron', 'Iron', 'Iron', 'Iron', 'Iron', 'Iron', 'Iron', 'Iron', 'Iron', 'Iron', 'Magnetic Tape', 'Magnetic Tape', 'Magnetic Tape', 'Magnetic Tape', 'Magnetic Tape', 'Magnetic Tape', 'Magnetic Tape', 'Magnetic Tape', 'Magnetic Tape', 'Magnetic Tape', 'Printed Circuit Board', 'Printed Circuit Board', 'Printed Circuit Board', 'Printed Circuit Board', 'Printed Circuit Board', 'Printed Circuit Board', 'Printed Circuit Board', 'Printed Circuit Board', 'Printed Circuit Board', 'Printed Circuit Board', 'Printed Circuit Board', 'Printed Circuit Board', 'Printed Circuit Board', 'Printed Circuit Board', 'Printed Circuit Board', 'Printer Ribbon and Toner', 'Printer Ribbon and Toner', 'Printer Ribbon and Toner', 'Printer Ribbon and Toner', 'Printer Ribbon and Toner', 'Printer Ribbon and Toner', 'Printer Ribbon and Toner', 'Printer Ribbon and Toner', 'Tube and Screen', 'Tube and Screen', 'Tube and Screen', 'Tube and Screen', 'Tube and Screen', 'Tube and Screen', 'Tube and Screen', 'Tube and Screen', 'Tube and Screen', 'Tube and Screen', 'Water Pump', 'Water Pump', 'Water Pump', 'Water Pump', 'Water Pump', 'Water Pump', 'Water Pump', 'Water Pump', 'Water Pump', 'Water Pump']\n",
      "prediction =['Aluminium', 'Tube and Screen', 'Copper', 'Water Pump', 'Water Pump', 'Water Pump', 'Iron', 'Connector', 'Water Pump', 'Printed Circuit Board', 'Printer Ribbon and Toner', 'Water Pump', 'Tube and Screen', 'Printer Ribbon and Toner', 'Connector', 'Iron', 'Cable and Wire', 'Printed Circuit Board', 'Cardboard and Paper', 'Cardboard and Paper', 'Tube and Screen', 'Printed Circuit Board', 'Water Pump', 'Battery', 'Cardboard and Paper', 'Printed Circuit Board', 'Cable and Wire', 'Cardboard and Paper', 'Connector', 'Connector', 'Cardboard and Paper', 'Connector', 'Cardboard and Paper', 'Iron', 'Battery', 'Cable and Wire', 'Cardboard and Paper', 'Cardboard and Paper', 'Aluminium', 'Connector', 'Cardboard and Paper', 'Water Pump', 'Magnetic Tape', 'Connector', 'Battery', 'Magnetic Tape', 'Connector', 'Connector', 'Printed Circuit Board', 'Printed Circuit Board', 'Printed Circuit Board', 'Connector', 'Printed Circuit Board', 'Printer Ribbon and Toner', 'Connector', 'Connector', 'Copper', 'Printed Circuit Board', 'Printed Circuit Board', 'Iron', 'Cardboard and Paper', 'Cardboard and Paper', 'Cardboard and Paper', 'Cardboard and Paper', 'Printed Circuit Board', 'Battery', 'Battery', 'Printed Circuit Board', 'Printed Circuit Board', 'Iron', 'Iron', 'Copper', 'Magnetic Tape', 'Magnetic Tape', 'Magnetic Tape', 'Magnetic Tape', 'Connector', 'Magnetic Tape', 'Magnetic Tape', 'Printed Circuit Board', 'Printed Circuit Board', 'Printed Circuit Board', 'Printed Circuit Board', 'Printed Circuit Board', 'Iron', 'Printed Circuit Board', 'Printed Circuit Board', 'Printer Ribbon and Toner', 'Printed Circuit Board', 'Printed Circuit Board', 'Printed Circuit Board', 'Printed Circuit Board', 'Printed Circuit Board', 'Printed Circuit Board', 'Magnetic Tape', 'Printer Ribbon and Toner', 'Water Pump', 'Printed Circuit Board', 'Printed Circuit Board', 'Connector', 'Connector', 'Printed Circuit Board', 'Tube and Screen', 'Magnetic Tape', 'Connector', 'Iron', 'Tube and Screen', 'Water Pump', 'Cardboard and Paper', 'Tube and Screen', 'Connector', 'Magnetic Tape', 'Cardboard and Paper', 'Battery', 'Iron', 'Battery', 'Battery', 'Battery', 'Water Pump', 'Water Pump', 'Iron', 'Iron']\n"
     ]
    }
   ],
   "source": [
    "# Scale the features\n",
    "# Standardize features by removing the mean and scaling to unit variance\n",
    "# Scaler (stdSlr comes from the pickled file we imported)\n",
    "test_features = stdSlr.transform(test_features)\n",
    "\n",
    "#######Until here most of the above code is similar to Train except for kmeans clustering####\n",
    "\n",
    "# Report true class names so they can be compared with predicted classes\n",
    "true_class =  [classes_names[i] for i in image_classes]\n",
    "# Perform the predictions and report predicted class names. \n",
    "predictions =  [classes_names[i] for i in clf.predict(test_features)]\n",
    "\n",
    "# Print the true class and Predictions \n",
    "print (\"true_class =\"  + str(true_class))\n",
    "print (\"prediction =\"  + str(predictions))"
   ]
  },
  {
   "cell_type": "code",
   "execution_count": 124,
   "id": "916a8a54",
   "metadata": {},
   "outputs": [
    {
     "data": {
      "text/plain": [
       "122"
      ]
     },
     "execution_count": 124,
     "metadata": {},
     "output_type": "execute_result"
    }
   ],
   "source": [
    "len(predictions)"
   ]
  },
  {
   "cell_type": "code",
   "execution_count": 125,
   "id": "0787a38b",
   "metadata": {},
   "outputs": [
    {
     "name": "stdout",
     "output_type": "stream",
     "text": [
      "accuracy =  0.30327868852459017\n"
     ]
    }
   ],
   "source": [
    "# To make it easy to understand the accuracy let us print the confusion matrix\n",
    "\n",
    "def showconfusionmatrix(cm):\n",
    "    pl.matshow(cm)\n",
    "    pl.title('Confusion matrix')\n",
    "    pl.colorbar()\n",
    "    pl.show()\n",
    "\n",
    "\n",
    "accuracy = accuracy_score(true_class, predictions)\n",
    "print (\"accuracy = \", accuracy)\n",
    "cm = confusion_matrix(true_class, predictions, labels=classes_names)\n",
    "#print (cm)\n",
    "#showconfusionmatrix(cm)"
   ]
  },
  {
   "cell_type": "code",
   "execution_count": 126,
   "id": "30d97695",
   "metadata": {},
   "outputs": [
    {
     "data": {
      "image/png": "[encoded data removed]",
      "text/plain": [
       "<Figure size 432x288 with 2 Axes>"
      ]
     },
     "metadata": {
      "needs_background": "light"
     },
     "output_type": "display_data"
    }
   ],
   "source": [
    "disp = ConfusionMatrixDisplay(confusion_matrix=cm, display_labels=classes_names)\n",
    "disp.plot(xticks_rotation = 'vertical')\n",
    "plt.show()"
   ]
  },
  {
   "cell_type": "markdown",
   "id": "215413f1",
   "metadata": {},
   "source": [
    "## Accuracy per Class "
   ]
  },
  {
   "cell_type": "code",
   "execution_count": 127,
   "id": "8a8d890a",
   "metadata": {},
   "outputs": [
    {
     "data": {
      "text/plain": [
       "array([0.11111111, 0.        , 0.1       , 0.4       , 0.44444444,\n",
       "       0.09090909, 0.1       , 0.6       , 0.86666667, 0.125     ,\n",
       "       0.3       , 0.2       ])"
      ]
     },
     "execution_count": 127,
     "metadata": {},
     "output_type": "execute_result"
    }
   ],
   "source": [
    "cm_norm = cm.astype('float') / cm.sum(axis=1)[:, np.newaxis]\n",
    "cm_norm.diagonal()"
   ]
  },
  {
   "cell_type": "code",
   "execution_count": 131,
   "id": "5462a075",
   "metadata": {},
   "outputs": [
    {
     "data": {
      "text/plain": [
       "{'Aluminium': 0.11,\n",
       " 'Battery': 0.0,\n",
       " 'Cable and Wire': 0.1,\n",
       " 'Cardboard and Paper': 0.4,\n",
       " 'Connector': 0.44,\n",
       " 'Copper': 0.09,\n",
       " 'Iron': 0.1,\n",
       " 'Magnetic Tape': 0.6,\n",
       " 'Printed Circuit Board': 0.87,\n",
       " 'Printer Ribbon and Toner': 0.12,\n",
       " 'Tube and Screen': 0.3,\n",
       " 'Water Pump': 0.2}"
      ]
     },
     "execution_count": 131,
     "metadata": {},
     "output_type": "execute_result"
    }
   ],
   "source": [
    "dict_accuracies = {}\n",
    "\n",
    "for i, class_name in zip(cm_norm.diagonal(), classes_names):\n",
    "    dict_accuracies[class_name] = round(i,2)\n",
    "\n",
    "\n",
    "names = list(dict_accuracies.keys())\n",
    "values = list(dict_accuracies.values())\n",
    "\n",
    "dict_accuracies"
   ]
  },
  {
   "cell_type": "code",
   "execution_count": 132,
   "id": "1a61d393",
   "metadata": {},
   "outputs": [
    {
     "data": {
      "image/png": "[encoded data removed]",
      "text/plain": [
       "<Figure size 432x288 with 1 Axes>"
      ]
     },
     "metadata": {
      "needs_background": "light"
     },
     "output_type": "display_data"
    }
   ],
   "source": [
    "norm = plt.Normalize(0, max(cm_norm.diagonal()))\n",
    "colors = plt.cm.Purples(norm(cm_norm.diagonal()))\n",
    "\n",
    "plt.bar(range(len(dict_accuracies)), values, tick_label=names, color=colors)\n",
    "\n",
    "plt.xticks(rotation = 90)\n",
    "plt.ylim(top=1)\n",
    "plt.show()"
   ]
  },
  {
   "cell_type": "markdown",
   "id": "70caa3f2",
   "metadata": {},
   "source": [
    "# GLCM Haralick Features"
   ]
  },
  {
   "cell_type": "code",
   "execution_count": 133,
   "id": "af703d5d",
   "metadata": {},
   "outputs": [],
   "source": [
    "# Load the classifier, class names, scaler, number of clusters and vocabulary \n",
    "# from stored pickle file (generated during training)\n",
    "clf, classes_names, stdSlr, k, voc = jb.load(\"bovw_segmented_balanced_glcm_rf.pkl\")"
   ]
  },
  {
   "cell_type": "code",
   "execution_count": 134,
   "id": "249396bf",
   "metadata": {},
   "outputs": [
    {
     "data": {
      "text/plain": [
       "(RandomForestClassifier(criterion='entropy', max_depth=50, min_samples_split=30,\n",
       "                        n_estimators=50, random_state=0),\n",
       " ['Aluminium',\n",
       "  'Battery',\n",
       "  'Cable and Wire',\n",
       "  'Cardboard and Paper',\n",
       "  'Connector',\n",
       "  'Copper',\n",
       "  'Iron',\n",
       "  'Magnetic Tape',\n",
       "  'Printed Circuit Board',\n",
       "  'Printer Ribbon and Toner',\n",
       "  'Tube and Screen',\n",
       "  'Water Pump'],\n",
       " StandardScaler(),\n",
       " 25,\n",
       " array([[ 3.31321874e-01,  1.08701471e+02,  9.91728170e-01,\n",
       "          6.54913436e+03,  6.88865518e-01,  3.88223325e+02,\n",
       "          2.60878360e+04,  4.57860624e+00,  6.20993041e+00,\n",
       "          1.63562455e-03,  2.50103107e+00, -4.96146165e-01,\n",
       "          9.84996447e-01],\n",
       "        [ 4.41369543e-01,  5.63519888e+01,  9.93238015e-01,\n",
       "          4.16981630e+03,  7.79657786e-01,  4.30981296e+02,\n",
       "          1.66229132e+04,  3.61133370e+00,  4.71150139e+00,\n",
       "          2.12011693e-03,  1.87958081e+00, -5.49874214e-01,\n",
       "          9.77117619e-01],\n",
       "        [ 6.21246377e-01,  3.13136153e+01,  9.92510852e-01,\n",
       "          2.09911856e+03,  8.77694047e-01,  4.71357258e+02,\n",
       "          8.36516061e+03,  2.35473791e+00,  2.95516748e+00,\n",
       "          2.79033662e-03,  1.20311519e+00, -5.95995906e-01,\n",
       "          9.41440544e-01],\n",
       "        [ 4.77883411e-01,  5.53561571e+01,  9.91245477e-01,\n",
       "          3.15633899e+03,  7.93454807e-01,  4.38379994e+02,\n",
       "          1.25699998e+04,  3.44741833e+00,  4.51024313e+00,\n",
       "          2.25083832e-03,  1.81490608e+00, -5.51033689e-01,\n",
       "          9.75930096e-01],\n",
       "        [ 2.73712340e-01,  8.75339298e+01,  9.95084541e-01,\n",
       "          8.91237808e+03,  6.67044340e-01,  3.50060685e+02,\n",
       "          3.55619784e+04,  4.79948040e+00,  6.45456862e+00,\n",
       "          1.45760501e-03,  2.57250989e+00, -4.96035367e-01,\n",
       "          9.91480239e-01],\n",
       "        [ 4.14231152e-01,  7.07234576e+01,  9.91120125e-01,\n",
       "          3.97738016e+03,  7.60845854e-01,  4.17858047e+02,\n",
       "          1.58387972e+04,  3.78324434e+00,  4.99543784e+00,\n",
       "          2.04741231e-03,  2.00004926e+00, -5.29939853e-01,\n",
       "          9.77655696e-01],\n",
       "        [ 4.29140788e-01,  7.59546487e+01,  9.91499215e-01,\n",
       "          4.45673497e+03,  7.73021012e-01,  4.25200112e+02,\n",
       "          1.77509852e+04,  3.72881056e+00,  4.88840455e+00,\n",
       "          2.08067649e-03,  1.94842556e+00, -5.40137802e-01,\n",
       "          9.77704639e-01],\n",
       "        [ 4.32230526e-01,  5.02026473e+01,  9.92772045e-01,\n",
       "          3.46648972e+03,  8.11982515e-01,  4.28571861e+02,\n",
       "          1.38157562e+04,  3.43810854e+00,  4.38296626e+00,\n",
       "          2.28084535e-03,  1.66807051e+00, -5.58563964e-01,\n",
       "          9.67030726e-01],\n",
       "        [ 5.23409527e-01,  3.35128774e+01,  9.89476243e-01,\n",
       "          1.52673973e+03,  8.52997862e-01,  4.22909335e+02,\n",
       "          6.07344603e+03,  2.87466440e+00,  3.58832130e+00,\n",
       "          3.01334689e-03,  1.33852713e+00, -6.04818310e-01,\n",
       "          9.52521634e-01],\n",
       "        [ 4.31036555e-01,  4.52406293e+01,  9.92133051e-01,\n",
       "          2.86965509e+03,  7.97778873e-01,  4.08928551e+02,\n",
       "          1.14333797e+04,  3.65555179e+00,  4.65695195e+00,\n",
       "          2.36965686e-03,  1.73779218e+00, -5.69086787e-01,\n",
       "          9.77640535e-01],\n",
       "        [ 6.34255964e-01,  5.22276913e+01,  9.91381497e-01,\n",
       "          3.02568690e+03,  8.76213005e-01,  4.60769046e+02,\n",
       "          1.20505199e+04,  2.33085376e+00,  2.93239957e+00,\n",
       "          2.79950564e-03,  1.21590933e+00, -5.92284267e-01,\n",
       "          9.31173250e-01],\n",
       "        [ 4.60781454e-01,  2.33417735e+01,  9.83434928e-01,\n",
       "          6.59016169e+02,  8.53046939e-01,  3.35126240e+02,\n",
       "          2.61272290e+03,  3.04502777e+00,  3.77163154e+00,\n",
       "          4.74072205e-03,  1.33722586e+00, -6.12909226e-01,\n",
       "          9.77867389e-01],\n",
       "        [ 4.99164406e-01,  4.31234533e+01,  9.93455955e-01,\n",
       "          3.29701918e+03,  8.49536197e-01,  4.43645457e+02,\n",
       "          1.31449533e+04,  3.08089903e+00,  3.83564850e+00,\n",
       "          2.57037170e-03,  1.41703838e+00, -6.09812059e-01,\n",
       "          9.69300628e-01],\n",
       "        [ 3.79911927e-01,  7.78455628e+01,  9.93638395e-01,\n",
       "          6.11921732e+03,  7.36205633e-01,  3.98346521e+02,\n",
       "          2.43990237e+04,  4.09320374e+00,  5.41499487e+00,\n",
       "          1.86868812e-03,  2.14876132e+00, -5.28660222e-01,\n",
       "          9.81427145e-01],\n",
       "        [ 5.18841298e-01,  6.69290424e+01,  9.90661901e-01,\n",
       "          3.56670358e+03,  8.07490458e-01,  4.50206482e+02,\n",
       "          1.41998853e+04,  3.15970391e+00,  4.14925177e+00,\n",
       "          2.33780106e-03,  1.73242645e+00, -5.44054352e-01,\n",
       "          9.64548633e-01],\n",
       "        [ 4.72878418e-01,  8.24025050e+01,  9.84028285e-01,\n",
       "          2.57758641e+03,  8.03922739e-01,  4.38515848e+02,\n",
       "          1.02279431e+04,  3.39583581e+00,  4.42239801e+00,\n",
       "          2.33511798e-03,  1.75352421e+00, -5.49841443e-01,\n",
       "          9.66555259e-01],\n",
       "        [ 3.56359085e-01,  1.10005113e+02,  9.92821590e-01,\n",
       "          7.67634395e+03,  7.19027894e-01,  3.78408608e+02,\n",
       "          3.05953707e+04,  4.20906087e+00,  5.64503201e+00,\n",
       "          1.78196265e-03,  2.29289591e+00, -5.17092013e-01,\n",
       "          9.85852831e-01],\n",
       "        [ 2.47740564e-01,  1.17150543e+02,  9.94404031e-01,\n",
       "          1.04514499e+04,  6.66921359e-01,  3.27259595e+02,\n",
       "          4.16886491e+04,  4.90047028e+00,  6.58822117e+00,\n",
       "          1.43687271e-03,  2.64741450e+00, -4.94627326e-01,\n",
       "          9.92382925e-01],\n",
       "        [ 3.44982515e-01,  9.18560146e+01,  9.93532755e-01,\n",
       "          7.07057615e+03,  7.14145120e-01,  3.82341597e+02,\n",
       "          2.81904486e+04,  4.32109412e+00,  5.76953912e+00,\n",
       "          1.74173971e-03,  2.31478943e+00, -5.13722211e-01,\n",
       "          9.84072344e-01],\n",
       "        [ 3.33498366e-01,  1.01569829e+02,  9.91236549e-01,\n",
       "          5.77192586e+03,  6.95080505e-01,  3.96998036e+02,\n",
       "          2.29861336e+04,  4.49774700e+00,  6.07987447e+00,\n",
       "          1.65077301e-03,  2.46246877e+00, -4.99168516e-01,\n",
       "          9.85544877e-01],\n",
       "        [ 3.55080853e-01,  8.13566403e+01,  9.92439574e-01,\n",
       "          5.37149792e+03,  7.22604860e-01,  4.01333821e+02,\n",
       "          2.14046350e+04,  4.32644498e+00,  5.76005765e+00,\n",
       "          1.78337570e-03,  2.26148687e+00, -5.22495637e-01,\n",
       "          9.85518303e-01],\n",
       "        [ 2.88513973e-01,  1.11441962e+02,  9.93259505e-01,\n",
       "          8.26301814e+03,  6.84815083e-01,  3.64421878e+02,\n",
       "          3.29406306e+04,  4.78267796e+00,  6.40847975e+00,\n",
       "          1.56719465e-03,  2.53936497e+00, -5.08309224e-01,\n",
       "          9.90849999e-01],\n",
       "        [ 4.47550318e-01,  5.63251406e+01,  9.92517605e-01,\n",
       "          3.76596468e+03,  7.78428489e-01,  4.32673419e+02,\n",
       "          1.50075336e+04,  3.60287592e+00,  4.73096238e+00,\n",
       "          2.11712695e-03,  1.89463461e+00, -5.42789713e-01,\n",
       "          9.76464555e-01],\n",
       "        [ 3.69847807e-01,  1.29463154e+02,  9.87384607e-01,\n",
       "          5.09315494e+03,  7.22569123e-01,  4.07801623e+02,\n",
       "          2.02431566e+04,  4.20540972e+00,  5.68385338e+00,\n",
       "          1.81263512e-03,  2.33275722e+00, -4.96074252e-01,\n",
       "          9.77833669e-01],\n",
       "        [ 4.14955879e-01,  7.17122148e+01,  9.92458879e-01,\n",
       "          4.75602021e+03,  7.62233584e-01,  4.18736630e+02,\n",
       "          1.89523686e+04,  3.88941438e+00,  5.09068987e+00,\n",
       "          2.02149813e-03,  1.98900904e+00, -5.44137677e-01,\n",
       "          9.80759845e-01]]))"
      ]
     },
     "execution_count": 134,
     "metadata": {},
     "output_type": "execute_result"
    }
   ],
   "source": [
    "clf, classes_names, stdSlr, k, voc"
   ]
  },
  {
   "cell_type": "code",
   "execution_count": 135,
   "id": "7f35ee04",
   "metadata": {},
   "outputs": [],
   "source": [
    "# Get the path of the testing image(s) and store them in a list\n",
    "test_path = './waste_images/test_segmented_balanced'  "
   ]
  },
  {
   "cell_type": "code",
   "execution_count": 136,
   "id": "40dd72d2",
   "metadata": {},
   "outputs": [],
   "source": [
    "testing_names = os.listdir(test_path)\n",
    "\n",
    "# Get path to all images and save them in a list\n",
    "# image_paths and the corresponding label in image_paths\n",
    "image_paths = []\n",
    "image_classes = []\n",
    "class_id = 0\n",
    "\n",
    "#To make it easy to list all file names in a directory let us define a function\n",
    "def imglist(path):\n",
    "    return [os.path.join(path, f) for f in os.listdir(path)]\n",
    "\n",
    "#Fill the placeholder empty lists with image path, classes, and add class ID number\n",
    "for testing_name in testing_names:\n",
    "    dir = os.path.join(test_path, testing_name)\n",
    "    class_path = imglist(dir)\n",
    "    image_paths+=class_path\n",
    "    image_classes+=[class_id]*len(class_path)\n",
    "    class_id+=1"
   ]
  },
  {
   "cell_type": "code",
   "execution_count": 137,
   "id": "ea046ccf",
   "metadata": {},
   "outputs": [
    {
     "data": {
      "text/plain": [
       "['./waste_images/test_segmented_balanced\\\\Aluminium\\\\Aluminium17_segmented.JPG',\n",
       " './waste_images/test_segmented_balanced\\\\Aluminium\\\\Aluminium49_segmented.JPG',\n",
       " './waste_images/test_segmented_balanced\\\\Aluminium\\\\Aluminium55_segmented.JPG',\n",
       " './waste_images/test_segmented_balanced\\\\Aluminium\\\\Aluminium57_segmented.JPG',\n",
       " './waste_images/test_segmented_balanced\\\\Aluminium\\\\Aluminium5_segmented.JPG',\n",
       " './waste_images/test_segmented_balanced\\\\Aluminium\\\\Aluminium63_segmented.JPG',\n",
       " './waste_images/test_segmented_balanced\\\\Aluminium\\\\Aluminium70_segmented.JPG',\n",
       " './waste_images/test_segmented_balanced\\\\Aluminium\\\\Aluminium83_segmented.JPG',\n",
       " './waste_images/test_segmented_balanced\\\\Aluminium\\\\Aluminium85_segmented.JPG',\n",
       " './waste_images/test_segmented_balanced\\\\Battery\\\\Battery100_segmented.JPG']"
      ]
     },
     "execution_count": 137,
     "metadata": {},
     "output_type": "execute_result"
    }
   ],
   "source": [
    "image_paths[:10]"
   ]
  },
  {
   "cell_type": "code",
   "execution_count": 138,
   "id": "017dfba1",
   "metadata": {},
   "outputs": [
    {
     "data": {
      "text/plain": [
       "array([ 0,  1,  2,  3,  4,  5,  6,  7,  8,  9, 10, 11])"
      ]
     },
     "execution_count": 138,
     "metadata": {},
     "output_type": "execute_result"
    }
   ],
   "source": [
    "np.unique(image_classes)"
   ]
  },
  {
   "cell_type": "code",
   "execution_count": 139,
   "id": "3fb427be",
   "metadata": {},
   "outputs": [],
   "source": [
    "# Create List where all the descriptors will be stored\n",
    "des_list = []"
   ]
  },
  {
   "cell_type": "code",
   "execution_count": 140,
   "id": "59d41570",
   "metadata": {},
   "outputs": [],
   "source": [
    "def extract_glcm_features(image):\n",
    "        \n",
    "    # Calculate haralick texture features for 4 types of adjacency\n",
    "    textures = mt.features.haralick(image)\n",
    "\n",
    "    # Return the mean\n",
    "    #ht_mean = textures.mean(axis=0)\n",
    "    #return ht_mean\n",
    "        \n",
    "    return textures"
   ]
  },
  {
   "cell_type": "code",
   "execution_count": 141,
   "id": "1bc2eb58",
   "metadata": {},
   "outputs": [],
   "source": [
    "for image_path in image_paths:\n",
    "    im = cv2.imread(image_path)\n",
    "    gray_img = cv2.cvtColor(im, cv2.COLOR_BGR2GRAY) # Convert the image to grayscale\n",
    "    des = extract_glcm_features(gray_img)\n",
    "    des_list.append((image_path, des)) "
   ]
  },
  {
   "cell_type": "code",
   "execution_count": 142,
   "id": "913c51db",
   "metadata": {},
   "outputs": [],
   "source": [
    "# Stack all the descriptors vertically in a numpy array\n",
    "descriptors = des_list[0][1]\n",
    "for image_path, descriptor in des_list[0:]:\n",
    "    descriptors = np.vstack((descriptors, descriptor)) "
   ]
  },
  {
   "cell_type": "code",
   "execution_count": 143,
   "id": "1a4c100f",
   "metadata": {},
   "outputs": [
    {
     "data": {
      "text/plain": [
       "array([[  0.25541848,  53.46811424,   0.99400251, ...,   2.55347476,\n",
       "         -0.49449156,   0.99391223],\n",
       "       [  0.25134064, 103.11209778,   0.98843892, ...,   3.01946635,\n",
       "         -0.41484841,   0.9876471 ],\n",
       "       [  0.25472432,  50.81886091,   0.99430029, ...,   2.50270948,\n",
       "         -0.50561515,   0.99449909],\n",
       "       ...,\n",
       "       [  0.50293593,  83.52911158,   0.99182081, ...,   1.63066619,\n",
       "         -0.58836343,   0.98330702],\n",
       "       [  0.50716007,  30.42705506,   0.99701781, ...,   1.42502179,\n",
       "         -0.6339306 ,   0.98715315],\n",
       "       [  0.50357787,  55.07210183,   0.99460732, ...,   1.58863054,\n",
       "         -0.59535617,   0.98397505]])"
      ]
     },
     "execution_count": 143,
     "metadata": {},
     "output_type": "execute_result"
    }
   ],
   "source": [
    "descriptors"
   ]
  },
  {
   "cell_type": "code",
   "execution_count": 144,
   "id": "742db1c3",
   "metadata": {},
   "outputs": [],
   "source": [
    "# Calculate the histogram of features\n",
    "# vq Assigns codes from a code book to observations. \n",
    "test_features = np.zeros((len(image_paths), k), \"float32\")\n",
    "for i in range(len(image_paths)):\n",
    "    words, distance = vq(des_list[i][1],voc)\n",
    "    for w in words:\n",
    "        test_features[i][w] += 1"
   ]
  },
  {
   "cell_type": "code",
   "execution_count": 145,
   "id": "51c3a54c",
   "metadata": {},
   "outputs": [
    {
     "data": {
      "text/plain": [
       "array([0., 1., 3., 4.], dtype=float32)"
      ]
     },
     "execution_count": 145,
     "metadata": {},
     "output_type": "execute_result"
    }
   ],
   "source": [
    "np.unique(test_features)"
   ]
  },
  {
   "cell_type": "code",
   "execution_count": 146,
   "id": "c0bd4c28",
   "metadata": {},
   "outputs": [
    {
     "name": "stdout",
     "output_type": "stream",
     "text": [
      "true_class =['Aluminium', 'Aluminium', 'Aluminium', 'Aluminium', 'Aluminium', 'Aluminium', 'Aluminium', 'Aluminium', 'Aluminium', 'Battery', 'Battery', 'Battery', 'Battery', 'Battery', 'Battery', 'Battery', 'Battery', 'Battery', 'Battery', 'Cable and Wire', 'Cable and Wire', 'Cable and Wire', 'Cable and Wire', 'Cable and Wire', 'Cable and Wire', 'Cable and Wire', 'Cable and Wire', 'Cable and Wire', 'Cable and Wire', 'Cardboard and Paper', 'Cardboard and Paper', 'Cardboard and Paper', 'Cardboard and Paper', 'Cardboard and Paper', 'Cardboard and Paper', 'Cardboard and Paper', 'Cardboard and Paper', 'Cardboard and Paper', 'Cardboard and Paper', 'Connector', 'Connector', 'Connector', 'Connector', 'Connector', 'Connector', 'Connector', 'Connector', 'Connector', 'Copper', 'Copper', 'Copper', 'Copper', 'Copper', 'Copper', 'Copper', 'Copper', 'Copper', 'Copper', 'Copper', 'Iron', 'Iron', 'Iron', 'Iron', 'Iron', 'Iron', 'Iron', 'Iron', 'Iron', 'Iron', 'Magnetic Tape', 'Magnetic Tape', 'Magnetic Tape', 'Magnetic Tape', 'Magnetic Tape', 'Magnetic Tape', 'Magnetic Tape', 'Magnetic Tape', 'Magnetic Tape', 'Magnetic Tape', 'Printed Circuit Board', 'Printed Circuit Board', 'Printed Circuit Board', 'Printed Circuit Board', 'Printed Circuit Board', 'Printed Circuit Board', 'Printed Circuit Board', 'Printed Circuit Board', 'Printed Circuit Board', 'Printed Circuit Board', 'Printed Circuit Board', 'Printed Circuit Board', 'Printed Circuit Board', 'Printed Circuit Board', 'Printed Circuit Board', 'Printer Ribbon and Toner', 'Printer Ribbon and Toner', 'Printer Ribbon and Toner', 'Printer Ribbon and Toner', 'Printer Ribbon and Toner', 'Printer Ribbon and Toner', 'Printer Ribbon and Toner', 'Printer Ribbon and Toner', 'Tube and Screen', 'Tube and Screen', 'Tube and Screen', 'Tube and Screen', 'Tube and Screen', 'Tube and Screen', 'Tube and Screen', 'Tube and Screen', 'Tube and Screen', 'Tube and Screen', 'Water Pump', 'Water Pump', 'Water Pump', 'Water Pump', 'Water Pump', 'Water Pump', 'Water Pump', 'Water Pump', 'Water Pump', 'Water Pump']\n",
      "prediction =['Copper', 'Water Pump', 'Aluminium', 'Iron', 'Aluminium', 'Copper', 'Iron', 'Connector', 'Printed Circuit Board', 'Copper', 'Printer Ribbon and Toner', 'Aluminium', 'Iron', 'Magnetic Tape', 'Printed Circuit Board', 'Copper', 'Water Pump', 'Connector', 'Cardboard and Paper', 'Aluminium', 'Aluminium', 'Copper', 'Magnetic Tape', 'Water Pump', 'Copper', 'Magnetic Tape', 'Iron', 'Iron', 'Magnetic Tape', 'Printed Circuit Board', 'Aluminium', 'Connector', 'Water Pump', 'Cardboard and Paper', 'Cardboard and Paper', 'Cardboard and Paper', 'Iron', 'Cardboard and Paper', 'Tube and Screen', 'Water Pump', 'Iron', 'Printed Circuit Board', 'Magnetic Tape', 'Magnetic Tape', 'Cardboard and Paper', 'Iron', 'Magnetic Tape', 'Tube and Screen', 'Connector', 'Printed Circuit Board', 'Copper', 'Water Pump', 'Printed Circuit Board', 'Copper', 'Cardboard and Paper', 'Aluminium', 'Printed Circuit Board', 'Printed Circuit Board', 'Connector', 'Printed Circuit Board', 'Aluminium', 'Cardboard and Paper', 'Cardboard and Paper', 'Aluminium', 'Aluminium', 'Tube and Screen', 'Tube and Screen', 'Tube and Screen', 'Tube and Screen', 'Cardboard and Paper', 'Cardboard and Paper', 'Cardboard and Paper', 'Printer Ribbon and Toner', 'Aluminium', 'Printer Ribbon and Toner', 'Printer Ribbon and Toner', 'Printer Ribbon and Toner', 'Tube and Screen', 'Printed Circuit Board', 'Copper', 'Tube and Screen', 'Water Pump', 'Magnetic Tape', 'Printed Circuit Board', 'Printed Circuit Board', 'Water Pump', 'Magnetic Tape', 'Aluminium', 'Water Pump', 'Printed Circuit Board', 'Tube and Screen', 'Water Pump', 'Connector', 'Aluminium', 'Copper', 'Connector', 'Printer Ribbon and Toner', 'Copper', 'Printed Circuit Board', 'Tube and Screen', 'Copper', 'Printed Circuit Board', 'Printed Circuit Board', 'Printed Circuit Board', 'Magnetic Tape', 'Copper', 'Printed Circuit Board', 'Printed Circuit Board', 'Printed Circuit Board', 'Printed Circuit Board', 'Iron', 'Tube and Screen', 'Copper', 'Iron', 'Iron', 'Connector', 'Iron', 'Printed Circuit Board', 'Tube and Screen', 'Connector', 'Printed Circuit Board', 'Printed Circuit Board']\n"
     ]
    }
   ],
   "source": [
    "# Scale the features\n",
    "# Standardize features by removing the mean and scaling to unit variance\n",
    "# Scaler (stdSlr comes from the pickled file we imported)\n",
    "test_features = stdSlr.transform(test_features)\n",
    "\n",
    "#######Until here most of the above code is similar to Train except for kmeans clustering####\n",
    "\n",
    "# Report true class names so they can be compared with predicted classes\n",
    "true_class =  [classes_names[i] for i in image_classes]\n",
    "# Perform the predictions and report predicted class names. \n",
    "predictions =  [classes_names[i] for i in clf.predict(test_features)]\n",
    "\n",
    "\n",
    "# Print the true class and Predictions \n",
    "print (\"true_class =\"  + str(true_class))\n",
    "print (\"prediction =\"  + str(predictions))"
   ]
  },
  {
   "cell_type": "code",
   "execution_count": 147,
   "id": "b953a0b3",
   "metadata": {},
   "outputs": [
    {
     "name": "stdout",
     "output_type": "stream",
     "text": [
      "accuracy =  0.10655737704918032\n"
     ]
    }
   ],
   "source": [
    "# To make it easy to understand the accuracy let us print the confusion matrix\n",
    "\n",
    "def showconfusionmatrix(cm):\n",
    "    pl.matshow(cm)\n",
    "    pl.title('Confusion matrix')\n",
    "    pl.colorbar()\n",
    "    pl.show()\n",
    "\n",
    "\n",
    "accuracy = accuracy_score(true_class, predictions)\n",
    "print (\"accuracy = \", accuracy)\n",
    "cm = confusion_matrix(true_class, predictions, labels=classes_names)\n",
    "#print (cm)\n",
    "#showconfusionmatrix(cm)"
   ]
  },
  {
   "cell_type": "code",
   "execution_count": 148,
   "id": "f4df08bd",
   "metadata": {},
   "outputs": [
    {
     "data": {
      "image/png": "[encoded data removed]",
      "text/plain": [
       "<Figure size 432x288 with 2 Axes>"
      ]
     },
     "metadata": {
      "needs_background": "light"
     },
     "output_type": "display_data"
    }
   ],
   "source": [
    "disp = ConfusionMatrixDisplay(confusion_matrix=cm, display_labels=classes_names)\n",
    "disp.plot(xticks_rotation = 'vertical')\n",
    "plt.show()"
   ]
  },
  {
   "cell_type": "markdown",
   "id": "3b4b01a3",
   "metadata": {},
   "source": [
    "## Accuracy per Class "
   ]
  },
  {
   "cell_type": "code",
   "execution_count": 149,
   "id": "83147f43",
   "metadata": {},
   "outputs": [
    {
     "data": {
      "text/plain": [
       "array([0.22222222, 0.        , 0.        , 0.4       , 0.        ,\n",
       "       0.18181818, 0.        , 0.        , 0.2       , 0.125     ,\n",
       "       0.1       , 0.        ])"
      ]
     },
     "execution_count": 149,
     "metadata": {},
     "output_type": "execute_result"
    }
   ],
   "source": [
    "cm_norm = cm.astype('float') / cm.sum(axis=1)[:, np.newaxis]\n",
    "cm_norm.diagonal()"
   ]
  },
  {
   "cell_type": "code",
   "execution_count": 151,
   "id": "82293c5b",
   "metadata": {},
   "outputs": [
    {
     "data": {
      "text/plain": [
       "{'Aluminium': 0.22,\n",
       " 'Battery': 0.0,\n",
       " 'Cable and Wire': 0.0,\n",
       " 'Cardboard and Paper': 0.4,\n",
       " 'Connector': 0.0,\n",
       " 'Copper': 0.18,\n",
       " 'Iron': 0.0,\n",
       " 'Magnetic Tape': 0.0,\n",
       " 'Printed Circuit Board': 0.2,\n",
       " 'Printer Ribbon and Toner': 0.12,\n",
       " 'Tube and Screen': 0.1,\n",
       " 'Water Pump': 0.0}"
      ]
     },
     "execution_count": 151,
     "metadata": {},
     "output_type": "execute_result"
    }
   ],
   "source": [
    "dict_accuracies = {}\n",
    "\n",
    "for i, class_name in zip(cm_norm.diagonal(), classes_names):\n",
    "    dict_accuracies[class_name] = round(i,2)\n",
    "\n",
    "\n",
    "names = list(dict_accuracies.keys())\n",
    "values = list(dict_accuracies.values())\n",
    "\n",
    "dict_accuracies"
   ]
  },
  {
   "cell_type": "code",
   "execution_count": 152,
   "id": "911095df",
   "metadata": {},
   "outputs": [
    {
     "data": {
      "image/png": "[encoded data removed]",
      "text/plain": [
       "<Figure size 432x288 with 1 Axes>"
      ]
     },
     "metadata": {
      "needs_background": "light"
     },
     "output_type": "display_data"
    }
   ],
   "source": [
    "norm = plt.Normalize(0, max(cm_norm.diagonal()))\n",
    "colors = plt.cm.Purples(norm(cm_norm.diagonal()))\n",
    "\n",
    "plt.bar(range(len(dict_accuracies)), values, tick_label=names, color=colors)\n",
    "\n",
    "plt.xticks(rotation = 90)\n",
    "plt.ylim(top=1)\n",
    "plt.show()"
   ]
  },
  {
   "cell_type": "markdown",
   "id": "088cf28c",
   "metadata": {},
   "source": [
    "# LBP - Local Binary Patterns"
   ]
  },
  {
   "cell_type": "code",
   "execution_count": 153,
   "id": "c5ec5bd2",
   "metadata": {},
   "outputs": [],
   "source": [
    "# Load the classifier, class names, scaler, number of clusters and vocabulary \n",
    "# from stored pickle file (generated during training)\n",
    "clf, classes_names, stdSlr, k, voc = jb.load(\"bovw_segmented_balanced_lbp_xgboost.pkl\")"
   ]
  },
  {
   "cell_type": "code",
   "execution_count": 154,
   "id": "e5b25414",
   "metadata": {},
   "outputs": [
    {
     "data": {
      "text/plain": [
       "(XGBClassifier(base_score=0.5, booster='gbtree', callbacks=None,\n",
       "               colsample_bylevel=1, colsample_bynode=1, colsample_bytree=1,\n",
       "               early_stopping_rounds=None, enable_categorical=False,\n",
       "               eval_metric='auc', gamma=0, gpu_id=-1, grow_policy='depthwise',\n",
       "               importance_type=None, interaction_constraints='',\n",
       "               learning_rate=0.300000012, max_bin=256, max_cat_to_onehot=4,\n",
       "               max_delta_step=0, max_depth=6, max_leaves=0, min_child_weight=1,\n",
       "               missing=nan, monotone_constraints='()', n_estimators=100,\n",
       "               n_jobs=0, num_parallel_tree=1, objective='multi:softprob',\n",
       "               predictor='auto', random_state=0, reg_alpha=0, ...),\n",
       " ['Aluminium',\n",
       "  'Battery',\n",
       "  'Cable and Wire',\n",
       "  'Cardboard and Paper',\n",
       "  'Connector',\n",
       "  'Copper',\n",
       "  'Iron',\n",
       "  'Magnetic Tape',\n",
       "  'Printed Circuit Board',\n",
       "  'Printer Ribbon and Toner',\n",
       "  'Tube and Screen',\n",
       "  'Water Pump'],\n",
       " StandardScaler(),\n",
       " 25,\n",
       " array([[5.02226359, 7.9988364 , 7.99961213, ..., 7.62407881, 7.61391669,\n",
       "         4.84919711],\n",
       "        [5.00399869, 7.97443461, 7.97477548, ..., 7.97552278, 7.97882661,\n",
       "         5.01086857],\n",
       "        [4.68530504, 7.33740053, 7.35066313, ..., 7.98132626, 7.98450928,\n",
       "         4.99915119],\n",
       "        ...,\n",
       "        [4.99777514, 7.99347375, 7.99199051, ..., 7.98375853, 7.98457431,\n",
       "         4.99755265],\n",
       "        [4.582127  , 7.16357846, 7.1671492 , ..., 6.64311909, 6.68133565,\n",
       "         4.38785949],\n",
       "        [4.9503647 , 7.64828322, 7.65913539, ..., 7.11901797, 7.11421455,\n",
       "         4.67336773]]))"
      ]
     },
     "execution_count": 154,
     "metadata": {},
     "output_type": "execute_result"
    }
   ],
   "source": [
    "clf, classes_names, stdSlr, k, voc"
   ]
  },
  {
   "cell_type": "code",
   "execution_count": 155,
   "id": "839a6775",
   "metadata": {},
   "outputs": [
    {
     "data": {
      "text/plain": [
       "(17, 640)"
      ]
     },
     "execution_count": 155,
     "metadata": {},
     "output_type": "execute_result"
    }
   ],
   "source": [
    "voc.shape"
   ]
  },
  {
   "cell_type": "code",
   "execution_count": 156,
   "id": "c376d298",
   "metadata": {},
   "outputs": [],
   "source": [
    "# Get the path of the testing image(s) and store them in a list\n",
    "test_path = './waste_images/test_segmented_balanced'"
   ]
  },
  {
   "cell_type": "code",
   "execution_count": 157,
   "id": "881d8d1a",
   "metadata": {},
   "outputs": [],
   "source": [
    "testing_names = os.listdir(test_path)"
   ]
  },
  {
   "cell_type": "code",
   "execution_count": 158,
   "id": "57891579",
   "metadata": {},
   "outputs": [],
   "source": [
    "# Get path to all images and save them in a list\n",
    "# image_paths and the corresponding label in image_paths\n",
    "image_paths = []\n",
    "image_classes = []\n",
    "class_id = 0\n",
    "\n",
    "#To make it easy to list all file names in a directory let us define a function\n",
    "def imglist(path):\n",
    "    return [os.path.join(path, f) for f in os.listdir(path)]\n",
    "\n",
    "#Fill the placeholder empty lists with image path, classes, and add class ID number\n",
    "\n",
    "for testing_name in testing_names:\n",
    "    dir = os.path.join(test_path, testing_name)\n",
    "    class_path = imglist(dir)\n",
    "    image_paths+=class_path\n",
    "    image_classes+=[class_id]*len(class_path)\n",
    "    class_id+=1"
   ]
  },
  {
   "cell_type": "code",
   "execution_count": 159,
   "id": "9aabb4fd",
   "metadata": {},
   "outputs": [
    {
     "data": {
      "text/plain": [
       "['./waste_images/test_segmented_balanced\\\\Aluminium\\\\Aluminium17_segmented.JPG',\n",
       " './waste_images/test_segmented_balanced\\\\Aluminium\\\\Aluminium49_segmented.JPG',\n",
       " './waste_images/test_segmented_balanced\\\\Aluminium\\\\Aluminium55_segmented.JPG',\n",
       " './waste_images/test_segmented_balanced\\\\Aluminium\\\\Aluminium57_segmented.JPG',\n",
       " './waste_images/test_segmented_balanced\\\\Aluminium\\\\Aluminium5_segmented.JPG',\n",
       " './waste_images/test_segmented_balanced\\\\Aluminium\\\\Aluminium63_segmented.JPG',\n",
       " './waste_images/test_segmented_balanced\\\\Aluminium\\\\Aluminium70_segmented.JPG',\n",
       " './waste_images/test_segmented_balanced\\\\Aluminium\\\\Aluminium83_segmented.JPG',\n",
       " './waste_images/test_segmented_balanced\\\\Aluminium\\\\Aluminium85_segmented.JPG',\n",
       " './waste_images/test_segmented_balanced\\\\Battery\\\\Battery100_segmented.JPG']"
      ]
     },
     "execution_count": 159,
     "metadata": {},
     "output_type": "execute_result"
    }
   ],
   "source": [
    "image_paths[:10]"
   ]
  },
  {
   "cell_type": "code",
   "execution_count": 160,
   "id": "3f846204",
   "metadata": {},
   "outputs": [
    {
     "data": {
      "text/plain": [
       "array([ 0,  1,  2,  3,  4,  5,  6,  7,  8,  9, 10, 11])"
      ]
     },
     "execution_count": 160,
     "metadata": {},
     "output_type": "execute_result"
    }
   ],
   "source": [
    "np.unique(image_classes)"
   ]
  },
  {
   "cell_type": "code",
   "execution_count": 161,
   "id": "f767e1a2",
   "metadata": {},
   "outputs": [],
   "source": [
    "# Create list where all the descriptors will be stored\n",
    "des_list = []"
   ]
  },
  {
   "cell_type": "code",
   "execution_count": 162,
   "id": "21b381f6",
   "metadata": {},
   "outputs": [],
   "source": [
    "def extract_lbp_features(img, radius=1, sampling_pixels=8):\n",
    "    \n",
    "    # LBP operates in single channel images so if RGB images are provided\n",
    "    # we have to convert it to grayscale\n",
    "    if (len(img.shape) > 2):\n",
    "        img = img.astype(float)\n",
    "        # RGB to grayscale convertion using Luminance\n",
    "        img = img[:,:,0]*0.3 + img[:,:,1]*0.59 + img[:,:,2]*0.11\n",
    "\n",
    "    # converting to uint8 type for 256 graylevels\n",
    "    img = img.astype(np.uint8)\n",
    "    \n",
    "    # normalize values can also help improving description\n",
    "    i_min = np.min(img)\n",
    "    i_max = np.max(img)\n",
    "    if (i_max - i_min != 0):\n",
    "        img = (img - i_min)/(i_max-i_min)\n",
    "    \n",
    "    # compute LBP\n",
    "    lbp = feature.local_binary_pattern(img, sampling_pixels, radius, method=\"uniform\")\n",
    "    \n",
    "    '''\n",
    "    # LBP returns a matrix with the codes, so we compute the histogram\n",
    "    (hist, _) = np.histogram(lbp.ravel(), bins=np.arange(0, sampling_pixels + 3), range=(0, sampling_pixels + 2))\n",
    "\n",
    "    # normalization\n",
    "    hist = hist.astype(\"float\")\n",
    "    hist /= (hist.sum() + 1e-6)\n",
    "    # return the histogram of Local Binary Patterns\n",
    "    return hist\n",
    "    '''\n",
    "    \n",
    "    return lbp"
   ]
  },
  {
   "cell_type": "code",
   "execution_count": 163,
   "id": "d6b1b9a4",
   "metadata": {},
   "outputs": [],
   "source": [
    "for image_path in image_paths:\n",
    "    im = cv2.imread(image_path)\n",
    "    #gray_img = cv2.cvtColor(im, cv2.COLOR_BGR2GRAY) # Convert the image to grayscale\n",
    "    des = extract_lbp_features(im)\n",
    "    des_list.append((image_path, des)) "
   ]
  },
  {
   "cell_type": "code",
   "execution_count": 164,
   "id": "fcbf5e8d",
   "metadata": {},
   "outputs": [
    {
     "data": {
      "text/plain": [
       "122"
      ]
     },
     "execution_count": 164,
     "metadata": {},
     "output_type": "execute_result"
    }
   ],
   "source": [
    "len(des_list)"
   ]
  },
  {
   "cell_type": "code",
   "execution_count": 165,
   "id": "e04b39c0",
   "metadata": {},
   "outputs": [],
   "source": [
    "removal_list = []\n",
    "\n",
    "for image_path, descriptor in des_list[1:]:\n",
    "    if (descriptor.shape[1] != (640)):\n",
    "        #print(image_path, descriptor.shape)\n",
    "        removal_list.append(image_path)"
   ]
  },
  {
   "cell_type": "code",
   "execution_count": 166,
   "id": "083df424",
   "metadata": {},
   "outputs": [
    {
     "data": {
      "text/plain": [
       "['./waste_images/test_segmented_balanced\\\\Cable and Wire\\\\Cable and Wire106_segmented.JPG',\n",
       " './waste_images/test_segmented_balanced\\\\Copper\\\\Copper28_segmented.JPG',\n",
       " './waste_images/test_segmented_balanced\\\\Copper\\\\Copper5_segmented.JPG',\n",
       " './waste_images/test_segmented_balanced\\\\Printed Circuit Board\\\\Printed Circuit Board130_segmented.JPG',\n",
       " './waste_images/test_segmented_balanced\\\\Printer Ribbon and Toner\\\\Printer Ribbon and Toner38_segmented.JPG']"
      ]
     },
     "execution_count": 166,
     "metadata": {},
     "output_type": "execute_result"
    }
   ],
   "source": [
    "removal_list"
   ]
  },
  {
   "cell_type": "code",
   "execution_count": 169,
   "id": "a276dcbc",
   "metadata": {},
   "outputs": [],
   "source": [
    "# Stack all the descriptors vertically in a numpy array\n",
    "descriptors = des_list[0][1]\n",
    "for image_path, descriptor in des_list[1:]:\n",
    "    if image_path not in removal_list:\n",
    "        #print(image_path)\n",
    "        descriptors = np.vstack((descriptors, descriptor))"
   ]
  },
  {
   "cell_type": "code",
   "execution_count": 170,
   "id": "16b2a7c9",
   "metadata": {},
   "outputs": [
    {
     "data": {
      "text/plain": [
       "array([[3., 5., 5., ..., 5., 5., 3.],\n",
       "       [5., 8., 8., ..., 8., 8., 5.],\n",
       "       [5., 8., 8., ..., 8., 8., 5.],\n",
       "       ...,\n",
       "       [5., 8., 8., ..., 8., 8., 5.],\n",
       "       [5., 8., 8., ..., 8., 8., 5.],\n",
       "       [3., 5., 5., ..., 5., 5., 3.]])"
      ]
     },
     "execution_count": 170,
     "metadata": {},
     "output_type": "execute_result"
    }
   ],
   "source": [
    "descriptors"
   ]
  },
  {
   "cell_type": "code",
   "execution_count": 171,
   "id": "412b7652",
   "metadata": {},
   "outputs": [],
   "source": [
    "adjusted_des_list = []\n",
    "\n",
    "for item in des_list:\n",
    "    if item[0] not in removal_list:\n",
    "        #print(item[0])\n",
    "        adjusted_des_list.append(item)"
   ]
  },
  {
   "cell_type": "code",
   "execution_count": 172,
   "id": "e34464c6",
   "metadata": {},
   "outputs": [
    {
     "data": {
      "text/plain": [
       "117"
      ]
     },
     "execution_count": 172,
     "metadata": {},
     "output_type": "execute_result"
    }
   ],
   "source": [
    "len(adjusted_des_list)"
   ]
  },
  {
   "cell_type": "code",
   "execution_count": 173,
   "id": "e0386ae3",
   "metadata": {},
   "outputs": [
    {
     "data": {
      "text/plain": [
       "(5, 122)"
      ]
     },
     "execution_count": 173,
     "metadata": {},
     "output_type": "execute_result"
    }
   ],
   "source": [
    "len(removal_list), len(image_paths)"
   ]
  },
  {
   "cell_type": "code",
   "execution_count": 174,
   "id": "b0b74722",
   "metadata": {},
   "outputs": [],
   "source": [
    "def list_difference(b, a):\n",
    "    c = list(b)\n",
    "    for item in a:\n",
    "        try:\n",
    "            c.remove(item)\n",
    "        except ValueError:\n",
    "            pass            #or maybe you want to keep a values here\n",
    "    return c"
   ]
  },
  {
   "cell_type": "code",
   "execution_count": 175,
   "id": "3cc89de2",
   "metadata": {},
   "outputs": [
    {
     "data": {
      "text/plain": [
       "117"
      ]
     },
     "execution_count": 175,
     "metadata": {},
     "output_type": "execute_result"
    }
   ],
   "source": [
    "adjusted_image_paths = list_difference(image_paths, removal_list)\n",
    "len(adjusted_image_paths)"
   ]
  },
  {
   "cell_type": "code",
   "execution_count": 176,
   "id": "19dd23fd",
   "metadata": {},
   "outputs": [],
   "source": [
    "# Calculate the histogram of features and represent them as vector\n",
    "# vq assigns codes from a code book to observations\n",
    "\n",
    "test_features = np.zeros((len(adjusted_image_paths), k), \"float32\")\n",
    "\n",
    "for i in range(len(adjusted_image_paths)):\n",
    "    words, distance = vq(adjusted_des_list[i][1],voc)\n",
    "    for w in words:\n",
    "        test_features[i][w] += 1"
   ]
  },
  {
   "cell_type": "code",
   "execution_count": 177,
   "id": "0f98b4a4",
   "metadata": {},
   "outputs": [
    {
     "data": {
      "text/plain": [
       "array([  0.,   1.,   2.,   3.,   4.,   5.,   6.,   7.,   8.,   9.,  10.,\n",
       "        11.,  12.,  13.,  14.,  15.,  16.,  17.,  18.,  19.,  20.,  21.,\n",
       "        22.,  23.,  24.,  25.,  26.,  27.,  28.,  29.,  30.,  31.,  32.,\n",
       "        33.,  34.,  35.,  36.,  37.,  38.,  39.,  40.,  41.,  42.,  43.,\n",
       "        44.,  45.,  46.,  47.,  48.,  49.,  50.,  51.,  52.,  54.,  55.,\n",
       "        56.,  57.,  58.,  59.,  60.,  61.,  62.,  63.,  65.,  66.,  68.,\n",
       "        69.,  70.,  72.,  73.,  74.,  75.,  76.,  77.,  78.,  79.,  80.,\n",
       "        81.,  82.,  83.,  84.,  85.,  86.,  87.,  88.,  89.,  93.,  94.,\n",
       "        95.,  96.,  97.,  98.,  99., 100., 101., 102., 103., 104., 105.,\n",
       "       106., 107., 109., 110., 111., 113., 114., 115., 116., 117., 118.,\n",
       "       119., 120., 121., 122., 124., 125., 126., 127., 128., 129., 131.,\n",
       "       132., 133., 134., 135., 138., 139., 141., 142., 143., 146., 148.,\n",
       "       150., 151., 152., 153., 155., 156., 157., 159., 160., 161., 162.,\n",
       "       163., 164., 166., 168., 170., 171., 172., 173., 174., 176., 177.,\n",
       "       178., 182., 184., 186., 187., 189., 190., 191., 194., 197., 199.,\n",
       "       200., 201., 202., 203., 208., 210., 213., 214., 215., 216., 217.,\n",
       "       218., 222., 223., 224., 225., 227., 231., 232., 233., 235., 240.,\n",
       "       245., 246., 249., 251., 262., 263., 265., 273., 278., 295., 300.,\n",
       "       302., 306., 307., 310., 311., 314., 315., 317., 318., 321., 326.,\n",
       "       357.], dtype=float32)"
      ]
     },
     "execution_count": 177,
     "metadata": {},
     "output_type": "execute_result"
    }
   ],
   "source": [
    "np.unique(test_features)"
   ]
  },
  {
   "cell_type": "code",
   "execution_count": 178,
   "id": "991dc561",
   "metadata": {},
   "outputs": [
    {
     "data": {
      "text/plain": [
       "['Aluminium',\n",
       " 'Battery',\n",
       " 'Cable and Wire',\n",
       " 'Cardboard and Paper',\n",
       " 'Connector',\n",
       " 'Copper',\n",
       " 'Iron',\n",
       " 'Magnetic Tape',\n",
       " 'Printed Circuit Board',\n",
       " 'Printer Ribbon and Toner',\n",
       " 'Tube and Screen',\n",
       " 'Water Pump']"
      ]
     },
     "execution_count": 178,
     "metadata": {},
     "output_type": "execute_result"
    }
   ],
   "source": [
    "labels_classes = {'Aluminium':0, 'Battery':1, 'Cable and Wire':2, 'Cardboard and Paper':3, 'Connector':4,\n",
    "                'Copper':5, 'Iron':6, 'Magnetic Tape':7, 'Printed Circuit Board':8, \n",
    "                'Printer Ribbon and Toner':9, 'Tube and Screen':10, 'Water Pump':11}\n",
    "\n",
    "list(labels_classes.keys())"
   ]
  },
  {
   "cell_type": "code",
   "execution_count": 179,
   "id": "a399b95b",
   "metadata": {},
   "outputs": [],
   "source": [
    "classesToRemove = []\n",
    "\n",
    "for key in labels_classes:\n",
    "    for string in removal_list:\n",
    "        if key in string:\n",
    "            #print(labels_classes[key])\n",
    "            classesToRemove.append(labels_classes[key])"
   ]
  },
  {
   "cell_type": "code",
   "execution_count": 180,
   "id": "03c6be13",
   "metadata": {},
   "outputs": [
    {
     "data": {
      "text/plain": [
       "[2, 5, 5, 8, 9]"
      ]
     },
     "execution_count": 180,
     "metadata": {},
     "output_type": "execute_result"
    }
   ],
   "source": [
    "classesToRemove"
   ]
  },
  {
   "cell_type": "code",
   "execution_count": 181,
   "id": "5ef87fdc",
   "metadata": {},
   "outputs": [],
   "source": [
    "adjusted_image_classes = list_difference(image_classes, classesToRemove)"
   ]
  },
  {
   "cell_type": "code",
   "execution_count": 182,
   "id": "bb01194a",
   "metadata": {},
   "outputs": [
    {
     "data": {
      "text/plain": [
       "117"
      ]
     },
     "execution_count": 182,
     "metadata": {},
     "output_type": "execute_result"
    }
   ],
   "source": [
    "len(adjusted_image_classes)"
   ]
  },
  {
   "cell_type": "code",
   "execution_count": 183,
   "id": "dd793938",
   "metadata": {},
   "outputs": [
    {
     "name": "stdout",
     "output_type": "stream",
     "text": [
      "true_class =['Aluminium', 'Aluminium', 'Aluminium', 'Aluminium', 'Aluminium', 'Aluminium', 'Aluminium', 'Aluminium', 'Aluminium', 'Battery', 'Battery', 'Battery', 'Battery', 'Battery', 'Battery', 'Battery', 'Battery', 'Battery', 'Battery', 'Cable and Wire', 'Cable and Wire', 'Cable and Wire', 'Cable and Wire', 'Cable and Wire', 'Cable and Wire', 'Cable and Wire', 'Cable and Wire', 'Cable and Wire', 'Cardboard and Paper', 'Cardboard and Paper', 'Cardboard and Paper', 'Cardboard and Paper', 'Cardboard and Paper', 'Cardboard and Paper', 'Cardboard and Paper', 'Cardboard and Paper', 'Cardboard and Paper', 'Cardboard and Paper', 'Connector', 'Connector', 'Connector', 'Connector', 'Connector', 'Connector', 'Connector', 'Connector', 'Connector', 'Copper', 'Copper', 'Copper', 'Copper', 'Copper', 'Copper', 'Copper', 'Copper', 'Copper', 'Iron', 'Iron', 'Iron', 'Iron', 'Iron', 'Iron', 'Iron', 'Iron', 'Iron', 'Iron', 'Magnetic Tape', 'Magnetic Tape', 'Magnetic Tape', 'Magnetic Tape', 'Magnetic Tape', 'Magnetic Tape', 'Magnetic Tape', 'Magnetic Tape', 'Magnetic Tape', 'Magnetic Tape', 'Printed Circuit Board', 'Printed Circuit Board', 'Printed Circuit Board', 'Printed Circuit Board', 'Printed Circuit Board', 'Printed Circuit Board', 'Printed Circuit Board', 'Printed Circuit Board', 'Printed Circuit Board', 'Printed Circuit Board', 'Printed Circuit Board', 'Printed Circuit Board', 'Printed Circuit Board', 'Printed Circuit Board', 'Printer Ribbon and Toner', 'Printer Ribbon and Toner', 'Printer Ribbon and Toner', 'Printer Ribbon and Toner', 'Printer Ribbon and Toner', 'Printer Ribbon and Toner', 'Printer Ribbon and Toner', 'Tube and Screen', 'Tube and Screen', 'Tube and Screen', 'Tube and Screen', 'Tube and Screen', 'Tube and Screen', 'Tube and Screen', 'Tube and Screen', 'Tube and Screen', 'Tube and Screen', 'Water Pump', 'Water Pump', 'Water Pump', 'Water Pump', 'Water Pump', 'Water Pump', 'Water Pump', 'Water Pump', 'Water Pump', 'Water Pump']\n",
      "prediction =['Printed Circuit Board', 'Printed Circuit Board', 'Aluminium', 'Aluminium', 'Printer Ribbon and Toner', 'Iron', 'Aluminium', 'Printed Circuit Board', 'Aluminium', 'Copper', 'Printer Ribbon and Toner', 'Cable and Wire', 'Connector', 'Battery', 'Printed Circuit Board', 'Cable and Wire', 'Copper', 'Connector', 'Magnetic Tape', 'Aluminium', 'Water Pump', 'Aluminium', 'Tube and Screen', 'Printed Circuit Board', 'Copper', 'Battery', 'Cardboard and Paper', 'Printer Ribbon and Toner', 'Printed Circuit Board', 'Battery', 'Copper', 'Cardboard and Paper', 'Cardboard and Paper', 'Cable and Wire', 'Copper', 'Cardboard and Paper', 'Connector', 'Cardboard and Paper', 'Cardboard and Paper', 'Tube and Screen', 'Magnetic Tape', 'Copper', 'Connector', 'Iron', 'Printed Circuit Board', 'Cable and Wire', 'Cable and Wire', 'Battery', 'Printed Circuit Board', 'Cable and Wire', 'Printed Circuit Board', 'Copper', 'Printer Ribbon and Toner', 'Printed Circuit Board', 'Copper', 'Tube and Screen', 'Tube and Screen', 'Connector', 'Cable and Wire', 'Water Pump', 'Connector', 'Iron', 'Iron', 'Iron', 'Tube and Screen', 'Copper', 'Cable and Wire', 'Cardboard and Paper', 'Copper', 'Printed Circuit Board', 'Printed Circuit Board', 'Water Pump', 'Printed Circuit Board', 'Printed Circuit Board', 'Copper', 'Copper', 'Printed Circuit Board', 'Printed Circuit Board', 'Printed Circuit Board', 'Tube and Screen', 'Cardboard and Paper', 'Tube and Screen', 'Cable and Wire', 'Water Pump', 'Iron', 'Cardboard and Paper', 'Printed Circuit Board', 'Connector', 'Magnetic Tape', 'Cardboard and Paper', 'Printed Circuit Board', 'Printed Circuit Board', 'Printed Circuit Board', 'Iron', 'Cable and Wire', 'Printed Circuit Board', 'Aluminium', 'Tube and Screen', 'Aluminium', 'Battery', 'Aluminium', 'Printed Circuit Board', 'Cardboard and Paper', 'Tube and Screen', 'Cardboard and Paper', 'Battery', 'Copper', 'Tube and Screen', 'Tube and Screen', 'Battery', 'Iron', 'Iron', 'Iron', 'Printer Ribbon and Toner', 'Tube and Screen', 'Water Pump', 'Water Pump']\n"
     ]
    }
   ],
   "source": [
    "# Scale the features\n",
    "# Standardize features by removing the mean and scaling to unit variance\n",
    "# Scaler (stdSlr comes from the pickled file we imported)\n",
    "test_features = stdSlr.transform(test_features)\n",
    "\n",
    "#######Until here most of the above code is similar to Train except for kmeans clustering####\n",
    "\n",
    "# Report true class names so they can be compared with predicted classes\n",
    "true_class =  [classes_names[i] for i in adjusted_image_classes]\n",
    "# Perform the predictions and report predicted class names. \n",
    "predictions =  [classes_names[i] for i in clf.predict(test_features)]\n",
    "\n",
    "\n",
    "# Print the true class and Predictions \n",
    "print (\"true_class =\"  + str(true_class))\n",
    "print (\"prediction =\"  + str(predictions))"
   ]
  },
  {
   "cell_type": "code",
   "execution_count": 184,
   "id": "1dfe7832",
   "metadata": {},
   "outputs": [
    {
     "name": "stdout",
     "output_type": "stream",
     "text": [
      "accuracy =  0.19658119658119658\n"
     ]
    }
   ],
   "source": [
    "# To make it easy to understand the accuracy let us print the confusion matrix\n",
    "\n",
    "def showconfusionmatrix(cm):\n",
    "    pl.matshow(cm)\n",
    "    pl.title('Confusion matrix')\n",
    "    pl.colorbar()\n",
    "    pl.show()\n",
    "\n",
    "\n",
    "accuracy = accuracy_score(true_class, predictions)\n",
    "print (\"accuracy = \", accuracy)\n",
    "cm = confusion_matrix(true_class, predictions, labels=classes_names)\n",
    "#print (cm)\n",
    "#showconfusionmatrix(cm)"
   ]
  },
  {
   "cell_type": "code",
   "execution_count": 185,
   "id": "1720f0f3",
   "metadata": {},
   "outputs": [
    {
     "data": {
      "image/png": "[encoded data removed]",
      "text/plain": [
       "<Figure size 432x288 with 2 Axes>"
      ]
     },
     "metadata": {
      "needs_background": "light"
     },
     "output_type": "display_data"
    }
   ],
   "source": [
    "disp = ConfusionMatrixDisplay(confusion_matrix=cm, display_labels=classes_names)\n",
    "disp.plot(xticks_rotation = 'vertical')\n",
    "plt.show()"
   ]
  },
  {
   "cell_type": "markdown",
   "id": "1f7001c6",
   "metadata": {},
   "source": [
    "## Accuracy per Class "
   ]
  },
  {
   "cell_type": "code",
   "execution_count": 186,
   "id": "1f170a30",
   "metadata": {},
   "outputs": [
    {
     "data": {
      "text/plain": [
       "array([0.44444444, 0.1       , 0.        , 0.4       , 0.11111111,\n",
       "       0.22222222, 0.3       , 0.        , 0.28571429, 0.        ,\n",
       "       0.2       , 0.2       ])"
      ]
     },
     "execution_count": 186,
     "metadata": {},
     "output_type": "execute_result"
    }
   ],
   "source": [
    "cm_norm = cm.astype('float') / cm.sum(axis=1)[:, np.newaxis]\n",
    "cm_norm.diagonal()"
   ]
  },
  {
   "cell_type": "code",
   "execution_count": 187,
   "id": "25161f64",
   "metadata": {},
   "outputs": [
    {
     "data": {
      "text/plain": [
       "{'Aluminium': 0.44,\n",
       " 'Battery': 0.1,\n",
       " 'Cable and Wire': 0.0,\n",
       " 'Cardboard and Paper': 0.4,\n",
       " 'Connector': 0.11,\n",
       " 'Copper': 0.22,\n",
       " 'Iron': 0.3,\n",
       " 'Magnetic Tape': 0.0,\n",
       " 'Printed Circuit Board': 0.29,\n",
       " 'Printer Ribbon and Toner': 0.0,\n",
       " 'Tube and Screen': 0.2,\n",
       " 'Water Pump': 0.2}"
      ]
     },
     "execution_count": 187,
     "metadata": {},
     "output_type": "execute_result"
    }
   ],
   "source": [
    "dict_accuracies = {}\n",
    "\n",
    "for i, class_name in zip(cm_norm.diagonal(), classes_names):\n",
    "    dict_accuracies[class_name] = round(i,2)\n",
    "    \n",
    "dict_accuracies"
   ]
  },
  {
   "cell_type": "code",
   "execution_count": 188,
   "id": "5b426849",
   "metadata": {},
   "outputs": [
    {
     "data": {
      "image/png": "[encoded data removed]",
      "text/plain": [
       "<Figure size 432x288 with 1 Axes>"
      ]
     },
     "metadata": {
      "needs_background": "light"
     },
     "output_type": "display_data"
    }
   ],
   "source": [
    "names = list(dict_accuracies.keys())\n",
    "values = list(dict_accuracies.values())\n",
    "\n",
    "\n",
    "norm = plt.Normalize(0, max(cm_norm.diagonal()))\n",
    "colors = plt.cm.Purples(norm(cm_norm.diagonal()))\n",
    "\n",
    "plt.bar(range(len(dict_accuracies)), values, tick_label=names, color=colors)\n",
    "\n",
    "plt.xticks(rotation = 90)\n",
    "plt.ylim(top=1)\n",
    "plt.show()"
   ]
  },
  {
   "cell_type": "markdown",
   "id": "005203f6",
   "metadata": {},
   "source": [
    "... interpretation ..."
   ]
  },
  {
   "cell_type": "code",
   "execution_count": null,
   "id": "81c093ab",
   "metadata": {},
   "outputs": [],
   "source": []
  },
  {
   "cell_type": "code",
   "execution_count": null,
   "id": "4de9177e",
   "metadata": {},
   "outputs": [],
   "source": []
  }
 ],
 "metadata": {
  "kernelspec": {
   "display_name": "Python 3",
   "language": "python",
   "name": "python3"
  },
  "language_info": {
   "codemirror_mode": {
    "name": "ipython",
    "version": 3
   },
   "file_extension": ".py",
   "mimetype": "text/x-python",
   "name": "python",
   "nbconvert_exporter": "python",
   "pygments_lexer": "ipython3",
   "version": "3.8.8"
  }
 },
 "nbformat": 4,
 "nbformat_minor": 5
}
