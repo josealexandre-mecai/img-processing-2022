{
 "cells": [
  {
   "cell_type": "code",
   "execution_count": 132,
   "id": "550060cd",
   "metadata": {},
   "outputs": [],
   "source": [
    "import cv2\n",
    "import numpy as np\n",
    "import os\n",
    "import pylab as pl\n",
    "from sklearn.metrics import confusion_matrix, accuracy_score, ConfusionMatrixDisplay\n",
    "\n",
    "import pandas as pd\n",
    "import seaborn as sn\n",
    "import matplotlib.pyplot as plt\n",
    "\n",
    "# Perform k-means clustering and vector quantization\n",
    "from scipy.cluster.vq import kmeans, vq\n",
    "\n",
    "from skimage.feature import greycomatrix, greycoprops\n",
    "import mahotas as mt # Mahotas library for GLCM calculation\n",
    "from skimage import feature # feature.local_binary_pattern for LBP calculation\n",
    "\n",
    "import joblib as jb"
   ]
  },
  {
   "cell_type": "markdown",
   "id": "73952529",
   "metadata": {},
   "source": [
    "# BRISK - Feature Point Detector"
   ]
  },
  {
   "cell_type": "code",
   "execution_count": 69,
   "id": "308fc3dd",
   "metadata": {},
   "outputs": [],
   "source": [
    "# Load the classifier, class names, scaler, number of clusters and vocabulary \n",
    "# from stored pickle file (generated during training)\n",
    "clf, classes_names, stdSlr, k, voc = jb.load(\"bovw_brisk_lg.pkl\")"
   ]
  },
  {
   "cell_type": "code",
   "execution_count": 70,
   "id": "ef53ab3b",
   "metadata": {},
   "outputs": [
    {
     "data": {
      "text/plain": [
       "(25, 64)"
      ]
     },
     "execution_count": 70,
     "metadata": {},
     "output_type": "execute_result"
    }
   ],
   "source": [
    "voc.shape"
   ]
  },
  {
   "cell_type": "code",
   "execution_count": 71,
   "id": "435ea861",
   "metadata": {},
   "outputs": [],
   "source": [
    "# Get the path of the testing image(s) and store them in a list\n",
    "test_path = './waste_images/test'"
   ]
  },
  {
   "cell_type": "code",
   "execution_count": 72,
   "id": "98fee947",
   "metadata": {},
   "outputs": [],
   "source": [
    "testing_names = os.listdir(test_path)\n",
    "\n",
    "# Get path to all images and save them in a list\n",
    "# image_paths and the corresponding label in image_paths\n",
    "image_paths = []\n",
    "image_classes = []\n",
    "class_id = 0\n",
    "\n",
    "#To make it easy to list all file names in a directory let us define a function\n",
    "def imglist(path):\n",
    "    return [os.path.join(path, f) for f in os.listdir(path)]\n",
    "\n",
    "#Fill the placeholder empty lists with image path, classes, and add class ID number\n",
    "\n",
    "for testing_name in testing_names:\n",
    "    dir = os.path.join(test_path, testing_name)\n",
    "    class_path = imglist(dir)\n",
    "    image_paths+=class_path\n",
    "    image_classes+=[class_id]*len(class_path)\n",
    "    class_id+=1\n",
    "    "
   ]
  },
  {
   "cell_type": "code",
   "execution_count": 73,
   "id": "b0de1330",
   "metadata": {},
   "outputs": [
    {
     "data": {
      "text/plain": [
       "['./waste_images/test\\\\Aluminium\\\\Aluminium17.JPG',\n",
       " './waste_images/test\\\\Aluminium\\\\Aluminium49.JPG',\n",
       " './waste_images/test\\\\Aluminium\\\\Aluminium5.JPG',\n",
       " './waste_images/test\\\\Aluminium\\\\Aluminium55.JPG',\n",
       " './waste_images/test\\\\Aluminium\\\\Aluminium57.JPG',\n",
       " './waste_images/test\\\\Aluminium\\\\Aluminium63.JPG',\n",
       " './waste_images/test\\\\Aluminium\\\\Aluminium70.JPG',\n",
       " './waste_images/test\\\\Aluminium\\\\Aluminium83.JPG',\n",
       " './waste_images/test\\\\Aluminium\\\\Aluminium85.JPG',\n",
       " './waste_images/test\\\\Battery\\\\Battery100.JPG']"
      ]
     },
     "execution_count": 73,
     "metadata": {},
     "output_type": "execute_result"
    }
   ],
   "source": [
    "image_paths[:10]"
   ]
  },
  {
   "cell_type": "code",
   "execution_count": 74,
   "id": "72504b7c",
   "metadata": {},
   "outputs": [
    {
     "data": {
      "text/plain": [
       "array([ 0,  1,  2,  3,  4,  5,  6,  7,  8,  9, 10, 11])"
      ]
     },
     "execution_count": 74,
     "metadata": {},
     "output_type": "execute_result"
    }
   ],
   "source": [
    "np.unique(image_classes)"
   ]
  },
  {
   "cell_type": "code",
   "execution_count": 75,
   "id": "3755afa5",
   "metadata": {},
   "outputs": [],
   "source": [
    "# Extract features with BRISK method \n",
    "# Create List where all the descriptors will be stored\n",
    "des_list = []\n",
    "\n",
    "# BRISK is a good replacement to SIFT. ORB also works but didn't work well for this example\n",
    "brisk = cv2.BRISK_create(30)\n",
    "\n",
    "for image_path in image_paths:\n",
    "    im = cv2.imread(image_path)\n",
    "    kpts, des = brisk.detectAndCompute(im, None)\n",
    "    des_list.append((image_path, des))"
   ]
  },
  {
   "cell_type": "code",
   "execution_count": 76,
   "id": "840a4f68",
   "metadata": {},
   "outputs": [
    {
     "data": {
      "text/plain": [
       "(1044, 64)"
      ]
     },
     "execution_count": 76,
     "metadata": {},
     "output_type": "execute_result"
    }
   ],
   "source": [
    "des_list[0][1].shape"
   ]
  },
  {
   "cell_type": "code",
   "execution_count": 77,
   "id": "dcf13f73",
   "metadata": {},
   "outputs": [],
   "source": [
    "# Stack all the descriptors vertically in a numpy array\n",
    "descriptors = des_list[0][1]\n",
    "for image_path, descriptor in des_list[0:]:\n",
    "    descriptors = np.vstack((descriptors, descriptor))"
   ]
  },
  {
   "cell_type": "code",
   "execution_count": 78,
   "id": "e2a84e32",
   "metadata": {},
   "outputs": [
    {
     "data": {
      "text/plain": [
       "(239242, 64)"
      ]
     },
     "execution_count": 78,
     "metadata": {},
     "output_type": "execute_result"
    }
   ],
   "source": [
    "descriptors.shape"
   ]
  },
  {
   "cell_type": "code",
   "execution_count": 79,
   "id": "aefc1d74",
   "metadata": {},
   "outputs": [],
   "source": [
    "# Calculate the histogram of features\n",
    "# vq Assigns codes from a code book to observations.\n",
    "from scipy.cluster.vq import vq    \n",
    "test_features = np.zeros((len(image_paths), k), \"float32\")\n",
    "for i in range(len(image_paths)):\n",
    "    words, distance = vq(des_list[i][1],voc)\n",
    "    for w in words:\n",
    "        test_features[i][w] += 1"
   ]
  },
  {
   "cell_type": "code",
   "execution_count": 80,
   "id": "99c3b90c",
   "metadata": {},
   "outputs": [
    {
     "data": {
      "text/plain": [
       "(139, 25)"
      ]
     },
     "execution_count": 80,
     "metadata": {},
     "output_type": "execute_result"
    }
   ],
   "source": [
    "test_features.shape"
   ]
  },
  {
   "cell_type": "code",
   "execution_count": 81,
   "id": "e12fa3b4",
   "metadata": {},
   "outputs": [],
   "source": [
    "# Scale the features\n",
    "# Standardize features by removing the mean and scaling to unit variance\n",
    "# Scaler (stdSlr comes from the pickled file we imported)\n",
    "test_features = stdSlr.transform(test_features)\n",
    "\n",
    "#######Until here most of the above code is similar to Train except for kmeans clustering####\n",
    "\n",
    "# Report true class names so they can be compared with predicted classes\n",
    "true_class =  [classes_names[i] for i in image_classes]\n",
    "# Perform the predictions and report predicted class names. \n",
    "predictions =  [classes_names[i] for i in clf.predict(test_features)]"
   ]
  },
  {
   "cell_type": "code",
   "execution_count": 82,
   "id": "a307bc25",
   "metadata": {},
   "outputs": [
    {
     "name": "stdout",
     "output_type": "stream",
     "text": [
      "accuracy =  0.381294964028777\n"
     ]
    }
   ],
   "source": [
    "# To make it easy to understand the accuracy let us print the confusion matrix\n",
    "\n",
    "def showconfusionmatrix(cm):\n",
    "    pl.matshow(cm)\n",
    "    pl.title('Confusion matrix')\n",
    "    pl.colorbar()\n",
    "    pl.show()\n",
    "\n",
    "\n",
    "accuracy = accuracy_score(true_class, predictions)\n",
    "print (\"accuracy = \", accuracy)\n",
    "cm = confusion_matrix(true_class, predictions, labels=classes_names)\n",
    "#print (cm)\n",
    "#showconfusionmatrix(cm)"
   ]
  },
  {
   "cell_type": "code",
   "execution_count": 83,
   "id": "857fcc27",
   "metadata": {},
   "outputs": [
    {
     "data": {
      "image/png": "[encoded data removed]",
      "text/plain": [
       "<Figure size 432x288 with 2 Axes>"
      ]
     },
     "metadata": {
      "needs_background": "light"
     },
     "output_type": "display_data"
    }
   ],
   "source": [
    "disp = ConfusionMatrixDisplay(confusion_matrix=cm, display_labels=classes_names)\n",
    "disp.plot(xticks_rotation = 'vertical')\n",
    "plt.show()"
   ]
  },
  {
   "cell_type": "markdown",
   "id": "13beb5c7",
   "metadata": {},
   "source": [
    "## Accuracy per Class"
   ]
  },
  {
   "cell_type": "code",
   "execution_count": 84,
   "id": "6aedc76b",
   "metadata": {},
   "outputs": [
    {
     "data": {
      "text/plain": [
       "array([0.33333333, 0.        , 0.3       , 0.3       , 0.        ,\n",
       "       0.09090909, 0.16666667, 0.        , 0.97619048, 0.        ,\n",
       "       0.1       , 0.        ])"
      ]
     },
     "execution_count": 84,
     "metadata": {},
     "output_type": "execute_result"
    }
   ],
   "source": [
    "cm_norm = cm.astype('float') / cm.sum(axis=1)[:, np.newaxis]\n",
    "cm_norm.diagonal()"
   ]
  },
  {
   "cell_type": "code",
   "execution_count": 85,
   "id": "f37d0f80",
   "metadata": {},
   "outputs": [
    {
     "data": {
      "text/plain": [
       "{'Aluminium': 0.33,\n",
       " 'Battery': 0.0,\n",
       " 'Cable and Wire': 0.3,\n",
       " 'Cardboard and Paper': 0.3,\n",
       " 'Connector': 0.0,\n",
       " 'Copper': 0.09,\n",
       " 'Iron': 0.17,\n",
       " 'Magnetic Tape': 0.0,\n",
       " 'Printed Circuit Board': 0.98,\n",
       " 'Printer Ribbon and Toner': 0.0,\n",
       " 'Tube and Screen': 0.1,\n",
       " 'Water Pump': 0.0}"
      ]
     },
     "execution_count": 85,
     "metadata": {},
     "output_type": "execute_result"
    }
   ],
   "source": [
    "dict_accuracies = {}\n",
    "\n",
    "for i, class_name in zip(cm_norm.diagonal(), classes_names):\n",
    "    dict_accuracies[class_name] = round(i,2)\n",
    "\n",
    "\n",
    "names = list(dict_accuracies.keys())\n",
    "values = list(dict_accuracies.values())\n",
    "\n",
    "dict_accuracies"
   ]
  },
  {
   "cell_type": "code",
   "execution_count": 86,
   "id": "b34b37e4",
   "metadata": {},
   "outputs": [
    {
     "data": {
      "image/png": "[encoded data removed]",
      "text/plain": [
       "<Figure size 432x288 with 1 Axes>"
      ]
     },
     "metadata": {
      "needs_background": "light"
     },
     "output_type": "display_data"
    }
   ],
   "source": [
    "norm = plt.Normalize(0, max(cm_norm.diagonal()))\n",
    "colors = plt.cm.Purples(norm(cm_norm.diagonal()))\n",
    "\n",
    "plt.bar(range(len(dict_accuracies)), values, tick_label=names, color=colors)\n",
    "\n",
    "plt.xticks(rotation = 90)\n",
    "plt.ylim(top=1)\n",
    "plt.show()"
   ]
  },
  {
   "cell_type": "code",
   "execution_count": 17,
   "id": "9eddd038",
   "metadata": {},
   "outputs": [
    {
     "data": {
      "text/plain": [
       "'\\n#For classification of unknown files we can print the predictions\\n#Print the Predictions \\nprint (\"Image =\", image_paths)\\nprint (\"prediction =\"  + str(predictions))\\n#np.transpose to save data into columns, otherwise saving as rows\\nnp.savetxt (\\'mydata.csv\\', np.transpose([image_paths, predictions]),fmt=\\'%s\\', delimiter=\\',\\', newline=\\'\\n\\')\\n'"
      ]
     },
     "execution_count": 17,
     "metadata": {},
     "output_type": "execute_result"
    }
   ],
   "source": [
    "'''\n",
    "#For classification of unknown files we can print the predictions\n",
    "#Print the Predictions \n",
    "print (\"Image =\", image_paths)\n",
    "print (\"prediction =\"  + str(predictions))\n",
    "#np.transpose to save data into columns, otherwise saving as rows\n",
    "np.savetxt ('mydata.csv', np.transpose([image_paths, predictions]),fmt='%s', delimiter=',', newline='\\n')\n",
    "'''"
   ]
  },
  {
   "cell_type": "markdown",
   "id": "f16b1400",
   "metadata": {},
   "source": [
    "# GLCM Haralick Features"
   ]
  },
  {
   "cell_type": "code",
   "execution_count": 133,
   "id": "1cf9ab4e",
   "metadata": {},
   "outputs": [],
   "source": [
    "# Load the classifier, class names, scaler, number of clusters and vocabulary \n",
    "# from stored pickle file (generated during training)\n",
    "clf, classes_names, stdSlr, k, voc = jb.load(\"bovw_glcm_svm.pkl\")"
   ]
  },
  {
   "cell_type": "code",
   "execution_count": 134,
   "id": "cb471694",
   "metadata": {},
   "outputs": [],
   "source": [
    "# Get the path of the testing image(s) and store them in a list\n",
    "test_path = './waste_images/test'"
   ]
  },
  {
   "cell_type": "code",
   "execution_count": 135,
   "id": "e6c680ce",
   "metadata": {},
   "outputs": [],
   "source": [
    "testing_names = os.listdir(test_path)\n",
    "\n",
    "# Get path to all images and save them in a list\n",
    "# image_paths and the corresponding label in image_paths\n",
    "image_paths = []\n",
    "image_classes = []\n",
    "class_id = 0\n",
    "\n",
    "#To make it easy to list all file names in a directory let us define a function\n",
    "def imglist(path):\n",
    "    return [os.path.join(path, f) for f in os.listdir(path)]\n",
    "\n",
    "#Fill the placeholder empty lists with image path, classes, and add class ID number\n",
    "\n",
    "for testing_name in testing_names:\n",
    "    dir = os.path.join(test_path, testing_name)\n",
    "    class_path = imglist(dir)\n",
    "    image_paths+=class_path\n",
    "    image_classes+=[class_id]*len(class_path)\n",
    "    class_id+=1"
   ]
  },
  {
   "cell_type": "code",
   "execution_count": 136,
   "id": "249619f5",
   "metadata": {},
   "outputs": [
    {
     "data": {
      "text/plain": [
       "array([ 0,  1,  2,  3,  4,  5,  6,  7,  8,  9, 10, 11])"
      ]
     },
     "execution_count": 136,
     "metadata": {},
     "output_type": "execute_result"
    }
   ],
   "source": [
    "np.unique(image_classes)"
   ]
  },
  {
   "cell_type": "code",
   "execution_count": 137,
   "id": "8c6286b2",
   "metadata": {},
   "outputs": [],
   "source": [
    "# Create List where all the descriptors will be stored\n",
    "des_list = []"
   ]
  },
  {
   "cell_type": "code",
   "execution_count": 138,
   "id": "482ff8c6",
   "metadata": {},
   "outputs": [],
   "source": [
    "def extract_glcm_features(image):\n",
    "        \n",
    "    # Calculate haralick texture features for 4 types of adjacency\n",
    "    textures = mt.features.haralick(image)\n",
    "\n",
    "    # Return the mean\n",
    "    #ht_mean = textures.mean(axis=0)\n",
    "    #return ht_mean\n",
    "        \n",
    "    return textures"
   ]
  },
  {
   "cell_type": "code",
   "execution_count": 139,
   "id": "b7a7e5da",
   "metadata": {},
   "outputs": [],
   "source": [
    "for image_path in image_paths:\n",
    "    im = cv2.imread(image_path)\n",
    "    gray_img = cv2.cvtColor(im, cv2.COLOR_BGR2GRAY) # Convert the image to grayscale\n",
    "    des = extract_glcm_features(gray_img)\n",
    "    des_list.append((image_path, des))"
   ]
  },
  {
   "cell_type": "code",
   "execution_count": 140,
   "id": "d1c2c0e4",
   "metadata": {},
   "outputs": [],
   "source": [
    "# Stack all the descriptors vertically in a numpy array\n",
    "descriptors = des_list[0][1]\n",
    "for image_path, descriptor in des_list[0:]:\n",
    "    descriptors = np.vstack((descriptors, descriptor)) "
   ]
  },
  {
   "cell_type": "code",
   "execution_count": 141,
   "id": "edfa3aab",
   "metadata": {},
   "outputs": [],
   "source": [
    "# Calculate the histogram of features\n",
    "# vq Assigns codes from a code book to observations. \n",
    "test_features = np.zeros((len(image_paths), k), \"float32\")\n",
    "for i in range(len(image_paths)):\n",
    "    words, distance = vq(des_list[i][1],voc)\n",
    "    for w in words:\n",
    "        test_features[i][w] += 1"
   ]
  },
  {
   "cell_type": "code",
   "execution_count": 142,
   "id": "a8e8db74",
   "metadata": {},
   "outputs": [
    {
     "data": {
      "text/plain": [
       "array([0., 1., 2., 3., 4.], dtype=float32)"
      ]
     },
     "execution_count": 142,
     "metadata": {},
     "output_type": "execute_result"
    }
   ],
   "source": [
    "np.unique(test_features)"
   ]
  },
  {
   "cell_type": "code",
   "execution_count": 143,
   "id": "6b2ed3ff",
   "metadata": {},
   "outputs": [],
   "source": [
    "# Scale the features\n",
    "# Standardize features by removing the mean and scaling to unit variance\n",
    "# Scaler (stdSlr comes from the pickled file we imported)\n",
    "test_features = stdSlr.transform(test_features)\n",
    "\n",
    "#######Until here most of the above code is similar to Train except for kmeans clustering####\n",
    "\n",
    "# Report true class names so they can be compared with predicted classes\n",
    "true_class =  [classes_names[i] for i in image_classes]\n",
    "# Perform the predictions and report predicted class names. \n",
    "predictions =  [classes_names[i] for i in clf.predict(test_features)]"
   ]
  },
  {
   "cell_type": "code",
   "execution_count": 145,
   "id": "5bbcee7e",
   "metadata": {},
   "outputs": [
    {
     "name": "stdout",
     "output_type": "stream",
     "text": [
      "accuracy =  0.2805755395683453\n"
     ]
    }
   ],
   "source": [
    "# To make it easy to understand the accuracy let us print the confusion matrix\n",
    "\n",
    "def showconfusionmatrix(cm):\n",
    "    pl.matshow(cm)\n",
    "    pl.title('Confusion matrix')\n",
    "    pl.colorbar()\n",
    "    pl.show()\n",
    "\n",
    "\n",
    "accuracy = accuracy_score(true_class, predictions)\n",
    "print (\"accuracy = \", accuracy)\n",
    "cm = confusion_matrix(true_class, predictions, labels=classes_names)"
   ]
  },
  {
   "cell_type": "code",
   "execution_count": 146,
   "id": "e9b84295",
   "metadata": {},
   "outputs": [
    {
     "data": {
      "image/png": "[encoded data removed]",
      "text/plain": [
       "<Figure size 432x288 with 2 Axes>"
      ]
     },
     "metadata": {
      "needs_background": "light"
     },
     "output_type": "display_data"
    }
   ],
   "source": [
    "disp = ConfusionMatrixDisplay(confusion_matrix=cm, display_labels=classes_names)\n",
    "disp.plot(xticks_rotation = 'vertical')\n",
    "plt.show()"
   ]
  },
  {
   "cell_type": "markdown",
   "id": "b67e12eb",
   "metadata": {},
   "source": [
    "## Accuracy per Class "
   ]
  },
  {
   "cell_type": "code",
   "execution_count": 147,
   "id": "41462c01",
   "metadata": {},
   "outputs": [
    {
     "data": {
      "text/plain": [
       "array([0.        , 0.10526316, 0.        , 0.        , 0.        ,\n",
       "       0.        , 0.        , 0.        , 0.85714286, 0.        ,\n",
       "       0.1       , 0.        ])"
      ]
     },
     "execution_count": 147,
     "metadata": {},
     "output_type": "execute_result"
    }
   ],
   "source": [
    "cm_norm = cm.astype('float') / cm.sum(axis=1)[:, np.newaxis]\n",
    "cm_norm.diagonal()"
   ]
  },
  {
   "cell_type": "code",
   "execution_count": 148,
   "id": "3a8ae797",
   "metadata": {},
   "outputs": [
    {
     "data": {
      "text/plain": [
       "{'Aluminium': 0.0,\n",
       " 'Battery': 0.11,\n",
       " 'Cable and Wire': 0.0,\n",
       " 'Cardboard and Paper': 0.0,\n",
       " 'Connector': 0.0,\n",
       " 'Copper': 0.0,\n",
       " 'Iron': 0.0,\n",
       " 'Magnetic Tape': 0.0,\n",
       " 'Printed Circuit Board': 0.86,\n",
       " 'Printer Ribbon and Toner': 0.0,\n",
       " 'Tube and Screen': 0.1,\n",
       " 'Water Pump': 0.0}"
      ]
     },
     "execution_count": 148,
     "metadata": {},
     "output_type": "execute_result"
    }
   ],
   "source": [
    "dict_accuracies = {}\n",
    "\n",
    "for i, class_name in zip(cm_norm.diagonal(), classes_names):\n",
    "    dict_accuracies[class_name] = round(i,2)\n",
    "\n",
    "\n",
    "names = list(dict_accuracies.keys())\n",
    "values = list(dict_accuracies.values())\n",
    "\n",
    "dict_accuracies"
   ]
  },
  {
   "cell_type": "code",
   "execution_count": 149,
   "id": "f6a3b789",
   "metadata": {},
   "outputs": [
    {
     "data": {
      "image/png": "[encoded data removed]",
      "text/plain": [
       "<Figure size 432x288 with 1 Axes>"
      ]
     },
     "metadata": {
      "needs_background": "light"
     },
     "output_type": "display_data"
    }
   ],
   "source": [
    "norm = plt.Normalize(0, max(cm_norm.diagonal()))\n",
    "colors = plt.cm.Purples(norm(cm_norm.diagonal()))\n",
    "\n",
    "plt.bar(range(len(dict_accuracies)), values, tick_label=names, color=colors)\n",
    "\n",
    "plt.xticks(rotation = 90)\n",
    "plt.ylim(top=1)\n",
    "plt.show()"
   ]
  },
  {
   "cell_type": "markdown",
   "id": "614bc792",
   "metadata": {},
   "source": [
    "# LBP - Local Binary Patterns"
   ]
  },
  {
   "cell_type": "code",
   "execution_count": 104,
   "id": "85d425cf",
   "metadata": {},
   "outputs": [],
   "source": [
    "# Load the classifier, class names, scaler, number of clusters and vocabulary \n",
    "# from stored pickle file (generated during training)\n",
    "clf, classes_names, stdSlr, k, voc = jb.load(\"bovw_lbp_rf.pkl\")"
   ]
  },
  {
   "cell_type": "code",
   "execution_count": 105,
   "id": "5ab323c6",
   "metadata": {},
   "outputs": [],
   "source": [
    "# Get the path of the testing image(s) and store them in a list\n",
    "test_path = './waste_images/test'"
   ]
  },
  {
   "cell_type": "code",
   "execution_count": 106,
   "id": "df5f122d",
   "metadata": {},
   "outputs": [],
   "source": [
    "testing_names = os.listdir(test_path)"
   ]
  },
  {
   "cell_type": "code",
   "execution_count": 107,
   "id": "846bf986",
   "metadata": {},
   "outputs": [],
   "source": [
    "# Get path to all images and save them in a list\n",
    "# image_paths and the corresponding label in image_paths\n",
    "image_paths = []\n",
    "image_classes = []\n",
    "class_id = 0\n",
    "\n",
    "#To make it easy to list all file names in a directory let us define a function\n",
    "def imglist(path):\n",
    "    return [os.path.join(path, f) for f in os.listdir(path)]\n",
    "\n",
    "#Fill the placeholder empty lists with image path, classes, and add class ID number\n",
    "\n",
    "for testing_name in testing_names:\n",
    "    dir = os.path.join(test_path, testing_name)\n",
    "    class_path = imglist(dir)\n",
    "    image_paths+=class_path\n",
    "    image_classes+=[class_id]*len(class_path)\n",
    "    class_id+=1"
   ]
  },
  {
   "cell_type": "code",
   "execution_count": 108,
   "id": "516b853d",
   "metadata": {},
   "outputs": [
    {
     "data": {
      "text/plain": [
       "array([ 0,  1,  2,  3,  4,  5,  6,  7,  8,  9, 10, 11])"
      ]
     },
     "execution_count": 108,
     "metadata": {},
     "output_type": "execute_result"
    }
   ],
   "source": [
    "np.unique(image_classes)"
   ]
  },
  {
   "cell_type": "code",
   "execution_count": 109,
   "id": "af42a8c6",
   "metadata": {},
   "outputs": [],
   "source": [
    "# Create list where all the descriptors will be stored\n",
    "des_list = []"
   ]
  },
  {
   "cell_type": "code",
   "execution_count": 110,
   "id": "e703d438",
   "metadata": {},
   "outputs": [],
   "source": [
    "def extract_lbp_features(img, radius=1, sampling_pixels=8):\n",
    "    \n",
    "    # LBP operates in single channel images so if RGB images are provided\n",
    "    # we have to convert it to grayscale\n",
    "    if (len(img.shape) > 2):\n",
    "        img = img.astype(float)\n",
    "        # RGB to grayscale convertion using Luminance\n",
    "        img = img[:,:,0]*0.3 + img[:,:,1]*0.59 + img[:,:,2]*0.11\n",
    "\n",
    "    # converting to uint8 type for 256 graylevels\n",
    "    img = img.astype(np.uint8)\n",
    "    \n",
    "    # normalize values can also help improving description\n",
    "    i_min = np.min(img)\n",
    "    i_max = np.max(img)\n",
    "    if (i_max - i_min != 0):\n",
    "        img = (img - i_min)/(i_max-i_min)\n",
    "    \n",
    "    # compute LBP\n",
    "    lbp = feature.local_binary_pattern(img, sampling_pixels, radius, method=\"uniform\")\n",
    "    \n",
    "    '''\n",
    "    # LBP returns a matrix with the codes, so we compute the histogram\n",
    "    (hist, _) = np.histogram(lbp.ravel(), bins=np.arange(0, sampling_pixels + 3), range=(0, sampling_pixels + 2))\n",
    "\n",
    "    # normalization\n",
    "    hist = hist.astype(\"float\")\n",
    "    hist /= (hist.sum() + 1e-6)\n",
    "    # return the histogram of Local Binary Patterns\n",
    "    return hist\n",
    "    '''\n",
    "    \n",
    "    return lbp"
   ]
  },
  {
   "cell_type": "code",
   "execution_count": 111,
   "id": "a345885f",
   "metadata": {},
   "outputs": [],
   "source": [
    "for image_path in image_paths:\n",
    "    im = cv2.imread(image_path)\n",
    "    #gray_img = cv2.cvtColor(im, cv2.COLOR_BGR2GRAY) # Convert the image to grayscale\n",
    "    des = extract_lbp_features(im)\n",
    "    des_list.append((image_path, des))"
   ]
  },
  {
   "cell_type": "code",
   "execution_count": 112,
   "id": "e68be9e7",
   "metadata": {},
   "outputs": [
    {
     "data": {
      "text/plain": [
       "139"
      ]
     },
     "execution_count": 112,
     "metadata": {},
     "output_type": "execute_result"
    }
   ],
   "source": [
    "len(des_list)"
   ]
  },
  {
   "cell_type": "code",
   "execution_count": 113,
   "id": "66eeb73a",
   "metadata": {},
   "outputs": [],
   "source": [
    "removal_list = []\n",
    "\n",
    "for image_path, descriptor in des_list[1:]:\n",
    "    if (descriptor.shape[1] != (640)):\n",
    "        #print(image_path, descriptor.shape)\n",
    "        removal_list.append(image_path)"
   ]
  },
  {
   "cell_type": "code",
   "execution_count": 114,
   "id": "1feba31c",
   "metadata": {},
   "outputs": [
    {
     "data": {
      "text/plain": [
       "5"
      ]
     },
     "execution_count": 114,
     "metadata": {},
     "output_type": "execute_result"
    }
   ],
   "source": [
    "len(removal_list)"
   ]
  },
  {
   "cell_type": "code",
   "execution_count": 115,
   "id": "4397f944",
   "metadata": {},
   "outputs": [],
   "source": [
    "# Stack all the descriptors vertically in a numpy array\n",
    "descriptors = des_list[0][1]\n",
    "for image_path, descriptor in des_list[1:]:\n",
    "    if image_path not in removal_list:\n",
    "        #print(image_path)\n",
    "        descriptors = np.vstack((descriptors, descriptor))"
   ]
  },
  {
   "cell_type": "code",
   "execution_count": 116,
   "id": "0a9b819c",
   "metadata": {},
   "outputs": [],
   "source": [
    "adjusted_des_list = []\n",
    "\n",
    "for item in des_list:\n",
    "    if item[0] not in removal_list:\n",
    "        #print(item[0])\n",
    "        adjusted_des_list.append(item)"
   ]
  },
  {
   "cell_type": "code",
   "execution_count": 117,
   "id": "b9bbe109",
   "metadata": {},
   "outputs": [
    {
     "data": {
      "text/plain": [
       "134"
      ]
     },
     "execution_count": 117,
     "metadata": {},
     "output_type": "execute_result"
    }
   ],
   "source": [
    "len(adjusted_des_list)"
   ]
  },
  {
   "cell_type": "code",
   "execution_count": 118,
   "id": "6c6fa546",
   "metadata": {},
   "outputs": [],
   "source": [
    "def list_difference(b, a):\n",
    "    c = list(b)\n",
    "    for item in a:\n",
    "        try:\n",
    "            c.remove(item)\n",
    "        except ValueError:\n",
    "            pass            #or maybe you want to keep a values here\n",
    "    return c"
   ]
  },
  {
   "cell_type": "code",
   "execution_count": 119,
   "id": "0207519b",
   "metadata": {},
   "outputs": [
    {
     "data": {
      "text/plain": [
       "134"
      ]
     },
     "execution_count": 119,
     "metadata": {},
     "output_type": "execute_result"
    }
   ],
   "source": [
    "adjusted_image_paths = list_difference(image_paths, removal_list)\n",
    "len(adjusted_image_paths)"
   ]
  },
  {
   "cell_type": "code",
   "execution_count": 120,
   "id": "87a09c59",
   "metadata": {},
   "outputs": [],
   "source": [
    "# Calculate the histogram of features and represent them as vector\n",
    "# vq assigns codes from a code book to observations\n",
    "\n",
    "test_features = np.zeros((len(adjusted_image_paths), k), \"float32\")\n",
    "\n",
    "for i in range(len(adjusted_image_paths)):\n",
    "    words, distance = vq(adjusted_des_list[i][1],voc)\n",
    "    for w in words:\n",
    "        test_features[i][w] += 1"
   ]
  },
  {
   "cell_type": "code",
   "execution_count": 121,
   "id": "38565eda",
   "metadata": {},
   "outputs": [
    {
     "data": {
      "text/plain": [
       "['Aluminium',\n",
       " 'Battery',\n",
       " 'Cable and Wire',\n",
       " 'Cardboard and Paper',\n",
       " 'Connector',\n",
       " 'Copper',\n",
       " 'Iron',\n",
       " 'Magnetic Tape',\n",
       " 'Printed Circuit Board',\n",
       " 'Printer Ribbon and Toner',\n",
       " 'Tube and Screen',\n",
       " 'Water Pump']"
      ]
     },
     "execution_count": 121,
     "metadata": {},
     "output_type": "execute_result"
    }
   ],
   "source": [
    "labels_classes = {'Aluminium':0, 'Battery':1, 'Cable and Wire':2, 'Cardboard and Paper':3, 'Connector':4,\n",
    "                'Copper':5, 'Iron':6, 'Magnetic Tape':7, 'Printed Circuit Board':8, \n",
    "                'Printer Ribbon and Toner':9, 'Tube and Screen':10, 'Water Pump':11}\n",
    "\n",
    "list(labels_classes.keys())"
   ]
  },
  {
   "cell_type": "code",
   "execution_count": 122,
   "id": "bc509b93",
   "metadata": {},
   "outputs": [],
   "source": [
    "classesToRemove = []\n",
    "\n",
    "for key in labels_classes:\n",
    "    for string in removal_list:\n",
    "        if key in string:\n",
    "            #print(labels_classes[key])\n",
    "            classesToRemove.append(labels_classes[key])"
   ]
  },
  {
   "cell_type": "code",
   "execution_count": 123,
   "id": "9a499a6e",
   "metadata": {},
   "outputs": [
    {
     "data": {
      "text/plain": [
       "[2, 5, 5, 8, 9]"
      ]
     },
     "execution_count": 123,
     "metadata": {},
     "output_type": "execute_result"
    }
   ],
   "source": [
    "classesToRemove"
   ]
  },
  {
   "cell_type": "code",
   "execution_count": 124,
   "id": "f483131a",
   "metadata": {},
   "outputs": [],
   "source": [
    "adjusted_image_classes = list_difference(image_classes, classesToRemove)"
   ]
  },
  {
   "cell_type": "code",
   "execution_count": 125,
   "id": "ef3912bd",
   "metadata": {},
   "outputs": [
    {
     "data": {
      "text/plain": [
       "134"
      ]
     },
     "execution_count": 125,
     "metadata": {},
     "output_type": "execute_result"
    }
   ],
   "source": [
    "len(adjusted_image_classes)"
   ]
  },
  {
   "cell_type": "code",
   "execution_count": 126,
   "id": "861500c9",
   "metadata": {},
   "outputs": [],
   "source": [
    "# Scale the features\n",
    "# Standardize features by removing the mean and scaling to unit variance\n",
    "# Scaler (stdSlr comes from the pickled file we imported)\n",
    "test_features = stdSlr.transform(test_features)\n",
    "\n",
    "#######Until here most of the above code is similar to Train except for kmeans clustering####\n",
    "\n",
    "# Report true class names so they can be compared with predicted classes\n",
    "true_class =  [classes_names[i] for i in adjusted_image_classes]\n",
    "# Perform the predictions and report predicted class names. \n",
    "predictions =  [classes_names[i] for i in clf.predict(test_features)]"
   ]
  },
  {
   "cell_type": "code",
   "execution_count": 127,
   "id": "17387653",
   "metadata": {},
   "outputs": [
    {
     "name": "stdout",
     "output_type": "stream",
     "text": [
      "accuracy =  0.39552238805970147\n"
     ]
    }
   ],
   "source": [
    "# To make it easy to understand the accuracy let us print the confusion matrix\n",
    "\n",
    "def showconfusionmatrix(cm):\n",
    "    pl.matshow(cm)\n",
    "    pl.title('Confusion matrix')\n",
    "    pl.colorbar()\n",
    "    pl.show()\n",
    "\n",
    "\n",
    "accuracy = accuracy_score(true_class, predictions)\n",
    "print (\"accuracy = \", accuracy)\n",
    "cm = confusion_matrix(true_class, predictions, labels=classes_names)"
   ]
  },
  {
   "cell_type": "code",
   "execution_count": 128,
   "id": "89dd1f33",
   "metadata": {},
   "outputs": [
    {
     "data": {
      "image/png": "[encoded data removed]",
      "text/plain": [
       "<Figure size 432x288 with 2 Axes>"
      ]
     },
     "metadata": {
      "needs_background": "light"
     },
     "output_type": "display_data"
    }
   ],
   "source": [
    "disp = ConfusionMatrixDisplay(confusion_matrix=cm, display_labels=classes_names)\n",
    "disp.plot(xticks_rotation = 'vertical')\n",
    "plt.show()"
   ]
  },
  {
   "cell_type": "markdown",
   "id": "286b936b",
   "metadata": {},
   "source": [
    "## Accuracy per Class "
   ]
  },
  {
   "cell_type": "code",
   "execution_count": 129,
   "id": "8ff7aec9",
   "metadata": {},
   "outputs": [
    {
     "data": {
      "text/plain": [
       "array([0.        , 0.52631579, 0.        , 0.7       , 0.        ,\n",
       "       0.        , 0.        , 0.        , 0.87804878, 0.        ,\n",
       "       0.        , 0.        ])"
      ]
     },
     "execution_count": 129,
     "metadata": {},
     "output_type": "execute_result"
    }
   ],
   "source": [
    "cm_norm = cm.astype('float') / cm.sum(axis=1)[:, np.newaxis]\n",
    "cm_norm.diagonal()"
   ]
  },
  {
   "cell_type": "code",
   "execution_count": 130,
   "id": "bc3e24c6",
   "metadata": {},
   "outputs": [
    {
     "data": {
      "text/plain": [
       "{'Aluminium': 0.0,\n",
       " 'Battery': 0.53,\n",
       " 'Cable and Wire': 0.0,\n",
       " 'Cardboard and Paper': 0.7,\n",
       " 'Connector': 0.0,\n",
       " 'Copper': 0.0,\n",
       " 'Iron': 0.0,\n",
       " 'Magnetic Tape': 0.0,\n",
       " 'Printed Circuit Board': 0.88,\n",
       " 'Printer Ribbon and Toner': 0.0,\n",
       " 'Tube and Screen': 0.0,\n",
       " 'Water Pump': 0.0}"
      ]
     },
     "execution_count": 130,
     "metadata": {},
     "output_type": "execute_result"
    }
   ],
   "source": [
    "dict_accuracies = {}\n",
    "\n",
    "for i, class_name in zip(cm_norm.diagonal(), classes_names):\n",
    "    dict_accuracies[class_name] = round(i,2)\n",
    "\n",
    "\n",
    "names = list(dict_accuracies.keys())\n",
    "values = list(dict_accuracies.values())\n",
    "\n",
    "dict_accuracies"
   ]
  },
  {
   "cell_type": "code",
   "execution_count": 131,
   "id": "075a87aa",
   "metadata": {},
   "outputs": [
    {
     "data": {
      "image/png": "[encoded data removed]",
      "text/plain": [
       "<Figure size 432x288 with 1 Axes>"
      ]
     },
     "metadata": {
      "needs_background": "light"
     },
     "output_type": "display_data"
    }
   ],
   "source": [
    "norm = plt.Normalize(0, max(cm_norm.diagonal()))\n",
    "colors = plt.cm.Purples(norm(cm_norm.diagonal()))\n",
    "\n",
    "plt.bar(range(len(dict_accuracies)), values, tick_label=names, color=colors)\n",
    "\n",
    "plt.xticks(rotation = 90)\n",
    "plt.ylim(top=1)\n",
    "plt.show()"
   ]
  },
  {
   "cell_type": "markdown",
   "id": "572ec141",
   "metadata": {},
   "source": [
    "### Final comments\n",
    "\n",
    "In this notebook we took eletronic waste images, applied feature extraction techniques and used their outputs as inputs in several machine learning algorithms to classify images according to their categories (labels). In this multi-class problem, BRISK and LBP methods created features that produced models capable of predicting the correct category in nearly 40% of the cases in the test data set."
   ]
  }
 ],
 "metadata": {
  "kernelspec": {
   "display_name": "Python 3.9.5 ('tf-gpu')",
   "language": "python",
   "name": "python3"
  },
  "language_info": {
   "codemirror_mode": {
    "name": "ipython",
    "version": 3
   },
   "file_extension": ".py",
   "mimetype": "text/x-python",
   "name": "python",
   "nbconvert_exporter": "python",
   "pygments_lexer": "ipython3",
   "version": "3.9.5"
  },
  "vscode": {
   "interpreter": {
    "hash": "2486581d769f51888817dea713732d5e492d1ab2c1e79e01f4b0de1583eb3ca1"
   }
  }
 },
 "nbformat": 4,
 "nbformat_minor": 5
}
