{
 "cells": [
  {
   "cell_type": "code",
   "execution_count": 140,
   "id": "3d95ef06",
   "metadata": {},
   "outputs": [],
   "source": [
    "import cv2\n",
    "import numpy as np\n",
    "import pandas as pd\n",
    "import os\n",
    "\n",
    "# Importing metrics tools\n",
    "from sklearn.metrics import confusion_matrix, accuracy_score, ConfusionMatrixDisplay\n",
    "\n",
    "# Importing visualization tools\n",
    "import seaborn as sn\n",
    "import matplotlib.pyplot as plt\n",
    "import pylab as pl\n",
    "\n",
    "# Perform k-means clustering and vector quantization\n",
    "from scipy.cluster.vq import kmeans, vq\n",
    "\n",
    "# Importing feature extraction tools\n",
    "from skimage.feature import greycomatrix, greycoprops\n",
    "import mahotas as mt # Mahotas library for GLCM calculation\n",
    "from skimage import feature # feature.local_binary_pattern for LBP calculation\n",
    "\n",
    "import joblib as jb"
   ]
  },
  {
   "cell_type": "markdown",
   "id": "d8eb3d0d",
   "metadata": {},
   "source": [
    "# BRISK - Feature Point Detector"
   ]
  },
  {
   "cell_type": "code",
   "execution_count": 67,
   "id": "bf7a1ff5",
   "metadata": {},
   "outputs": [],
   "source": [
    "# Load the classifier, class names, scaler, number of clusters and vocabulary \n",
    "# from stored pickle file (generated during training)\n",
    "clf, classes_names, stdSlr, k, voc = jb.load(\"bovw_segmented_brisk_rf.pkl\")"
   ]
  },
  {
   "cell_type": "code",
   "execution_count": 68,
   "id": "da50d2a7",
   "metadata": {},
   "outputs": [
    {
     "data": {
      "text/plain": [
       "(RandomForestClassifier(criterion='entropy', max_depth=50, min_samples_split=30,\n",
       "                        n_estimators=50, random_state=0),\n",
       " ['Aluminium',\n",
       "  'Battery',\n",
       "  'Cable and Wire',\n",
       "  'Cardboard and Paper',\n",
       "  'Connector',\n",
       "  'Copper',\n",
       "  'Iron',\n",
       "  'Magnetic Tape',\n",
       "  'Printed Circuit Board',\n",
       "  'Printer Ribbon and Toner',\n",
       "  'Tube and Screen',\n",
       "  'Water Pump'],\n",
       " StandardScaler(),\n",
       " 25,\n",
       " array([[161.15197356, 175.04203128,  86.48012474, ...,  55.58922919,\n",
       "          71.32051759, 100.96620741],\n",
       "        [178.44390774,  96.55347583,  61.72080667, ..., 140.021656  ,\n",
       "         113.76729864, 109.21241396],\n",
       "        [100.42639768,  76.69189614, 114.92573504, ...,  73.05772346,\n",
       "          91.40676385, 115.87380356],\n",
       "        ...,\n",
       "        [119.14279566, 172.60489694, 172.60537516, ..., 103.46353594,\n",
       "         127.73918034, 107.38338673],\n",
       "        [162.27713927, 126.91011292, 197.10494354, ..., 171.61550816,\n",
       "         143.99202008, 112.53480552],\n",
       "        [209.49876695, 213.21415761, 229.6042484 , ...,  90.46003811,\n",
       "          87.29789261, 102.59539289]]))"
      ]
     },
     "execution_count": 68,
     "metadata": {},
     "output_type": "execute_result"
    }
   ],
   "source": [
    "clf, classes_names, stdSlr, k, voc"
   ]
  },
  {
   "cell_type": "code",
   "execution_count": 69,
   "id": "080dbd74",
   "metadata": {},
   "outputs": [
    {
     "data": {
      "text/plain": [
       "(25, 64)"
      ]
     },
     "execution_count": 69,
     "metadata": {},
     "output_type": "execute_result"
    }
   ],
   "source": [
    "voc.shape"
   ]
  },
  {
   "cell_type": "code",
   "execution_count": 70,
   "id": "0e64e5b3",
   "metadata": {},
   "outputs": [],
   "source": [
    "# Get the path of the testing image(s) and store them in a list\n",
    "test_path = './waste_images/test_segmented'  "
   ]
  },
  {
   "cell_type": "code",
   "execution_count": 71,
   "id": "f49b2ff6",
   "metadata": {},
   "outputs": [],
   "source": [
    "testing_names = os.listdir(test_path)\n",
    "\n",
    "# Get path to all images and save them in a list\n",
    "# image_paths and the corresponding label in image_paths\n",
    "image_paths = []\n",
    "image_classes = []\n",
    "class_id = 0\n",
    "\n",
    "#To make it easy to list all file names in a directory let us define a function\n",
    "def imglist(path):\n",
    "    return [os.path.join(path, f) for f in os.listdir(path)]\n",
    "\n",
    "#Fill the placeholder empty lists with image path, classes, and add class ID number\n",
    "for testing_name in testing_names:\n",
    "    dir = os.path.join(test_path, testing_name)\n",
    "    class_path = imglist(dir)\n",
    "    image_paths+=class_path\n",
    "    image_classes+=[class_id]*len(class_path)\n",
    "    class_id+=1"
   ]
  },
  {
   "cell_type": "code",
   "execution_count": 72,
   "id": "2a7c3a74",
   "metadata": {},
   "outputs": [
    {
     "data": {
      "text/plain": [
       "['./waste_images/test_segmented\\\\Aluminium\\\\Aluminium17_segmented.JPG',\n",
       " './waste_images/test_segmented\\\\Aluminium\\\\Aluminium49_segmented.JPG',\n",
       " './waste_images/test_segmented\\\\Aluminium\\\\Aluminium55_segmented.JPG',\n",
       " './waste_images/test_segmented\\\\Aluminium\\\\Aluminium57_segmented.JPG',\n",
       " './waste_images/test_segmented\\\\Aluminium\\\\Aluminium5_segmented.JPG',\n",
       " './waste_images/test_segmented\\\\Aluminium\\\\Aluminium63_segmented.JPG',\n",
       " './waste_images/test_segmented\\\\Aluminium\\\\Aluminium70_segmented.JPG',\n",
       " './waste_images/test_segmented\\\\Aluminium\\\\Aluminium83_segmented.JPG',\n",
       " './waste_images/test_segmented\\\\Aluminium\\\\Aluminium85_segmented.JPG',\n",
       " './waste_images/test_segmented\\\\Battery\\\\Battery100_segmented.JPG']"
      ]
     },
     "execution_count": 72,
     "metadata": {},
     "output_type": "execute_result"
    }
   ],
   "source": [
    "image_paths[:10]"
   ]
  },
  {
   "cell_type": "code",
   "execution_count": 73,
   "id": "fa4e8e18",
   "metadata": {},
   "outputs": [
    {
     "data": {
      "text/plain": [
       "array([ 0,  1,  2,  3,  4,  5,  6,  7,  8,  9, 10, 11])"
      ]
     },
     "execution_count": 73,
     "metadata": {},
     "output_type": "execute_result"
    }
   ],
   "source": [
    "np.unique(image_classes)"
   ]
  },
  {
   "cell_type": "code",
   "execution_count": 74,
   "id": "c9bd4bb8",
   "metadata": {},
   "outputs": [],
   "source": [
    "# Create feature extraction and keypoint detector objects\n",
    "# SIFT is not available anymore in openCV    \n",
    "\n",
    "# Create list where all the descriptors will be stored\n",
    "des_list = []\n",
    "\n",
    "# BRISK is a good replacement to SIFT. ORB also works but didn't work well for this example\n",
    "brisk = cv2.BRISK_create(30)\n",
    "\n",
    "for image_path in image_paths:\n",
    "    im = cv2.imread(image_path)\n",
    "    kpts, des = brisk.detectAndCompute(im, None)\n",
    "    des_list.append((image_path, des))"
   ]
  },
  {
   "cell_type": "code",
   "execution_count": 75,
   "id": "e523894c",
   "metadata": {},
   "outputs": [
    {
     "data": {
      "text/plain": [
       "(1012, 64)"
      ]
     },
     "execution_count": 75,
     "metadata": {},
     "output_type": "execute_result"
    }
   ],
   "source": [
    "des_list[0][1].shape"
   ]
  },
  {
   "cell_type": "code",
   "execution_count": 76,
   "id": "34042c3c",
   "metadata": {},
   "outputs": [],
   "source": [
    "# Stack all the descriptors vertically in a numpy array\n",
    "descriptors = des_list[0][1]\n",
    "for image_path, descriptor in des_list[0:]:\n",
    "    descriptors = np.vstack((descriptors, descriptor)) "
   ]
  },
  {
   "cell_type": "code",
   "execution_count": 77,
   "id": "7ff9ec9c",
   "metadata": {},
   "outputs": [
    {
     "data": {
      "text/plain": [
       "(169965, 64)"
      ]
     },
     "execution_count": 77,
     "metadata": {},
     "output_type": "execute_result"
    }
   ],
   "source": [
    "descriptors.shape"
   ]
  },
  {
   "cell_type": "code",
   "execution_count": 78,
   "id": "2f18377d",
   "metadata": {},
   "outputs": [],
   "source": [
    "# Calculate the histogram of features\n",
    "# vq Assigns codes from a code book to observations.\n",
    "from scipy.cluster.vq import vq    \n",
    "test_features = np.zeros((len(image_paths), k), \"float32\")\n",
    "for i in range(len(image_paths)):\n",
    "    words, distance = vq(des_list[i][1],voc)\n",
    "    for w in words:\n",
    "        test_features[i][w] += 1"
   ]
  },
  {
   "cell_type": "code",
   "execution_count": 79,
   "id": "eaca1376",
   "metadata": {},
   "outputs": [
    {
     "data": {
      "text/plain": [
       "(139, 25)"
      ]
     },
     "execution_count": 79,
     "metadata": {},
     "output_type": "execute_result"
    }
   ],
   "source": [
    "test_features.shape"
   ]
  },
  {
   "cell_type": "code",
   "execution_count": 80,
   "id": "21784c88",
   "metadata": {},
   "outputs": [
    {
     "name": "stdout",
     "output_type": "stream",
     "text": [
      "true_class =['Aluminium', 'Aluminium', 'Aluminium', 'Aluminium', 'Aluminium', 'Aluminium', 'Aluminium', 'Aluminium', 'Aluminium', 'Battery', 'Battery', 'Battery', 'Battery', 'Battery', 'Battery', 'Battery', 'Battery', 'Battery', 'Battery', 'Battery', 'Battery', 'Battery', 'Battery', 'Battery', 'Battery', 'Battery', 'Battery', 'Battery', 'Cable and Wire', 'Cable and Wire', 'Cable and Wire', 'Cable and Wire', 'Cable and Wire', 'Cable and Wire', 'Cable and Wire', 'Cable and Wire', 'Cable and Wire', 'Cable and Wire', 'Cardboard and Paper', 'Cardboard and Paper', 'Cardboard and Paper', 'Cardboard and Paper', 'Cardboard and Paper', 'Cardboard and Paper', 'Cardboard and Paper', 'Cardboard and Paper', 'Cardboard and Paper', 'Cardboard and Paper', 'Connector', 'Connector', 'Connector', 'Connector', 'Connector', 'Connector', 'Connector', 'Connector', 'Connector', 'Copper', 'Copper', 'Copper', 'Copper', 'Copper', 'Copper', 'Copper', 'Copper', 'Copper', 'Copper', 'Copper', 'Iron', 'Iron', 'Iron', 'Iron', 'Iron', 'Iron', 'Magnetic Tape', 'Magnetic Tape', 'Magnetic Tape', 'Printed Circuit Board', 'Printed Circuit Board', 'Printed Circuit Board', 'Printed Circuit Board', 'Printed Circuit Board', 'Printed Circuit Board', 'Printed Circuit Board', 'Printed Circuit Board', 'Printed Circuit Board', 'Printed Circuit Board', 'Printed Circuit Board', 'Printed Circuit Board', 'Printed Circuit Board', 'Printed Circuit Board', 'Printed Circuit Board', 'Printed Circuit Board', 'Printed Circuit Board', 'Printed Circuit Board', 'Printed Circuit Board', 'Printed Circuit Board', 'Printed Circuit Board', 'Printed Circuit Board', 'Printed Circuit Board', 'Printed Circuit Board', 'Printed Circuit Board', 'Printed Circuit Board', 'Printed Circuit Board', 'Printed Circuit Board', 'Printed Circuit Board', 'Printed Circuit Board', 'Printed Circuit Board', 'Printed Circuit Board', 'Printed Circuit Board', 'Printed Circuit Board', 'Printed Circuit Board', 'Printed Circuit Board', 'Printed Circuit Board', 'Printed Circuit Board', 'Printed Circuit Board', 'Printed Circuit Board', 'Printed Circuit Board', 'Printed Circuit Board', 'Printer Ribbon and Toner', 'Printer Ribbon and Toner', 'Printer Ribbon and Toner', 'Printer Ribbon and Toner', 'Printer Ribbon and Toner', 'Printer Ribbon and Toner', 'Printer Ribbon and Toner', 'Printer Ribbon and Toner', 'Tube and Screen', 'Tube and Screen', 'Tube and Screen', 'Tube and Screen', 'Tube and Screen', 'Tube and Screen', 'Tube and Screen', 'Tube and Screen', 'Tube and Screen', 'Tube and Screen', 'Water Pump', 'Water Pump']\n",
      "prediction =['Printed Circuit Board', 'Battery', 'Copper', 'Battery', 'Printed Circuit Board', 'Printed Circuit Board', 'Battery', 'Battery', 'Printed Circuit Board', 'Printed Circuit Board', 'Printed Circuit Board', 'Tube and Screen', 'Printed Circuit Board', 'Connector', 'Battery', 'Tube and Screen', 'Battery', 'Connector', 'Battery', 'Battery', 'Battery', 'Printed Circuit Board', 'Battery', 'Printed Circuit Board', 'Cardboard and Paper', 'Printed Circuit Board', 'Battery', 'Battery', 'Cardboard and Paper', 'Battery', 'Printed Circuit Board', 'Printed Circuit Board', 'Battery', 'Printed Circuit Board', 'Printed Circuit Board', 'Battery', 'Tube and Screen', 'Battery', 'Connector', 'Cardboard and Paper', 'Connector', 'Printed Circuit Board', 'Printed Circuit Board', 'Battery', 'Battery', 'Battery', 'Battery', 'Printed Circuit Board', 'Connector', 'Battery', 'Printed Circuit Board', 'Printed Circuit Board', 'Connector', 'Copper', 'Cardboard and Paper', 'Tube and Screen', 'Connector', 'Printed Circuit Board', 'Printed Circuit Board', 'Printed Circuit Board', 'Connector', 'Printed Circuit Board', 'Printed Circuit Board', 'Connector', 'Connector', 'Printed Circuit Board', 'Printed Circuit Board', 'Printed Circuit Board', 'Battery', 'Battery', 'Battery', 'Printed Circuit Board', 'Printed Circuit Board', 'Printed Circuit Board', 'Battery', 'Connector', 'Battery', 'Printed Circuit Board', 'Printed Circuit Board', 'Printed Circuit Board', 'Printed Circuit Board', 'Printed Circuit Board', 'Printed Circuit Board', 'Printed Circuit Board', 'Printed Circuit Board', 'Printed Circuit Board', 'Printed Circuit Board', 'Printed Circuit Board', 'Printed Circuit Board', 'Battery', 'Printed Circuit Board', 'Printed Circuit Board', 'Printed Circuit Board', 'Printed Circuit Board', 'Printed Circuit Board', 'Printed Circuit Board', 'Printed Circuit Board', 'Printed Circuit Board', 'Printed Circuit Board', 'Printed Circuit Board', 'Printed Circuit Board', 'Printed Circuit Board', 'Printed Circuit Board', 'Printed Circuit Board', 'Printed Circuit Board', 'Printed Circuit Board', 'Printed Circuit Board', 'Printed Circuit Board', 'Printed Circuit Board', 'Battery', 'Printed Circuit Board', 'Printed Circuit Board', 'Printed Circuit Board', 'Printed Circuit Board', 'Printed Circuit Board', 'Printed Circuit Board', 'Printed Circuit Board', 'Printed Circuit Board', 'Printed Circuit Board', 'Connector', 'Battery', 'Printed Circuit Board', 'Printed Circuit Board', 'Printed Circuit Board', 'Connector', 'Cardboard and Paper', 'Printed Circuit Board', 'Tube and Screen', 'Battery', 'Copper', 'Connector', 'Tube and Screen', 'Printed Circuit Board', 'Aluminium', 'Tube and Screen', 'Connector', 'Battery', 'Printed Circuit Board', 'Battery']\n"
     ]
    }
   ],
   "source": [
    "# Scale the features\n",
    "# Standardize features by removing the mean and scaling to unit variance\n",
    "# Scaler (stdSlr comes from the pickled file we imported)\n",
    "test_features = stdSlr.transform(test_features)\n",
    "\n",
    "#######Until here most of the above code is similar to Train except for kmeans clustering####\n",
    "\n",
    "# Report true class names so they can be compared with predicted classes\n",
    "true_class =  [classes_names[i] for i in image_classes]\n",
    "# Perform the predictions and report predicted class names. \n",
    "predictions =  [classes_names[i] for i in clf.predict(test_features)]\n",
    "\n",
    "# Print the true class and Predictions \n",
    "print (\"true_class =\"  + str(true_class))\n",
    "print (\"prediction =\"  + str(predictions))"
   ]
  },
  {
   "cell_type": "code",
   "execution_count": 81,
   "id": "916a8a54",
   "metadata": {},
   "outputs": [
    {
     "data": {
      "text/plain": [
       "139"
      ]
     },
     "execution_count": 81,
     "metadata": {},
     "output_type": "execute_result"
    }
   ],
   "source": [
    "len(predictions)"
   ]
  },
  {
   "cell_type": "code",
   "execution_count": 82,
   "id": "0787a38b",
   "metadata": {},
   "outputs": [
    {
     "name": "stdout",
     "output_type": "stream",
     "text": [
      "accuracy =  0.39568345323741005\n"
     ]
    }
   ],
   "source": [
    "# To make it easy to understand the accuracy let us print the confusion matrix\n",
    "\n",
    "def showconfusionmatrix(cm):\n",
    "    pl.matshow(cm)\n",
    "    pl.title('Confusion matrix')\n",
    "    pl.colorbar()\n",
    "    pl.show()\n",
    "\n",
    "\n",
    "accuracy = accuracy_score(true_class, predictions)\n",
    "print (\"accuracy = \", accuracy)\n",
    "cm = confusion_matrix(true_class, predictions, labels=classes_names)\n",
    "#print (cm)\n",
    "#showconfusionmatrix(cm)"
   ]
  },
  {
   "cell_type": "code",
   "execution_count": 83,
   "id": "30d97695",
   "metadata": {},
   "outputs": [
    {
     "data": {
      "image/png": "[encoded data removed]",
      "text/plain": [
       "<Figure size 432x288 with 2 Axes>"
      ]
     },
     "metadata": {
      "needs_background": "light"
     },
     "output_type": "display_data"
    }
   ],
   "source": [
    "disp = ConfusionMatrixDisplay(confusion_matrix=cm, display_labels=classes_names)\n",
    "disp.plot(xticks_rotation = 'vertical')\n",
    "plt.show()"
   ]
  },
  {
   "cell_type": "markdown",
   "id": "ee016b38",
   "metadata": {},
   "source": [
    "## Accuracy per Class "
   ]
  },
  {
   "cell_type": "code",
   "execution_count": 84,
   "id": "7eb09d81",
   "metadata": {},
   "outputs": [
    {
     "data": {
      "text/plain": [
       "array([0.        , 0.42105263, 0.        , 0.1       , 0.33333333,\n",
       "       0.        , 0.        , 0.        , 0.95238095, 0.        ,\n",
       "       0.3       , 0.        ])"
      ]
     },
     "execution_count": 84,
     "metadata": {},
     "output_type": "execute_result"
    }
   ],
   "source": [
    "cm_norm = cm.astype('float') / cm.sum(axis=1)[:, np.newaxis]\n",
    "cm_norm.diagonal()"
   ]
  },
  {
   "cell_type": "code",
   "execution_count": 85,
   "id": "5f99f422",
   "metadata": {},
   "outputs": [
    {
     "data": {
      "text/plain": [
       "{'Aluminium': 0.0,\n",
       " 'Battery': 0.42,\n",
       " 'Cable and Wire': 0.0,\n",
       " 'Cardboard and Paper': 0.1,\n",
       " 'Connector': 0.33,\n",
       " 'Copper': 0.0,\n",
       " 'Iron': 0.0,\n",
       " 'Magnetic Tape': 0.0,\n",
       " 'Printed Circuit Board': 0.95,\n",
       " 'Printer Ribbon and Toner': 0.0,\n",
       " 'Tube and Screen': 0.3,\n",
       " 'Water Pump': 0.0}"
      ]
     },
     "execution_count": 85,
     "metadata": {},
     "output_type": "execute_result"
    }
   ],
   "source": [
    "dict_accuracies = {}\n",
    "\n",
    "for i, class_name in zip(cm_norm.diagonal(), classes_names):\n",
    "    dict_accuracies[class_name] = round(i,2)\n",
    "\n",
    "\n",
    "names = list(dict_accuracies.keys())\n",
    "values = list(dict_accuracies.values())\n",
    "\n",
    "dict_accuracies"
   ]
  },
  {
   "cell_type": "code",
   "execution_count": 86,
   "id": "c3b1557f",
   "metadata": {},
   "outputs": [
    {
     "data": {
      "image/png": "[encoded data removed]",
      "text/plain": [
       "<Figure size 432x288 with 1 Axes>"
      ]
     },
     "metadata": {
      "needs_background": "light"
     },
     "output_type": "display_data"
    }
   ],
   "source": [
    "norm = plt.Normalize(0, max(cm_norm.diagonal()))\n",
    "colors = plt.cm.Purples(norm(cm_norm.diagonal()))\n",
    "\n",
    "plt.bar(range(len(dict_accuracies)), values, tick_label=names, color=colors)\n",
    "\n",
    "plt.xticks(rotation = 90)\n",
    "plt.ylim(top=1)\n",
    "plt.show()"
   ]
  },
  {
   "cell_type": "markdown",
   "id": "70caa3f2",
   "metadata": {},
   "source": [
    "# GLCM Haralick Features"
   ]
  },
  {
   "cell_type": "code",
   "execution_count": 141,
   "id": "af703d5d",
   "metadata": {},
   "outputs": [],
   "source": [
    "# Load the classifier, class names, scaler, number of clusters and vocabulary \n",
    "# from stored pickle file (generated during training)\n",
    "clf, classes_names, stdSlr, k, voc = jb.load(\"bovw_segmented_glcm_dt.pkl\")"
   ]
  },
  {
   "cell_type": "code",
   "execution_count": 142,
   "id": "249396bf",
   "metadata": {},
   "outputs": [
    {
     "data": {
      "text/plain": [
       "(DecisionTreeClassifier(criterion='entropy', max_depth=20, max_features='auto',\n",
       "                        min_impurity_decrease=0.0001, min_samples_split=15,\n",
       "                        random_state=0),\n",
       " ['Aluminium',\n",
       "  'Battery',\n",
       "  'Cable and Wire',\n",
       "  'Cardboard and Paper',\n",
       "  'Connector',\n",
       "  'Copper',\n",
       "  'Iron',\n",
       "  'Magnetic Tape',\n",
       "  'Printed Circuit Board',\n",
       "  'Printer Ribbon and Toner',\n",
       "  'Tube and Screen',\n",
       "  'Water Pump'],\n",
       " StandardScaler(),\n",
       " 25,\n",
       " array([[ 3.17982261e-01,  1.19928066e+02,  9.89667684e-01,\n",
       "          5.77533243e+03,  6.78442128e-01,  3.92777540e+02,\n",
       "          2.29814016e+04,  4.57787006e+00,  6.26399530e+00,\n",
       "          1.57414689e-03,  2.59264299e+00, -4.78781333e-01,\n",
       "          9.84417151e-01],\n",
       "        [ 3.52504519e-01,  1.08304601e+02,  9.91252793e-01,\n",
       "          6.17795315e+03,  6.99951845e-01,  3.94150962e+02,\n",
       "          2.46035080e+04,  4.35787299e+00,  5.92574355e+00,\n",
       "          1.70135430e-03,  2.44032171e+00, -4.92689604e-01,\n",
       "          9.82769769e-01],\n",
       "        [ 3.11520336e-01,  1.22300350e+02,  9.91909915e-01,\n",
       "          7.58365397e+03,  6.81078548e-01,  3.72741642e+02,\n",
       "          3.02123155e+04,  4.58238449e+00,  6.24237981e+00,\n",
       "          1.57800558e-03,  2.56419067e+00, -4.86064584e-01,\n",
       "          9.85980486e-01],\n",
       "        [ 2.76802707e-01,  1.04171904e+02,  9.93924987e-01,\n",
       "          8.61769762e+03,  6.67977975e-01,  3.54344412e+02,\n",
       "          3.43666186e+04,  4.82299096e+00,  6.50979422e+00,\n",
       "          1.48241744e-03,  2.60353938e+00, -4.95170331e-01,\n",
       "          9.90895490e-01],\n",
       "        [ 5.00706246e-01,  8.92163397e+01,  9.87931509e-01,\n",
       "          3.67975671e+03,  7.97665313e-01,  4.42002126e+02,\n",
       "          1.46298105e+04,  3.25648989e+00,  4.32167671e+00,\n",
       "          2.27167641e-03,  1.83240723e+00, -5.32029087e-01,\n",
       "          9.66449388e-01],\n",
       "        [ 4.95785775e-01,  6.50684212e+01,  9.87850507e-01,\n",
       "          2.71046727e+03,  8.20079865e-01,  4.53387215e+02,\n",
       "          1.07768007e+04,  3.23397368e+00,  4.14104682e+00,\n",
       "          2.36958680e-03,  1.62611633e+00, -5.63434990e-01,\n",
       "          9.64671845e-01],\n",
       "        [ 4.49230926e-01,  7.81359121e+01,  9.89855655e-01,\n",
       "          3.82422997e+03,  7.79663714e-01,  4.32742998e+02,\n",
       "          1.52187840e+04,  3.56299352e+00,  4.69040888e+00,\n",
       "          2.13620402e-03,  1.90005450e+00, -5.30837138e-01,\n",
       "          9.68221082e-01],\n",
       "        [ 5.06580830e-01,  2.86395917e+01,  9.80201584e-01,\n",
       "          8.85546972e+02,  8.74439928e-01,  4.86036868e+02,\n",
       "          3.51354829e+03,  2.84133791e+00,  3.45303802e+00,\n",
       "          2.70362163e-03,  1.20970395e+00, -6.38240944e-01,\n",
       "          9.72003268e-01],\n",
       "        [ 4.05933870e-01,  1.03558581e+02,  9.89617841e-01,\n",
       "          4.96592564e+03,  7.39143247e-01,  4.17561996e+02,\n",
       "          1.97601440e+04,  3.92184292e+00,  5.30132019e+00,\n",
       "          1.90817164e-03,  2.22709426e+00, -5.02606052e-01,\n",
       "          9.78292650e-01],\n",
       "        [ 4.43237212e-01,  7.84701257e+01,  9.90891953e-01,\n",
       "          4.28949771e+03,  7.72495509e-01,  4.36004161e+02,\n",
       "          1.70795207e+04,  3.57840740e+00,  4.74563332e+00,\n",
       "          2.08132174e-03,  1.99577496e+00, -5.23145663e-01,\n",
       "          9.75362977e-01],\n",
       "        [ 3.01895981e-01,  1.26814317e+02,  9.90598807e-01,\n",
       "          6.76389442e+03,  6.73909214e-01,  3.80080057e+02,\n",
       "          2.69287634e+04,  4.74918451e+00,  6.47061854e+00,\n",
       "          1.55052744e-03,  2.61752425e+00, -4.87239950e-01,\n",
       "          9.87183484e-01],\n",
       "        [ 4.03849315e-01,  7.21138661e+01,  9.92241298e-01,\n",
       "          4.63562660e+03,  7.57110240e-01,  4.19766914e+02,\n",
       "          1.84703925e+04,  3.92089314e+00,  5.16044290e+00,\n",
       "          1.98389516e-03,  2.04569666e+00, -5.37883889e-01,\n",
       "          9.81993394e-01],\n",
       "        [ 6.06502836e-01,  3.73565240e+01,  9.89968798e-01,\n",
       "          1.91704393e+03,  8.70746629e-01,  4.74275252e+02,\n",
       "          7.63081919e+03,  2.45019273e+00,  3.08119396e+00,\n",
       "          2.74408540e-03,  1.24156682e+00, -5.93209437e-01,\n",
       "          9.35848670e-01],\n",
       "        [ 3.85548290e-01,  1.11333608e+02,  9.87720399e-01,\n",
       "          4.52460476e+03,  7.29323590e-01,  4.21137821e+02,\n",
       "          1.79870854e+04,  4.09812578e+00,  5.53084542e+00,\n",
       "          1.83928667e-03,  2.29541861e+00, -4.96202754e-01,\n",
       "          9.80255764e-01],\n",
       "        [ 3.39495246e-01,  1.36221501e+02,  9.86888662e-01,\n",
       "          5.18714720e+03,  6.89232420e-01,  3.99597649e+02,\n",
       "          2.06123673e+04,  4.45224639e+00,  6.12677987e+00,\n",
       "          1.64286184e-03,  2.56009739e+00, -4.65373290e-01,\n",
       "          9.80406771e-01],\n",
       "        [ 3.67942247e-01,  7.78042393e+01,  9.91794391e-01,\n",
       "          4.74195783e+03,  7.37315464e-01,  4.07632334e+02,\n",
       "          1.88900271e+04,  4.17050486e+00,  5.48566315e+00,\n",
       "          1.88375509e-03,  2.11450628e+00, -5.34404710e-01,\n",
       "          9.79480148e-01],\n",
       "        [ 2.47740564e-01,  1.17150543e+02,  9.94404031e-01,\n",
       "          1.04514499e+04,  6.66921359e-01,  3.27259595e+02,\n",
       "          4.16886491e+04,  4.90047028e+00,  6.58822117e+00,\n",
       "          1.43687271e-03,  2.64741450e+00, -4.94627326e-01,\n",
       "          9.92382925e-01],\n",
       "        [ 3.36617542e-01,  1.09017306e+02,  9.90010925e-01,\n",
       "          5.44624665e+03,  6.92992360e-01,  3.98480420e+02,\n",
       "          2.16759693e+04,  4.46575511e+00,  6.09335925e+00,\n",
       "          1.67016835e-03,  2.49644043e+00, -4.87182046e-01,\n",
       "          9.82780168e-01],\n",
       "        [ 4.82835858e-01,  4.61050426e+01,  9.93300888e-01,\n",
       "          3.42491988e+03,  8.24218978e-01,  4.41278218e+02,\n",
       "          1.36535745e+04,  3.20415501e+00,  4.08590975e+00,\n",
       "          2.40080606e-03,  1.58938242e+00, -5.75520593e-01,\n",
       "          9.68159959e-01],\n",
       "        [ 5.12498266e-01,  5.98938858e+01,  9.90456596e-01,\n",
       "          3.11984692e+03,  8.17536639e-01,  4.50650404e+02,\n",
       "          1.24194938e+04,  3.15741871e+00,  4.08803590e+00,\n",
       "          2.38919187e-03,  1.64407365e+00, -5.63366397e-01,\n",
       "          9.60048478e-01],\n",
       "        [ 4.13712542e-01,  5.87987386e+01,  9.93015508e-01,\n",
       "          4.20850504e+03,  7.60431483e-01,  4.27475434e+02,\n",
       "          1.67752214e+04,  3.80704604e+00,  5.00457944e+00,\n",
       "          1.99629137e-03,  2.02501956e+00, -5.34246240e-01,\n",
       "          9.79798184e-01],\n",
       "        [ 3.40703376e-01,  9.69411070e+01,  9.88374821e-01,\n",
       "          4.16369587e+03,  7.05993514e-01,  4.15027952e+02,\n",
       "          1.65578424e+04,  4.40196192e+00,  5.96197946e+00,\n",
       "          1.70134381e-03,  2.42231151e+00, -4.89073636e-01,\n",
       "          9.84166559e-01],\n",
       "        [ 4.37234004e-01,  7.82507452e+01,  9.91132081e-01,\n",
       "          4.40129277e+03,  7.74619814e-01,  4.24483879e+02,\n",
       "          1.75269203e+04,  3.63183669e+00,  4.79474067e+00,\n",
       "          2.10411846e-03,  1.95888220e+00, -5.29000302e-01,\n",
       "          9.72761247e-01],\n",
       "        [ 4.27786451e-01,  8.55181339e+01,  9.89271199e-01,\n",
       "          3.98258628e+03,  7.55355549e-01,  4.27621224e+02,\n",
       "          1.58448270e+04,  3.70697054e+00,  4.97023870e+00,\n",
       "          2.01365116e-03,  2.07472501e+00, -5.08121562e-01,\n",
       "          9.74422944e-01],\n",
       "        [ 4.81109731e-01,  5.08800158e+01,  9.93802501e-01,\n",
       "          4.09793276e+03,  8.03060364e-01,  4.31416651e+02,\n",
       "          1.63408510e+04,  3.35305535e+00,  4.32466098e+00,\n",
       "          2.26326846e-03,  1.71578424e+00, -5.62449132e-01,\n",
       "          9.73041643e-01]]))"
      ]
     },
     "execution_count": 142,
     "metadata": {},
     "output_type": "execute_result"
    }
   ],
   "source": [
    "clf, classes_names, stdSlr, k, voc"
   ]
  },
  {
   "cell_type": "code",
   "execution_count": 143,
   "id": "7f35ee04",
   "metadata": {},
   "outputs": [],
   "source": [
    "# Get the path of the testing image(s) and store them in a list\n",
    "test_path = './waste_images/test_segmented'  "
   ]
  },
  {
   "cell_type": "code",
   "execution_count": 144,
   "id": "40dd72d2",
   "metadata": {},
   "outputs": [],
   "source": [
    "testing_names = os.listdir(test_path)\n",
    "\n",
    "# Get path to all images and save them in a list\n",
    "# image_paths and the corresponding label in image_paths\n",
    "image_paths = []\n",
    "image_classes = []\n",
    "class_id = 0\n",
    "\n",
    "#To make it easy to list all file names in a directory let us define a function\n",
    "def imglist(path):\n",
    "    return [os.path.join(path, f) for f in os.listdir(path)]\n",
    "\n",
    "#Fill the placeholder empty lists with image path, classes, and add class ID number\n",
    "for testing_name in testing_names:\n",
    "    dir = os.path.join(test_path, testing_name)\n",
    "    class_path = imglist(dir)\n",
    "    image_paths+=class_path\n",
    "    image_classes+=[class_id]*len(class_path)\n",
    "    class_id+=1"
   ]
  },
  {
   "cell_type": "code",
   "execution_count": 145,
   "id": "ea046ccf",
   "metadata": {},
   "outputs": [
    {
     "data": {
      "text/plain": [
       "['./waste_images/test_segmented\\\\Aluminium\\\\Aluminium17_segmented.JPG',\n",
       " './waste_images/test_segmented\\\\Aluminium\\\\Aluminium49_segmented.JPG',\n",
       " './waste_images/test_segmented\\\\Aluminium\\\\Aluminium55_segmented.JPG',\n",
       " './waste_images/test_segmented\\\\Aluminium\\\\Aluminium57_segmented.JPG',\n",
       " './waste_images/test_segmented\\\\Aluminium\\\\Aluminium5_segmented.JPG',\n",
       " './waste_images/test_segmented\\\\Aluminium\\\\Aluminium63_segmented.JPG',\n",
       " './waste_images/test_segmented\\\\Aluminium\\\\Aluminium70_segmented.JPG',\n",
       " './waste_images/test_segmented\\\\Aluminium\\\\Aluminium83_segmented.JPG',\n",
       " './waste_images/test_segmented\\\\Aluminium\\\\Aluminium85_segmented.JPG',\n",
       " './waste_images/test_segmented\\\\Battery\\\\Battery100_segmented.JPG']"
      ]
     },
     "execution_count": 145,
     "metadata": {},
     "output_type": "execute_result"
    }
   ],
   "source": [
    "image_paths[:10]"
   ]
  },
  {
   "cell_type": "code",
   "execution_count": 146,
   "id": "017dfba1",
   "metadata": {},
   "outputs": [
    {
     "data": {
      "text/plain": [
       "array([ 0,  1,  2,  3,  4,  5,  6,  7,  8,  9, 10, 11])"
      ]
     },
     "execution_count": 146,
     "metadata": {},
     "output_type": "execute_result"
    }
   ],
   "source": [
    "np.unique(image_classes)"
   ]
  },
  {
   "cell_type": "code",
   "execution_count": 147,
   "id": "3fb427be",
   "metadata": {},
   "outputs": [],
   "source": [
    "# Create List where all the descriptors will be stored\n",
    "des_list = []"
   ]
  },
  {
   "cell_type": "code",
   "execution_count": 148,
   "id": "59d41570",
   "metadata": {},
   "outputs": [],
   "source": [
    "def extract_glcm_features(image):\n",
    "        \n",
    "    # Calculate haralick texture features for 4 types of adjacency\n",
    "    textures = mt.features.haralick(image)\n",
    "\n",
    "    # Return the mean\n",
    "    #ht_mean = textures.mean(axis=0)\n",
    "    #return ht_mean\n",
    "        \n",
    "    return textures"
   ]
  },
  {
   "cell_type": "code",
   "execution_count": 149,
   "id": "1bc2eb58",
   "metadata": {},
   "outputs": [],
   "source": [
    "for image_path in image_paths:\n",
    "    im = cv2.imread(image_path)\n",
    "    gray_img = cv2.cvtColor(im, cv2.COLOR_BGR2GRAY) # Convert the image to grayscale\n",
    "    des = extract_glcm_features(gray_img)\n",
    "    des_list.append((image_path, des)) "
   ]
  },
  {
   "cell_type": "code",
   "execution_count": 150,
   "id": "913c51db",
   "metadata": {},
   "outputs": [],
   "source": [
    "# Stack all the descriptors vertically in a numpy array\n",
    "descriptors = des_list[0][1]\n",
    "for image_path, descriptor in des_list[0:]:\n",
    "    descriptors = np.vstack((descriptors, descriptor)) "
   ]
  },
  {
   "cell_type": "code",
   "execution_count": 151,
   "id": "1a4c100f",
   "metadata": {},
   "outputs": [
    {
     "data": {
      "text/plain": [
       "array([[  0.25541848,  53.46811424,   0.99400251, ...,   2.55347476,\n",
       "         -0.49449156,   0.99391223],\n",
       "       [  0.25134064, 103.11209778,   0.98843892, ...,   3.01946635,\n",
       "         -0.41484841,   0.9876471 ],\n",
       "       [  0.25472432,  50.81886091,   0.99430029, ...,   2.50270948,\n",
       "         -0.50561515,   0.99449909],\n",
       "       ...,\n",
       "       [  0.45014546, 116.02675109,   0.98987712, ...,   1.9056002 ,\n",
       "         -0.55516559,   0.98617585],\n",
       "       [  0.45427096,  67.6491584 ,   0.99409152, ...,   1.66985712,\n",
       "         -0.60630148,   0.99004167],\n",
       "       [  0.45026187, 101.98340962,   0.99110235, ...,   1.89785562,\n",
       "         -0.55694351,   0.9863352 ]])"
      ]
     },
     "execution_count": 151,
     "metadata": {},
     "output_type": "execute_result"
    }
   ],
   "source": [
    "descriptors"
   ]
  },
  {
   "cell_type": "code",
   "execution_count": 152,
   "id": "742db1c3",
   "metadata": {},
   "outputs": [],
   "source": [
    "# Calculate the histogram of features\n",
    "# vq Assigns codes from a code book to observations. \n",
    "test_features = np.zeros((len(image_paths), k), \"float32\")\n",
    "for i in range(len(image_paths)):\n",
    "    words, distance = vq(des_list[i][1],voc)\n",
    "    for w in words:\n",
    "        test_features[i][w] += 1"
   ]
  },
  {
   "cell_type": "code",
   "execution_count": 153,
   "id": "51c3a54c",
   "metadata": {},
   "outputs": [
    {
     "data": {
      "text/plain": [
       "array([0., 1., 2., 3., 4.], dtype=float32)"
      ]
     },
     "execution_count": 153,
     "metadata": {},
     "output_type": "execute_result"
    }
   ],
   "source": [
    "np.unique(test_features)"
   ]
  },
  {
   "cell_type": "code",
   "execution_count": 154,
   "id": "c0bd4c28",
   "metadata": {},
   "outputs": [
    {
     "name": "stdout",
     "output_type": "stream",
     "text": [
      "true_class =['Aluminium', 'Aluminium', 'Aluminium', 'Aluminium', 'Aluminium', 'Aluminium', 'Aluminium', 'Aluminium', 'Aluminium', 'Battery', 'Battery', 'Battery', 'Battery', 'Battery', 'Battery', 'Battery', 'Battery', 'Battery', 'Battery', 'Battery', 'Battery', 'Battery', 'Battery', 'Battery', 'Battery', 'Battery', 'Battery', 'Battery', 'Cable and Wire', 'Cable and Wire', 'Cable and Wire', 'Cable and Wire', 'Cable and Wire', 'Cable and Wire', 'Cable and Wire', 'Cable and Wire', 'Cable and Wire', 'Cable and Wire', 'Cardboard and Paper', 'Cardboard and Paper', 'Cardboard and Paper', 'Cardboard and Paper', 'Cardboard and Paper', 'Cardboard and Paper', 'Cardboard and Paper', 'Cardboard and Paper', 'Cardboard and Paper', 'Cardboard and Paper', 'Connector', 'Connector', 'Connector', 'Connector', 'Connector', 'Connector', 'Connector', 'Connector', 'Connector', 'Copper', 'Copper', 'Copper', 'Copper', 'Copper', 'Copper', 'Copper', 'Copper', 'Copper', 'Copper', 'Copper', 'Iron', 'Iron', 'Iron', 'Iron', 'Iron', 'Iron', 'Magnetic Tape', 'Magnetic Tape', 'Magnetic Tape', 'Printed Circuit Board', 'Printed Circuit Board', 'Printed Circuit Board', 'Printed Circuit Board', 'Printed Circuit Board', 'Printed Circuit Board', 'Printed Circuit Board', 'Printed Circuit Board', 'Printed Circuit Board', 'Printed Circuit Board', 'Printed Circuit Board', 'Printed Circuit Board', 'Printed Circuit Board', 'Printed Circuit Board', 'Printed Circuit Board', 'Printed Circuit Board', 'Printed Circuit Board', 'Printed Circuit Board', 'Printed Circuit Board', 'Printed Circuit Board', 'Printed Circuit Board', 'Printed Circuit Board', 'Printed Circuit Board', 'Printed Circuit Board', 'Printed Circuit Board', 'Printed Circuit Board', 'Printed Circuit Board', 'Printed Circuit Board', 'Printed Circuit Board', 'Printed Circuit Board', 'Printed Circuit Board', 'Printed Circuit Board', 'Printed Circuit Board', 'Printed Circuit Board', 'Printed Circuit Board', 'Printed Circuit Board', 'Printed Circuit Board', 'Printed Circuit Board', 'Printed Circuit Board', 'Printed Circuit Board', 'Printed Circuit Board', 'Printed Circuit Board', 'Printer Ribbon and Toner', 'Printer Ribbon and Toner', 'Printer Ribbon and Toner', 'Printer Ribbon and Toner', 'Printer Ribbon and Toner', 'Printer Ribbon and Toner', 'Printer Ribbon and Toner', 'Printer Ribbon and Toner', 'Tube and Screen', 'Tube and Screen', 'Tube and Screen', 'Tube and Screen', 'Tube and Screen', 'Tube and Screen', 'Tube and Screen', 'Tube and Screen', 'Tube and Screen', 'Tube and Screen', 'Water Pump', 'Water Pump']\n",
      "prediction =['Printed Circuit Board', 'Printed Circuit Board', 'Printed Circuit Board', 'Printed Circuit Board', 'Printed Circuit Board', 'Printed Circuit Board', 'Battery', 'Printed Circuit Board', 'Printed Circuit Board', 'Printed Circuit Board', 'Printer Ribbon and Toner', 'Cardboard and Paper', 'Cardboard and Paper', 'Printed Circuit Board', 'Battery', 'Battery', 'Printed Circuit Board', 'Printed Circuit Board', 'Printed Circuit Board', 'Cardboard and Paper', 'Printed Circuit Board', 'Printed Circuit Board', 'Cardboard and Paper', 'Printed Circuit Board', 'Cardboard and Paper', 'Printed Circuit Board', 'Cardboard and Paper', 'Printed Circuit Board', 'Cardboard and Paper', 'Cardboard and Paper', 'Cable and Wire', 'Printed Circuit Board', 'Printed Circuit Board', 'Printed Circuit Board', 'Printed Circuit Board', 'Battery', 'Battery', 'Printed Circuit Board', 'Printed Circuit Board', 'Cardboard and Paper', 'Printed Circuit Board', 'Printed Circuit Board', 'Cardboard and Paper', 'Battery', 'Cardboard and Paper', 'Printed Circuit Board', 'Cardboard and Paper', 'Printed Circuit Board', 'Printed Circuit Board', 'Printed Circuit Board', 'Printed Circuit Board', 'Printed Circuit Board', 'Printed Circuit Board', 'Cardboard and Paper', 'Battery', 'Printed Circuit Board', 'Printer Ribbon and Toner', 'Printed Circuit Board', 'Printed Circuit Board', 'Printed Circuit Board', 'Printed Circuit Board', 'Printed Circuit Board', 'Printed Circuit Board', 'Printed Circuit Board', 'Printed Circuit Board', 'Printed Circuit Board', 'Printed Circuit Board', 'Printed Circuit Board', 'Printed Circuit Board', 'Cardboard and Paper', 'Cardboard and Paper', 'Printed Circuit Board', 'Printed Circuit Board', 'Printed Circuit Board', 'Battery', 'Printer Ribbon and Toner', 'Printer Ribbon and Toner', 'Printed Circuit Board', 'Printed Circuit Board', 'Printed Circuit Board', 'Printed Circuit Board', 'Printed Circuit Board', 'Printed Circuit Board', 'Printed Circuit Board', 'Printed Circuit Board', 'Printed Circuit Board', 'Printed Circuit Board', 'Printed Circuit Board', 'Printed Circuit Board', 'Printed Circuit Board', 'Printed Circuit Board', 'Printed Circuit Board', 'Printed Circuit Board', 'Printed Circuit Board', 'Printed Circuit Board', 'Printed Circuit Board', 'Printed Circuit Board', 'Printed Circuit Board', 'Printed Circuit Board', 'Printed Circuit Board', 'Printed Circuit Board', 'Printed Circuit Board', 'Printed Circuit Board', 'Printed Circuit Board', 'Printed Circuit Board', 'Printed Circuit Board', 'Printed Circuit Board', 'Printed Circuit Board', 'Printed Circuit Board', 'Printed Circuit Board', 'Printed Circuit Board', 'Printed Circuit Board', 'Printed Circuit Board', 'Printed Circuit Board', 'Printed Circuit Board', 'Printed Circuit Board', 'Printed Circuit Board', 'Printed Circuit Board', 'Printed Circuit Board', 'Printed Circuit Board', 'Printed Circuit Board', 'Printer Ribbon and Toner', 'Printed Circuit Board', 'Printed Circuit Board', 'Printer Ribbon and Toner', 'Printed Circuit Board', 'Printed Circuit Board', 'Printed Circuit Board', 'Printed Circuit Board', 'Printed Circuit Board', 'Printed Circuit Board', 'Printed Circuit Board', 'Printed Circuit Board', 'Printed Circuit Board', 'Printed Circuit Board', 'Printed Circuit Board', 'Printed Circuit Board', 'Printed Circuit Board', 'Printed Circuit Board']\n"
     ]
    }
   ],
   "source": [
    "# Scale the features\n",
    "# Standardize features by removing the mean and scaling to unit variance\n",
    "# Scaler (stdSlr comes from the pickled file we imported)\n",
    "test_features = stdSlr.transform(test_features)\n",
    "\n",
    "#######Until here most of the above code is similar to Train except for kmeans clustering####\n",
    "\n",
    "# Report true class names so they can be compared with predicted classes\n",
    "true_class =  [classes_names[i] for i in image_classes]\n",
    "# Perform the predictions and report predicted class names. \n",
    "predictions =  [classes_names[i] for i in clf.predict(test_features)]\n",
    "\n",
    "\n",
    "# Print the true class and Predictions \n",
    "print (\"true_class =\"  + str(true_class))\n",
    "print (\"prediction =\"  + str(predictions))"
   ]
  },
  {
   "cell_type": "code",
   "execution_count": 156,
   "id": "b953a0b3",
   "metadata": {},
   "outputs": [
    {
     "name": "stdout",
     "output_type": "stream",
     "text": [
      "accuracy =  0.3669064748201439\n"
     ]
    }
   ],
   "source": [
    "# To make it easy to understand the accuracy let us print the confusion matrix\n",
    "\n",
    "def showconfusionmatrix(cm):\n",
    "    pl.matshow(cm)\n",
    "    pl.title('Confusion matrix')\n",
    "    pl.colorbar()\n",
    "    pl.show()\n",
    "\n",
    "\n",
    "accuracy = accuracy_score(true_class, predictions)\n",
    "print (\"accuracy = \", accuracy)\n",
    "cm = confusion_matrix(true_class, predictions, labels=classes_names)\n",
    "#print (cm)\n",
    "#showconfusionmatrix(cm)"
   ]
  },
  {
   "cell_type": "code",
   "execution_count": 157,
   "id": "f4df08bd",
   "metadata": {},
   "outputs": [
    {
     "data": {
      "image/png": "[encoded data removed]",
      "text/plain": [
       "<Figure size 432x288 with 2 Axes>"
      ]
     },
     "metadata": {
      "needs_background": "light"
     },
     "output_type": "display_data"
    }
   ],
   "source": [
    "disp = ConfusionMatrixDisplay(confusion_matrix=cm, display_labels=classes_names)\n",
    "disp.plot(xticks_rotation = 'vertical')\n",
    "plt.show()"
   ]
  },
  {
   "cell_type": "code",
   "execution_count": 158,
   "id": "53099ec0",
   "metadata": {},
   "outputs": [
    {
     "data": {
      "text/plain": [
       "array([0.        , 0.10526316, 0.1       , 0.4       , 0.        ,\n",
       "       0.        , 0.        , 0.        , 1.        , 0.25      ,\n",
       "       0.        , 0.        ])"
      ]
     },
     "execution_count": 158,
     "metadata": {},
     "output_type": "execute_result"
    }
   ],
   "source": [
    "cm_norm = cm.astype('float') / cm.sum(axis=1)[:, np.newaxis]\n",
    "cm_norm.diagonal()"
   ]
  },
  {
   "cell_type": "code",
   "execution_count": 159,
   "id": "b8865247",
   "metadata": {},
   "outputs": [
    {
     "data": {
      "text/plain": [
       "{'Aluminium': 0.0,\n",
       " 'Battery': 0.11,\n",
       " 'Cable and Wire': 0.1,\n",
       " 'Cardboard and Paper': 0.4,\n",
       " 'Connector': 0.0,\n",
       " 'Copper': 0.0,\n",
       " 'Iron': 0.0,\n",
       " 'Magnetic Tape': 0.0,\n",
       " 'Printed Circuit Board': 1.0,\n",
       " 'Printer Ribbon and Toner': 0.25,\n",
       " 'Tube and Screen': 0.0,\n",
       " 'Water Pump': 0.0}"
      ]
     },
     "execution_count": 159,
     "metadata": {},
     "output_type": "execute_result"
    }
   ],
   "source": [
    "dict_accuracies = {}\n",
    "\n",
    "for i, class_name in zip(cm_norm.diagonal(), classes_names):\n",
    "    dict_accuracies[class_name] = round(i,2)\n",
    "\n",
    "\n",
    "names = list(dict_accuracies.keys())\n",
    "values = list(dict_accuracies.values())\n",
    "\n",
    "dict_accuracies"
   ]
  },
  {
   "cell_type": "code",
   "execution_count": 160,
   "id": "095fc478",
   "metadata": {},
   "outputs": [
    {
     "data": {
      "image/png": "[encoded data removed]",
      "text/plain": [
       "<Figure size 432x288 with 1 Axes>"
      ]
     },
     "metadata": {
      "needs_background": "light"
     },
     "output_type": "display_data"
    }
   ],
   "source": [
    "norm = plt.Normalize(0, max(cm_norm.diagonal()))\n",
    "colors = plt.cm.Purples(norm(cm_norm.diagonal()))\n",
    "\n",
    "plt.bar(range(len(dict_accuracies)), values, tick_label=names, color=colors)\n",
    "\n",
    "plt.xticks(rotation = 90)\n",
    "plt.ylim(top=1)\n",
    "plt.show()"
   ]
  },
  {
   "cell_type": "markdown",
   "id": "088cf28c",
   "metadata": {},
   "source": [
    "# LBP - Local Binary Patterns"
   ]
  },
  {
   "cell_type": "code",
   "execution_count": 106,
   "id": "c5ec5bd2",
   "metadata": {},
   "outputs": [],
   "source": [
    "# Load the classifier, class names, scaler, number of clusters and vocabulary \n",
    "# from stored pickle file (generated during training)\n",
    "clf, classes_names, stdSlr, k, voc = jb.load(\"bovw_segmented_lbp_rf.pkl\")"
   ]
  },
  {
   "cell_type": "code",
   "execution_count": 107,
   "id": "e5b25414",
   "metadata": {},
   "outputs": [
    {
     "data": {
      "text/plain": [
       "(RandomForestClassifier(criterion='entropy', max_depth=50, min_samples_split=30,\n",
       "                        n_estimators=50, random_state=0),\n",
       " ['Aluminium',\n",
       "  'Battery',\n",
       "  'Cable and Wire',\n",
       "  'Cardboard and Paper',\n",
       "  'Connector',\n",
       "  'Copper',\n",
       "  'Iron',\n",
       "  'Magnetic Tape',\n",
       "  'Printed Circuit Board',\n",
       "  'Printer Ribbon and Toner',\n",
       "  'Tube and Screen',\n",
       "  'Water Pump'],\n",
       " StandardScaler(),\n",
       " 25,\n",
       " array([[4.37569582, 6.76714784, 6.78809322, ..., 6.25125012, 6.29672611,\n",
       "         4.22756864],\n",
       "        [4.99178157, 7.97667486, 7.97654422, ..., 7.97264878, 7.97470339,\n",
       "         5.00100949],\n",
       "        [4.99590756, 7.9735195 , 7.96569571, ..., 7.91056813, 7.92838228,\n",
       "         4.98110255],\n",
       "        ...,\n",
       "        [4.98197976, 7.96507035, 7.9648235 , ..., 7.93014071, 7.93915083,\n",
       "         4.98259689],\n",
       "        [4.99061804, 7.97818694, 7.9746687 , ..., 7.96106485, 7.96153395,\n",
       "         4.98909347],\n",
       "        [4.875     , 7.63460243, 7.63005391, ..., 6.46276954, 6.46445418,\n",
       "         4.293969  ]]))"
      ]
     },
     "execution_count": 107,
     "metadata": {},
     "output_type": "execute_result"
    }
   ],
   "source": [
    "clf, classes_names, stdSlr, k, voc"
   ]
  },
  {
   "cell_type": "code",
   "execution_count": 108,
   "id": "839a6775",
   "metadata": {},
   "outputs": [
    {
     "data": {
      "text/plain": [
       "(22, 640)"
      ]
     },
     "execution_count": 108,
     "metadata": {},
     "output_type": "execute_result"
    }
   ],
   "source": [
    "voc.shape"
   ]
  },
  {
   "cell_type": "code",
   "execution_count": 109,
   "id": "c376d298",
   "metadata": {},
   "outputs": [],
   "source": [
    "# Get the path of the testing image(s) and store them in a list\n",
    "test_path = './waste_images/test_segmented'"
   ]
  },
  {
   "cell_type": "code",
   "execution_count": 110,
   "id": "881d8d1a",
   "metadata": {},
   "outputs": [],
   "source": [
    "testing_names = os.listdir(test_path)"
   ]
  },
  {
   "cell_type": "code",
   "execution_count": 111,
   "id": "57891579",
   "metadata": {},
   "outputs": [],
   "source": [
    "# Get path to all images and save them in a list\n",
    "# image_paths and the corresponding label in image_paths\n",
    "image_paths = []\n",
    "image_classes = []\n",
    "class_id = 0\n",
    "\n",
    "#To make it easy to list all file names in a directory let us define a function\n",
    "def imglist(path):\n",
    "    return [os.path.join(path, f) for f in os.listdir(path)]\n",
    "\n",
    "#Fill the placeholder empty lists with image path, classes, and add class ID number\n",
    "\n",
    "for testing_name in testing_names:\n",
    "    dir = os.path.join(test_path, testing_name)\n",
    "    class_path = imglist(dir)\n",
    "    image_paths+=class_path\n",
    "    image_classes+=[class_id]*len(class_path)\n",
    "    class_id+=1"
   ]
  },
  {
   "cell_type": "code",
   "execution_count": 112,
   "id": "9aabb4fd",
   "metadata": {},
   "outputs": [
    {
     "data": {
      "text/plain": [
       "['./waste_images/test_segmented\\\\Aluminium\\\\Aluminium17_segmented.JPG',\n",
       " './waste_images/test_segmented\\\\Aluminium\\\\Aluminium49_segmented.JPG',\n",
       " './waste_images/test_segmented\\\\Aluminium\\\\Aluminium55_segmented.JPG',\n",
       " './waste_images/test_segmented\\\\Aluminium\\\\Aluminium57_segmented.JPG',\n",
       " './waste_images/test_segmented\\\\Aluminium\\\\Aluminium5_segmented.JPG',\n",
       " './waste_images/test_segmented\\\\Aluminium\\\\Aluminium63_segmented.JPG',\n",
       " './waste_images/test_segmented\\\\Aluminium\\\\Aluminium70_segmented.JPG',\n",
       " './waste_images/test_segmented\\\\Aluminium\\\\Aluminium83_segmented.JPG',\n",
       " './waste_images/test_segmented\\\\Aluminium\\\\Aluminium85_segmented.JPG',\n",
       " './waste_images/test_segmented\\\\Battery\\\\Battery100_segmented.JPG']"
      ]
     },
     "execution_count": 112,
     "metadata": {},
     "output_type": "execute_result"
    }
   ],
   "source": [
    "image_paths[:10]"
   ]
  },
  {
   "cell_type": "code",
   "execution_count": 113,
   "id": "3f846204",
   "metadata": {},
   "outputs": [
    {
     "data": {
      "text/plain": [
       "array([ 0,  1,  2,  3,  4,  5,  6,  7,  8,  9, 10, 11])"
      ]
     },
     "execution_count": 113,
     "metadata": {},
     "output_type": "execute_result"
    }
   ],
   "source": [
    "np.unique(image_classes)"
   ]
  },
  {
   "cell_type": "code",
   "execution_count": 114,
   "id": "f767e1a2",
   "metadata": {},
   "outputs": [],
   "source": [
    "# Create list where all the descriptors will be stored\n",
    "des_list = []"
   ]
  },
  {
   "cell_type": "code",
   "execution_count": 115,
   "id": "21b381f6",
   "metadata": {},
   "outputs": [],
   "source": [
    "def extract_lbp_features(img, radius=1, sampling_pixels=8):\n",
    "    \n",
    "    # LBP operates in single channel images so if RGB images are provided\n",
    "    # we have to convert it to grayscale\n",
    "    if (len(img.shape) > 2):\n",
    "        img = img.astype(float)\n",
    "        # RGB to grayscale convertion using Luminance\n",
    "        img = img[:,:,0]*0.3 + img[:,:,1]*0.59 + img[:,:,2]*0.11\n",
    "\n",
    "    # converting to uint8 type for 256 graylevels\n",
    "    img = img.astype(np.uint8)\n",
    "    \n",
    "    # normalize values can also help improving description\n",
    "    i_min = np.min(img)\n",
    "    i_max = np.max(img)\n",
    "    if (i_max - i_min != 0):\n",
    "        img = (img - i_min)/(i_max-i_min)\n",
    "    \n",
    "    # compute LBP\n",
    "    lbp = feature.local_binary_pattern(img, sampling_pixels, radius, method=\"uniform\")\n",
    "    \n",
    "    '''\n",
    "    # LBP returns a matrix with the codes, so we compute the histogram\n",
    "    (hist, _) = np.histogram(lbp.ravel(), bins=np.arange(0, sampling_pixels + 3), range=(0, sampling_pixels + 2))\n",
    "\n",
    "    # normalization\n",
    "    hist = hist.astype(\"float\")\n",
    "    hist /= (hist.sum() + 1e-6)\n",
    "    # return the histogram of Local Binary Patterns\n",
    "    return hist\n",
    "    '''\n",
    "    \n",
    "    return lbp"
   ]
  },
  {
   "cell_type": "code",
   "execution_count": 116,
   "id": "d6b1b9a4",
   "metadata": {},
   "outputs": [],
   "source": [
    "for image_path in image_paths:\n",
    "    im = cv2.imread(image_path)\n",
    "    #gray_img = cv2.cvtColor(im, cv2.COLOR_BGR2GRAY) # Convert the image to grayscale\n",
    "    des = extract_lbp_features(im)\n",
    "    des_list.append((image_path, des)) "
   ]
  },
  {
   "cell_type": "code",
   "execution_count": 117,
   "id": "fcbf5e8d",
   "metadata": {},
   "outputs": [
    {
     "data": {
      "text/plain": [
       "139"
      ]
     },
     "execution_count": 117,
     "metadata": {},
     "output_type": "execute_result"
    }
   ],
   "source": [
    "len(des_list)"
   ]
  },
  {
   "cell_type": "code",
   "execution_count": 118,
   "id": "e04b39c0",
   "metadata": {},
   "outputs": [],
   "source": [
    "removal_list = []\n",
    "\n",
    "for image_path, descriptor in des_list[1:]:\n",
    "    if (descriptor.shape[1] != (640)):\n",
    "        #print(image_path, descriptor.shape)\n",
    "        removal_list.append(image_path)"
   ]
  },
  {
   "cell_type": "code",
   "execution_count": 119,
   "id": "083df424",
   "metadata": {},
   "outputs": [
    {
     "data": {
      "text/plain": [
       "['./waste_images/test_segmented\\\\Cable and Wire\\\\Cable and Wire106_segmented.JPG',\n",
       " './waste_images/test_segmented\\\\Copper\\\\Copper28_segmented.JPG',\n",
       " './waste_images/test_segmented\\\\Copper\\\\Copper5_segmented.JPG',\n",
       " './waste_images/test_segmented\\\\Printed Circuit Board\\\\Printed Circuit Board130_segmented.JPG',\n",
       " './waste_images/test_segmented\\\\Printer Ribbon and Toner\\\\Printer Ribbon and Toner38_segmented.JPG']"
      ]
     },
     "execution_count": 119,
     "metadata": {},
     "output_type": "execute_result"
    }
   ],
   "source": [
    "removal_list"
   ]
  },
  {
   "cell_type": "code",
   "execution_count": 120,
   "id": "a276dcbc",
   "metadata": {},
   "outputs": [],
   "source": [
    "# Stack all the descriptors vertically in a numpy array\n",
    "descriptors = des_list[0][1]\n",
    "for image_path, descriptor in des_list[1:]:\n",
    "        if image_path not in removal_list:\n",
    "            #print(image_path)\n",
    "            descriptors = np.vstack((descriptors, descriptor))"
   ]
  },
  {
   "cell_type": "code",
   "execution_count": 121,
   "id": "16b2a7c9",
   "metadata": {},
   "outputs": [
    {
     "data": {
      "text/plain": [
       "array([[3., 5., 5., ..., 5., 5., 3.],\n",
       "       [5., 8., 8., ..., 8., 8., 5.],\n",
       "       [5., 8., 8., ..., 8., 8., 5.],\n",
       "       ...,\n",
       "       [5., 8., 8., ..., 8., 8., 5.],\n",
       "       [5., 8., 8., ..., 8., 8., 5.],\n",
       "       [3., 5., 5., ..., 5., 5., 3.]])"
      ]
     },
     "execution_count": 121,
     "metadata": {},
     "output_type": "execute_result"
    }
   ],
   "source": [
    "descriptors"
   ]
  },
  {
   "cell_type": "code",
   "execution_count": 122,
   "id": "412b7652",
   "metadata": {},
   "outputs": [],
   "source": [
    "adjusted_des_list = []\n",
    "\n",
    "for item in des_list:\n",
    "    if item[0] not in removal_list:\n",
    "        #print(item[0])\n",
    "        adjusted_des_list.append(item)"
   ]
  },
  {
   "cell_type": "code",
   "execution_count": 123,
   "id": "e34464c6",
   "metadata": {},
   "outputs": [
    {
     "data": {
      "text/plain": [
       "134"
      ]
     },
     "execution_count": 123,
     "metadata": {},
     "output_type": "execute_result"
    }
   ],
   "source": [
    "len(adjusted_des_list)"
   ]
  },
  {
   "cell_type": "code",
   "execution_count": 124,
   "id": "e0386ae3",
   "metadata": {},
   "outputs": [
    {
     "data": {
      "text/plain": [
       "(5, 139)"
      ]
     },
     "execution_count": 124,
     "metadata": {},
     "output_type": "execute_result"
    }
   ],
   "source": [
    "len(removal_list), len(image_paths)"
   ]
  },
  {
   "cell_type": "code",
   "execution_count": 125,
   "id": "b0b74722",
   "metadata": {},
   "outputs": [],
   "source": [
    "def list_difference(b, a):\n",
    "    c = list(b)\n",
    "    for item in a:\n",
    "        try:\n",
    "            c.remove(item)\n",
    "        except ValueError:\n",
    "            pass            #or maybe you want to keep a values here\n",
    "    return c"
   ]
  },
  {
   "cell_type": "code",
   "execution_count": 126,
   "id": "3cc89de2",
   "metadata": {},
   "outputs": [
    {
     "data": {
      "text/plain": [
       "134"
      ]
     },
     "execution_count": 126,
     "metadata": {},
     "output_type": "execute_result"
    }
   ],
   "source": [
    "adjusted_image_paths = list_difference(image_paths, removal_list)\n",
    "len(adjusted_image_paths)"
   ]
  },
  {
   "cell_type": "code",
   "execution_count": 127,
   "id": "19dd23fd",
   "metadata": {},
   "outputs": [],
   "source": [
    "# Calculate the histogram of features and represent them as vector\n",
    "# vq assigns codes from a code book to observations\n",
    "\n",
    "test_features = np.zeros((len(adjusted_image_paths), k), \"float32\")\n",
    "\n",
    "for i in range(len(adjusted_image_paths)):\n",
    "    words, distance = vq(adjusted_des_list[i][1],voc)\n",
    "    for w in words:\n",
    "        test_features[i][w] += 1"
   ]
  },
  {
   "cell_type": "code",
   "execution_count": 128,
   "id": "0f98b4a4",
   "metadata": {},
   "outputs": [
    {
     "data": {
      "text/plain": [
       "array([  0.,   1.,   2.,   3.,   4.,   5.,   6.,   7.,   8.,   9.,  10.,\n",
       "        11.,  12.,  13.,  14.,  15.,  16.,  17.,  18.,  19.,  20.,  21.,\n",
       "        22.,  23.,  24.,  25.,  26.,  27.,  28.,  29.,  30.,  31.,  32.,\n",
       "        33.,  34.,  35.,  36.,  37.,  38.,  39.,  40.,  41.,  42.,  43.,\n",
       "        44.,  45.,  46.,  47.,  48.,  49.,  50.,  51.,  52.,  53.,  54.,\n",
       "        55.,  56.,  57.,  58.,  59.,  60.,  61.,  62.,  63.,  64.,  65.,\n",
       "        66.,  67.,  68.,  69.,  70.,  71.,  72.,  73.,  74.,  75.,  76.,\n",
       "        77.,  78.,  79.,  80.,  81.,  82.,  83.,  84.,  85.,  86.,  87.,\n",
       "        88.,  89.,  90.,  91.,  92.,  93.,  94.,  95.,  96.,  97.,  98.,\n",
       "        99., 100., 101., 102., 103., 104., 105., 106., 107., 108., 109.,\n",
       "       110., 111., 112., 114., 115., 116., 117., 118., 119., 120., 121.,\n",
       "       122., 124., 125., 126., 127., 129., 130., 131., 132., 133., 134.,\n",
       "       135., 136., 138., 139., 140., 142., 143., 144., 145., 146., 148.,\n",
       "       150., 151., 152., 155., 156., 157., 158., 159., 160., 161., 162.,\n",
       "       163., 164., 165., 166., 167., 168., 169., 170., 171., 172., 173.,\n",
       "       174., 175., 176., 179., 184., 186., 187., 191., 195., 200., 201.,\n",
       "       202., 203., 208., 211., 212., 214., 215., 216., 218., 219., 221.,\n",
       "       223., 224., 225., 227., 229., 233., 234., 236., 237., 240., 242.,\n",
       "       245., 246., 249., 252., 254., 257., 259., 267., 270., 273., 278.,\n",
       "       279., 281., 282., 285., 290., 292., 297., 299., 310., 312., 313.,\n",
       "       314., 318., 324., 327., 338., 348.], dtype=float32)"
      ]
     },
     "execution_count": 128,
     "metadata": {},
     "output_type": "execute_result"
    }
   ],
   "source": [
    "np.unique(test_features)"
   ]
  },
  {
   "cell_type": "code",
   "execution_count": 129,
   "id": "991dc561",
   "metadata": {},
   "outputs": [
    {
     "data": {
      "text/plain": [
       "['Aluminium',\n",
       " 'Battery',\n",
       " 'Cable and Wire',\n",
       " 'Cardboard and Paper',\n",
       " 'Connector',\n",
       " 'Copper',\n",
       " 'Iron',\n",
       " 'Magnetic Tape',\n",
       " 'Printed Circuit Board',\n",
       " 'Printer Ribbon and Toner',\n",
       " 'Tube and Screen',\n",
       " 'Water Pump']"
      ]
     },
     "execution_count": 129,
     "metadata": {},
     "output_type": "execute_result"
    }
   ],
   "source": [
    "labels_classes = {'Aluminium':0, 'Battery':1, 'Cable and Wire':2, 'Cardboard and Paper':3, 'Connector':4,\n",
    "                'Copper':5, 'Iron':6, 'Magnetic Tape':7, 'Printed Circuit Board':8, \n",
    "                'Printer Ribbon and Toner':9, 'Tube and Screen':10, 'Water Pump':11}\n",
    "\n",
    "list(labels_classes.keys())"
   ]
  },
  {
   "cell_type": "code",
   "execution_count": 130,
   "id": "a399b95b",
   "metadata": {},
   "outputs": [],
   "source": [
    "classesToRemove = []\n",
    "\n",
    "for key in labels_classes:\n",
    "    for string in removal_list:\n",
    "        if key in string:\n",
    "            #print(labels_classes[key])\n",
    "            classesToRemove.append(labels_classes[key])"
   ]
  },
  {
   "cell_type": "code",
   "execution_count": 131,
   "id": "03c6be13",
   "metadata": {},
   "outputs": [
    {
     "data": {
      "text/plain": [
       "[2, 5, 5, 8, 9]"
      ]
     },
     "execution_count": 131,
     "metadata": {},
     "output_type": "execute_result"
    }
   ],
   "source": [
    "classesToRemove"
   ]
  },
  {
   "cell_type": "code",
   "execution_count": 132,
   "id": "5ef87fdc",
   "metadata": {},
   "outputs": [],
   "source": [
    "adjusted_image_classes = list_difference(image_classes, classesToRemove)"
   ]
  },
  {
   "cell_type": "code",
   "execution_count": 133,
   "id": "bb01194a",
   "metadata": {},
   "outputs": [
    {
     "data": {
      "text/plain": [
       "134"
      ]
     },
     "execution_count": 133,
     "metadata": {},
     "output_type": "execute_result"
    }
   ],
   "source": [
    "len(adjusted_image_classes)"
   ]
  },
  {
   "cell_type": "code",
   "execution_count": 134,
   "id": "dd793938",
   "metadata": {},
   "outputs": [
    {
     "name": "stdout",
     "output_type": "stream",
     "text": [
      "true_class =['Aluminium', 'Aluminium', 'Aluminium', 'Aluminium', 'Aluminium', 'Aluminium', 'Aluminium', 'Aluminium', 'Aluminium', 'Battery', 'Battery', 'Battery', 'Battery', 'Battery', 'Battery', 'Battery', 'Battery', 'Battery', 'Battery', 'Battery', 'Battery', 'Battery', 'Battery', 'Battery', 'Battery', 'Battery', 'Battery', 'Battery', 'Cable and Wire', 'Cable and Wire', 'Cable and Wire', 'Cable and Wire', 'Cable and Wire', 'Cable and Wire', 'Cable and Wire', 'Cable and Wire', 'Cable and Wire', 'Cardboard and Paper', 'Cardboard and Paper', 'Cardboard and Paper', 'Cardboard and Paper', 'Cardboard and Paper', 'Cardboard and Paper', 'Cardboard and Paper', 'Cardboard and Paper', 'Cardboard and Paper', 'Cardboard and Paper', 'Connector', 'Connector', 'Connector', 'Connector', 'Connector', 'Connector', 'Connector', 'Connector', 'Connector', 'Copper', 'Copper', 'Copper', 'Copper', 'Copper', 'Copper', 'Copper', 'Copper', 'Copper', 'Iron', 'Iron', 'Iron', 'Iron', 'Iron', 'Iron', 'Magnetic Tape', 'Magnetic Tape', 'Magnetic Tape', 'Printed Circuit Board', 'Printed Circuit Board', 'Printed Circuit Board', 'Printed Circuit Board', 'Printed Circuit Board', 'Printed Circuit Board', 'Printed Circuit Board', 'Printed Circuit Board', 'Printed Circuit Board', 'Printed Circuit Board', 'Printed Circuit Board', 'Printed Circuit Board', 'Printed Circuit Board', 'Printed Circuit Board', 'Printed Circuit Board', 'Printed Circuit Board', 'Printed Circuit Board', 'Printed Circuit Board', 'Printed Circuit Board', 'Printed Circuit Board', 'Printed Circuit Board', 'Printed Circuit Board', 'Printed Circuit Board', 'Printed Circuit Board', 'Printed Circuit Board', 'Printed Circuit Board', 'Printed Circuit Board', 'Printed Circuit Board', 'Printed Circuit Board', 'Printed Circuit Board', 'Printed Circuit Board', 'Printed Circuit Board', 'Printed Circuit Board', 'Printed Circuit Board', 'Printed Circuit Board', 'Printed Circuit Board', 'Printed Circuit Board', 'Printed Circuit Board', 'Printed Circuit Board', 'Printed Circuit Board', 'Printed Circuit Board', 'Printer Ribbon and Toner', 'Printer Ribbon and Toner', 'Printer Ribbon and Toner', 'Printer Ribbon and Toner', 'Printer Ribbon and Toner', 'Printer Ribbon and Toner', 'Printer Ribbon and Toner', 'Tube and Screen', 'Tube and Screen', 'Tube and Screen', 'Tube and Screen', 'Tube and Screen', 'Tube and Screen', 'Tube and Screen', 'Tube and Screen', 'Tube and Screen', 'Tube and Screen', 'Water Pump', 'Water Pump']\n",
      "prediction =['Printed Circuit Board', 'Printed Circuit Board', 'Printed Circuit Board', 'Printed Circuit Board', 'Printed Circuit Board', 'Printed Circuit Board', 'Printed Circuit Board', 'Printed Circuit Board', 'Printed Circuit Board', 'Printed Circuit Board', 'Printed Circuit Board', 'Battery', 'Printed Circuit Board', 'Printed Circuit Board', 'Battery', 'Printed Circuit Board', 'Battery', 'Printed Circuit Board', 'Battery', 'Printed Circuit Board', 'Printed Circuit Board', 'Printed Circuit Board', 'Printed Circuit Board', 'Printed Circuit Board', 'Battery', 'Printed Circuit Board', 'Printed Circuit Board', 'Battery', 'Printed Circuit Board', 'Printed Circuit Board', 'Printed Circuit Board', 'Printed Circuit Board', 'Printed Circuit Board', 'Printed Circuit Board', 'Battery', 'Printed Circuit Board', 'Printed Circuit Board', 'Printed Circuit Board', 'Printed Circuit Board', 'Printed Circuit Board', 'Printed Circuit Board', 'Printed Circuit Board', 'Printed Circuit Board', 'Printed Circuit Board', 'Printed Circuit Board', 'Printed Circuit Board', 'Tube and Screen', 'Printed Circuit Board', 'Printed Circuit Board', 'Printed Circuit Board', 'Printed Circuit Board', 'Connector', 'Printed Circuit Board', 'Printed Circuit Board', 'Printed Circuit Board', 'Printed Circuit Board', 'Printed Circuit Board', 'Printed Circuit Board', 'Printed Circuit Board', 'Printed Circuit Board', 'Printed Circuit Board', 'Printed Circuit Board', 'Printed Circuit Board', 'Printed Circuit Board', 'Printed Circuit Board', 'Printed Circuit Board', 'Printed Circuit Board', 'Printed Circuit Board', 'Printed Circuit Board', 'Printed Circuit Board', 'Printed Circuit Board', 'Printed Circuit Board', 'Printed Circuit Board', 'Printed Circuit Board', 'Printed Circuit Board', 'Printed Circuit Board', 'Printed Circuit Board', 'Printed Circuit Board', 'Printed Circuit Board', 'Printed Circuit Board', 'Printed Circuit Board', 'Printed Circuit Board', 'Printed Circuit Board', 'Printed Circuit Board', 'Connector', 'Printed Circuit Board', 'Printed Circuit Board', 'Printed Circuit Board', 'Printed Circuit Board', 'Printed Circuit Board', 'Printed Circuit Board', 'Printed Circuit Board', 'Printed Circuit Board', 'Printed Circuit Board', 'Printed Circuit Board', 'Printed Circuit Board', 'Printed Circuit Board', 'Printed Circuit Board', 'Printed Circuit Board', 'Printed Circuit Board', 'Printed Circuit Board', 'Printed Circuit Board', 'Printed Circuit Board', 'Printed Circuit Board', 'Printed Circuit Board', 'Printed Circuit Board', 'Printed Circuit Board', 'Battery', 'Printed Circuit Board', 'Printed Circuit Board', 'Printed Circuit Board', 'Printed Circuit Board', 'Printed Circuit Board', 'Printed Circuit Board', 'Printed Circuit Board', 'Printed Circuit Board', 'Printed Circuit Board', 'Printed Circuit Board', 'Printed Circuit Board', 'Printed Circuit Board', 'Printed Circuit Board', 'Printed Circuit Board', 'Printed Circuit Board', 'Printed Circuit Board', 'Printed Circuit Board', 'Printed Circuit Board', 'Printed Circuit Board', 'Printed Circuit Board', 'Tube and Screen', 'Tube and Screen', 'Printed Circuit Board', 'Battery', 'Printed Circuit Board', 'Printed Circuit Board']\n"
     ]
    }
   ],
   "source": [
    "# Scale the features\n",
    "# Standardize features by removing the mean and scaling to unit variance\n",
    "# Scaler (stdSlr comes from the pickled file we imported)\n",
    "test_features = stdSlr.transform(test_features)\n",
    "\n",
    "#######Until here most of the above code is similar to Train except for kmeans clustering####\n",
    "\n",
    "# Report true class names so they can be compared with predicted classes\n",
    "true_class =  [classes_names[i] for i in adjusted_image_classes]\n",
    "# Perform the predictions and report predicted class names. \n",
    "predictions =  [classes_names[i] for i in clf.predict(test_features)]\n",
    "\n",
    "\n",
    "# Print the true class and Predictions \n",
    "print (\"true_class =\"  + str(true_class))\n",
    "print (\"prediction =\"  + str(predictions))"
   ]
  },
  {
   "cell_type": "code",
   "execution_count": 135,
   "id": "1dfe7832",
   "metadata": {},
   "outputs": [
    {
     "name": "stdout",
     "output_type": "stream",
     "text": [
      "accuracy =  0.3582089552238806\n"
     ]
    }
   ],
   "source": [
    "# To make it easy to understand the accuracy let us print the confusion matrix\n",
    "\n",
    "def showconfusionmatrix(cm):\n",
    "    pl.matshow(cm)\n",
    "    pl.title('Confusion matrix')\n",
    "    pl.colorbar()\n",
    "    pl.show()\n",
    "\n",
    "\n",
    "accuracy = accuracy_score(true_class, predictions)\n",
    "print (\"accuracy = \", accuracy)\n",
    "cm = confusion_matrix(true_class, predictions, labels=classes_names)\n",
    "#print (cm)\n",
    "#showconfusionmatrix(cm)"
   ]
  },
  {
   "cell_type": "code",
   "execution_count": 136,
   "id": "1720f0f3",
   "metadata": {},
   "outputs": [
    {
     "data": {
      "image/png": "[encoded data removed]",
      "text/plain": [
       "<Figure size 432x288 with 2 Axes>"
      ]
     },
     "metadata": {
      "needs_background": "light"
     },
     "output_type": "display_data"
    }
   ],
   "source": [
    "disp = ConfusionMatrixDisplay(confusion_matrix=cm, display_labels=classes_names)\n",
    "disp.plot(xticks_rotation = 'vertical')\n",
    "plt.show()"
   ]
  },
  {
   "cell_type": "code",
   "execution_count": 137,
   "id": "56a4d204",
   "metadata": {},
   "outputs": [
    {
     "data": {
      "text/plain": [
       "array([0.        , 0.31578947, 0.        , 0.        , 0.11111111,\n",
       "       0.        , 0.        , 0.        , 0.95121951, 0.        ,\n",
       "       0.2       , 0.        ])"
      ]
     },
     "execution_count": 137,
     "metadata": {},
     "output_type": "execute_result"
    }
   ],
   "source": [
    "cm_norm = cm.astype('float') / cm.sum(axis=1)[:, np.newaxis]\n",
    "cm_norm.diagonal()"
   ]
  },
  {
   "cell_type": "code",
   "execution_count": 138,
   "id": "f8237c20",
   "metadata": {},
   "outputs": [
    {
     "data": {
      "text/plain": [
       "{'Aluminium': 0.0,\n",
       " 'Battery': 0.32,\n",
       " 'Cable and Wire': 0.0,\n",
       " 'Cardboard and Paper': 0.0,\n",
       " 'Connector': 0.11,\n",
       " 'Copper': 0.0,\n",
       " 'Iron': 0.0,\n",
       " 'Magnetic Tape': 0.0,\n",
       " 'Printed Circuit Board': 0.95,\n",
       " 'Printer Ribbon and Toner': 0.0,\n",
       " 'Tube and Screen': 0.2,\n",
       " 'Water Pump': 0.0}"
      ]
     },
     "execution_count": 138,
     "metadata": {},
     "output_type": "execute_result"
    }
   ],
   "source": [
    "dict_accuracies = {}\n",
    "\n",
    "for i, class_name in zip(cm_norm.diagonal(), classes_names):\n",
    "    dict_accuracies[class_name] = round(i,2)\n",
    "\n",
    "\n",
    "names = list(dict_accuracies.keys())\n",
    "values = list(dict_accuracies.values())\n",
    "\n",
    "dict_accuracies"
   ]
  },
  {
   "cell_type": "code",
   "execution_count": 139,
   "id": "4e182208",
   "metadata": {},
   "outputs": [
    {
     "data": {
      "image/png": "[encoded data removed]",
      "text/plain": [
       "<Figure size 432x288 with 1 Axes>"
      ]
     },
     "metadata": {
      "needs_background": "light"
     },
     "output_type": "display_data"
    }
   ],
   "source": [
    "norm = plt.Normalize(0, max(cm_norm.diagonal()))\n",
    "colors = plt.cm.Purples(norm(cm_norm.diagonal()))\n",
    "\n",
    "plt.bar(range(len(dict_accuracies)), values, tick_label=names, color=colors)\n",
    "\n",
    "plt.xticks(rotation = 90)\n",
    "plt.ylim(top=1)\n",
    "plt.show()"
   ]
  },
  {
   "cell_type": "markdown",
   "id": "52c20be3",
   "metadata": {},
   "source": [
    "### Final comments\n",
    "\n",
    "In this notebook we took eletronic waste images, applied the U2-net to highlight their foreground, applied feature extraction techniques and used their outputs as inputs in several machine learning algorithms to classify images according to their categories (labels). In this multi-class problem, BRISK method created features that produced models capable of predicting the correct category in 40% of the cases in the test data set. The models built with GLCM and LBP features got 37% and 36% of accuracy, respectively."
   ]
  }
 ],
 "metadata": {
  "kernelspec": {
   "display_name": "Python 3.9.5 ('tf-gpu')",
   "language": "python",
   "name": "python3"
  },
  "language_info": {
   "codemirror_mode": {
    "name": "ipython",
    "version": 3
   },
   "file_extension": ".py",
   "mimetype": "text/x-python",
   "name": "python",
   "nbconvert_exporter": "python",
   "pygments_lexer": "ipython3",
   "version": "3.9.5"
  },
  "vscode": {
   "interpreter": {
    "hash": "2486581d769f51888817dea713732d5e492d1ab2c1e79e01f4b0de1583eb3ca1"
   }
  }
 },
 "nbformat": 4,
 "nbformat_minor": 5
}
