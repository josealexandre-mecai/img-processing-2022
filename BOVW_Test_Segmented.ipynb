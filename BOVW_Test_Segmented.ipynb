{
 "cells": [
  {
   "cell_type": "code",
   "execution_count": 66,
   "id": "3d95ef06",
   "metadata": {},
   "outputs": [],
   "source": [
    "import cv2\n",
    "import numpy as np\n",
    "import pandas as pd\n",
    "import os\n",
    "\n",
    "# Importing metrics tools\n",
    "from sklearn.metrics import confusion_matrix, accuracy_score, ConfusionMatrixDisplay\n",
    "\n",
    "# Importing visualization tools\n",
    "import seaborn as sn\n",
    "import matplotlib.pyplot as plt\n",
    "import pylab as pl\n",
    "\n",
    "# Perform k-means clustering and vector quantization\n",
    "from scipy.cluster.vq import kmeans, vq\n",
    "\n",
    "# Importing feature extraction tools\n",
    "from skimage.feature import greycomatrix, greycoprops\n",
    "import mahotas as mt # Mahotas library for GLCM calculation\n",
    "from skimage import feature # feature.local_binary_pattern for LBP calculation\n",
    "\n",
    "import joblib as jb"
   ]
  },
  {
   "cell_type": "markdown",
   "id": "d8eb3d0d",
   "metadata": {},
   "source": [
    "# BRISK - Feature Point Detector"
   ]
  },
  {
   "cell_type": "code",
   "execution_count": 67,
   "id": "bf7a1ff5",
   "metadata": {},
   "outputs": [],
   "source": [
    "# Load the classifier, class names, scaler, number of clusters and vocabulary \n",
    "# from stored pickle file (generated during training)\n",
    "clf, classes_names, stdSlr, k, voc = jb.load(\"bovw_segmented_brisk_rf.pkl\")"
   ]
  },
  {
   "cell_type": "code",
   "execution_count": 68,
   "id": "da50d2a7",
   "metadata": {},
   "outputs": [
    {
     "data": {
      "text/plain": [
       "(RandomForestClassifier(criterion='entropy', max_depth=50, min_samples_split=30,\n",
       "                        n_estimators=50, random_state=0),\n",
       " ['Aluminium',\n",
       "  'Battery',\n",
       "  'Cable and Wire',\n",
       "  'Cardboard and Paper',\n",
       "  'Connector',\n",
       "  'Copper',\n",
       "  'Iron',\n",
       "  'Magnetic Tape',\n",
       "  'Printed Circuit Board',\n",
       "  'Printer Ribbon and Toner',\n",
       "  'Tube and Screen',\n",
       "  'Water Pump'],\n",
       " StandardScaler(),\n",
       " 25,\n",
       " array([[161.15197356, 175.04203128,  86.48012474, ...,  55.58922919,\n",
       "          71.32051759, 100.96620741],\n",
       "        [178.44390774,  96.55347583,  61.72080667, ..., 140.021656  ,\n",
       "         113.76729864, 109.21241396],\n",
       "        [100.42639768,  76.69189614, 114.92573504, ...,  73.05772346,\n",
       "          91.40676385, 115.87380356],\n",
       "        ...,\n",
       "        [119.14279566, 172.60489694, 172.60537516, ..., 103.46353594,\n",
       "         127.73918034, 107.38338673],\n",
       "        [162.27713927, 126.91011292, 197.10494354, ..., 171.61550816,\n",
       "         143.99202008, 112.53480552],\n",
       "        [209.49876695, 213.21415761, 229.6042484 , ...,  90.46003811,\n",
       "          87.29789261, 102.59539289]]))"
      ]
     },
     "execution_count": 68,
     "metadata": {},
     "output_type": "execute_result"
    }
   ],
   "source": [
    "clf, classes_names, stdSlr, k, voc"
   ]
  },
  {
   "cell_type": "code",
   "execution_count": 69,
   "id": "080dbd74",
   "metadata": {},
   "outputs": [
    {
     "data": {
      "text/plain": [
       "(25, 64)"
      ]
     },
     "execution_count": 69,
     "metadata": {},
     "output_type": "execute_result"
    }
   ],
   "source": [
    "voc.shape"
   ]
  },
  {
   "cell_type": "code",
   "execution_count": 70,
   "id": "0e64e5b3",
   "metadata": {},
   "outputs": [],
   "source": [
    "# Get the path of the testing image(s) and store them in a list\n",
    "test_path = './waste_images/test_segmented'  "
   ]
  },
  {
   "cell_type": "code",
   "execution_count": 71,
   "id": "f49b2ff6",
   "metadata": {},
   "outputs": [],
   "source": [
    "testing_names = os.listdir(test_path)\n",
    "\n",
    "# Get path to all images and save them in a list\n",
    "# image_paths and the corresponding label in image_paths\n",
    "image_paths = []\n",
    "image_classes = []\n",
    "class_id = 0\n",
    "\n",
    "#To make it easy to list all file names in a directory let us define a function\n",
    "def imglist(path):\n",
    "    return [os.path.join(path, f) for f in os.listdir(path)]\n",
    "\n",
    "#Fill the placeholder empty lists with image path, classes, and add class ID number\n",
    "for testing_name in testing_names:\n",
    "    dir = os.path.join(test_path, testing_name)\n",
    "    class_path = imglist(dir)\n",
    "    image_paths+=class_path\n",
    "    image_classes+=[class_id]*len(class_path)\n",
    "    class_id+=1"
   ]
  },
  {
   "cell_type": "code",
   "execution_count": 72,
   "id": "2a7c3a74",
   "metadata": {},
   "outputs": [
    {
     "data": {
      "text/plain": [
       "['./waste_images/test_segmented\\\\Aluminium\\\\Aluminium17_segmented.JPG',\n",
       " './waste_images/test_segmented\\\\Aluminium\\\\Aluminium49_segmented.JPG',\n",
       " './waste_images/test_segmented\\\\Aluminium\\\\Aluminium55_segmented.JPG',\n",
       " './waste_images/test_segmented\\\\Aluminium\\\\Aluminium57_segmented.JPG',\n",
       " './waste_images/test_segmented\\\\Aluminium\\\\Aluminium5_segmented.JPG',\n",
       " './waste_images/test_segmented\\\\Aluminium\\\\Aluminium63_segmented.JPG',\n",
       " './waste_images/test_segmented\\\\Aluminium\\\\Aluminium70_segmented.JPG',\n",
       " './waste_images/test_segmented\\\\Aluminium\\\\Aluminium83_segmented.JPG',\n",
       " './waste_images/test_segmented\\\\Aluminium\\\\Aluminium85_segmented.JPG',\n",
       " './waste_images/test_segmented\\\\Battery\\\\Battery100_segmented.JPG']"
      ]
     },
     "execution_count": 72,
     "metadata": {},
     "output_type": "execute_result"
    }
   ],
   "source": [
    "image_paths[:10]"
   ]
  },
  {
   "cell_type": "code",
   "execution_count": 73,
   "id": "fa4e8e18",
   "metadata": {},
   "outputs": [
    {
     "data": {
      "text/plain": [
       "array([ 0,  1,  2,  3,  4,  5,  6,  7,  8,  9, 10, 11])"
      ]
     },
     "execution_count": 73,
     "metadata": {},
     "output_type": "execute_result"
    }
   ],
   "source": [
    "np.unique(image_classes)"
   ]
  },
  {
   "cell_type": "code",
   "execution_count": 74,
   "id": "c9bd4bb8",
   "metadata": {},
   "outputs": [],
   "source": [
    "# Create feature extraction and keypoint detector objects\n",
    "# SIFT is not available anymore in openCV    \n",
    "\n",
    "# Create list where all the descriptors will be stored\n",
    "des_list = []\n",
    "\n",
    "# BRISK is a good replacement to SIFT. ORB also works but didn't work well for this example\n",
    "brisk = cv2.BRISK_create(30)\n",
    "\n",
    "for image_path in image_paths:\n",
    "    im = cv2.imread(image_path)\n",
    "    kpts, des = brisk.detectAndCompute(im, None)\n",
    "    des_list.append((image_path, des))"
   ]
  },
  {
   "cell_type": "code",
   "execution_count": 75,
   "id": "e523894c",
   "metadata": {},
   "outputs": [
    {
     "data": {
      "text/plain": [
       "(1012, 64)"
      ]
     },
     "execution_count": 75,
     "metadata": {},
     "output_type": "execute_result"
    }
   ],
   "source": [
    "des_list[0][1].shape"
   ]
  },
  {
   "cell_type": "code",
   "execution_count": 76,
   "id": "34042c3c",
   "metadata": {},
   "outputs": [],
   "source": [
    "# Stack all the descriptors vertically in a numpy array\n",
    "descriptors = des_list[0][1]\n",
    "for image_path, descriptor in des_list[0:]:\n",
    "    descriptors = np.vstack((descriptors, descriptor)) "
   ]
  },
  {
   "cell_type": "code",
   "execution_count": 77,
   "id": "7ff9ec9c",
   "metadata": {},
   "outputs": [
    {
     "data": {
      "text/plain": [
       "(169965, 64)"
      ]
     },
     "execution_count": 77,
     "metadata": {},
     "output_type": "execute_result"
    }
   ],
   "source": [
    "descriptors.shape"
   ]
  },
  {
   "cell_type": "code",
   "execution_count": 78,
   "id": "2f18377d",
   "metadata": {},
   "outputs": [],
   "source": [
    "# Calculate the histogram of features\n",
    "# vq Assigns codes from a code book to observations.\n",
    "from scipy.cluster.vq import vq    \n",
    "test_features = np.zeros((len(image_paths), k), \"float32\")\n",
    "for i in range(len(image_paths)):\n",
    "    words, distance = vq(des_list[i][1],voc)\n",
    "    for w in words:\n",
    "        test_features[i][w] += 1"
   ]
  },
  {
   "cell_type": "code",
   "execution_count": 79,
   "id": "eaca1376",
   "metadata": {},
   "outputs": [
    {
     "data": {
      "text/plain": [
       "(139, 25)"
      ]
     },
     "execution_count": 79,
     "metadata": {},
     "output_type": "execute_result"
    }
   ],
   "source": [
    "test_features.shape"
   ]
  },
  {
   "cell_type": "code",
   "execution_count": 80,
   "id": "21784c88",
   "metadata": {},
   "outputs": [
    {
     "name": "stdout",
     "output_type": "stream",
     "text": [
      "true_class =['Aluminium', 'Aluminium', 'Aluminium', 'Aluminium', 'Aluminium', 'Aluminium', 'Aluminium', 'Aluminium', 'Aluminium', 'Battery', 'Battery', 'Battery', 'Battery', 'Battery', 'Battery', 'Battery', 'Battery', 'Battery', 'Battery', 'Battery', 'Battery', 'Battery', 'Battery', 'Battery', 'Battery', 'Battery', 'Battery', 'Battery', 'Cable and Wire', 'Cable and Wire', 'Cable and Wire', 'Cable and Wire', 'Cable and Wire', 'Cable and Wire', 'Cable and Wire', 'Cable and Wire', 'Cable and Wire', 'Cable and Wire', 'Cardboard and Paper', 'Cardboard and Paper', 'Cardboard and Paper', 'Cardboard and Paper', 'Cardboard and Paper', 'Cardboard and Paper', 'Cardboard and Paper', 'Cardboard and Paper', 'Cardboard and Paper', 'Cardboard and Paper', 'Connector', 'Connector', 'Connector', 'Connector', 'Connector', 'Connector', 'Connector', 'Connector', 'Connector', 'Copper', 'Copper', 'Copper', 'Copper', 'Copper', 'Copper', 'Copper', 'Copper', 'Copper', 'Copper', 'Copper', 'Iron', 'Iron', 'Iron', 'Iron', 'Iron', 'Iron', 'Magnetic Tape', 'Magnetic Tape', 'Magnetic Tape', 'Printed Circuit Board', 'Printed Circuit Board', 'Printed Circuit Board', 'Printed Circuit Board', 'Printed Circuit Board', 'Printed Circuit Board', 'Printed Circuit Board', 'Printed Circuit Board', 'Printed Circuit Board', 'Printed Circuit Board', 'Printed Circuit Board', 'Printed Circuit Board', 'Printed Circuit Board', 'Printed Circuit Board', 'Printed Circuit Board', 'Printed Circuit Board', 'Printed Circuit Board', 'Printed Circuit Board', 'Printed Circuit Board', 'Printed Circuit Board', 'Printed Circuit Board', 'Printed Circuit Board', 'Printed Circuit Board', 'Printed Circuit Board', 'Printed Circuit Board', 'Printed Circuit Board', 'Printed Circuit Board', 'Printed Circuit Board', 'Printed Circuit Board', 'Printed Circuit Board', 'Printed Circuit Board', 'Printed Circuit Board', 'Printed Circuit Board', 'Printed Circuit Board', 'Printed Circuit Board', 'Printed Circuit Board', 'Printed Circuit Board', 'Printed Circuit Board', 'Printed Circuit Board', 'Printed Circuit Board', 'Printed Circuit Board', 'Printed Circuit Board', 'Printer Ribbon and Toner', 'Printer Ribbon and Toner', 'Printer Ribbon and Toner', 'Printer Ribbon and Toner', 'Printer Ribbon and Toner', 'Printer Ribbon and Toner', 'Printer Ribbon and Toner', 'Printer Ribbon and Toner', 'Tube and Screen', 'Tube and Screen', 'Tube and Screen', 'Tube and Screen', 'Tube and Screen', 'Tube and Screen', 'Tube and Screen', 'Tube and Screen', 'Tube and Screen', 'Tube and Screen', 'Water Pump', 'Water Pump']\n",
      "prediction =['Printed Circuit Board', 'Battery', 'Copper', 'Battery', 'Printed Circuit Board', 'Printed Circuit Board', 'Battery', 'Battery', 'Printed Circuit Board', 'Printed Circuit Board', 'Printed Circuit Board', 'Tube and Screen', 'Printed Circuit Board', 'Connector', 'Battery', 'Tube and Screen', 'Battery', 'Connector', 'Battery', 'Battery', 'Battery', 'Printed Circuit Board', 'Battery', 'Printed Circuit Board', 'Cardboard and Paper', 'Printed Circuit Board', 'Battery', 'Battery', 'Cardboard and Paper', 'Battery', 'Printed Circuit Board', 'Printed Circuit Board', 'Battery', 'Printed Circuit Board', 'Printed Circuit Board', 'Battery', 'Tube and Screen', 'Battery', 'Connector', 'Cardboard and Paper', 'Connector', 'Printed Circuit Board', 'Printed Circuit Board', 'Battery', 'Battery', 'Battery', 'Battery', 'Printed Circuit Board', 'Connector', 'Battery', 'Printed Circuit Board', 'Printed Circuit Board', 'Connector', 'Copper', 'Cardboard and Paper', 'Tube and Screen', 'Connector', 'Printed Circuit Board', 'Printed Circuit Board', 'Printed Circuit Board', 'Connector', 'Printed Circuit Board', 'Printed Circuit Board', 'Connector', 'Connector', 'Printed Circuit Board', 'Printed Circuit Board', 'Printed Circuit Board', 'Battery', 'Battery', 'Battery', 'Printed Circuit Board', 'Printed Circuit Board', 'Printed Circuit Board', 'Battery', 'Connector', 'Battery', 'Printed Circuit Board', 'Printed Circuit Board', 'Printed Circuit Board', 'Printed Circuit Board', 'Printed Circuit Board', 'Printed Circuit Board', 'Printed Circuit Board', 'Printed Circuit Board', 'Printed Circuit Board', 'Printed Circuit Board', 'Printed Circuit Board', 'Printed Circuit Board', 'Battery', 'Printed Circuit Board', 'Printed Circuit Board', 'Printed Circuit Board', 'Printed Circuit Board', 'Printed Circuit Board', 'Printed Circuit Board', 'Printed Circuit Board', 'Printed Circuit Board', 'Printed Circuit Board', 'Printed Circuit Board', 'Printed Circuit Board', 'Printed Circuit Board', 'Printed Circuit Board', 'Printed Circuit Board', 'Printed Circuit Board', 'Printed Circuit Board', 'Printed Circuit Board', 'Printed Circuit Board', 'Printed Circuit Board', 'Battery', 'Printed Circuit Board', 'Printed Circuit Board', 'Printed Circuit Board', 'Printed Circuit Board', 'Printed Circuit Board', 'Printed Circuit Board', 'Printed Circuit Board', 'Printed Circuit Board', 'Printed Circuit Board', 'Connector', 'Battery', 'Printed Circuit Board', 'Printed Circuit Board', 'Printed Circuit Board', 'Connector', 'Cardboard and Paper', 'Printed Circuit Board', 'Tube and Screen', 'Battery', 'Copper', 'Connector', 'Tube and Screen', 'Printed Circuit Board', 'Aluminium', 'Tube and Screen', 'Connector', 'Battery', 'Printed Circuit Board', 'Battery']\n"
     ]
    }
   ],
   "source": [
    "# Scale the features\n",
    "# Standardize features by removing the mean and scaling to unit variance\n",
    "# Scaler (stdSlr comes from the pickled file we imported)\n",
    "test_features = stdSlr.transform(test_features)\n",
    "\n",
    "#######Until here most of the above code is similar to Train except for kmeans clustering####\n",
    "\n",
    "# Report true class names so they can be compared with predicted classes\n",
    "true_class =  [classes_names[i] for i in image_classes]\n",
    "# Perform the predictions and report predicted class names. \n",
    "predictions =  [classes_names[i] for i in clf.predict(test_features)]\n",
    "\n",
    "# Print the true class and Predictions \n",
    "print (\"true_class =\"  + str(true_class))\n",
    "print (\"prediction =\"  + str(predictions))"
   ]
  },
  {
   "cell_type": "code",
   "execution_count": 81,
   "id": "916a8a54",
   "metadata": {},
   "outputs": [
    {
     "data": {
      "text/plain": [
       "139"
      ]
     },
     "execution_count": 81,
     "metadata": {},
     "output_type": "execute_result"
    }
   ],
   "source": [
    "len(predictions)"
   ]
  },
  {
   "cell_type": "code",
   "execution_count": 82,
   "id": "0787a38b",
   "metadata": {},
   "outputs": [
    {
     "name": "stdout",
     "output_type": "stream",
     "text": [
      "accuracy =  0.39568345323741005\n"
     ]
    }
   ],
   "source": [
    "# To make it easy to understand the accuracy let us print the confusion matrix\n",
    "\n",
    "def showconfusionmatrix(cm):\n",
    "    pl.matshow(cm)\n",
    "    pl.title('Confusion matrix')\n",
    "    pl.colorbar()\n",
    "    pl.show()\n",
    "\n",
    "\n",
    "accuracy = accuracy_score(true_class, predictions)\n",
    "print (\"accuracy = \", accuracy)\n",
    "cm = confusion_matrix(true_class, predictions, labels=classes_names)\n",
    "#print (cm)\n",
    "#showconfusionmatrix(cm)"
   ]
  },
  {
   "cell_type": "code",
   "execution_count": 83,
   "id": "30d97695",
   "metadata": {},
   "outputs": [
    {
     "data": {
      "image/png": "[encoded data removed]",
      "text/plain": [
       "<Figure size 432x288 with 2 Axes>"
      ]
     },
     "metadata": {
      "needs_background": "light"
     },
     "output_type": "display_data"
    }
   ],
   "source": [
    "disp = ConfusionMatrixDisplay(confusion_matrix=cm, display_labels=classes_names)\n",
    "disp.plot(xticks_rotation = 'vertical')\n",
    "plt.show()"
   ]
  },
  {
   "cell_type": "markdown",
   "id": "0eb21ec4",
   "metadata": {},
   "source": [
    "## Accuracy per Class "
   ]
  },
  {
   "cell_type": "code",
   "execution_count": 84,
   "id": "fb7e91b7",
   "metadata": {},
   "outputs": [
    {
     "data": {
      "text/plain": [
       "array([0.        , 0.42105263, 0.        , 0.1       , 0.33333333,\n",
       "       0.        , 0.        , 0.        , 0.95238095, 0.        ,\n",
       "       0.3       , 0.        ])"
      ]
     },
     "execution_count": 84,
     "metadata": {},
     "output_type": "execute_result"
    }
   ],
   "source": [
    "cm_norm = cm.astype('float') / cm.sum(axis=1)[:, np.newaxis]\n",
    "cm_norm.diagonal()"
   ]
  },
  {
   "cell_type": "code",
   "execution_count": 85,
   "id": "6a3bfdc4",
   "metadata": {},
   "outputs": [
    {
     "data": {
      "text/plain": [
       "{'Aluminium': 0.0,\n",
       " 'Battery': 0.42,\n",
       " 'Cable and Wire': 0.0,\n",
       " 'Cardboard and Paper': 0.1,\n",
       " 'Connector': 0.33,\n",
       " 'Copper': 0.0,\n",
       " 'Iron': 0.0,\n",
       " 'Magnetic Tape': 0.0,\n",
       " 'Printed Circuit Board': 0.95,\n",
       " 'Printer Ribbon and Toner': 0.0,\n",
       " 'Tube and Screen': 0.3,\n",
       " 'Water Pump': 0.0}"
      ]
     },
     "execution_count": 85,
     "metadata": {},
     "output_type": "execute_result"
    }
   ],
   "source": [
    "dict_accuracies = {}\n",
    "\n",
    "for i, class_name in zip(cm_norm.diagonal(), classes_names):\n",
    "    dict_accuracies[class_name] = round(i,2)\n",
    "\n",
    "\n",
    "names = list(dict_accuracies.keys())\n",
    "values = list(dict_accuracies.values())\n",
    "\n",
    "dict_accuracies"
   ]
  },
  {
   "cell_type": "code",
   "execution_count": 86,
   "id": "f33cafc9",
   "metadata": {},
   "outputs": [
    {
     "data": {
      "image/png": "[encoded data removed]",
      "text/plain": [
       "<Figure size 432x288 with 1 Axes>"
      ]
     },
     "metadata": {
      "needs_background": "light"
     },
     "output_type": "display_data"
    }
   ],
   "source": [
    "norm = plt.Normalize(0, max(cm_norm.diagonal()))\n",
    "colors = plt.cm.Purples(norm(cm_norm.diagonal()))\n",
    "\n",
    "plt.bar(range(len(dict_accuracies)), values, tick_label=names, color=colors)\n",
    "\n",
    "plt.xticks(rotation = 90)\n",
    "plt.ylim(top=1)\n",
    "plt.show()"
   ]
  },
  {
   "cell_type": "markdown",
   "id": "70caa3f2",
   "metadata": {},
   "source": [
    "# GLCM Haralick Features"
   ]
  },
  {
   "cell_type": "code",
   "execution_count": 87,
   "id": "af703d5d",
   "metadata": {},
   "outputs": [],
   "source": [
    "# Load the classifier, class names, scaler, number of clusters and vocabulary \n",
    "# from stored pickle file (generated during training)\n",
    "clf, classes_names, stdSlr, k, voc = jb.load(\"bovw_segmented_glcm_svm.pkl\")"
   ]
  },
  {
   "cell_type": "code",
   "execution_count": 88,
   "id": "249396bf",
   "metadata": {},
   "outputs": [
    {
     "data": {
      "text/plain": [
       "(SVC(gamma=10, random_state=0),\n",
       " ['Aluminium',\n",
       "  'Battery',\n",
       "  'Cable and Wire',\n",
       "  'Cardboard and Paper',\n",
       "  'Connector',\n",
       "  'Copper',\n",
       "  'Iron',\n",
       "  'Magnetic Tape',\n",
       "  'Printed Circuit Board',\n",
       "  'Printer Ribbon and Toner',\n",
       "  'Tube and Screen',\n",
       "  'Water Pump'],\n",
       " StandardScaler(),\n",
       " 25,\n",
       " array([[ 3.42520017e-01,  1.50674320e+02,  9.85454813e-01,\n",
       "          5.16330496e+03,  6.90453928e-01,  4.01199387e+02,\n",
       "          2.05025455e+04,  4.43859246e+00,  6.12420118e+00,\n",
       "          1.65315778e-03,  2.57929099e+00, -4.60894022e-01,\n",
       "          9.79484166e-01],\n",
       "        [ 3.84950676e-01,  1.08532920e+02,  9.88004808e-01,\n",
       "          4.51341234e+03,  7.23466661e-01,  4.20252722e+02,\n",
       "          1.79451164e+04,  4.08944991e+00,  5.53905104e+00,\n",
       "          1.82061527e-03,  2.31694458e+00, -4.92266330e-01,\n",
       "          9.79424390e-01],\n",
       "        [ 4.07383941e-01,  6.65569120e+01,  9.92011650e-01,\n",
       "          4.15998751e+03,  7.58110418e-01,  4.25451213e+02,\n",
       "          1.65733931e+04,  3.87421304e+00,  5.10433067e+00,\n",
       "          1.98914712e-03,  2.03947906e+00, -5.33179160e-01,\n",
       "          9.79811368e-01],\n",
       "        [ 5.67515417e-01,  3.94783447e+01,  9.88877761e-01,\n",
       "          1.81574263e+03,  8.61509730e-01,  4.73354977e+02,\n",
       "          7.22349219e+03,  2.68106577e+00,  3.36021090e+00,\n",
       "          2.66010711e-03,  1.31171632e+00, -5.96823470e-01,\n",
       "          9.46403835e-01],\n",
       "        [ 2.97123622e-01,  9.85453368e+01,  9.94007302e-01,\n",
       "          8.18594440e+03,  6.94845506e-01,  3.64599802e+02,\n",
       "          3.26452323e+04,  4.67200523e+00,  6.22053678e+00,\n",
       "          1.60830987e-03,  2.43879782e+00, -5.17914431e-01,\n",
       "          9.90745605e-01],\n",
       "        [ 2.73882170e-01,  1.49823163e+02,  9.88809971e-01,\n",
       "          6.68743072e+03,  6.50687342e-01,  3.77613675e+02,\n",
       "          2.65998997e+04,  5.01694143e+00,  6.90595897e+00,\n",
       "          1.43448735e-03,  2.80782537e+00, -4.68822942e-01,\n",
       "          9.88589132e-01],\n",
       "        [ 3.19127410e-01,  1.35774628e+02,  9.91030748e-01,\n",
       "          7.55781858e+03,  6.76280736e-01,  3.74888274e+02,\n",
       "          3.00954997e+04,  4.54923277e+00,  6.25271911e+00,\n",
       "          1.56988970e-03,  2.62027003e+00, -4.73088567e-01,\n",
       "          9.84462643e-01],\n",
       "        [ 4.33422104e-01,  7.98338957e+01,  9.89798602e-01,\n",
       "          3.89224270e+03,  7.67084619e-01,  4.29487307e+02,\n",
       "          1.54891369e+04,  3.66877245e+00,  4.86501659e+00,\n",
       "          2.06712989e-03,  1.98670756e+00, -5.21807375e-01,\n",
       "          9.71951824e-01],\n",
       "        [ 3.49345679e-01,  1.03245897e+02,  9.90437079e-01,\n",
       "          5.38510216e+03,  6.97500826e-01,  3.99149765e+02,\n",
       "          2.14371627e+04,  4.39581197e+00,  5.99780307e+00,\n",
       "          1.69748735e-03,  2.45606992e+00, -4.86864454e-01,\n",
       "          9.80849525e-01],\n",
       "        [ 2.85319871e-01,  1.11203209e+02,  9.90536387e-01,\n",
       "          5.83291292e+03,  6.77044985e-01,  3.88049553e+02,\n",
       "          2.32204485e+04,  4.81708572e+00,  6.49858035e+00,\n",
       "          1.52879136e-03,  2.57921891e+00, -4.98464350e-01,\n",
       "          9.90261814e-01],\n",
       "        [ 4.03849315e-01,  7.21138661e+01,  9.92241298e-01,\n",
       "          4.63562660e+03,  7.57110240e-01,  4.19766914e+02,\n",
       "          1.84703925e+04,  3.92089314e+00,  5.16044290e+00,\n",
       "          1.98389516e-03,  2.04569666e+00, -5.37883889e-01,\n",
       "          9.81993394e-01],\n",
       "        [ 5.08615585e-01,  2.71608195e+01,  9.80047926e-01,\n",
       "          8.48957994e+02,  8.75861338e-01,  4.87313737e+02,\n",
       "          3.36867116e+03,  2.80721490e+00,  3.40528040e+00,\n",
       "          2.71247946e-03,  1.19421599e+00, -6.38912864e-01,\n",
       "          9.70836055e-01],\n",
       "        [ 6.03278351e-01,  6.47652594e+01,  9.87232606e-01,\n",
       "          2.49893058e+03,  8.51177989e-01,  4.65016001e+02,\n",
       "          9.93095708e+03,  2.54586883e+00,  3.31053212e+00,\n",
       "          2.63634285e-03,  1.42546542e+00, -5.57986235e-01,\n",
       "          9.41841502e-01],\n",
       "        [ 4.03458642e-01,  1.00519165e+02,  9.89908611e-01,\n",
       "          4.96121378e+03,  7.38640798e-01,  4.17055282e+02,\n",
       "          1.97443360e+04,  3.93639969e+00,  5.31499896e+00,\n",
       "          1.90354346e-03,  2.22412014e+00, -5.04660297e-01,\n",
       "          9.78659020e-01],\n",
       "        [ 3.56595066e-01,  1.11443423e+02,  9.90840969e-01,\n",
       "          6.07684303e+03,  7.08681541e-01,  3.96583085e+02,\n",
       "          2.41959287e+04,  4.29053111e+00,  5.80434897e+00,\n",
       "          1.73402847e-03,  2.39105357e+00, -4.96840752e-01,\n",
       "          9.82446604e-01],\n",
       "        [ 4.62351082e-01,  8.04487239e+01,  9.90813159e-01,\n",
       "          4.37273071e+03,  7.87717974e-01,  4.28786396e+02,\n",
       "          1.74104741e+04,  3.46288124e+00,  4.57071939e+00,\n",
       "          2.17770549e-03,  1.89850638e+00, -5.29290602e-01,\n",
       "          9.70844775e-01],\n",
       "        [ 3.67942247e-01,  7.78042393e+01,  9.91794391e-01,\n",
       "          4.74195783e+03,  7.37315464e-01,  4.07632334e+02,\n",
       "          1.88900271e+04,  4.17050486e+00,  5.48566315e+00,\n",
       "          1.88375509e-03,  2.11450628e+00, -5.34404710e-01,\n",
       "          9.79480148e-01],\n",
       "        [ 3.45689202e-01,  1.17244252e+02,  9.90866661e-01,\n",
       "          6.39876274e+03,  6.80091940e-01,  3.90078932e+02,\n",
       "          2.54778067e+04,  4.45759039e+00,  6.15351750e+00,\n",
       "          1.62888587e-03,  2.57944572e+00, -4.75320327e-01,\n",
       "          9.82055041e-01],\n",
       "        [ 2.64351214e-01,  9.35454782e+01,  9.94758146e-01,\n",
       "          8.92297849e+03,  6.56292572e-01,  3.45115851e+02,\n",
       "          3.55983685e+04,  4.88441986e+00,  6.60391900e+00,\n",
       "          1.41571386e-03,  2.63660840e+00, -4.89667841e-01,\n",
       "          9.91551924e-01],\n",
       "        [ 3.06684838e-01,  1.04060383e+02,  9.92642002e-01,\n",
       "          7.04328735e+03,  6.89011888e-01,  3.76848712e+02,\n",
       "          2.80690890e+04,  4.63425196e+00,  6.22841246e+00,\n",
       "          1.60936107e-03,  2.47256567e+00, -5.06854570e-01,\n",
       "          9.87553985e-01],\n",
       "        [ 3.37746605e-01,  1.19631095e+02,  9.89374212e-01,\n",
       "          5.61728908e+03,  6.81075991e-01,  3.97937399e+02,\n",
       "          2.23495252e+04,  4.40874962e+00,  6.09269979e+00,\n",
       "          1.61882386e-03,  2.59208086e+00, -4.68238249e-01,\n",
       "          9.81819633e-01],\n",
       "        [ 2.47740564e-01,  1.17150543e+02,  9.94404031e-01,\n",
       "          1.04514499e+04,  6.66921359e-01,  3.27259595e+02,\n",
       "          4.16886491e+04,  4.90047028e+00,  6.58822117e+00,\n",
       "          1.43687271e-03,  2.64741450e+00, -4.94627326e-01,\n",
       "          9.92382925e-01],\n",
       "        [ 5.21426408e-01,  5.17642695e+01,  9.91194355e-01,\n",
       "          2.93218188e+03,  8.31585676e-01,  4.53674646e+02,\n",
       "          1.16769632e+04,  3.08147306e+00,  3.91316533e+00,\n",
       "          2.45081229e-03,  1.52611446e+00, -5.76685367e-01,\n",
       "          9.58057818e-01],\n",
       "        [ 4.72629455e-01,  7.29611889e+01,  9.89952469e-01,\n",
       "          3.59332824e+03,  7.97631693e-01,  4.39973236e+02,\n",
       "          1.43003518e+04,  3.37535052e+00,  4.42258648e+00,\n",
       "          2.24631059e-03,  1.81046682e+00, -5.40866604e-01,\n",
       "          9.69464043e-01],\n",
       "        [ 4.91660009e-01,  5.50811043e+01,  9.91496115e-01,\n",
       "          3.24366727e+03,  8.19900961e-01,  4.45579960e+02,\n",
       "          1.29195880e+04,  3.22466578e+00,  4.14088340e+00,\n",
       "          2.39299515e-03,  1.62327841e+00, -5.74105485e-01,\n",
       "          9.66369583e-01]]))"
      ]
     },
     "execution_count": 88,
     "metadata": {},
     "output_type": "execute_result"
    }
   ],
   "source": [
    "clf, classes_names, stdSlr, k, voc"
   ]
  },
  {
   "cell_type": "code",
   "execution_count": 89,
   "id": "7f35ee04",
   "metadata": {},
   "outputs": [],
   "source": [
    "# Get the path of the testing image(s) and store them in a list\n",
    "test_path = './waste_images/test_segmented'  "
   ]
  },
  {
   "cell_type": "code",
   "execution_count": 90,
   "id": "40dd72d2",
   "metadata": {},
   "outputs": [],
   "source": [
    "testing_names = os.listdir(test_path)\n",
    "\n",
    "# Get path to all images and save them in a list\n",
    "# image_paths and the corresponding label in image_paths\n",
    "image_paths = []\n",
    "image_classes = []\n",
    "class_id = 0\n",
    "\n",
    "#To make it easy to list all file names in a directory let us define a function\n",
    "def imglist(path):\n",
    "    return [os.path.join(path, f) for f in os.listdir(path)]\n",
    "\n",
    "#Fill the placeholder empty lists with image path, classes, and add class ID number\n",
    "for testing_name in testing_names:\n",
    "    dir = os.path.join(test_path, testing_name)\n",
    "    class_path = imglist(dir)\n",
    "    image_paths+=class_path\n",
    "    image_classes+=[class_id]*len(class_path)\n",
    "    class_id+=1"
   ]
  },
  {
   "cell_type": "code",
   "execution_count": 91,
   "id": "ea046ccf",
   "metadata": {},
   "outputs": [
    {
     "data": {
      "text/plain": [
       "['./waste_images/test_segmented\\\\Aluminium\\\\Aluminium17_segmented.JPG',\n",
       " './waste_images/test_segmented\\\\Aluminium\\\\Aluminium49_segmented.JPG',\n",
       " './waste_images/test_segmented\\\\Aluminium\\\\Aluminium55_segmented.JPG',\n",
       " './waste_images/test_segmented\\\\Aluminium\\\\Aluminium57_segmented.JPG',\n",
       " './waste_images/test_segmented\\\\Aluminium\\\\Aluminium5_segmented.JPG',\n",
       " './waste_images/test_segmented\\\\Aluminium\\\\Aluminium63_segmented.JPG',\n",
       " './waste_images/test_segmented\\\\Aluminium\\\\Aluminium70_segmented.JPG',\n",
       " './waste_images/test_segmented\\\\Aluminium\\\\Aluminium83_segmented.JPG',\n",
       " './waste_images/test_segmented\\\\Aluminium\\\\Aluminium85_segmented.JPG',\n",
       " './waste_images/test_segmented\\\\Battery\\\\Battery100_segmented.JPG']"
      ]
     },
     "execution_count": 91,
     "metadata": {},
     "output_type": "execute_result"
    }
   ],
   "source": [
    "image_paths[:10]"
   ]
  },
  {
   "cell_type": "code",
   "execution_count": 92,
   "id": "017dfba1",
   "metadata": {},
   "outputs": [
    {
     "data": {
      "text/plain": [
       "array([ 0,  1,  2,  3,  4,  5,  6,  7,  8,  9, 10, 11])"
      ]
     },
     "execution_count": 92,
     "metadata": {},
     "output_type": "execute_result"
    }
   ],
   "source": [
    "np.unique(image_classes)"
   ]
  },
  {
   "cell_type": "code",
   "execution_count": 93,
   "id": "3fb427be",
   "metadata": {},
   "outputs": [],
   "source": [
    "# Create List where all the descriptors will be stored\n",
    "des_list = []"
   ]
  },
  {
   "cell_type": "code",
   "execution_count": 94,
   "id": "59d41570",
   "metadata": {},
   "outputs": [],
   "source": [
    "def extract_glcm_features(image):\n",
    "        \n",
    "    # Calculate haralick texture features for 4 types of adjacency\n",
    "    textures = mt.features.haralick(image)\n",
    "\n",
    "    # Return the mean\n",
    "    #ht_mean = textures.mean(axis=0)\n",
    "    #return ht_mean\n",
    "        \n",
    "    return textures"
   ]
  },
  {
   "cell_type": "code",
   "execution_count": 95,
   "id": "1bc2eb58",
   "metadata": {},
   "outputs": [],
   "source": [
    "for image_path in image_paths:\n",
    "    im = cv2.imread(image_path)\n",
    "    gray_img = cv2.cvtColor(im, cv2.COLOR_BGR2GRAY) # Convert the image to grayscale\n",
    "    des = extract_glcm_features(gray_img)\n",
    "    des_list.append((image_path, des)) "
   ]
  },
  {
   "cell_type": "code",
   "execution_count": 96,
   "id": "913c51db",
   "metadata": {},
   "outputs": [],
   "source": [
    "# Stack all the descriptors vertically in a numpy array\n",
    "descriptors = des_list[0][1]\n",
    "for image_path, descriptor in des_list[0:]:\n",
    "    descriptors = np.vstack((descriptors, descriptor)) "
   ]
  },
  {
   "cell_type": "code",
   "execution_count": 97,
   "id": "1a4c100f",
   "metadata": {},
   "outputs": [
    {
     "data": {
      "text/plain": [
       "array([[  0.25541848,  53.46811424,   0.99400251, ...,   2.55347476,\n",
       "         -0.49449156,   0.99391223],\n",
       "       [  0.25134064, 103.11209778,   0.98843892, ...,   3.01946635,\n",
       "         -0.41484841,   0.9876471 ],\n",
       "       [  0.25472432,  50.81886091,   0.99430029, ...,   2.50270948,\n",
       "         -0.50561515,   0.99449909],\n",
       "       ...,\n",
       "       [  0.45014546, 116.02675109,   0.98987712, ...,   1.9056002 ,\n",
       "         -0.55516559,   0.98617585],\n",
       "       [  0.45427096,  67.6491584 ,   0.99409152, ...,   1.66985712,\n",
       "         -0.60630148,   0.99004167],\n",
       "       [  0.45026187, 101.98340962,   0.99110235, ...,   1.89785562,\n",
       "         -0.55694351,   0.9863352 ]])"
      ]
     },
     "execution_count": 97,
     "metadata": {},
     "output_type": "execute_result"
    }
   ],
   "source": [
    "descriptors"
   ]
  },
  {
   "cell_type": "code",
   "execution_count": 98,
   "id": "742db1c3",
   "metadata": {},
   "outputs": [],
   "source": [
    "# Calculate the histogram of features\n",
    "# vq Assigns codes from a code book to observations. \n",
    "test_features = np.zeros((len(image_paths), k), \"float32\")\n",
    "for i in range(len(image_paths)):\n",
    "    words, distance = vq(des_list[i][1],voc)\n",
    "    for w in words:\n",
    "        test_features[i][w] += 1"
   ]
  },
  {
   "cell_type": "code",
   "execution_count": 99,
   "id": "51c3a54c",
   "metadata": {},
   "outputs": [
    {
     "data": {
      "text/plain": [
       "array([0., 1., 2., 3., 4.], dtype=float32)"
      ]
     },
     "execution_count": 99,
     "metadata": {},
     "output_type": "execute_result"
    }
   ],
   "source": [
    "np.unique(test_features)"
   ]
  },
  {
   "cell_type": "code",
   "execution_count": 100,
   "id": "c0bd4c28",
   "metadata": {},
   "outputs": [
    {
     "name": "stdout",
     "output_type": "stream",
     "text": [
      "true_class =['Aluminium', 'Aluminium', 'Aluminium', 'Aluminium', 'Aluminium', 'Aluminium', 'Aluminium', 'Aluminium', 'Aluminium', 'Battery', 'Battery', 'Battery', 'Battery', 'Battery', 'Battery', 'Battery', 'Battery', 'Battery', 'Battery', 'Battery', 'Battery', 'Battery', 'Battery', 'Battery', 'Battery', 'Battery', 'Battery', 'Battery', 'Cable and Wire', 'Cable and Wire', 'Cable and Wire', 'Cable and Wire', 'Cable and Wire', 'Cable and Wire', 'Cable and Wire', 'Cable and Wire', 'Cable and Wire', 'Cable and Wire', 'Cardboard and Paper', 'Cardboard and Paper', 'Cardboard and Paper', 'Cardboard and Paper', 'Cardboard and Paper', 'Cardboard and Paper', 'Cardboard and Paper', 'Cardboard and Paper', 'Cardboard and Paper', 'Cardboard and Paper', 'Connector', 'Connector', 'Connector', 'Connector', 'Connector', 'Connector', 'Connector', 'Connector', 'Connector', 'Copper', 'Copper', 'Copper', 'Copper', 'Copper', 'Copper', 'Copper', 'Copper', 'Copper', 'Copper', 'Copper', 'Iron', 'Iron', 'Iron', 'Iron', 'Iron', 'Iron', 'Magnetic Tape', 'Magnetic Tape', 'Magnetic Tape', 'Printed Circuit Board', 'Printed Circuit Board', 'Printed Circuit Board', 'Printed Circuit Board', 'Printed Circuit Board', 'Printed Circuit Board', 'Printed Circuit Board', 'Printed Circuit Board', 'Printed Circuit Board', 'Printed Circuit Board', 'Printed Circuit Board', 'Printed Circuit Board', 'Printed Circuit Board', 'Printed Circuit Board', 'Printed Circuit Board', 'Printed Circuit Board', 'Printed Circuit Board', 'Printed Circuit Board', 'Printed Circuit Board', 'Printed Circuit Board', 'Printed Circuit Board', 'Printed Circuit Board', 'Printed Circuit Board', 'Printed Circuit Board', 'Printed Circuit Board', 'Printed Circuit Board', 'Printed Circuit Board', 'Printed Circuit Board', 'Printed Circuit Board', 'Printed Circuit Board', 'Printed Circuit Board', 'Printed Circuit Board', 'Printed Circuit Board', 'Printed Circuit Board', 'Printed Circuit Board', 'Printed Circuit Board', 'Printed Circuit Board', 'Printed Circuit Board', 'Printed Circuit Board', 'Printed Circuit Board', 'Printed Circuit Board', 'Printed Circuit Board', 'Printer Ribbon and Toner', 'Printer Ribbon and Toner', 'Printer Ribbon and Toner', 'Printer Ribbon and Toner', 'Printer Ribbon and Toner', 'Printer Ribbon and Toner', 'Printer Ribbon and Toner', 'Printer Ribbon and Toner', 'Tube and Screen', 'Tube and Screen', 'Tube and Screen', 'Tube and Screen', 'Tube and Screen', 'Tube and Screen', 'Tube and Screen', 'Tube and Screen', 'Tube and Screen', 'Tube and Screen', 'Water Pump', 'Water Pump']\n",
      "prediction =['Printed Circuit Board', 'Printed Circuit Board', 'Cardboard and Paper', 'Printed Circuit Board', 'Printed Circuit Board', 'Printed Circuit Board', 'Copper', 'Printed Circuit Board', 'Printed Circuit Board', 'Printed Circuit Board', 'Printer Ribbon and Toner', 'Cardboard and Paper', 'Printed Circuit Board', 'Printed Circuit Board', 'Battery', 'Copper', 'Printed Circuit Board', 'Printed Circuit Board', 'Printed Circuit Board', 'Printed Circuit Board', 'Printed Circuit Board', 'Printed Circuit Board', 'Cardboard and Paper', 'Tube and Screen', 'Cardboard and Paper', 'Printed Circuit Board', 'Battery', 'Printed Circuit Board', 'Printed Circuit Board', 'Printed Circuit Board', 'Printed Circuit Board', 'Printed Circuit Board', 'Printed Circuit Board', 'Printed Circuit Board', 'Printed Circuit Board', 'Printed Circuit Board', 'Copper', 'Tube and Screen', 'Printed Circuit Board', 'Printed Circuit Board', 'Printed Circuit Board', 'Printed Circuit Board', 'Cardboard and Paper', 'Battery', 'Printed Circuit Board', 'Printed Circuit Board', 'Printed Circuit Board', 'Printed Circuit Board', 'Printed Circuit Board', 'Printed Circuit Board', 'Battery', 'Printed Circuit Board', 'Printed Circuit Board', 'Battery', 'Copper', 'Printed Circuit Board', 'Tube and Screen', 'Printed Circuit Board', 'Printed Circuit Board', 'Printed Circuit Board', 'Printed Circuit Board', 'Printed Circuit Board', 'Printed Circuit Board', 'Printed Circuit Board', 'Printed Circuit Board', 'Printed Circuit Board', 'Printed Circuit Board', 'Printed Circuit Board', 'Printed Circuit Board', 'Printed Circuit Board', 'Printed Circuit Board', 'Cardboard and Paper', 'Printed Circuit Board', 'Printed Circuit Board', 'Battery', 'Printer Ribbon and Toner', 'Tube and Screen', 'Printed Circuit Board', 'Printed Circuit Board', 'Printed Circuit Board', 'Printed Circuit Board', 'Printed Circuit Board', 'Printed Circuit Board', 'Printed Circuit Board', 'Printed Circuit Board', 'Printed Circuit Board', 'Printed Circuit Board', 'Printed Circuit Board', 'Printed Circuit Board', 'Printed Circuit Board', 'Printed Circuit Board', 'Printed Circuit Board', 'Printed Circuit Board', 'Printed Circuit Board', 'Printed Circuit Board', 'Printed Circuit Board', 'Printed Circuit Board', 'Printed Circuit Board', 'Printed Circuit Board', 'Printed Circuit Board', 'Printed Circuit Board', 'Printed Circuit Board', 'Printed Circuit Board', 'Printed Circuit Board', 'Printed Circuit Board', 'Printed Circuit Board', 'Printed Circuit Board', 'Printed Circuit Board', 'Printed Circuit Board', 'Printed Circuit Board', 'Printed Circuit Board', 'Printed Circuit Board', 'Printed Circuit Board', 'Printed Circuit Board', 'Printed Circuit Board', 'Printed Circuit Board', 'Printed Circuit Board', 'Printed Circuit Board', 'Printed Circuit Board', 'Printed Circuit Board', 'Printed Circuit Board', 'Printer Ribbon and Toner', 'Printed Circuit Board', 'Printed Circuit Board', 'Tube and Screen', 'Printed Circuit Board', 'Printed Circuit Board', 'Printed Circuit Board', 'Printed Circuit Board', 'Printed Circuit Board', 'Printed Circuit Board', 'Printed Circuit Board', 'Printed Circuit Board', 'Printed Circuit Board', 'Printed Circuit Board', 'Printed Circuit Board', 'Printed Circuit Board', 'Printed Circuit Board', 'Printed Circuit Board']\n"
     ]
    }
   ],
   "source": [
    "# Scale the features\n",
    "# Standardize features by removing the mean and scaling to unit variance\n",
    "# Scaler (stdSlr comes from the pickled file we imported)\n",
    "test_features = stdSlr.transform(test_features)\n",
    "\n",
    "#######Until here most of the above code is similar to Train except for kmeans clustering####\n",
    "\n",
    "# Report true class names so they can be compared with predicted classes\n",
    "true_class =  [classes_names[i] for i in image_classes]\n",
    "# Perform the predictions and report predicted class names. \n",
    "predictions =  [classes_names[i] for i in clf.predict(test_features)]\n",
    "\n",
    "\n",
    "# Print the true class and Predictions \n",
    "print (\"true_class =\"  + str(true_class))\n",
    "print (\"prediction =\"  + str(predictions))"
   ]
  },
  {
   "cell_type": "code",
   "execution_count": 101,
   "id": "b953a0b3",
   "metadata": {},
   "outputs": [
    {
     "name": "stdout",
     "output_type": "stream",
     "text": [
      "accuracy =  0.33093525179856115\n"
     ]
    }
   ],
   "source": [
    "# To make it easy to understand the accuracy let us print the confusion matrix\n",
    "\n",
    "def showconfusionmatrix(cm):\n",
    "    pl.matshow(cm)\n",
    "    pl.title('Confusion matrix')\n",
    "    pl.colorbar()\n",
    "    pl.show()\n",
    "\n",
    "\n",
    "accuracy = accuracy_score(true_class, predictions)\n",
    "print (\"accuracy = \", accuracy)\n",
    "cm = confusion_matrix(true_class, predictions, labels=classes_names)\n",
    "#print (cm)\n",
    "#showconfusionmatrix(cm)"
   ]
  },
  {
   "cell_type": "code",
   "execution_count": 102,
   "id": "f4df08bd",
   "metadata": {},
   "outputs": [
    {
     "data": {
      "image/png": "[encoded data removed]",
      "text/plain": [
       "<Figure size 432x288 with 2 Axes>"
      ]
     },
     "metadata": {
      "needs_background": "light"
     },
     "output_type": "display_data"
    }
   ],
   "source": [
    "disp = ConfusionMatrixDisplay(confusion_matrix=cm, display_labels=classes_names)\n",
    "disp.plot(xticks_rotation = 'vertical')\n",
    "plt.show()"
   ]
  },
  {
   "cell_type": "code",
   "execution_count": 103,
   "id": "17b39737",
   "metadata": {},
   "outputs": [
    {
     "data": {
      "text/plain": [
       "array([0.        , 0.10526316, 0.        , 0.1       , 0.        ,\n",
       "       0.        , 0.        , 0.        , 1.        , 0.125     ,\n",
       "       0.        , 0.        ])"
      ]
     },
     "execution_count": 103,
     "metadata": {},
     "output_type": "execute_result"
    }
   ],
   "source": [
    "cm_norm = cm.astype('float') / cm.sum(axis=1)[:, np.newaxis]\n",
    "cm_norm.diagonal()"
   ]
  },
  {
   "cell_type": "code",
   "execution_count": 104,
   "id": "c6bcf75e",
   "metadata": {},
   "outputs": [
    {
     "data": {
      "text/plain": [
       "{'Aluminium': 0.0,\n",
       " 'Battery': 0.11,\n",
       " 'Cable and Wire': 0.0,\n",
       " 'Cardboard and Paper': 0.1,\n",
       " 'Connector': 0.0,\n",
       " 'Copper': 0.0,\n",
       " 'Iron': 0.0,\n",
       " 'Magnetic Tape': 0.0,\n",
       " 'Printed Circuit Board': 1.0,\n",
       " 'Printer Ribbon and Toner': 0.12,\n",
       " 'Tube and Screen': 0.0,\n",
       " 'Water Pump': 0.0}"
      ]
     },
     "execution_count": 104,
     "metadata": {},
     "output_type": "execute_result"
    }
   ],
   "source": [
    "dict_accuracies = {}\n",
    "\n",
    "for i, class_name in zip(cm_norm.diagonal(), classes_names):\n",
    "    dict_accuracies[class_name] = round(i,2)\n",
    "\n",
    "\n",
    "names = list(dict_accuracies.keys())\n",
    "values = list(dict_accuracies.values())\n",
    "\n",
    "dict_accuracies"
   ]
  },
  {
   "cell_type": "code",
   "execution_count": 105,
   "id": "64f3a274",
   "metadata": {},
   "outputs": [
    {
     "data": {
      "image/png": "[encoded data removed]",
      "text/plain": [
       "<Figure size 432x288 with 1 Axes>"
      ]
     },
     "metadata": {
      "needs_background": "light"
     },
     "output_type": "display_data"
    }
   ],
   "source": [
    "norm = plt.Normalize(0, max(cm_norm.diagonal()))\n",
    "colors = plt.cm.Purples(norm(cm_norm.diagonal()))\n",
    "\n",
    "plt.bar(range(len(dict_accuracies)), values, tick_label=names, color=colors)\n",
    "\n",
    "plt.xticks(rotation = 90)\n",
    "plt.ylim(top=1)\n",
    "plt.show()"
   ]
  },
  {
   "cell_type": "markdown",
   "id": "088cf28c",
   "metadata": {},
   "source": [
    "# LBP - Local Binary Patterns"
   ]
  },
  {
   "cell_type": "code",
   "execution_count": 106,
   "id": "c5ec5bd2",
   "metadata": {},
   "outputs": [],
   "source": [
    "# Load the classifier, class names, scaler, number of clusters and vocabulary \n",
    "# from stored pickle file (generated during training)\n",
    "clf, classes_names, stdSlr, k, voc = jb.load(\"bovw_segmented_lbp_rf.pkl\")"
   ]
  },
  {
   "cell_type": "code",
   "execution_count": 107,
   "id": "e5b25414",
   "metadata": {},
   "outputs": [
    {
     "data": {
      "text/plain": [
       "(RandomForestClassifier(criterion='entropy', max_depth=50, min_samples_split=30,\n",
       "                        n_estimators=50, random_state=0),\n",
       " ['Aluminium',\n",
       "  'Battery',\n",
       "  'Cable and Wire',\n",
       "  'Cardboard and Paper',\n",
       "  'Connector',\n",
       "  'Copper',\n",
       "  'Iron',\n",
       "  'Magnetic Tape',\n",
       "  'Printed Circuit Board',\n",
       "  'Printer Ribbon and Toner',\n",
       "  'Tube and Screen',\n",
       "  'Water Pump'],\n",
       " StandardScaler(),\n",
       " 25,\n",
       " array([[4.37569582, 6.76714784, 6.78809322, ..., 6.25125012, 6.29672611,\n",
       "         4.22756864],\n",
       "        [4.99178157, 7.97667486, 7.97654422, ..., 7.97264878, 7.97470339,\n",
       "         5.00100949],\n",
       "        [4.99590756, 7.9735195 , 7.96569571, ..., 7.91056813, 7.92838228,\n",
       "         4.98110255],\n",
       "        ...,\n",
       "        [4.98197976, 7.96507035, 7.9648235 , ..., 7.93014071, 7.93915083,\n",
       "         4.98259689],\n",
       "        [4.99061804, 7.97818694, 7.9746687 , ..., 7.96106485, 7.96153395,\n",
       "         4.98909347],\n",
       "        [4.875     , 7.63460243, 7.63005391, ..., 6.46276954, 6.46445418,\n",
       "         4.293969  ]]))"
      ]
     },
     "execution_count": 107,
     "metadata": {},
     "output_type": "execute_result"
    }
   ],
   "source": [
    "clf, classes_names, stdSlr, k, voc"
   ]
  },
  {
   "cell_type": "code",
   "execution_count": 108,
   "id": "839a6775",
   "metadata": {},
   "outputs": [
    {
     "data": {
      "text/plain": [
       "(22, 640)"
      ]
     },
     "execution_count": 108,
     "metadata": {},
     "output_type": "execute_result"
    }
   ],
   "source": [
    "voc.shape"
   ]
  },
  {
   "cell_type": "code",
   "execution_count": 109,
   "id": "c376d298",
   "metadata": {},
   "outputs": [],
   "source": [
    "# Get the path of the testing image(s) and store them in a list\n",
    "test_path = './waste_images/test_segmented'"
   ]
  },
  {
   "cell_type": "code",
   "execution_count": 110,
   "id": "881d8d1a",
   "metadata": {},
   "outputs": [],
   "source": [
    "testing_names = os.listdir(test_path)"
   ]
  },
  {
   "cell_type": "code",
   "execution_count": 111,
   "id": "57891579",
   "metadata": {},
   "outputs": [],
   "source": [
    "# Get path to all images and save them in a list\n",
    "# image_paths and the corresponding label in image_paths\n",
    "image_paths = []\n",
    "image_classes = []\n",
    "class_id = 0\n",
    "\n",
    "#To make it easy to list all file names in a directory let us define a function\n",
    "def imglist(path):\n",
    "    return [os.path.join(path, f) for f in os.listdir(path)]\n",
    "\n",
    "#Fill the placeholder empty lists with image path, classes, and add class ID number\n",
    "\n",
    "for testing_name in testing_names:\n",
    "    dir = os.path.join(test_path, testing_name)\n",
    "    class_path = imglist(dir)\n",
    "    image_paths+=class_path\n",
    "    image_classes+=[class_id]*len(class_path)\n",
    "    class_id+=1"
   ]
  },
  {
   "cell_type": "code",
   "execution_count": 112,
   "id": "9aabb4fd",
   "metadata": {},
   "outputs": [
    {
     "data": {
      "text/plain": [
       "['./waste_images/test_segmented\\\\Aluminium\\\\Aluminium17_segmented.JPG',\n",
       " './waste_images/test_segmented\\\\Aluminium\\\\Aluminium49_segmented.JPG',\n",
       " './waste_images/test_segmented\\\\Aluminium\\\\Aluminium55_segmented.JPG',\n",
       " './waste_images/test_segmented\\\\Aluminium\\\\Aluminium57_segmented.JPG',\n",
       " './waste_images/test_segmented\\\\Aluminium\\\\Aluminium5_segmented.JPG',\n",
       " './waste_images/test_segmented\\\\Aluminium\\\\Aluminium63_segmented.JPG',\n",
       " './waste_images/test_segmented\\\\Aluminium\\\\Aluminium70_segmented.JPG',\n",
       " './waste_images/test_segmented\\\\Aluminium\\\\Aluminium83_segmented.JPG',\n",
       " './waste_images/test_segmented\\\\Aluminium\\\\Aluminium85_segmented.JPG',\n",
       " './waste_images/test_segmented\\\\Battery\\\\Battery100_segmented.JPG']"
      ]
     },
     "execution_count": 112,
     "metadata": {},
     "output_type": "execute_result"
    }
   ],
   "source": [
    "image_paths[:10]"
   ]
  },
  {
   "cell_type": "code",
   "execution_count": 113,
   "id": "3f846204",
   "metadata": {},
   "outputs": [
    {
     "data": {
      "text/plain": [
       "array([ 0,  1,  2,  3,  4,  5,  6,  7,  8,  9, 10, 11])"
      ]
     },
     "execution_count": 113,
     "metadata": {},
     "output_type": "execute_result"
    }
   ],
   "source": [
    "np.unique(image_classes)"
   ]
  },
  {
   "cell_type": "code",
   "execution_count": 114,
   "id": "f767e1a2",
   "metadata": {},
   "outputs": [],
   "source": [
    "# Create list where all the descriptors will be stored\n",
    "des_list = []"
   ]
  },
  {
   "cell_type": "code",
   "execution_count": 115,
   "id": "21b381f6",
   "metadata": {},
   "outputs": [],
   "source": [
    "def extract_lbp_features(img, radius=1, sampling_pixels=8):\n",
    "    \n",
    "    # LBP operates in single channel images so if RGB images are provided\n",
    "    # we have to convert it to grayscale\n",
    "    if (len(img.shape) > 2):\n",
    "        img = img.astype(float)\n",
    "        # RGB to grayscale convertion using Luminance\n",
    "        img = img[:,:,0]*0.3 + img[:,:,1]*0.59 + img[:,:,2]*0.11\n",
    "\n",
    "    # converting to uint8 type for 256 graylevels\n",
    "    img = img.astype(np.uint8)\n",
    "    \n",
    "    # normalize values can also help improving description\n",
    "    i_min = np.min(img)\n",
    "    i_max = np.max(img)\n",
    "    if (i_max - i_min != 0):\n",
    "        img = (img - i_min)/(i_max-i_min)\n",
    "    \n",
    "    # compute LBP\n",
    "    lbp = feature.local_binary_pattern(img, sampling_pixels, radius, method=\"uniform\")\n",
    "    \n",
    "    '''\n",
    "    # LBP returns a matrix with the codes, so we compute the histogram\n",
    "    (hist, _) = np.histogram(lbp.ravel(), bins=np.arange(0, sampling_pixels + 3), range=(0, sampling_pixels + 2))\n",
    "\n",
    "    # normalization\n",
    "    hist = hist.astype(\"float\")\n",
    "    hist /= (hist.sum() + 1e-6)\n",
    "    # return the histogram of Local Binary Patterns\n",
    "    return hist\n",
    "    '''\n",
    "    \n",
    "    return lbp"
   ]
  },
  {
   "cell_type": "code",
   "execution_count": 116,
   "id": "d6b1b9a4",
   "metadata": {},
   "outputs": [],
   "source": [
    "for image_path in image_paths:\n",
    "    im = cv2.imread(image_path)\n",
    "    #gray_img = cv2.cvtColor(im, cv2.COLOR_BGR2GRAY) # Convert the image to grayscale\n",
    "    des = extract_lbp_features(im)\n",
    "    des_list.append((image_path, des)) "
   ]
  },
  {
   "cell_type": "code",
   "execution_count": 117,
   "id": "fcbf5e8d",
   "metadata": {},
   "outputs": [
    {
     "data": {
      "text/plain": [
       "139"
      ]
     },
     "execution_count": 117,
     "metadata": {},
     "output_type": "execute_result"
    }
   ],
   "source": [
    "len(des_list)"
   ]
  },
  {
   "cell_type": "code",
   "execution_count": 118,
   "id": "e04b39c0",
   "metadata": {},
   "outputs": [],
   "source": [
    "removal_list = []\n",
    "\n",
    "for image_path, descriptor in des_list[1:]:\n",
    "    if (descriptor.shape[1] != (640)):\n",
    "        #print(image_path, descriptor.shape)\n",
    "        removal_list.append(image_path)"
   ]
  },
  {
   "cell_type": "code",
   "execution_count": 119,
   "id": "083df424",
   "metadata": {},
   "outputs": [
    {
     "data": {
      "text/plain": [
       "['./waste_images/test_segmented\\\\Cable and Wire\\\\Cable and Wire106_segmented.JPG',\n",
       " './waste_images/test_segmented\\\\Copper\\\\Copper28_segmented.JPG',\n",
       " './waste_images/test_segmented\\\\Copper\\\\Copper5_segmented.JPG',\n",
       " './waste_images/test_segmented\\\\Printed Circuit Board\\\\Printed Circuit Board130_segmented.JPG',\n",
       " './waste_images/test_segmented\\\\Printer Ribbon and Toner\\\\Printer Ribbon and Toner38_segmented.JPG']"
      ]
     },
     "execution_count": 119,
     "metadata": {},
     "output_type": "execute_result"
    }
   ],
   "source": [
    "removal_list"
   ]
  },
  {
   "cell_type": "code",
   "execution_count": 120,
   "id": "a276dcbc",
   "metadata": {},
   "outputs": [],
   "source": [
    "# Stack all the descriptors vertically in a numpy array\n",
    "descriptors = des_list[0][1]\n",
    "for image_path, descriptor in des_list[1:]:\n",
    "        if image_path not in removal_list:\n",
    "            #print(image_path)\n",
    "            descriptors = np.vstack((descriptors, descriptor))"
   ]
  },
  {
   "cell_type": "code",
   "execution_count": 121,
   "id": "16b2a7c9",
   "metadata": {},
   "outputs": [
    {
     "data": {
      "text/plain": [
       "array([[3., 5., 5., ..., 5., 5., 3.],\n",
       "       [5., 8., 8., ..., 8., 8., 5.],\n",
       "       [5., 8., 8., ..., 8., 8., 5.],\n",
       "       ...,\n",
       "       [5., 8., 8., ..., 8., 8., 5.],\n",
       "       [5., 8., 8., ..., 8., 8., 5.],\n",
       "       [3., 5., 5., ..., 5., 5., 3.]])"
      ]
     },
     "execution_count": 121,
     "metadata": {},
     "output_type": "execute_result"
    }
   ],
   "source": [
    "descriptors"
   ]
  },
  {
   "cell_type": "code",
   "execution_count": 122,
   "id": "412b7652",
   "metadata": {},
   "outputs": [],
   "source": [
    "adjusted_des_list = []\n",
    "\n",
    "for item in des_list:\n",
    "    if item[0] not in removal_list:\n",
    "        #print(item[0])\n",
    "        adjusted_des_list.append(item)"
   ]
  },
  {
   "cell_type": "code",
   "execution_count": 123,
   "id": "e34464c6",
   "metadata": {},
   "outputs": [
    {
     "data": {
      "text/plain": [
       "134"
      ]
     },
     "execution_count": 123,
     "metadata": {},
     "output_type": "execute_result"
    }
   ],
   "source": [
    "len(adjusted_des_list)"
   ]
  },
  {
   "cell_type": "code",
   "execution_count": 124,
   "id": "e0386ae3",
   "metadata": {},
   "outputs": [
    {
     "data": {
      "text/plain": [
       "(5, 139)"
      ]
     },
     "execution_count": 124,
     "metadata": {},
     "output_type": "execute_result"
    }
   ],
   "source": [
    "len(removal_list), len(image_paths)"
   ]
  },
  {
   "cell_type": "code",
   "execution_count": 125,
   "id": "b0b74722",
   "metadata": {},
   "outputs": [],
   "source": [
    "def list_difference(b, a):\n",
    "    c = list(b)\n",
    "    for item in a:\n",
    "        try:\n",
    "            c.remove(item)\n",
    "        except ValueError:\n",
    "            pass            #or maybe you want to keep a values here\n",
    "    return c"
   ]
  },
  {
   "cell_type": "code",
   "execution_count": 126,
   "id": "3cc89de2",
   "metadata": {},
   "outputs": [
    {
     "data": {
      "text/plain": [
       "134"
      ]
     },
     "execution_count": 126,
     "metadata": {},
     "output_type": "execute_result"
    }
   ],
   "source": [
    "adjusted_image_paths = list_difference(image_paths, removal_list)\n",
    "len(adjusted_image_paths)"
   ]
  },
  {
   "cell_type": "code",
   "execution_count": 127,
   "id": "19dd23fd",
   "metadata": {},
   "outputs": [],
   "source": [
    "# Calculate the histogram of features and represent them as vector\n",
    "# vq assigns codes from a code book to observations\n",
    "\n",
    "test_features = np.zeros((len(adjusted_image_paths), k), \"float32\")\n",
    "\n",
    "for i in range(len(adjusted_image_paths)):\n",
    "    words, distance = vq(adjusted_des_list[i][1],voc)\n",
    "    for w in words:\n",
    "        test_features[i][w] += 1"
   ]
  },
  {
   "cell_type": "code",
   "execution_count": 128,
   "id": "0f98b4a4",
   "metadata": {},
   "outputs": [
    {
     "data": {
      "text/plain": [
       "array([  0.,   1.,   2.,   3.,   4.,   5.,   6.,   7.,   8.,   9.,  10.,\n",
       "        11.,  12.,  13.,  14.,  15.,  16.,  17.,  18.,  19.,  20.,  21.,\n",
       "        22.,  23.,  24.,  25.,  26.,  27.,  28.,  29.,  30.,  31.,  32.,\n",
       "        33.,  34.,  35.,  36.,  37.,  38.,  39.,  40.,  41.,  42.,  43.,\n",
       "        44.,  45.,  46.,  47.,  48.,  49.,  50.,  51.,  52.,  53.,  54.,\n",
       "        55.,  56.,  57.,  58.,  59.,  60.,  61.,  62.,  63.,  64.,  65.,\n",
       "        66.,  67.,  68.,  69.,  70.,  71.,  72.,  73.,  74.,  75.,  76.,\n",
       "        77.,  78.,  79.,  80.,  81.,  82.,  83.,  84.,  85.,  86.,  87.,\n",
       "        88.,  89.,  90.,  91.,  92.,  93.,  94.,  95.,  96.,  97.,  98.,\n",
       "        99., 100., 101., 102., 103., 104., 105., 106., 107., 108., 109.,\n",
       "       110., 111., 112., 114., 115., 116., 117., 118., 119., 120., 121.,\n",
       "       122., 124., 125., 126., 127., 129., 130., 131., 132., 133., 134.,\n",
       "       135., 136., 138., 139., 140., 142., 143., 144., 145., 146., 148.,\n",
       "       150., 151., 152., 155., 156., 157., 158., 159., 160., 161., 162.,\n",
       "       163., 164., 165., 166., 167., 168., 169., 170., 171., 172., 173.,\n",
       "       174., 175., 176., 179., 184., 186., 187., 191., 195., 200., 201.,\n",
       "       202., 203., 208., 211., 212., 214., 215., 216., 218., 219., 221.,\n",
       "       223., 224., 225., 227., 229., 233., 234., 236., 237., 240., 242.,\n",
       "       245., 246., 249., 252., 254., 257., 259., 267., 270., 273., 278.,\n",
       "       279., 281., 282., 285., 290., 292., 297., 299., 310., 312., 313.,\n",
       "       314., 318., 324., 327., 338., 348.], dtype=float32)"
      ]
     },
     "execution_count": 128,
     "metadata": {},
     "output_type": "execute_result"
    }
   ],
   "source": [
    "np.unique(test_features)"
   ]
  },
  {
   "cell_type": "code",
   "execution_count": 129,
   "id": "991dc561",
   "metadata": {},
   "outputs": [
    {
     "data": {
      "text/plain": [
       "['Aluminium',\n",
       " 'Battery',\n",
       " 'Cable and Wire',\n",
       " 'Cardboard and Paper',\n",
       " 'Connector',\n",
       " 'Copper',\n",
       " 'Iron',\n",
       " 'Magnetic Tape',\n",
       " 'Printed Circuit Board',\n",
       " 'Printer Ribbon and Toner',\n",
       " 'Tube and Screen',\n",
       " 'Water Pump']"
      ]
     },
     "execution_count": 129,
     "metadata": {},
     "output_type": "execute_result"
    }
   ],
   "source": [
    "labels_classes = {'Aluminium':0, 'Battery':1, 'Cable and Wire':2, 'Cardboard and Paper':3, 'Connector':4,\n",
    "                'Copper':5, 'Iron':6, 'Magnetic Tape':7, 'Printed Circuit Board':8, \n",
    "                'Printer Ribbon and Toner':9, 'Tube and Screen':10, 'Water Pump':11}\n",
    "\n",
    "list(labels_classes.keys())"
   ]
  },
  {
   "cell_type": "code",
   "execution_count": 130,
   "id": "a399b95b",
   "metadata": {},
   "outputs": [],
   "source": [
    "classesToRemove = []\n",
    "\n",
    "for key in labels_classes:\n",
    "    for string in removal_list:\n",
    "        if key in string:\n",
    "            #print(labels_classes[key])\n",
    "            classesToRemove.append(labels_classes[key])"
   ]
  },
  {
   "cell_type": "code",
   "execution_count": 131,
   "id": "03c6be13",
   "metadata": {},
   "outputs": [
    {
     "data": {
      "text/plain": [
       "[2, 5, 5, 8, 9]"
      ]
     },
     "execution_count": 131,
     "metadata": {},
     "output_type": "execute_result"
    }
   ],
   "source": [
    "classesToRemove"
   ]
  },
  {
   "cell_type": "code",
   "execution_count": 132,
   "id": "5ef87fdc",
   "metadata": {},
   "outputs": [],
   "source": [
    "adjusted_image_classes = list_difference(image_classes, classesToRemove)"
   ]
  },
  {
   "cell_type": "code",
   "execution_count": 133,
   "id": "bb01194a",
   "metadata": {},
   "outputs": [
    {
     "data": {
      "text/plain": [
       "134"
      ]
     },
     "execution_count": 133,
     "metadata": {},
     "output_type": "execute_result"
    }
   ],
   "source": [
    "len(adjusted_image_classes)"
   ]
  },
  {
   "cell_type": "code",
   "execution_count": 134,
   "id": "dd793938",
   "metadata": {},
   "outputs": [
    {
     "name": "stdout",
     "output_type": "stream",
     "text": [
      "true_class =['Aluminium', 'Aluminium', 'Aluminium', 'Aluminium', 'Aluminium', 'Aluminium', 'Aluminium', 'Aluminium', 'Aluminium', 'Battery', 'Battery', 'Battery', 'Battery', 'Battery', 'Battery', 'Battery', 'Battery', 'Battery', 'Battery', 'Battery', 'Battery', 'Battery', 'Battery', 'Battery', 'Battery', 'Battery', 'Battery', 'Battery', 'Cable and Wire', 'Cable and Wire', 'Cable and Wire', 'Cable and Wire', 'Cable and Wire', 'Cable and Wire', 'Cable and Wire', 'Cable and Wire', 'Cable and Wire', 'Cardboard and Paper', 'Cardboard and Paper', 'Cardboard and Paper', 'Cardboard and Paper', 'Cardboard and Paper', 'Cardboard and Paper', 'Cardboard and Paper', 'Cardboard and Paper', 'Cardboard and Paper', 'Cardboard and Paper', 'Connector', 'Connector', 'Connector', 'Connector', 'Connector', 'Connector', 'Connector', 'Connector', 'Connector', 'Copper', 'Copper', 'Copper', 'Copper', 'Copper', 'Copper', 'Copper', 'Copper', 'Copper', 'Iron', 'Iron', 'Iron', 'Iron', 'Iron', 'Iron', 'Magnetic Tape', 'Magnetic Tape', 'Magnetic Tape', 'Printed Circuit Board', 'Printed Circuit Board', 'Printed Circuit Board', 'Printed Circuit Board', 'Printed Circuit Board', 'Printed Circuit Board', 'Printed Circuit Board', 'Printed Circuit Board', 'Printed Circuit Board', 'Printed Circuit Board', 'Printed Circuit Board', 'Printed Circuit Board', 'Printed Circuit Board', 'Printed Circuit Board', 'Printed Circuit Board', 'Printed Circuit Board', 'Printed Circuit Board', 'Printed Circuit Board', 'Printed Circuit Board', 'Printed Circuit Board', 'Printed Circuit Board', 'Printed Circuit Board', 'Printed Circuit Board', 'Printed Circuit Board', 'Printed Circuit Board', 'Printed Circuit Board', 'Printed Circuit Board', 'Printed Circuit Board', 'Printed Circuit Board', 'Printed Circuit Board', 'Printed Circuit Board', 'Printed Circuit Board', 'Printed Circuit Board', 'Printed Circuit Board', 'Printed Circuit Board', 'Printed Circuit Board', 'Printed Circuit Board', 'Printed Circuit Board', 'Printed Circuit Board', 'Printed Circuit Board', 'Printed Circuit Board', 'Printer Ribbon and Toner', 'Printer Ribbon and Toner', 'Printer Ribbon and Toner', 'Printer Ribbon and Toner', 'Printer Ribbon and Toner', 'Printer Ribbon and Toner', 'Printer Ribbon and Toner', 'Tube and Screen', 'Tube and Screen', 'Tube and Screen', 'Tube and Screen', 'Tube and Screen', 'Tube and Screen', 'Tube and Screen', 'Tube and Screen', 'Tube and Screen', 'Tube and Screen', 'Water Pump', 'Water Pump']\n",
      "prediction =['Printed Circuit Board', 'Printed Circuit Board', 'Printed Circuit Board', 'Printed Circuit Board', 'Printed Circuit Board', 'Printed Circuit Board', 'Printed Circuit Board', 'Printed Circuit Board', 'Printed Circuit Board', 'Printed Circuit Board', 'Printed Circuit Board', 'Battery', 'Printed Circuit Board', 'Printed Circuit Board', 'Battery', 'Printed Circuit Board', 'Battery', 'Printed Circuit Board', 'Battery', 'Printed Circuit Board', 'Printed Circuit Board', 'Printed Circuit Board', 'Printed Circuit Board', 'Printed Circuit Board', 'Battery', 'Printed Circuit Board', 'Printed Circuit Board', 'Battery', 'Printed Circuit Board', 'Printed Circuit Board', 'Printed Circuit Board', 'Printed Circuit Board', 'Printed Circuit Board', 'Printed Circuit Board', 'Battery', 'Printed Circuit Board', 'Printed Circuit Board', 'Printed Circuit Board', 'Printed Circuit Board', 'Printed Circuit Board', 'Printed Circuit Board', 'Printed Circuit Board', 'Printed Circuit Board', 'Printed Circuit Board', 'Printed Circuit Board', 'Printed Circuit Board', 'Tube and Screen', 'Printed Circuit Board', 'Printed Circuit Board', 'Printed Circuit Board', 'Printed Circuit Board', 'Connector', 'Printed Circuit Board', 'Printed Circuit Board', 'Printed Circuit Board', 'Printed Circuit Board', 'Printed Circuit Board', 'Printed Circuit Board', 'Printed Circuit Board', 'Printed Circuit Board', 'Printed Circuit Board', 'Printed Circuit Board', 'Printed Circuit Board', 'Printed Circuit Board', 'Printed Circuit Board', 'Printed Circuit Board', 'Printed Circuit Board', 'Printed Circuit Board', 'Printed Circuit Board', 'Printed Circuit Board', 'Printed Circuit Board', 'Printed Circuit Board', 'Printed Circuit Board', 'Printed Circuit Board', 'Printed Circuit Board', 'Printed Circuit Board', 'Printed Circuit Board', 'Printed Circuit Board', 'Printed Circuit Board', 'Printed Circuit Board', 'Printed Circuit Board', 'Printed Circuit Board', 'Printed Circuit Board', 'Printed Circuit Board', 'Connector', 'Printed Circuit Board', 'Printed Circuit Board', 'Printed Circuit Board', 'Printed Circuit Board', 'Printed Circuit Board', 'Printed Circuit Board', 'Printed Circuit Board', 'Printed Circuit Board', 'Printed Circuit Board', 'Printed Circuit Board', 'Printed Circuit Board', 'Printed Circuit Board', 'Printed Circuit Board', 'Printed Circuit Board', 'Printed Circuit Board', 'Printed Circuit Board', 'Printed Circuit Board', 'Printed Circuit Board', 'Printed Circuit Board', 'Printed Circuit Board', 'Printed Circuit Board', 'Printed Circuit Board', 'Battery', 'Printed Circuit Board', 'Printed Circuit Board', 'Printed Circuit Board', 'Printed Circuit Board', 'Printed Circuit Board', 'Printed Circuit Board', 'Printed Circuit Board', 'Printed Circuit Board', 'Printed Circuit Board', 'Printed Circuit Board', 'Printed Circuit Board', 'Printed Circuit Board', 'Printed Circuit Board', 'Printed Circuit Board', 'Printed Circuit Board', 'Printed Circuit Board', 'Printed Circuit Board', 'Printed Circuit Board', 'Printed Circuit Board', 'Printed Circuit Board', 'Tube and Screen', 'Tube and Screen', 'Printed Circuit Board', 'Battery', 'Printed Circuit Board', 'Printed Circuit Board']\n"
     ]
    }
   ],
   "source": [
    "# Scale the features\n",
    "# Standardize features by removing the mean and scaling to unit variance\n",
    "# Scaler (stdSlr comes from the pickled file we imported)\n",
    "test_features = stdSlr.transform(test_features)\n",
    "\n",
    "#######Until here most of the above code is similar to Train except for kmeans clustering####\n",
    "\n",
    "# Report true class names so they can be compared with predicted classes\n",
    "true_class =  [classes_names[i] for i in adjusted_image_classes]\n",
    "# Perform the predictions and report predicted class names. \n",
    "predictions =  [classes_names[i] for i in clf.predict(test_features)]\n",
    "\n",
    "\n",
    "# Print the true class and Predictions \n",
    "print (\"true_class =\"  + str(true_class))\n",
    "print (\"prediction =\"  + str(predictions))"
   ]
  },
  {
   "cell_type": "code",
   "execution_count": 135,
   "id": "1dfe7832",
   "metadata": {},
   "outputs": [
    {
     "name": "stdout",
     "output_type": "stream",
     "text": [
      "accuracy =  0.3582089552238806\n"
     ]
    }
   ],
   "source": [
    "# To make it easy to understand the accuracy let us print the confusion matrix\n",
    "\n",
    "def showconfusionmatrix(cm):\n",
    "    pl.matshow(cm)\n",
    "    pl.title('Confusion matrix')\n",
    "    pl.colorbar()\n",
    "    pl.show()\n",
    "\n",
    "\n",
    "accuracy = accuracy_score(true_class, predictions)\n",
    "print (\"accuracy = \", accuracy)\n",
    "cm = confusion_matrix(true_class, predictions, labels=classes_names)\n",
    "#print (cm)\n",
    "#showconfusionmatrix(cm)"
   ]
  },
  {
   "cell_type": "code",
   "execution_count": 136,
   "id": "1720f0f3",
   "metadata": {},
   "outputs": [
    {
     "data": {
      "image/png": "[encoded data removed]",
      "text/plain": [
       "<Figure size 432x288 with 2 Axes>"
      ]
     },
     "metadata": {
      "needs_background": "light"
     },
     "output_type": "display_data"
    }
   ],
   "source": [
    "disp = ConfusionMatrixDisplay(confusion_matrix=cm, display_labels=classes_names)\n",
    "disp.plot(xticks_rotation = 'vertical')\n",
    "plt.show()"
   ]
  },
  {
   "cell_type": "code",
   "execution_count": 137,
   "id": "d4f902a8",
   "metadata": {},
   "outputs": [
    {
     "data": {
      "text/plain": [
       "array([0.        , 0.31578947, 0.        , 0.        , 0.11111111,\n",
       "       0.        , 0.        , 0.        , 0.95121951, 0.        ,\n",
       "       0.2       , 0.        ])"
      ]
     },
     "execution_count": 137,
     "metadata": {},
     "output_type": "execute_result"
    }
   ],
   "source": [
    "cm_norm = cm.astype('float') / cm.sum(axis=1)[:, np.newaxis]\n",
    "cm_norm.diagonal()"
   ]
  },
  {
   "cell_type": "code",
   "execution_count": 138,
   "id": "7cbb0ea4",
   "metadata": {},
   "outputs": [
    {
     "data": {
      "text/plain": [
       "{'Aluminium': 0.0,\n",
       " 'Battery': 0.32,\n",
       " 'Cable and Wire': 0.0,\n",
       " 'Cardboard and Paper': 0.0,\n",
       " 'Connector': 0.11,\n",
       " 'Copper': 0.0,\n",
       " 'Iron': 0.0,\n",
       " 'Magnetic Tape': 0.0,\n",
       " 'Printed Circuit Board': 0.95,\n",
       " 'Printer Ribbon and Toner': 0.0,\n",
       " 'Tube and Screen': 0.2,\n",
       " 'Water Pump': 0.0}"
      ]
     },
     "execution_count": 138,
     "metadata": {},
     "output_type": "execute_result"
    }
   ],
   "source": [
    "dict_accuracies = {}\n",
    "\n",
    "for i, class_name in zip(cm_norm.diagonal(), classes_names):\n",
    "    dict_accuracies[class_name] = round(i,2)\n",
    "\n",
    "\n",
    "names = list(dict_accuracies.keys())\n",
    "values = list(dict_accuracies.values())\n",
    "\n",
    "dict_accuracies"
   ]
  },
  {
   "cell_type": "code",
   "execution_count": 139,
   "id": "19dc8949",
   "metadata": {},
   "outputs": [
    {
     "data": {
      "image/png": "[encoded data removed]",
      "text/plain": [
       "<Figure size 432x288 with 1 Axes>"
      ]
     },
     "metadata": {
      "needs_background": "light"
     },
     "output_type": "display_data"
    }
   ],
   "source": [
    "norm = plt.Normalize(0, max(cm_norm.diagonal()))\n",
    "colors = plt.cm.Purples(norm(cm_norm.diagonal()))\n",
    "\n",
    "plt.bar(range(len(dict_accuracies)), values, tick_label=names, color=colors)\n",
    "\n",
    "plt.xticks(rotation = 90)\n",
    "plt.ylim(top=1)\n",
    "plt.show()"
   ]
  },
  {
   "cell_type": "markdown",
   "id": "85208064",
   "metadata": {},
   "source": [
    "... interpretation ..."
   ]
  },
  {
   "cell_type": "code",
   "execution_count": null,
   "id": "c6fb20a2",
   "metadata": {},
   "outputs": [],
   "source": []
  }
 ],
 "metadata": {
  "kernelspec": {
   "display_name": "Python 3",
   "language": "python",
   "name": "python3"
  },
  "language_info": {
   "codemirror_mode": {
    "name": "ipython",
    "version": 3
   },
   "file_extension": ".py",
   "mimetype": "text/x-python",
   "name": "python",
   "nbconvert_exporter": "python",
   "pygments_lexer": "ipython3",
   "version": "3.8.8"
  }
 },
 "nbformat": 4,
 "nbformat_minor": 5
}
