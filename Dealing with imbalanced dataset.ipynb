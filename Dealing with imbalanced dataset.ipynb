{
 "cells": [
  {
   "cell_type": "code",
   "execution_count": 1,
   "id": "f5350dd8",
   "metadata": {},
   "outputs": [],
   "source": [
    "import cv2\n",
    "import numpy as np\n",
    "import os\n",
    "\n",
    "# Perform k-means clustering and vector quantization\n",
    "from scipy.cluster.vq import kmeans, vq\n",
    "\n",
    "# Importing Silhouette Score implementation from scikit-learn\n",
    "from sklearn.metrics import silhouette_score\n",
    "\n",
    "# Importing feature extraction tools\n",
    "from skimage.feature import greycomatrix, greycoprops\n",
    "import mahotas as mt # Mahotas library for GLCM calculation\n",
    "from skimage import feature # feature.local_binary_pattern for LBP calculation\n",
    "\n",
    "import joblib as jb\n",
    "\n",
    "# Importing visualization tools\n",
    "import matplotlib.pyplot as plt\n",
    "import seaborn as sns\n",
    "\n",
    "# Importing projection tools\n",
    "from sklearn.decomposition import PCA\n",
    "from sklearn.manifold import TSNE\n",
    "\n",
    "# Importing pre-processing tool\n",
    "from sklearn.preprocessing import StandardScaler\n",
    "\n",
    "# Importing classifiers\n",
    "from sklearn.linear_model import LogisticRegression\n",
    "from sklearn.neural_network import MLPClassifier\n",
    "from sklearn.svm import SVC\n",
    "from sklearn.svm import LinearSVC\n",
    "from sklearn.tree import DecisionTreeClassifier\n",
    "from sklearn.ensemble import RandomForestClassifier\n",
    "from xgboost import XGBClassifier\n",
    "\n",
    "# Importing model selection tools\n",
    "from sklearn.model_selection import StratifiedKFold, cross_val_score\n",
    "\n",
    "import re\n",
    "\n",
    "import random\n",
    "\n",
    "# Importing preprocessing tools to deal with imbalanced dataset\n",
    "from numpy import expand_dims\n",
    "from tensorflow.keras.preprocessing.image import load_img\n",
    "from tensorflow.keras.preprocessing.image import img_to_array\n",
    "from tensorflow.keras.preprocessing.image import ImageDataGenerator\n",
    "from matplotlib import pyplot\n",
    "\n",
    "from PIL import Image\n",
    "from PIL import ImageFilter"
   ]
  },
  {
   "cell_type": "markdown",
   "id": "ea9c051b",
   "metadata": {},
   "source": [
    "# Train (before background segmentation)"
   ]
  },
  {
   "cell_type": "code",
   "execution_count": 2,
   "id": "800322e2",
   "metadata": {},
   "outputs": [],
   "source": [
    "train_path = './waste_images/train'  \n",
    "training_names = os.listdir(train_path)\n",
    "\n",
    "image_paths = [] # Get path to all images and save them in a list\n",
    "image_classes = [] # Corresponding labels in image_paths\n",
    "class_id = 0\n",
    "\n",
    "# To make it easy to list all file names in a directory let us define a function\n",
    "def imglist(path):    \n",
    "    return [os.path.join(path, f) for f in os.listdir(path)]\n",
    "\n",
    "# Fill the placeholder empty lists with image path, classes, and add class ID number\n",
    " \n",
    "for training_name in training_names:\n",
    "    dir = os.path.join(train_path, training_name)\n",
    "    class_path = imglist(dir)\n",
    "    image_paths+=class_path\n",
    "    image_classes+=[class_id]*len(class_path)\n",
    "    class_id+=1"
   ]
  },
  {
   "cell_type": "code",
   "execution_count": 3,
   "id": "9b2ada6f",
   "metadata": {},
   "outputs": [
    {
     "data": {
      "text/plain": [
       "['./waste_images/train\\\\Aluminium\\\\Aluminium1.JPG',\n",
       " './waste_images/train\\\\Aluminium\\\\Aluminium18.JPG',\n",
       " './waste_images/train\\\\Aluminium\\\\Aluminium21.JPG',\n",
       " './waste_images/train\\\\Aluminium\\\\Aluminium26.JPG',\n",
       " './waste_images/train\\\\Aluminium\\\\Aluminium3.JPG',\n",
       " './waste_images/train\\\\Aluminium\\\\Aluminium30.JPG',\n",
       " './waste_images/train\\\\Aluminium\\\\Aluminium31.JPG',\n",
       " './waste_images/train\\\\Aluminium\\\\Aluminium32.JPG',\n",
       " './waste_images/train\\\\Aluminium\\\\Aluminium37.JPG',\n",
       " './waste_images/train\\\\Aluminium\\\\Aluminium40.JPG']"
      ]
     },
     "execution_count": 3,
     "metadata": {},
     "output_type": "execute_result"
    }
   ],
   "source": [
    "image_paths[:10]"
   ]
  },
  {
   "cell_type": "code",
   "execution_count": 4,
   "id": "0e2654cf",
   "metadata": {},
   "outputs": [
    {
     "data": {
      "text/plain": [
       "565"
      ]
     },
     "execution_count": 4,
     "metadata": {},
     "output_type": "execute_result"
    }
   ],
   "source": [
    "# total number of images in the training set\n",
    "len(image_paths)"
   ]
  },
  {
   "cell_type": "code",
   "execution_count": 5,
   "id": "f30cac8f",
   "metadata": {},
   "outputs": [
    {
     "data": {
      "text/plain": [
       "array([ 0,  1,  2,  3,  4,  5,  6,  7,  8,  9, 10, 11])"
      ]
     },
     "execution_count": 5,
     "metadata": {},
     "output_type": "execute_result"
    }
   ],
   "source": [
    "# classes\n",
    "np.unique(image_classes)"
   ]
  },
  {
   "cell_type": "code",
   "execution_count": 6,
   "id": "d7e9e1f5",
   "metadata": {},
   "outputs": [
    {
     "data": {
      "text/plain": [
       "{0: 38,\n",
       " 1: 76,\n",
       " 2: 40,\n",
       " 3: 40,\n",
       " 4: 40,\n",
       " 5: 45,\n",
       " 6: 27,\n",
       " 7: 12,\n",
       " 8: 171,\n",
       " 9: 30,\n",
       " 10: 40,\n",
       " 11: 6}"
      ]
     },
     "execution_count": 6,
     "metadata": {},
     "output_type": "execute_result"
    }
   ],
   "source": [
    "dict((x,image_classes.count(x)) for x in set(image_classes))"
   ]
  },
  {
   "cell_type": "code",
   "execution_count": 7,
   "id": "c5adb502",
   "metadata": {},
   "outputs": [],
   "source": [
    "labels_classes = {'Aluminium':0, 'Battery':1, 'Cable and Wire':2, 'Cardboard and Paper':3, 'Connector':4,\n",
    "                'Copper':5, 'Iron':6, 'Magnetic Tape':7, 'Printed Circuit Board':8, \n",
    "                'Printer Ribbon and Toner':9, 'Tube and Screen':10, 'Water Pump':11}"
   ]
  },
  {
   "cell_type": "code",
   "execution_count": null,
   "id": "e6df9278",
   "metadata": {},
   "outputs": [],
   "source": []
  },
  {
   "cell_type": "markdown",
   "id": "83c2dde8",
   "metadata": {},
   "source": [
    "## Battery: remove ~ 30 images"
   ]
  },
  {
   "cell_type": "code",
   "execution_count": 182,
   "id": "9abfd3fb",
   "metadata": {},
   "outputs": [],
   "source": [
    "random.seed(1658)"
   ]
  },
  {
   "cell_type": "code",
   "execution_count": 207,
   "id": "1bbd486e",
   "metadata": {},
   "outputs": [],
   "source": [
    "image_paths_battery = [x for x in image_paths if \"Battery\" in x]"
   ]
  },
  {
   "cell_type": "code",
   "execution_count": 183,
   "id": "aa43d0e7",
   "metadata": {},
   "outputs": [
    {
     "data": {
      "text/plain": [
       "['./waste_images/train\\\\Battery\\\\Battery58.JPG',\n",
       " './waste_images/train\\\\Battery\\\\Battery37.JPG',\n",
       " './waste_images/train\\\\Battery\\\\Battery35.JPG',\n",
       " './waste_images/train\\\\Battery\\\\Battery48.JPG',\n",
       " './waste_images/train\\\\Battery\\\\Battery150.JPG',\n",
       " './waste_images/train\\\\Battery\\\\Battery133.JPG',\n",
       " './waste_images/train\\\\Battery\\\\Battery34.JPG',\n",
       " './waste_images/train\\\\Battery\\\\Battery190.JPG',\n",
       " './waste_images/train\\\\Battery\\\\Battery84.JPG',\n",
       " './waste_images/train\\\\Battery\\\\Battery40.JPG',\n",
       " './waste_images/train\\\\Battery\\\\Battery191.JPG',\n",
       " './waste_images/train\\\\Battery\\\\Battery142.JPG',\n",
       " './waste_images/train\\\\Battery\\\\Battery178.JPG',\n",
       " './waste_images/train\\\\Battery\\\\Battery176.JPG',\n",
       " './waste_images/train\\\\Battery\\\\Battery134.JPG',\n",
       " './waste_images/train\\\\Battery\\\\Battery187.JPG',\n",
       " './waste_images/train\\\\Battery\\\\Battery132.JPG',\n",
       " './waste_images/train\\\\Battery\\\\Battery124.JPG',\n",
       " './waste_images/train\\\\Battery\\\\Battery154.JPG',\n",
       " './waste_images/train\\\\Battery\\\\Battery59.JPG',\n",
       " './waste_images/train\\\\Battery\\\\Battery170.JPG',\n",
       " './waste_images/train\\\\Battery\\\\Battery39.JPG',\n",
       " './waste_images/train\\\\Battery\\\\Battery110.JPG',\n",
       " './waste_images/train\\\\Battery\\\\Battery97.JPG',\n",
       " './waste_images/train\\\\Battery\\\\Battery103.JPG',\n",
       " './waste_images/train\\\\Battery\\\\Battery6.JPG',\n",
       " './waste_images/train\\\\Battery\\\\Battery57.JPG',\n",
       " './waste_images/train\\\\Battery\\\\Battery72.JPG',\n",
       " './waste_images/train\\\\Battery\\\\Battery71.JPG',\n",
       " './waste_images/train\\\\Battery\\\\Battery90.JPG']"
      ]
     },
     "execution_count": 183,
     "metadata": {},
     "output_type": "execute_result"
    }
   ],
   "source": [
    "random.sample(image_paths_battery, k=30) # samples to be removed"
   ]
  },
  {
   "cell_type": "code",
   "execution_count": null,
   "id": "edbfc01b",
   "metadata": {},
   "outputs": [],
   "source": []
  },
  {
   "cell_type": "code",
   "execution_count": null,
   "id": "f17ed82f",
   "metadata": {},
   "outputs": [],
   "source": []
  },
  {
   "cell_type": "markdown",
   "id": "ce0e2e00",
   "metadata": {},
   "source": [
    "## Iron: add ~ 13 images"
   ]
  },
  {
   "cell_type": "code",
   "execution_count": 184,
   "id": "88eaf799",
   "metadata": {},
   "outputs": [],
   "source": [
    "image_paths_iron = [x for x in image_paths if \"Iron\" in x]"
   ]
  },
  {
   "cell_type": "code",
   "execution_count": 185,
   "id": "6e3f863a",
   "metadata": {},
   "outputs": [
    {
     "data": {
      "text/plain": [
       "'./waste_images/train\\\\Iron\\\\Iron31.JPG'"
      ]
     },
     "execution_count": 185,
     "metadata": {},
     "output_type": "execute_result"
    }
   ],
   "source": [
    "random.sample(image_paths_iron, k=1)[0]"
   ]
  },
  {
   "cell_type": "code",
   "execution_count": 186,
   "id": "0fe2983b",
   "metadata": {},
   "outputs": [
    {
     "name": "stdout",
     "output_type": "stream",
     "text": [
      "./waste_images/train\\Iron\\Iron8.JPG 1 _width-shift\n",
      "./waste_images/train\\Iron\\Iron4.JPG 2 _width-shift\n",
      "./waste_images/train\\Iron\\Iron28.JPG 3 _height-shift\n",
      "./waste_images/train\\Iron\\Iron23.JPG 4 _height-shift\n",
      "./waste_images/train\\Iron\\Iron22.JPG 5 _height-shift\n",
      "./waste_images/train\\Iron\\Iron26.JPG 6 _horizontal-shift\n",
      "./waste_images/train\\Iron\\Iron17.JPG 7 _horizontal-shift\n",
      "./waste_images/train\\Iron\\Iron35.JPG 8 _rotation-range\n",
      "./waste_images/train\\Iron\\Iron16.JPG 9 _rotation-range\n",
      "./waste_images/train\\Iron\\Iron9.JPG 10 _rotation-range\n",
      "./waste_images/train\\Iron\\Iron2.JPG 11 _brightness-range\n",
      "./waste_images/train\\Iron\\Iron40.JPG 12 _brightness-range\n",
      "./waste_images/train\\Iron\\Iron32.JPG 13 _brightness-range\n"
     ]
    }
   ],
   "source": [
    "random.seed(1658)\n",
    "\n",
    "range_list = [1,14] # adding 13 images\n",
    "\n",
    "image_list = random.sample(image_paths_iron, k=13)\n",
    "\n",
    "for count in range(range_list[0], range_list[1]):\n",
    "    \n",
    "    imagefile = image_list[count-1]\n",
    "    new_dir = './waste_images/train_balanced/Iron\\\\'\n",
    "        \n",
    "    # Creating image date augmentation generator based on percentages of the range interval\n",
    "    \n",
    "    if count in range(range_list[0],int(0.2*len(range(range_list[0], range_list[1]))+1)):\n",
    "        datagen = ImageDataGenerator(width_shift_range=[-200,200]) # width shift\n",
    "        suffix = '_width-shift'\n",
    "        \n",
    "    elif count in range(int(0.2*len(range(range_list[0], range_list[1]))+1),int(0.4*len(range(range_list[0], range_list[1]))+1)):\n",
    "        datagen = ImageDataGenerator(height_shift_range=0.5) # height shift\n",
    "        suffix = '_height-shift'\n",
    "     \n",
    "    elif count in range(int(0.4*len(range(range_list[0], range_list[1]))+1),int(0.6*len(range(range_list[0], range_list[1]))+1)):\n",
    "        datagen = ImageDataGenerator(horizontal_flip=True) # horizontal flip\n",
    "        suffix = '_horizontal-flip'\n",
    "        \n",
    "    elif count in range(int(0.6*len(range(range_list[0], range_list[1]))+1),int(0.8*len(range(range_list[0], range_list[1]))+1)):\n",
    "        datagen = ImageDataGenerator(rotation_range=90) # rotation\n",
    "        suffix = '_rotation-range'\n",
    "        \n",
    "    elif count in range(int(0.8*len(range(range_list[0], range_list[1]))+1),int(1.0*len(range(range_list[0], range_list[1]))+1)):\n",
    "        datagen = ImageDataGenerator(brightness_range=[0.2,1.0]) # brightness\n",
    "        suffix = '_brightness-range'\n",
    "    \n",
    "    print(imagefile, count, suffix)\n",
    "    \n",
    "    img = load_img(imagefile) # Loading the image\n",
    "    data = img_to_array(img)  # Converting to numpy array\n",
    "    samples = expand_dims(data, 0) # Expanding dimension to one sample\n",
    "    it = datagen.flow(samples, batch_size=1) # Preparing iterator\n",
    "    batch = it.next()  # Generating batch of images\n",
    "    image = batch[0].astype('uint8') # Convert to unsigned integers\n",
    "    Image.fromarray(image).save(new_dir+imagefile.rsplit('\\\\', 1)[1].replace('.JPG','')+suffix+'.JPG') # Saving image"
   ]
  },
  {
   "cell_type": "markdown",
   "id": "ba0a3554",
   "metadata": {},
   "source": [
    "## Magnetic Tape: add ~ 28 images"
   ]
  },
  {
   "cell_type": "code",
   "execution_count": 200,
   "id": "2e82211f",
   "metadata": {},
   "outputs": [],
   "source": [
    "image_paths_tape = [x for x in image_paths if \"Magnetic Tape\" in x]"
   ]
  },
  {
   "cell_type": "code",
   "execution_count": 205,
   "id": "a6f1bc94",
   "metadata": {},
   "outputs": [
    {
     "name": "stdout",
     "output_type": "stream",
     "text": [
      "./waste_images/train\\Magnetic Tape\\Magnetic Tape10.JPG 1 _width-shift_\n",
      "./waste_images/train\\Magnetic Tape\\Magnetic Tape12.JPG 2 _width-shift_\n",
      "./waste_images/train\\Magnetic Tape\\Magnetic Tape3.JPG 3 _width-shift_\n",
      "./waste_images/train\\Magnetic Tape\\Magnetic Tape8.JPG 4 _width-shift_\n",
      "./waste_images/train\\Magnetic Tape\\Magnetic Tape10.JPG 5 _width-shift_\n",
      "./waste_images/train\\Magnetic Tape\\Magnetic Tape8.JPG 6 _height-shift_\n",
      "./waste_images/train\\Magnetic Tape\\Magnetic Tape8.JPG 7 _height-shift_\n",
      "./waste_images/train\\Magnetic Tape\\Magnetic Tape12.JPG 8 _height-shift_\n",
      "./waste_images/train\\Magnetic Tape\\Magnetic Tape1.JPG 9 _height-shift_\n",
      "./waste_images/train\\Magnetic Tape\\Magnetic Tape7.JPG 10 _height-shift_\n",
      "./waste_images/train\\Magnetic Tape\\Magnetic Tape14.JPG 11 _height-shift_\n",
      "./waste_images/train\\Magnetic Tape\\Magnetic Tape8.JPG 12 _horizontal-shift_\n",
      "./waste_images/train\\Magnetic Tape\\Magnetic Tape12.JPG 13 _horizontal-shift_\n",
      "./waste_images/train\\Magnetic Tape\\Magnetic Tape15.JPG 14 _horizontal-shift_\n",
      "./waste_images/train\\Magnetic Tape\\Magnetic Tape8.JPG 15 _horizontal-shift_\n",
      "./waste_images/train\\Magnetic Tape\\Magnetic Tape10.JPG 16 _horizontal-shift_\n",
      "./waste_images/train\\Magnetic Tape\\Magnetic Tape7.JPG 17 _rotation-range_\n",
      "./waste_images/train\\Magnetic Tape\\Magnetic Tape14.JPG 18 _rotation-range_\n",
      "./waste_images/train\\Magnetic Tape\\Magnetic Tape3.JPG 19 _rotation-range_\n",
      "./waste_images/train\\Magnetic Tape\\Magnetic Tape4.JPG 20 _rotation-range_\n",
      "./waste_images/train\\Magnetic Tape\\Magnetic Tape14.JPG 21 _rotation-range_\n",
      "./waste_images/train\\Magnetic Tape\\Magnetic Tape13.JPG 22 _rotation-range_\n",
      "./waste_images/train\\Magnetic Tape\\Magnetic Tape12.JPG 23 _brightness-range_\n",
      "./waste_images/train\\Magnetic Tape\\Magnetic Tape14.JPG 24 _brightness-range_\n",
      "./waste_images/train\\Magnetic Tape\\Magnetic Tape6.JPG 25 _brightness-range_\n",
      "./waste_images/train\\Magnetic Tape\\Magnetic Tape6.JPG 26 _brightness-range_\n",
      "./waste_images/train\\Magnetic Tape\\Magnetic Tape3.JPG 27 _brightness-range_\n",
      "./waste_images/train\\Magnetic Tape\\Magnetic Tape3.JPG 28 _brightness-range_\n"
     ]
    }
   ],
   "source": [
    "random.seed(1658)\n",
    "\n",
    "range_list = [1,29] # adding 28 images\n",
    "\n",
    "image_list = list(np.random.choice(image_paths_tape, size=28))\n",
    "\n",
    "for count in range(range_list[0], range_list[1]):\n",
    "    \n",
    "    imagefile = image_list[count-1]\n",
    "    new_dir = './waste_images/train_balanced/Magnetic Tape\\\\'\n",
    "        \n",
    "    # Creating image date augmentation generator based on percentages of the range interval\n",
    "    \n",
    "    if count in range(range_list[0],int(0.2*len(range(range_list[0], range_list[1]))+1)):\n",
    "        datagen = ImageDataGenerator(width_shift_range=[-200,200]) # width shift\n",
    "        suffix = '_width-shift_'\n",
    "        \n",
    "    elif count in range(int(0.2*len(range(range_list[0], range_list[1]))+1),int(0.4*len(range(range_list[0], range_list[1]))+1)):\n",
    "        datagen = ImageDataGenerator(height_shift_range=0.5) # height shift\n",
    "        suffix = '_height-shift_'\n",
    "     \n",
    "    elif count in range(int(0.4*len(range(range_list[0], range_list[1]))+1),int(0.6*len(range(range_list[0], range_list[1]))+1)):\n",
    "        datagen = ImageDataGenerator(horizontal_flip=True) # horizontal flip\n",
    "        suffix = '_horizontal-flip_'\n",
    "        \n",
    "    elif count in range(int(0.6*len(range(range_list[0], range_list[1]))+1),int(0.8*len(range(range_list[0], range_list[1]))+1)):\n",
    "        datagen = ImageDataGenerator(rotation_range=90) # rotation\n",
    "        suffix = '_rotation-range_'\n",
    "        \n",
    "    elif count in range(int(0.8*len(range(range_list[0], range_list[1]))+1),int(1.0*len(range(range_list[0], range_list[1]))+1)):\n",
    "        datagen = ImageDataGenerator(brightness_range=[0.2,1.0]) # brightness\n",
    "        suffix = '_brightness-range_'\n",
    "    \n",
    "    print(imagefile, count, suffix)\n",
    "    \n",
    "    img = load_img(imagefile) # Loading the image\n",
    "    data = img_to_array(img)  # Converting to numpy array\n",
    "    samples = expand_dims(data, 0) # Expanding dimension to one sample\n",
    "    it = datagen.flow(samples, batch_size=1) # Preparing iterator\n",
    "    batch = it.next()  # Generating batch of images\n",
    "    image = batch[0].astype('uint8') # Convert to unsigned integers\n",
    "    Image.fromarray(image).save(new_dir+imagefile.rsplit('\\\\', 1)[1].replace('.JPG','')+suffix+str(count)+'.JPG') # Saving image"
   ]
  },
  {
   "cell_type": "markdown",
   "id": "ea2a7945",
   "metadata": {},
   "source": [
    "## Printed Circuit Board: remove ~ 121 images"
   ]
  },
  {
   "cell_type": "code",
   "execution_count": 215,
   "id": "b93c24f9",
   "metadata": {},
   "outputs": [],
   "source": [
    "random.seed(1658)"
   ]
  },
  {
   "cell_type": "code",
   "execution_count": 209,
   "id": "6d4e462d",
   "metadata": {},
   "outputs": [],
   "source": [
    "image_paths_pcb = [x for x in image_paths if \"Printed Circuit Board\" in x]"
   ]
  },
  {
   "cell_type": "code",
   "execution_count": 212,
   "id": "bc2a217a",
   "metadata": {},
   "outputs": [
    {
     "data": {
      "text/plain": [
       "['./waste_images/train\\\\Printed Circuit Board\\\\Printed Circuit Board126.JPG',\n",
       " './waste_images/train\\\\Printed Circuit Board\\\\Printed Circuit Board22.JPG',\n",
       " './waste_images/train\\\\Printed Circuit Board\\\\Printed Circuit Board20.JPG',\n",
       " './waste_images/train\\\\Printed Circuit Board\\\\Printed Circuit Board161.JPG',\n",
       " './waste_images/train\\\\Printed Circuit Board\\\\Printed Circuit Board64.JPG',\n",
       " './waste_images/train\\\\Printed Circuit Board\\\\Printed Circuit Board110.JPG',\n",
       " './waste_images/train\\\\Printed Circuit Board\\\\Printed Circuit Board29.JPG',\n",
       " './waste_images/train\\\\Printed Circuit Board\\\\Printed Circuit Board62.JPG',\n",
       " './waste_images/train\\\\Printed Circuit Board\\\\Printed Circuit Board144.JPG',\n",
       " './waste_images/train\\\\Printed Circuit Board\\\\Printed Circuit Board94.JPG',\n",
       " './waste_images/train\\\\Printed Circuit Board\\\\Printed Circuit Board178.JPG',\n",
       " './waste_images/train\\\\Printed Circuit Board\\\\Printed Circuit Board107.JPG',\n",
       " './waste_images/train\\\\Printed Circuit Board\\\\Printed Circuit Board206.JPG',\n",
       " './waste_images/train\\\\Printed Circuit Board\\\\Printed Circuit Board159.JPG',\n",
       " './waste_images/train\\\\Printed Circuit Board\\\\Printed Circuit Board79.JPG',\n",
       " './waste_images/train\\\\Printed Circuit Board\\\\Printed Circuit Board30.JPG',\n",
       " './waste_images/train\\\\Printed Circuit Board\\\\Printed Circuit Board175.JPG',\n",
       " './waste_images/train\\\\Printed Circuit Board\\\\Printed Circuit Board95.JPG',\n",
       " './waste_images/train\\\\Printed Circuit Board\\\\Printed Circuit Board89.JPG',\n",
       " './waste_images/train\\\\Printed Circuit Board\\\\Printed Circuit Board188.JPG',\n",
       " './waste_images/train\\\\Printed Circuit Board\\\\Printed Circuit Board15.JPG',\n",
       " './waste_images/train\\\\Printed Circuit Board\\\\Printed Circuit Board1.JPG',\n",
       " './waste_images/train\\\\Printed Circuit Board\\\\Printed Circuit Board108.JPG',\n",
       " './waste_images/train\\\\Printed Circuit Board\\\\Printed Circuit Board136.JPG',\n",
       " './waste_images/train\\\\Printed Circuit Board\\\\Printed Circuit Board143.JPG',\n",
       " './waste_images/train\\\\Printed Circuit Board\\\\Printed Circuit Board151.JPG',\n",
       " './waste_images/train\\\\Printed Circuit Board\\\\Printed Circuit Board40.JPG',\n",
       " './waste_images/train\\\\Printed Circuit Board\\\\Printed Circuit Board109.JPG',\n",
       " './waste_images/train\\\\Printed Circuit Board\\\\Printed Circuit Board73.JPG',\n",
       " './waste_images/train\\\\Printed Circuit Board\\\\Printed Circuit Board45.JPG',\n",
       " './waste_images/train\\\\Printed Circuit Board\\\\Printed Circuit Board28.JPG',\n",
       " './waste_images/train\\\\Printed Circuit Board\\\\Printed Circuit Board135.JPG',\n",
       " './waste_images/train\\\\Printed Circuit Board\\\\Printed Circuit Board154.JPG',\n",
       " './waste_images/train\\\\Printed Circuit Board\\\\Printed Circuit Board77.JPG',\n",
       " './waste_images/train\\\\Printed Circuit Board\\\\Printed Circuit Board216.JPG',\n",
       " './waste_images/train\\\\Printed Circuit Board\\\\Printed Circuit Board160.JPG',\n",
       " './waste_images/train\\\\Printed Circuit Board\\\\Printed Circuit Board203.JPG',\n",
       " './waste_images/train\\\\Printed Circuit Board\\\\Printed Circuit Board101.JPG',\n",
       " './waste_images/train\\\\Printed Circuit Board\\\\Printed Circuit Board192.JPG',\n",
       " './waste_images/train\\\\Printed Circuit Board\\\\Printed Circuit Board207.JPG',\n",
       " './waste_images/train\\\\Printed Circuit Board\\\\Printed Circuit Board202.JPG',\n",
       " './waste_images/train\\\\Printed Circuit Board\\\\Printed Circuit Board102.JPG',\n",
       " './waste_images/train\\\\Printed Circuit Board\\\\Printed Circuit Board97.JPG',\n",
       " './waste_images/train\\\\Printed Circuit Board\\\\Printed Circuit Board92.JPG',\n",
       " './waste_images/train\\\\Printed Circuit Board\\\\Printed Circuit Board155.JPG',\n",
       " './waste_images/train\\\\Printed Circuit Board\\\\Printed Circuit Board204.JPG',\n",
       " './waste_images/train\\\\Printed Circuit Board\\\\Printed Circuit Board225.JPG',\n",
       " './waste_images/train\\\\Printed Circuit Board\\\\Printed Circuit Board167.JPG',\n",
       " './waste_images/train\\\\Printed Circuit Board\\\\Printed Circuit Board205.JPG',\n",
       " './waste_images/train\\\\Printed Circuit Board\\\\Printed Circuit Board74.JPG',\n",
       " './waste_images/train\\\\Printed Circuit Board\\\\Printed Circuit Board78.JPG',\n",
       " './waste_images/train\\\\Printed Circuit Board\\\\Printed Circuit Board132.JPG',\n",
       " './waste_images/train\\\\Printed Circuit Board\\\\Printed Circuit Board24.JPG',\n",
       " './waste_images/train\\\\Printed Circuit Board\\\\Printed Circuit Board59.JPG',\n",
       " './waste_images/train\\\\Printed Circuit Board\\\\Printed Circuit Board193.JPG',\n",
       " './waste_images/train\\\\Printed Circuit Board\\\\Printed Circuit Board7.JPG',\n",
       " './waste_images/train\\\\Printed Circuit Board\\\\Printed Circuit Board63.JPG',\n",
       " './waste_images/train\\\\Printed Circuit Board\\\\Printed Circuit Board201.JPG',\n",
       " './waste_images/train\\\\Printed Circuit Board\\\\Printed Circuit Board104.JPG',\n",
       " './waste_images/train\\\\Printed Circuit Board\\\\Printed Circuit Board47.JPG',\n",
       " './waste_images/train\\\\Printed Circuit Board\\\\Printed Circuit Board218.JPG',\n",
       " './waste_images/train\\\\Printed Circuit Board\\\\Printed Circuit Board60.JPG',\n",
       " './waste_images/train\\\\Printed Circuit Board\\\\Printed Circuit Board142.JPG',\n",
       " './waste_images/train\\\\Printed Circuit Board\\\\Printed Circuit Board163.JPG',\n",
       " './waste_images/train\\\\Printed Circuit Board\\\\Printed Circuit Board186.JPG',\n",
       " './waste_images/train\\\\Printed Circuit Board\\\\Printed Circuit Board100.JPG',\n",
       " './waste_images/train\\\\Printed Circuit Board\\\\Printed Circuit Board131.JPG',\n",
       " './waste_images/train\\\\Printed Circuit Board\\\\Printed Circuit Board9.JPG',\n",
       " './waste_images/train\\\\Printed Circuit Board\\\\Printed Circuit Board209.JPG',\n",
       " './waste_images/train\\\\Printed Circuit Board\\\\Printed Circuit Board86.JPG',\n",
       " './waste_images/train\\\\Printed Circuit Board\\\\Printed Circuit Board44.JPG',\n",
       " './waste_images/train\\\\Printed Circuit Board\\\\Printed Circuit Board166.JPG',\n",
       " './waste_images/train\\\\Printed Circuit Board\\\\Printed Circuit Board170.JPG',\n",
       " './waste_images/train\\\\Printed Circuit Board\\\\Printed Circuit Board13.JPG',\n",
       " './waste_images/train\\\\Printed Circuit Board\\\\Printed Circuit Board181.JPG',\n",
       " './waste_images/train\\\\Printed Circuit Board\\\\Printed Circuit Board91.JPG',\n",
       " './waste_images/train\\\\Printed Circuit Board\\\\Printed Circuit Board183.JPG',\n",
       " './waste_images/train\\\\Printed Circuit Board\\\\Printed Circuit Board121.JPG',\n",
       " './waste_images/train\\\\Printed Circuit Board\\\\Printed Circuit Board67.JPG',\n",
       " './waste_images/train\\\\Printed Circuit Board\\\\Printed Circuit Board50.JPG',\n",
       " './waste_images/train\\\\Printed Circuit Board\\\\Printed Circuit Board198.JPG',\n",
       " './waste_images/train\\\\Printed Circuit Board\\\\Printed Circuit Board226.JPG',\n",
       " './waste_images/train\\\\Printed Circuit Board\\\\Printed Circuit Board172.JPG',\n",
       " './waste_images/train\\\\Printed Circuit Board\\\\Printed Circuit Board17.JPG',\n",
       " './waste_images/train\\\\Printed Circuit Board\\\\Printed Circuit Board56.JPG',\n",
       " './waste_images/train\\\\Printed Circuit Board\\\\Printed Circuit Board189.JPG',\n",
       " './waste_images/train\\\\Printed Circuit Board\\\\Printed Circuit Board208.JPG',\n",
       " './waste_images/train\\\\Printed Circuit Board\\\\Printed Circuit Board213.JPG',\n",
       " './waste_images/train\\\\Printed Circuit Board\\\\Printed Circuit Board171.JPG',\n",
       " './waste_images/train\\\\Printed Circuit Board\\\\Printed Circuit Board14.JPG',\n",
       " './waste_images/train\\\\Printed Circuit Board\\\\Printed Circuit Board27.JPG',\n",
       " './waste_images/train\\\\Printed Circuit Board\\\\Printed Circuit Board122.JPG',\n",
       " './waste_images/train\\\\Printed Circuit Board\\\\Printed Circuit Board88.JPG',\n",
       " './waste_images/train\\\\Printed Circuit Board\\\\Printed Circuit Board83.JPG',\n",
       " './waste_images/train\\\\Printed Circuit Board\\\\Printed Circuit Board224.JPG',\n",
       " './waste_images/train\\\\Printed Circuit Board\\\\Printed Circuit Board211.JPG',\n",
       " './waste_images/train\\\\Printed Circuit Board\\\\Printed Circuit Board124.JPG',\n",
       " './waste_images/train\\\\Printed Circuit Board\\\\Printed Circuit Board229.JPG',\n",
       " './waste_images/train\\\\Printed Circuit Board\\\\Printed Circuit Board134.JPG',\n",
       " './waste_images/train\\\\Printed Circuit Board\\\\Printed Circuit Board221.JPG',\n",
       " './waste_images/train\\\\Printed Circuit Board\\\\Printed Circuit Board51.JPG',\n",
       " './waste_images/train\\\\Printed Circuit Board\\\\Printed Circuit Board125.JPG',\n",
       " './waste_images/train\\\\Printed Circuit Board\\\\Printed Circuit Board129.JPG',\n",
       " './waste_images/train\\\\Printed Circuit Board\\\\Printed Circuit Board153.JPG',\n",
       " './waste_images/train\\\\Printed Circuit Board\\\\Printed Circuit Board184.JPG',\n",
       " './waste_images/train\\\\Printed Circuit Board\\\\Printed Circuit Board48.JPG',\n",
       " './waste_images/train\\\\Printed Circuit Board\\\\Printed Circuit Board118.JPG',\n",
       " './waste_images/train\\\\Printed Circuit Board\\\\Printed Circuit Board8.JPG',\n",
       " './waste_images/train\\\\Printed Circuit Board\\\\Printed Circuit Board158.JPG',\n",
       " './waste_images/train\\\\Printed Circuit Board\\\\Printed Circuit Board196.JPG',\n",
       " './waste_images/train\\\\Printed Circuit Board\\\\Printed Circuit Board46.JPG',\n",
       " './waste_images/train\\\\Printed Circuit Board\\\\Printed Circuit Board190.JPG',\n",
       " './waste_images/train\\\\Printed Circuit Board\\\\Printed Circuit Board127.JPG',\n",
       " './waste_images/train\\\\Printed Circuit Board\\\\Printed Circuit Board11.JPG',\n",
       " './waste_images/train\\\\Printed Circuit Board\\\\Printed Circuit Board113.JPG',\n",
       " './waste_images/train\\\\Printed Circuit Board\\\\Printed Circuit Board182.JPG',\n",
       " './waste_images/train\\\\Printed Circuit Board\\\\Printed Circuit Board150.JPG',\n",
       " './waste_images/train\\\\Printed Circuit Board\\\\Printed Circuit Board194.JPG',\n",
       " './waste_images/train\\\\Printed Circuit Board\\\\Printed Circuit Board162.JPG',\n",
       " './waste_images/train\\\\Printed Circuit Board\\\\Printed Circuit Board38.JPG',\n",
       " './waste_images/train\\\\Printed Circuit Board\\\\Printed Circuit Board18.JPG']"
      ]
     },
     "execution_count": 212,
     "metadata": {},
     "output_type": "execute_result"
    }
   ],
   "source": [
    "random.sample(image_paths_pcb, k=121) # samples to be removed"
   ]
  },
  {
   "cell_type": "code",
   "execution_count": 222,
   "id": "5837e170",
   "metadata": {},
   "outputs": [],
   "source": []
  },
  {
   "cell_type": "markdown",
   "id": "0d66d16b",
   "metadata": {},
   "source": [
    "## Printer Ribbon and Toner: add ~ 10 images"
   ]
  },
  {
   "cell_type": "code",
   "execution_count": 230,
   "id": "2e613cb3",
   "metadata": {},
   "outputs": [],
   "source": [
    "image_paths_printer = [x for x in image_paths if \"Printer Ribbon and Toner\" in x]"
   ]
  },
  {
   "cell_type": "code",
   "execution_count": 231,
   "id": "8728dc55",
   "metadata": {},
   "outputs": [
    {
     "name": "stdout",
     "output_type": "stream",
     "text": [
      "./waste_images/train\\Printer Ribbon and Toner\\Printer Ribbon and Toner4.JPG 1 _width-shift\n",
      "./waste_images/train\\Printer Ribbon and Toner\\Printer Ribbon and Toner36.JPG 2 _width-shift\n",
      "./waste_images/train\\Printer Ribbon and Toner\\Printer Ribbon and Toner25.JPG 3 _height-shift\n",
      "./waste_images/train\\Printer Ribbon and Toner\\Printer Ribbon and Toner21.JPG 4 _height-shift\n",
      "./waste_images/train\\Printer Ribbon and Toner\\Printer Ribbon and Toner39.JPG 5 _horizontal-shift\n",
      "./waste_images/train\\Printer Ribbon and Toner\\Printer Ribbon and Toner20.JPG 6 _horizontal-shift\n",
      "./waste_images/train\\Printer Ribbon and Toner\\Printer Ribbon and Toner24.JPG 7 _rotation-range\n",
      "./waste_images/train\\Printer Ribbon and Toner\\Printer Ribbon and Toner15.JPG 8 _rotation-range\n",
      "./waste_images/train\\Printer Ribbon and Toner\\Printer Ribbon and Toner32.JPG 9 _brightness-range\n",
      "./waste_images/train\\Printer Ribbon and Toner\\Printer Ribbon and Toner14.JPG 10 _brightness-range\n"
     ]
    }
   ],
   "source": [
    "random.seed(1658)\n",
    "\n",
    "range_list = [1,11] # adding 10 images\n",
    "\n",
    "image_list = random.sample(image_paths_printer, k=10)\n",
    "\n",
    "for count in range(range_list[0], range_list[1]):\n",
    "    \n",
    "    imagefile = image_list[count-1]\n",
    "    new_dir = './waste_images/train_balanced/Printer Ribbon and Toner\\\\'\n",
    "        \n",
    "    # Creating image date augmentation generator based on percentages of the range interval\n",
    "    \n",
    "    if count in range(range_list[0],int(0.2*len(range(range_list[0], range_list[1]))+1)):\n",
    "        datagen = ImageDataGenerator(width_shift_range=[-200,200]) # width shift\n",
    "        suffix = '_width-shift'\n",
    "        \n",
    "    elif count in range(int(0.2*len(range(range_list[0], range_list[1]))+1),int(0.4*len(range(range_list[0], range_list[1]))+1)):\n",
    "        datagen = ImageDataGenerator(height_shift_range=0.5) # height shift\n",
    "        suffix = '_height-shift'\n",
    "     \n",
    "    elif count in range(int(0.4*len(range(range_list[0], range_list[1]))+1),int(0.6*len(range(range_list[0], range_list[1]))+1)):\n",
    "        datagen = ImageDataGenerator(horizontal_flip=True) # horizontal flip\n",
    "        suffix = '_horizontal-flip'\n",
    "        \n",
    "    elif count in range(int(0.6*len(range(range_list[0], range_list[1]))+1),int(0.8*len(range(range_list[0], range_list[1]))+1)):\n",
    "        datagen = ImageDataGenerator(rotation_range=90) # rotation\n",
    "        suffix = '_rotation-range'\n",
    "        \n",
    "    elif count in range(int(0.8*len(range(range_list[0], range_list[1]))+1),int(1.0*len(range(range_list[0], range_list[1]))+1)):\n",
    "        datagen = ImageDataGenerator(brightness_range=[0.2,1.0]) # brightness\n",
    "        suffix = '_brightness-range'\n",
    "    \n",
    "    print(imagefile, count, suffix)\n",
    "    \n",
    "    img = load_img(imagefile) # Loading the image\n",
    "    data = img_to_array(img)  # Converting to numpy array\n",
    "    samples = expand_dims(data, 0) # Expanding dimension to one sample\n",
    "    it = datagen.flow(samples, batch_size=1) # Preparing iterator\n",
    "    batch = it.next()  # Generating batch of images\n",
    "    image = batch[0].astype('uint8') # Convert to unsigned integers\n",
    "    Image.fromarray(image).save(new_dir+imagefile.rsplit('\\\\', 1)[1].replace('.JPG','')+suffix+'.JPG') # Saving image"
   ]
  },
  {
   "cell_type": "markdown",
   "id": "c3f22ac2",
   "metadata": {},
   "source": [
    "## Water Pump: ~ add 34 images "
   ]
  },
  {
   "cell_type": "code",
   "execution_count": 8,
   "id": "079cf350",
   "metadata": {},
   "outputs": [],
   "source": [
    "image_paths_waterpump = [x for x in image_paths if \"Water Pump\" in x]"
   ]
  },
  {
   "cell_type": "code",
   "execution_count": 9,
   "id": "baaf926f",
   "metadata": {},
   "outputs": [
    {
     "name": "stdout",
     "output_type": "stream",
     "text": [
      "./waste_images/train\\Water Pump\\Water Pump1.JPG 1 _width-shift_\n",
      "./waste_images/train\\Water Pump\\Water Pump4.JPG 2 _width-shift_\n",
      "./waste_images/train\\Water Pump\\Water Pump3.JPG 3 _width-shift_\n",
      "./waste_images/train\\Water Pump\\Water Pump4.JPG 4 _width-shift_\n",
      "./waste_images/train\\Water Pump\\Water Pump8.JPG 5 _width-shift_\n",
      "./waste_images/train\\Water Pump\\Water Pump1.JPG 6 _width-shift_\n",
      "./waste_images/train\\Water Pump\\Water Pump3.JPG 7 _height-shift_\n",
      "./waste_images/train\\Water Pump\\Water Pump3.JPG 8 _height-shift_\n",
      "./waste_images/train\\Water Pump\\Water Pump6.JPG 9 _height-shift_\n",
      "./waste_images/train\\Water Pump\\Water Pump3.JPG 10 _height-shift_\n",
      "./waste_images/train\\Water Pump\\Water Pump3.JPG 11 _height-shift_\n",
      "./waste_images/train\\Water Pump\\Water Pump8.JPG 12 _height-shift_\n",
      "./waste_images/train\\Water Pump\\Water Pump1.JPG 13 _height-shift_\n",
      "./waste_images/train\\Water Pump\\Water Pump6.JPG 14 _horizontal-flip_\n",
      "./waste_images/train\\Water Pump\\Water Pump8.JPG 15 _horizontal-flip_\n",
      "./waste_images/train\\Water Pump\\Water Pump4.JPG 16 _horizontal-flip_\n",
      "./waste_images/train\\Water Pump\\Water Pump8.JPG 17 _horizontal-flip_\n",
      "./waste_images/train\\Water Pump\\Water Pump7.JPG 18 _horizontal-flip_\n",
      "./waste_images/train\\Water Pump\\Water Pump1.JPG 19 _horizontal-flip_\n",
      "./waste_images/train\\Water Pump\\Water Pump8.JPG 20 _horizontal-flip_\n",
      "./waste_images/train\\Water Pump\\Water Pump8.JPG 21 _rotation-range_\n",
      "./waste_images/train\\Water Pump\\Water Pump7.JPG 22 _rotation-range_\n",
      "./waste_images/train\\Water Pump\\Water Pump1.JPG 23 _rotation-range_\n",
      "./waste_images/train\\Water Pump\\Water Pump1.JPG 24 _rotation-range_\n",
      "./waste_images/train\\Water Pump\\Water Pump8.JPG 25 _rotation-range_\n",
      "./waste_images/train\\Water Pump\\Water Pump8.JPG 26 _rotation-range_\n",
      "./waste_images/train\\Water Pump\\Water Pump8.JPG 27 _rotation-range_\n",
      "./waste_images/train\\Water Pump\\Water Pump1.JPG 28 _brightness-range_\n",
      "./waste_images/train\\Water Pump\\Water Pump7.JPG 29 _brightness-range_\n",
      "./waste_images/train\\Water Pump\\Water Pump4.JPG 30 _brightness-range_\n",
      "./waste_images/train\\Water Pump\\Water Pump6.JPG 31 _brightness-range_\n",
      "./waste_images/train\\Water Pump\\Water Pump3.JPG 32 _brightness-range_\n",
      "./waste_images/train\\Water Pump\\Water Pump1.JPG 33 _brightness-range_\n",
      "./waste_images/train\\Water Pump\\Water Pump4.JPG 34 _brightness-range_\n"
     ]
    }
   ],
   "source": [
    "random.seed(1658)\n",
    "\n",
    "range_list = [1,35] # adding 34 images\n",
    "\n",
    "image_list = list(np.random.choice(image_paths_waterpump, size=34))\n",
    "\n",
    "for count in range(range_list[0], range_list[1]):\n",
    "    \n",
    "    imagefile = image_list[count-1]\n",
    "    new_dir = './waste_images/train_balanced/Water Pump\\\\'\n",
    "        \n",
    "    # Creating image date augmentation generator based on percentages of the range interval\n",
    "    \n",
    "    if count in range(range_list[0],int(0.2*len(range(range_list[0], range_list[1]))+1)):\n",
    "        datagen = ImageDataGenerator(width_shift_range=[-200,200]) # width shift\n",
    "        suffix = '_width-shift_'\n",
    "        \n",
    "    elif count in range(int(0.2*len(range(range_list[0], range_list[1]))+1),int(0.4*len(range(range_list[0], range_list[1]))+1)):\n",
    "        datagen = ImageDataGenerator(height_shift_range=0.5) # height shift\n",
    "        suffix = '_height-shift_'\n",
    "     \n",
    "    elif count in range(int(0.4*len(range(range_list[0], range_list[1]))+1),int(0.6*len(range(range_list[0], range_list[1]))+1)):\n",
    "        datagen = ImageDataGenerator(horizontal_flip=True) # horizontal flip\n",
    "        suffix = '_horizontal-flip_'\n",
    "        \n",
    "    elif count in range(int(0.6*len(range(range_list[0], range_list[1]))+1),int(0.8*len(range(range_list[0], range_list[1]))+1)):\n",
    "        datagen = ImageDataGenerator(rotation_range=90) # rotation\n",
    "        suffix = '_rotation-range_'\n",
    "        \n",
    "    elif count in range(int(0.8*len(range(range_list[0], range_list[1]))+1),int(1.0*len(range(range_list[0], range_list[1]))+1)):\n",
    "        datagen = ImageDataGenerator(brightness_range=[0.2,1.0]) # brightness\n",
    "        suffix = '_brightness-range_'\n",
    "    \n",
    "    print(imagefile, count, suffix)\n",
    "    \n",
    "    img = load_img(imagefile) # Loading the image\n",
    "    data = img_to_array(img)  # Converting to numpy array\n",
    "    samples = expand_dims(data, 0) # Expanding dimension to one sample\n",
    "    it = datagen.flow(samples, batch_size=1) # Preparing iterator\n",
    "    batch = it.next()  # Generating batch of images\n",
    "    image = batch[0].astype('uint8') # Convert to unsigned integers\n",
    "    Image.fromarray(image).save(new_dir+imagefile.rsplit('\\\\', 1)[1].replace('.JPG','')+suffix+str(count)+'.JPG') # Saving image"
   ]
  },
  {
   "cell_type": "markdown",
   "id": "ec8319d8",
   "metadata": {},
   "source": [
    "# Test (before background segmentation)"
   ]
  },
  {
   "cell_type": "code",
   "execution_count": 235,
   "id": "fd97af67",
   "metadata": {},
   "outputs": [],
   "source": [
    "# Get the path of the testing image(s) and store them in a list\n",
    "test_path = './waste_images/test'  "
   ]
  },
  {
   "cell_type": "code",
   "execution_count": 236,
   "id": "482f931c",
   "metadata": {},
   "outputs": [],
   "source": [
    "testing_names = os.listdir(test_path)\n",
    "\n",
    "# Get path to all images and save them in a list\n",
    "# image_paths and the corresponding label in image_paths\n",
    "image_paths = []\n",
    "image_classes = []\n",
    "class_id = 0\n",
    "\n",
    "#To make it easy to list all file names in a directory let us define a function\n",
    "def imglist(path):\n",
    "    return [os.path.join(path, f) for f in os.listdir(path)]\n",
    "\n",
    "#Fill the placeholder empty lists with image path, classes, and add class ID number\n",
    "\n",
    "for testing_name in testing_names:\n",
    "    dir = os.path.join(test_path, testing_name)\n",
    "    class_path = imglist(dir)\n",
    "    image_paths+=class_path\n",
    "    image_classes+=[class_id]*len(class_path)\n",
    "    class_id+=1"
   ]
  },
  {
   "cell_type": "code",
   "execution_count": 237,
   "id": "622ccb7d",
   "metadata": {},
   "outputs": [
    {
     "data": {
      "text/plain": [
       "['./waste_images/test\\\\Aluminium\\\\Aluminium17.JPG',\n",
       " './waste_images/test\\\\Aluminium\\\\Aluminium49.JPG',\n",
       " './waste_images/test\\\\Aluminium\\\\Aluminium5.JPG',\n",
       " './waste_images/test\\\\Aluminium\\\\Aluminium55.JPG',\n",
       " './waste_images/test\\\\Aluminium\\\\Aluminium57.JPG',\n",
       " './waste_images/test\\\\Aluminium\\\\Aluminium63.JPG',\n",
       " './waste_images/test\\\\Aluminium\\\\Aluminium70.JPG',\n",
       " './waste_images/test\\\\Aluminium\\\\Aluminium83.JPG',\n",
       " './waste_images/test\\\\Aluminium\\\\Aluminium85.JPG',\n",
       " './waste_images/test\\\\Battery\\\\Battery100.JPG']"
      ]
     },
     "execution_count": 237,
     "metadata": {},
     "output_type": "execute_result"
    }
   ],
   "source": [
    "image_paths[:10]"
   ]
  },
  {
   "cell_type": "code",
   "execution_count": 238,
   "id": "db6df472",
   "metadata": {},
   "outputs": [
    {
     "data": {
      "text/plain": [
       "139"
      ]
     },
     "execution_count": 238,
     "metadata": {},
     "output_type": "execute_result"
    }
   ],
   "source": [
    "# total number of images in the training set\n",
    "len(image_paths)"
   ]
  },
  {
   "cell_type": "code",
   "execution_count": 239,
   "id": "5079bf8f",
   "metadata": {},
   "outputs": [
    {
     "data": {
      "text/plain": [
       "array([ 0,  1,  2,  3,  4,  5,  6,  7,  8,  9, 10, 11])"
      ]
     },
     "execution_count": 239,
     "metadata": {},
     "output_type": "execute_result"
    }
   ],
   "source": [
    "# classes\n",
    "np.unique(image_classes)"
   ]
  },
  {
   "cell_type": "code",
   "execution_count": 240,
   "id": "53ab6784",
   "metadata": {},
   "outputs": [
    {
     "data": {
      "text/plain": [
       "{0: 9,\n",
       " 1: 19,\n",
       " 2: 10,\n",
       " 3: 10,\n",
       " 4: 9,\n",
       " 5: 11,\n",
       " 6: 6,\n",
       " 7: 3,\n",
       " 8: 42,\n",
       " 9: 8,\n",
       " 10: 10,\n",
       " 11: 2}"
      ]
     },
     "execution_count": 240,
     "metadata": {},
     "output_type": "execute_result"
    }
   ],
   "source": [
    "dict((x,image_classes.count(x)) for x in set(image_classes))"
   ]
  },
  {
   "cell_type": "code",
   "execution_count": 241,
   "id": "8f1faa63",
   "metadata": {},
   "outputs": [],
   "source": [
    "labels_classes = {'Aluminium':0, 'Battery':1, 'Cable and Wire':2, 'Cardboard and Paper':3, 'Connector':4,\n",
    "                'Copper':5, 'Iron':6, 'Magnetic Tape':7, 'Printed Circuit Board':8, \n",
    "                'Printer Ribbon and Toner':9, 'Tube and Screen':10, 'Water Pump':11}"
   ]
  },
  {
   "cell_type": "code",
   "execution_count": null,
   "id": "1f647828",
   "metadata": {},
   "outputs": [],
   "source": []
  },
  {
   "cell_type": "markdown",
   "id": "fa02622c",
   "metadata": {},
   "source": [
    "## Battery: remove ~ 9 images"
   ]
  },
  {
   "cell_type": "code",
   "execution_count": 242,
   "id": "dc1811f0",
   "metadata": {},
   "outputs": [
    {
     "data": {
      "text/plain": [
       "['./waste_images/test\\\\Battery\\\\Battery68.JPG',\n",
       " './waste_images/test\\\\Battery\\\\Battery5.JPG',\n",
       " './waste_images/test\\\\Battery\\\\Battery49.JPG',\n",
       " './waste_images/test\\\\Battery\\\\Battery63.JPG',\n",
       " './waste_images/test\\\\Battery\\\\Battery116.JPG',\n",
       " './waste_images/test\\\\Battery\\\\Battery29.JPG',\n",
       " './waste_images/test\\\\Battery\\\\Battery86.JPG',\n",
       " './waste_images/test\\\\Battery\\\\Battery129.JPG',\n",
       " './waste_images/test\\\\Battery\\\\Battery125.JPG']"
      ]
     },
     "execution_count": 242,
     "metadata": {},
     "output_type": "execute_result"
    }
   ],
   "source": [
    "random.seed(1658)\n",
    "\n",
    "image_paths_battery = [x for x in image_paths if \"Battery\" in x]\n",
    "\n",
    "random.sample(image_paths_battery, k=9) # samples to be removed"
   ]
  },
  {
   "cell_type": "markdown",
   "id": "b26faac9",
   "metadata": {},
   "source": [
    "## Iron: add ~ 4 images"
   ]
  },
  {
   "cell_type": "code",
   "execution_count": 243,
   "id": "fb510e0b",
   "metadata": {},
   "outputs": [],
   "source": [
    "image_paths_iron = [x for x in image_paths if \"Iron\" in x]"
   ]
  },
  {
   "cell_type": "code",
   "execution_count": 244,
   "id": "c7eafe14",
   "metadata": {},
   "outputs": [
    {
     "name": "stdout",
     "output_type": "stream",
     "text": [
      "./waste_images/test\\Iron\\Iron36.JPG 1 _height-shift\n",
      "./waste_images/test\\Iron\\Iron3.JPG 2 _horizontal-shift\n",
      "./waste_images/test\\Iron\\Iron27.JPG 3 _rotation-range\n",
      "./waste_images/test\\Iron\\Iron24.JPG 4 _brightness-range\n"
     ]
    }
   ],
   "source": [
    "random.seed(1658)\n",
    "\n",
    "range_list = [1,5] # adding 4 images\n",
    "\n",
    "image_list = random.sample(image_paths_iron, k=4)\n",
    "\n",
    "for count in range(range_list[0], range_list[1]):\n",
    "    \n",
    "    imagefile = image_list[count-1]\n",
    "    new_dir = './waste_images/test_balanced/Iron\\\\'\n",
    "        \n",
    "    # Creating image date augmentation generator based on percentages of the range interval\n",
    "    \n",
    "    if count in range(range_list[0],int(0.2*len(range(range_list[0], range_list[1]))+1)):\n",
    "        datagen = ImageDataGenerator(width_shift_range=[-200,200]) # width shift\n",
    "        suffix = '_width-shift'\n",
    "        \n",
    "    elif count in range(int(0.2*len(range(range_list[0], range_list[1]))+1),int(0.4*len(range(range_list[0], range_list[1]))+1)):\n",
    "        datagen = ImageDataGenerator(height_shift_range=0.5) # height shift\n",
    "        suffix = '_height-shift'\n",
    "     \n",
    "    elif count in range(int(0.4*len(range(range_list[0], range_list[1]))+1),int(0.6*len(range(range_list[0], range_list[1]))+1)):\n",
    "        datagen = ImageDataGenerator(horizontal_flip=True) # horizontal flip\n",
    "        suffix = '_horizontal-flip'\n",
    "        \n",
    "    elif count in range(int(0.6*len(range(range_list[0], range_list[1]))+1),int(0.8*len(range(range_list[0], range_list[1]))+1)):\n",
    "        datagen = ImageDataGenerator(rotation_range=90) # rotation\n",
    "        suffix = '_rotation-range'\n",
    "        \n",
    "    elif count in range(int(0.8*len(range(range_list[0], range_list[1]))+1),int(1.0*len(range(range_list[0], range_list[1]))+1)):\n",
    "        datagen = ImageDataGenerator(brightness_range=[0.2,1.0]) # brightness\n",
    "        suffix = '_brightness-range'\n",
    "    \n",
    "    print(imagefile, count, suffix)\n",
    "    \n",
    "    img = load_img(imagefile) # Loading the image\n",
    "    data = img_to_array(img)  # Converting to numpy array\n",
    "    samples = expand_dims(data, 0) # Expanding dimension to one sample\n",
    "    it = datagen.flow(samples, batch_size=1) # Preparing iterator\n",
    "    batch = it.next()  # Generating batch of images\n",
    "    image = batch[0].astype('uint8') # Convert to unsigned integers\n",
    "    Image.fromarray(image).save(new_dir+imagefile.rsplit('\\\\', 1)[1].replace('.JPG','')+suffix+'.JPG') # Saving image"
   ]
  },
  {
   "cell_type": "markdown",
   "id": "4b39e70f",
   "metadata": {},
   "source": [
    "## Magnetic Tape: add ~ 7 images "
   ]
  },
  {
   "cell_type": "code",
   "execution_count": 247,
   "id": "80f44dfd",
   "metadata": {},
   "outputs": [],
   "source": [
    "image_paths_tape = [x for x in image_paths if \"Magnetic Tape\" in x]"
   ]
  },
  {
   "cell_type": "code",
   "execution_count": 248,
   "id": "6e83a81b",
   "metadata": {},
   "outputs": [
    {
     "name": "stdout",
     "output_type": "stream",
     "text": [
      "./waste_images/test\\Magnetic Tape\\Magnetic Tape11.JPG 1 _width-shift\n",
      "./waste_images/test\\Magnetic Tape\\Magnetic Tape2.JPG 2 _height-shift\n",
      "./waste_images/test\\Magnetic Tape\\Magnetic Tape2.JPG 3 _horizontal-shift\n",
      "./waste_images/test\\Magnetic Tape\\Magnetic Tape11.JPG 4 _horizontal-shift\n",
      "./waste_images/test\\Magnetic Tape\\Magnetic Tape2.JPG 5 _rotation-range\n",
      "./waste_images/test\\Magnetic Tape\\Magnetic Tape5.JPG 6 _brightness-range\n",
      "./waste_images/test\\Magnetic Tape\\Magnetic Tape2.JPG 7 _brightness-range\n"
     ]
    }
   ],
   "source": [
    "random.seed(1658)\n",
    "\n",
    "range_list = [1,8] # adding 7 images\n",
    "\n",
    "#image_list = random.sample(image_paths_tape, k=7)\n",
    "image_list = list(np.random.choice(image_paths_tape, size=7))\n",
    "\n",
    "for count in range(range_list[0], range_list[1]):\n",
    "    \n",
    "    imagefile = image_list[count-1]\n",
    "    new_dir = './waste_images/test_balanced/Magnetic Tape\\\\'\n",
    "        \n",
    "    # Creating image date augmentation generator based on percentages of the range interval\n",
    "    \n",
    "    if count in range(range_list[0],int(0.2*len(range(range_list[0], range_list[1]))+1)):\n",
    "        datagen = ImageDataGenerator(width_shift_range=[-200,200]) # width shift\n",
    "        suffix = '_width-shift'\n",
    "        \n",
    "    elif count in range(int(0.2*len(range(range_list[0], range_list[1]))+1),int(0.4*len(range(range_list[0], range_list[1]))+1)):\n",
    "        datagen = ImageDataGenerator(height_shift_range=0.5) # height shift\n",
    "        suffix = '_height-shift'\n",
    "     \n",
    "    elif count in range(int(0.4*len(range(range_list[0], range_list[1]))+1),int(0.6*len(range(range_list[0], range_list[1]))+1)):\n",
    "        datagen = ImageDataGenerator(horizontal_flip=True) # horizontal flip\n",
    "        suffix = '_horizontal-flip'\n",
    "        \n",
    "    elif count in range(int(0.6*len(range(range_list[0], range_list[1]))+1),int(0.8*len(range(range_list[0], range_list[1]))+1)):\n",
    "        datagen = ImageDataGenerator(rotation_range=90) # rotation\n",
    "        suffix = '_rotation-range'\n",
    "        \n",
    "    elif count in range(int(0.8*len(range(range_list[0], range_list[1]))+1),int(1.0*len(range(range_list[0], range_list[1]))+1)):\n",
    "        datagen = ImageDataGenerator(brightness_range=[0.2,1.0]) # brightness\n",
    "        suffix = '_brightness-range'\n",
    "    \n",
    "    print(imagefile, count, suffix)\n",
    "    \n",
    "    img = load_img(imagefile) # Loading the image\n",
    "    data = img_to_array(img)  # Converting to numpy array\n",
    "    samples = expand_dims(data, 0) # Expanding dimension to one sample\n",
    "    it = datagen.flow(samples, batch_size=1) # Preparing iterator\n",
    "    batch = it.next()  # Generating batch of images\n",
    "    image = batch[0].astype('uint8') # Convert to unsigned integers\n",
    "    Image.fromarray(image).save(new_dir+imagefile.rsplit('\\\\', 1)[1].replace('.JPG','')+suffix+'.JPG') # Saving image"
   ]
  },
  {
   "cell_type": "markdown",
   "id": "d5547744",
   "metadata": {},
   "source": [
    "## Printed Circuit Board: remove ~ 27 images"
   ]
  },
  {
   "cell_type": "code",
   "execution_count": 249,
   "id": "d10769a1",
   "metadata": {},
   "outputs": [
    {
     "data": {
      "text/plain": [
       "['./waste_images/test\\\\Printed Circuit Board\\\\Printed Circuit Board230.JPG',\n",
       " './waste_images/test\\\\Printed Circuit Board\\\\Printed Circuit Board210.JPG',\n",
       " './waste_images/test\\\\Printed Circuit Board\\\\Printed Circuit Board21.JPG',\n",
       " './waste_images/test\\\\Printed Circuit Board\\\\Printed Circuit Board220.JPG',\n",
       " './waste_images/test\\\\Printed Circuit Board\\\\Printed Circuit Board152.JPG',\n",
       " './waste_images/test\\\\Printed Circuit Board\\\\Printed Circuit Board140.JPG',\n",
       " './waste_images/test\\\\Printed Circuit Board\\\\Printed Circuit Board76.JPG',\n",
       " './waste_images/test\\\\Printed Circuit Board\\\\Printed Circuit Board180.JPG',\n",
       " './waste_images/test\\\\Printed Circuit Board\\\\Printed Circuit Board37.JPG',\n",
       " './waste_images/test\\\\Printed Circuit Board\\\\Printed Circuit Board212.JPG',\n",
       " './waste_images/test\\\\Printed Circuit Board\\\\Printed Circuit Board49.JPG',\n",
       " './waste_images/test\\\\Printed Circuit Board\\\\Printed Circuit Board128.JPG',\n",
       " './waste_images/test\\\\Printed Circuit Board\\\\Printed Circuit Board139.JPG',\n",
       " './waste_images/test\\\\Printed Circuit Board\\\\Printed Circuit Board165.JPG',\n",
       " './waste_images/test\\\\Printed Circuit Board\\\\Printed Circuit Board54.JPG',\n",
       " './waste_images/test\\\\Printed Circuit Board\\\\Printed Circuit Board174.JPG',\n",
       " './waste_images/test\\\\Printed Circuit Board\\\\Printed Circuit Board25.JPG',\n",
       " './waste_images/test\\\\Printed Circuit Board\\\\Printed Circuit Board137.JPG',\n",
       " './waste_images/test\\\\Printed Circuit Board\\\\Printed Circuit Board65.JPG',\n",
       " './waste_images/test\\\\Printed Circuit Board\\\\Printed Circuit Board215.JPG',\n",
       " './waste_images/test\\\\Printed Circuit Board\\\\Printed Circuit Board87.JPG',\n",
       " './waste_images/test\\\\Printed Circuit Board\\\\Printed Circuit Board117.JPG',\n",
       " './waste_images/test\\\\Printed Circuit Board\\\\Printed Circuit Board112.JPG',\n",
       " './waste_images/test\\\\Printed Circuit Board\\\\Printed Circuit Board217.JPG',\n",
       " './waste_images/test\\\\Printed Circuit Board\\\\Printed Circuit Board84.JPG',\n",
       " './waste_images/test\\\\Printed Circuit Board\\\\Printed Circuit Board223.JPG',\n",
       " './waste_images/test\\\\Printed Circuit Board\\\\Printed Circuit Board173.JPG']"
      ]
     },
     "execution_count": 249,
     "metadata": {},
     "output_type": "execute_result"
    }
   ],
   "source": [
    "random.seed(1658)\n",
    "image_paths_pcb = [x for x in image_paths if \"Printed Circuit Board\" in x]\n",
    "random.sample(image_paths_pcb, k=27) # samples to be removed"
   ]
  },
  {
   "cell_type": "markdown",
   "id": "31c11ca1",
   "metadata": {},
   "source": [
    "## Water Pump: add ~ 8 images"
   ]
  },
  {
   "cell_type": "code",
   "execution_count": 251,
   "id": "22bb5369",
   "metadata": {},
   "outputs": [],
   "source": [
    "image_paths_waterpump = [x for x in image_paths if \"Water Pump\" in x]"
   ]
  },
  {
   "cell_type": "code",
   "execution_count": 252,
   "id": "51d838d3",
   "metadata": {},
   "outputs": [
    {
     "name": "stdout",
     "output_type": "stream",
     "text": [
      "./waste_images/test\\Water Pump\\Water Pump2.JPG 1 _width-shift_\n",
      "./waste_images/test\\Water Pump\\Water Pump5.JPG 2 _height-shift_\n",
      "./waste_images/test\\Water Pump\\Water Pump5.JPG 3 _height-shift_\n",
      "./waste_images/test\\Water Pump\\Water Pump5.JPG 4 _horizontal-shift_\n",
      "./waste_images/test\\Water Pump\\Water Pump5.JPG 5 _rotation-range_\n",
      "./waste_images/test\\Water Pump\\Water Pump5.JPG 6 _rotation-range_\n",
      "./waste_images/test\\Water Pump\\Water Pump2.JPG 7 _brightness-range_\n",
      "./waste_images/test\\Water Pump\\Water Pump5.JPG 8 _brightness-range_\n"
     ]
    }
   ],
   "source": [
    "random.seed(1658)\n",
    "\n",
    "range_list = [1,9] # adding 8 images\n",
    "\n",
    "image_list = list(np.random.choice(image_paths_waterpump, size=8))\n",
    "\n",
    "for count in range(range_list[0], range_list[1]):\n",
    "    \n",
    "    imagefile = image_list[count-1]\n",
    "    new_dir = './waste_images/test_balanced/Water Pump\\\\'\n",
    "        \n",
    "    # Creating image date augmentation generator based on percentages of the range interval\n",
    "    \n",
    "    if count in range(range_list[0],int(0.2*len(range(range_list[0], range_list[1]))+1)):\n",
    "        datagen = ImageDataGenerator(width_shift_range=[-200,200]) # width shift\n",
    "        suffix = '_width-shift_'\n",
    "        \n",
    "    elif count in range(int(0.2*len(range(range_list[0], range_list[1]))+1),int(0.4*len(range(range_list[0], range_list[1]))+1)):\n",
    "        datagen = ImageDataGenerator(height_shift_range=0.5) # height shift\n",
    "        suffix = '_height-shift_'\n",
    "     \n",
    "    elif count in range(int(0.4*len(range(range_list[0], range_list[1]))+1),int(0.6*len(range(range_list[0], range_list[1]))+1)):\n",
    "        datagen = ImageDataGenerator(horizontal_flip=True) # horizontal flip\n",
    "        suffix = '_horizontal-flip_'\n",
    "        \n",
    "    elif count in range(int(0.6*len(range(range_list[0], range_list[1]))+1),int(0.8*len(range(range_list[0], range_list[1]))+1)):\n",
    "        datagen = ImageDataGenerator(rotation_range=90) # rotation\n",
    "        suffix = '_rotation-range_'\n",
    "        \n",
    "    elif count in range(int(0.8*len(range(range_list[0], range_list[1]))+1),int(1.0*len(range(range_list[0], range_list[1]))+1)):\n",
    "        datagen = ImageDataGenerator(brightness_range=[0.2,1.0]) # brightness\n",
    "        suffix = '_brightness-range_'\n",
    "    \n",
    "    print(imagefile, count, suffix)\n",
    "    \n",
    "    img = load_img(imagefile) # Loading the image\n",
    "    data = img_to_array(img)  # Converting to numpy array\n",
    "    samples = expand_dims(data, 0) # Expanding dimension to one sample\n",
    "    it = datagen.flow(samples, batch_size=1) # Preparing iterator\n",
    "    batch = it.next()  # Generating batch of images\n",
    "    image = batch[0].astype('uint8') # Convert to unsigned integers\n",
    "    Image.fromarray(image).save(new_dir+imagefile.rsplit('\\\\', 1)[1].replace('.JPG','')+suffix+str(count)+'.JPG') # Saving image"
   ]
  },
  {
   "cell_type": "code",
   "execution_count": null,
   "id": "2c349c26",
   "metadata": {},
   "outputs": [],
   "source": []
  },
  {
   "cell_type": "markdown",
   "id": "9f1ddfb1",
   "metadata": {},
   "source": [
    "# Train (after background segmentation)"
   ]
  },
  {
   "cell_type": "code",
   "execution_count": 10,
   "id": "d588545d",
   "metadata": {},
   "outputs": [],
   "source": [
    "train_path = './waste_images/train_segmented'  \n",
    "training_names = os.listdir(train_path)\n",
    "\n",
    "image_paths = [] # Get path to all images and save them in a list\n",
    "image_classes = [] # Corresponding labels in image_paths\n",
    "class_id = 0\n",
    "\n",
    "# To make it easy to list all file names in a directory let us define a function\n",
    "def imglist(path):    \n",
    "    return [os.path.join(path, f) for f in os.listdir(path)]\n",
    "\n",
    "# Fill the placeholder empty lists with image path, classes, and add class ID number\n",
    " \n",
    "for training_name in training_names:\n",
    "    dir = os.path.join(train_path, training_name)\n",
    "    class_path = imglist(dir)\n",
    "    image_paths+=class_path\n",
    "    image_classes+=[class_id]*len(class_path)\n",
    "    class_id+=1"
   ]
  },
  {
   "cell_type": "code",
   "execution_count": 11,
   "id": "215c574e",
   "metadata": {},
   "outputs": [
    {
     "data": {
      "text/plain": [
       "565"
      ]
     },
     "execution_count": 11,
     "metadata": {},
     "output_type": "execute_result"
    }
   ],
   "source": [
    "# total number of images in the training set\n",
    "len(image_paths)"
   ]
  },
  {
   "cell_type": "code",
   "execution_count": 12,
   "id": "da493509",
   "metadata": {},
   "outputs": [
    {
     "data": {
      "text/plain": [
       "array([ 0,  1,  2,  3,  4,  5,  6,  7,  8,  9, 10, 11])"
      ]
     },
     "execution_count": 12,
     "metadata": {},
     "output_type": "execute_result"
    }
   ],
   "source": [
    "# classes\n",
    "np.unique(image_classes)"
   ]
  },
  {
   "cell_type": "code",
   "execution_count": 13,
   "id": "56a3152b",
   "metadata": {},
   "outputs": [
    {
     "data": {
      "text/plain": [
       "{0: 38,\n",
       " 1: 76,\n",
       " 2: 40,\n",
       " 3: 40,\n",
       " 4: 40,\n",
       " 5: 45,\n",
       " 6: 27,\n",
       " 7: 12,\n",
       " 8: 171,\n",
       " 9: 30,\n",
       " 10: 40,\n",
       " 11: 6}"
      ]
     },
     "execution_count": 13,
     "metadata": {},
     "output_type": "execute_result"
    }
   ],
   "source": [
    "dict((x,image_classes.count(x)) for x in set(image_classes))"
   ]
  },
  {
   "cell_type": "code",
   "execution_count": 14,
   "id": "7a077dfb",
   "metadata": {},
   "outputs": [],
   "source": [
    "labels_classes = {'Aluminium':0, 'Battery':1, 'Cable and Wire':2, 'Cardboard and Paper':3, 'Connector':4,\n",
    "                'Copper':5, 'Iron':6, 'Magnetic Tape':7, 'Printed Circuit Board':8, \n",
    "                'Printer Ribbon and Toner':9, 'Tube and Screen':10, 'Water Pump':11}"
   ]
  },
  {
   "cell_type": "code",
   "execution_count": null,
   "id": "a5250e58",
   "metadata": {},
   "outputs": [],
   "source": []
  },
  {
   "cell_type": "markdown",
   "id": "df3811e7",
   "metadata": {},
   "source": [
    "## Battery: remove ~ 30 images"
   ]
  },
  {
   "cell_type": "code",
   "execution_count": 259,
   "id": "d21b3e9f",
   "metadata": {},
   "outputs": [],
   "source": [
    "samples_battery = ['./waste_images/train_segmented_balanced\\\\Battery\\\\Battery58_segmented.JPG',\n",
    " './waste_images/train_segmented_balanced\\\\Battery\\\\Battery37_segmented.JPG',\n",
    " './waste_images/train_segmented_balanced\\\\Battery\\\\Battery35_segmented.JPG',\n",
    " './waste_images/train_segmented_balanced\\\\Battery\\\\Battery48_segmented.JPG',\n",
    " './waste_images/train_segmented_balanced\\\\Battery\\\\Battery150_segmented.JPG',\n",
    " './waste_images/train_segmented_balanced\\\\Battery\\\\Battery133_segmented.JPG',\n",
    " './waste_images/train_segmented_balanced\\\\Battery\\\\Battery34_segmented.JPG',\n",
    " './waste_images/train_segmented_balanced\\\\Battery\\\\Battery190_segmented.JPG',\n",
    " './waste_images/train_segmented_balanced\\\\Battery\\\\Battery84_segmented.JPG',\n",
    " './waste_images/train_segmented_balanced\\\\Battery\\\\Battery40_segmented.JPG',\n",
    " './waste_images/train_segmented_balanced\\\\Battery\\\\Battery191_segmented.JPG',\n",
    " './waste_images/train_segmented_balanced\\\\Battery\\\\Battery142_segmented.JPG',\n",
    " './waste_images/train_segmented_balanced\\\\Battery\\\\Battery178_segmented.JPG',\n",
    " './waste_images/train_segmented_balanced\\\\Battery\\\\Battery176_segmented.JPG',\n",
    " './waste_images/train_segmented_balanced\\\\Battery\\\\Battery134_segmented.JPG',\n",
    " './waste_images/train_segmented_balanced\\\\Battery\\\\Battery187_segmented.JPG',\n",
    " './waste_images/train_segmented_balanced\\\\Battery\\\\Battery132_segmented.JPG',\n",
    " './waste_images/train_segmented_balanced\\\\Battery\\\\Battery124_segmented.JPG',\n",
    " './waste_images/train_segmented_balanced\\\\Battery\\\\Battery154_segmented.JPG',\n",
    " './waste_images/train_segmented_balanced\\\\Battery\\\\Battery59_segmented.JPG',\n",
    " './waste_images/train_segmented_balanced\\\\Battery\\\\Battery170_segmented.JPG',\n",
    " './waste_images/train_segmented_balanced\\\\Battery\\\\Battery39_segmented.JPG',\n",
    " './waste_images/train_segmented_balanced\\\\Battery\\\\Battery110_segmented.JPG',\n",
    " './waste_images/train_segmented_balanced\\\\Battery\\\\Battery97_segmented.JPG',\n",
    " './waste_images/train_segmented_balanced\\\\Battery\\\\Battery103_segmented.JPG',\n",
    " './waste_images/train_segmented_balanced\\\\Battery\\\\Battery6_segmented.JPG',\n",
    " './waste_images/train_segmented_balanced\\\\Battery\\\\Battery57_segmented.JPG',\n",
    " './waste_images/train_segmented_balanced\\\\Battery\\\\Battery72_segmented.JPG',\n",
    " './waste_images/train_segmented_balanced\\\\Battery\\\\Battery71_segmented.JPG',\n",
    " './waste_images/train_segmented_balanced\\\\Battery\\\\Battery90_segmented.JPG']"
   ]
  },
  {
   "cell_type": "markdown",
   "id": "6943761d",
   "metadata": {},
   "source": [
    "## Iron: add ~ 13 images"
   ]
  },
  {
   "cell_type": "code",
   "execution_count": 271,
   "id": "a65ecd20",
   "metadata": {},
   "outputs": [
    {
     "data": {
      "text/plain": [
       "{'./waste_images/train_segmented\\\\Iron\\\\Iron8_segmented.JPG': 'width-shift',\n",
       " './waste_images/train_segmented\\\\Iron\\\\Iron4_segmented.JPG': 'width-shift',\n",
       " './waste_images/train_segmented\\\\Iron\\\\Iron28_segmented.JPG': 'height-shift',\n",
       " './waste_images/train_segmented\\\\Iron\\\\Iron23_segmented.JPG': 'height-shift',\n",
       " './waste_images/train_segmented\\\\Iron\\\\Iron22_segmented.JPG': 'height-shift',\n",
       " './waste_images/train_segmented\\\\Iron\\\\Iron26_segmented.JPG': 'horizontal-flip',\n",
       " './waste_images/train_segmented\\\\Iron\\\\Iron17_segmented.JPG': 'horizontal-flip',\n",
       " './waste_images/train_segmented\\\\Iron\\\\Iron35_segmented.JPG': 'rotation-range',\n",
       " './waste_images/train_segmented\\\\Iron\\\\Iron16_segmented.JPG': 'rotation-range',\n",
       " './waste_images/train_segmented\\\\Iron\\\\Iron9_segmented.JPG': 'rotation-range',\n",
       " './waste_images/train_segmented\\\\Iron\\\\Iron2_segmented.JPG': 'brightness-range',\n",
       " './waste_images/train_segmented\\\\Iron\\\\Iron40_segmented.JPG': 'brightness-range',\n",
       " './waste_images/train_segmented\\\\Iron\\\\Iron32_segmented.JPG': 'brightness-range'}"
      ]
     },
     "execution_count": 271,
     "metadata": {},
     "output_type": "execute_result"
    }
   ],
   "source": [
    "dict_images_aug = {'./waste_images/train_segmented\\Iron\\Iron8_segmented.JPG': 'width-shift',\n",
    "                   './waste_images/train_segmented\\Iron\\Iron4_segmented.JPG': 'width-shift',\n",
    "                   './waste_images/train_segmented\\Iron\\Iron28_segmented.JPG': 'height-shift', \n",
    "                   './waste_images/train_segmented\\Iron\\Iron23_segmented.JPG': 'height-shift',\n",
    "                   './waste_images/train_segmented\\Iron\\Iron22_segmented.JPG': 'height-shift',\n",
    "                   './waste_images/train_segmented\\Iron\\Iron26_segmented.JPG': 'horizontal-flip',\n",
    "                   './waste_images/train_segmented\\Iron\\Iron17_segmented.JPG': 'horizontal-flip',\n",
    "                   './waste_images/train_segmented\\Iron\\Iron35_segmented.JPG': 'rotation-range',\n",
    "                   './waste_images/train_segmented\\Iron\\Iron16_segmented.JPG': 'rotation-range',\n",
    "                   './waste_images/train_segmented\\Iron\\Iron9_segmented.JPG': 'rotation-range',\n",
    "                   './waste_images/train_segmented\\Iron\\Iron2_segmented.JPG': 'brightness-range',\n",
    "                   './waste_images/train_segmented\\Iron\\Iron40_segmented.JPG': 'brightness-range',\n",
    "                   './waste_images/train_segmented\\Iron\\Iron32_segmented.JPG': 'brightness-range'}\n",
    "\n",
    "dict_images_aug"
   ]
  },
  {
   "cell_type": "code",
   "execution_count": 272,
   "id": "f4329fad",
   "metadata": {},
   "outputs": [
    {
     "data": {
      "text/plain": [
       "('./waste_images/train_segmented\\\\Iron\\\\Iron8_segmented.JPG', 'width-shift')"
      ]
     },
     "execution_count": 272,
     "metadata": {},
     "output_type": "execute_result"
    }
   ],
   "source": [
    "list(dict_images_aug.keys())[0], list(dict_images_aug.values())[0]"
   ]
  },
  {
   "cell_type": "code",
   "execution_count": 274,
   "id": "c4a0da5f",
   "metadata": {},
   "outputs": [
    {
     "name": "stdout",
     "output_type": "stream",
     "text": [
      "./waste_images/train_segmented\\Iron\\Iron8_segmented.JPG 1 _width-shift\n",
      "./waste_images/train_segmented\\Iron\\Iron4_segmented.JPG 2 _width-shift\n",
      "./waste_images/train_segmented\\Iron\\Iron28_segmented.JPG 3 _height-shift\n",
      "./waste_images/train_segmented\\Iron\\Iron23_segmented.JPG 4 _height-shift\n",
      "./waste_images/train_segmented\\Iron\\Iron22_segmented.JPG 5 _height-shift\n",
      "./waste_images/train_segmented\\Iron\\Iron26_segmented.JPG 6 _horizontal-flip\n",
      "./waste_images/train_segmented\\Iron\\Iron17_segmented.JPG 7 _horizontal-flip\n",
      "./waste_images/train_segmented\\Iron\\Iron35_segmented.JPG 8 _rotation-range\n",
      "./waste_images/train_segmented\\Iron\\Iron16_segmented.JPG 9 _rotation-range\n",
      "./waste_images/train_segmented\\Iron\\Iron9_segmented.JPG 10 _rotation-range\n",
      "./waste_images/train_segmented\\Iron\\Iron2_segmented.JPG 11 _brightness-range\n",
      "./waste_images/train_segmented\\Iron\\Iron40_segmented.JPG 12 _brightness-range\n",
      "./waste_images/train_segmented\\Iron\\Iron32_segmented.JPG 13 _brightness-range\n"
     ]
    }
   ],
   "source": [
    "#random.seed(1658)\n",
    "\n",
    "range_list = [1,14] # adding 13 images\n",
    "\n",
    "#image_list = random.sample(image_paths_iron, k=13)\n",
    "\n",
    "for count in range(range_list[0], range_list[1]):\n",
    "    \n",
    "    #imagefile = image_list[count-1]\n",
    "    \n",
    "    imagefile = list(dict_images_aug.keys())[count-1]\n",
    "    \n",
    "    new_dir = './waste_images/train_segmented_balanced/Iron\\\\'\n",
    "        \n",
    "    # Creating image date augmentation generator based on percentages of the range interval\n",
    "    \n",
    "    if list(dict_images_aug.values())[count-1] == 'width-shift':\n",
    "        datagen = ImageDataGenerator(width_shift_range=[-200,200]) # width shift\n",
    "        suffix = '_width-shift'\n",
    "        \n",
    "    elif list(dict_images_aug.values())[count-1] == 'height-shift':\n",
    "        datagen = ImageDataGenerator(height_shift_range=0.5) # height shift\n",
    "        suffix = '_height-shift'\n",
    "     \n",
    "    elif list(dict_images_aug.values())[count-1] == 'horizontal-flip':\n",
    "        datagen = ImageDataGenerator(horizontal_flip=True) # horizontal flip\n",
    "        suffix = '_horizontal-flip'\n",
    "        \n",
    "    elif list(dict_images_aug.values())[count-1] == 'rotation-range':\n",
    "        datagen = ImageDataGenerator(rotation_range=90) # rotation\n",
    "        suffix = '_rotation-range'\n",
    "        \n",
    "    elif list(dict_images_aug.values())[count-1] == 'brightness-range':\n",
    "        datagen = ImageDataGenerator(brightness_range=[0.2,1.0]) # brightness\n",
    "        suffix = '_brightness-range'\n",
    "    \n",
    "    print(imagefile, count, suffix)\n",
    "    \n",
    "    img = load_img(imagefile) # Loading the image\n",
    "    data = img_to_array(img)  # Converting to numpy array\n",
    "    samples = expand_dims(data, 0) # Expanding dimension to one sample\n",
    "    it = datagen.flow(samples, batch_size=1) # Preparing iterator\n",
    "    batch = it.next()  # Generating batch of images\n",
    "    image = batch[0].astype('uint8') # Convert to unsigned integers\n",
    "    Image.fromarray(image).save(new_dir+imagefile.rsplit('\\\\', 1)[1].replace('.JPG','')+suffix+'.JPG') # Saving image"
   ]
  },
  {
   "cell_type": "markdown",
   "id": "cb414b64",
   "metadata": {},
   "source": [
    "## Magnetic Tape: add ~ 28 images"
   ]
  },
  {
   "cell_type": "code",
   "execution_count": 282,
   "id": "f0ab02c3",
   "metadata": {},
   "outputs": [],
   "source": [
    "list_images_aug = [['./waste_images/train_segmented\\Magnetic Tape\\Magnetic Tape10_segmented.JPG', 'width-shift'],\n",
    "                   ['./waste_images/train_segmented\\Magnetic Tape\\Magnetic Tape12_segmented.JPG', 'width-shift'],\n",
    "                   ['./waste_images/train_segmented\\Magnetic Tape\\Magnetic Tape3_segmented.JPG', 'width-shift'], \n",
    "                   ['./waste_images/train_segmented\\Magnetic Tape\\Magnetic Tape8_segmented.JPG', 'width-shift'],\n",
    "                   ['./waste_images/train_segmented\\Magnetic Tape\\Magnetic Tape10_segmented.JPG', 'width-shift'],\n",
    "                   ['./waste_images/train_segmented\\Magnetic Tape\\Magnetic Tape8_segmented.JPG', 'height-shift'],\n",
    "                   ['./waste_images/train_segmented\\Magnetic Tape\\Magnetic Tape8_segmented.JPG', 'height-shift'],\n",
    "                   ['./waste_images/train_segmented\\Magnetic Tape\\Magnetic Tape12_segmented.JPG', 'height-shift'],\n",
    "                   ['./waste_images/train_segmented\\Magnetic Tape\\Magnetic Tape1_segmented.JPG', 'height-shift'],\n",
    "                   ['./waste_images/train_segmented\\Magnetic Tape\\Magnetic Tape7_segmented.JPG', 'height-shift'],\n",
    "                   ['./waste_images/train_segmented\\Magnetic Tape\\Magnetic Tape14_segmented.JPG', 'height-shift'],\n",
    "                   ['./waste_images/train_segmented\\Magnetic Tape\\Magnetic Tape8_segmented.JPG', 'horizontal-flip'],\n",
    "                   ['./waste_images/train_segmented\\Magnetic Tape\\Magnetic Tape12_segmented.JPG', 'horizontal-flip'],\n",
    "                   ['./waste_images/train_segmented\\Magnetic Tape\\Magnetic Tape15_segmented.JPG', 'horizontal-flip'],\n",
    "                   ['./waste_images/train_segmented\\Magnetic Tape\\Magnetic Tape8_segmented.JPG', 'horizontal-flip'],\n",
    "                   ['./waste_images/train_segmented\\Magnetic Tape\\Magnetic Tape10_segmented.JPG', 'horizontal-flip'],\n",
    "                   ['./waste_images/train_segmented\\Magnetic Tape\\Magnetic Tape7_segmented.JPG', 'rotation-range'],\n",
    "                   ['./waste_images/train_segmented\\Magnetic Tape\\Magnetic Tape14_segmented.JPG', 'rotation-range'],\n",
    "                   ['./waste_images/train_segmented\\Magnetic Tape\\Magnetic Tape3_segmented.JPG', 'rotation-range'],\n",
    "                   ['./waste_images/train_segmented\\Magnetic Tape\\Magnetic Tape4_segmented.JPG', 'rotation-range'],\n",
    "                   ['./waste_images/train_segmented\\Magnetic Tape\\Magnetic Tape14_segmented.JPG', 'rotation-range'],\n",
    "                   ['./waste_images/train_segmented\\Magnetic Tape\\Magnetic Tape13_segmented.JPG', 'rotation-range'],\n",
    "                   ['./waste_images/train_segmented\\Magnetic Tape\\Magnetic Tape12_segmented.JPG', 'brightness-range'],\n",
    "                   ['./waste_images/train_segmented\\Magnetic Tape\\Magnetic Tape14_segmented.JPG', 'brightness-range'],\n",
    "                   ['./waste_images/train_segmented\\Magnetic Tape\\Magnetic Tape6_segmented.JPG', 'brightness-range'],\n",
    "                   ['./waste_images/train_segmented\\Magnetic Tape\\Magnetic Tape6_segmented.JPG', 'brightness-range'],\n",
    "                   ['./waste_images/train_segmented\\Magnetic Tape\\Magnetic Tape3_segmented.JPG', 'brightness-range'],\n",
    "                   ['./waste_images/train_segmented\\Magnetic Tape\\Magnetic Tape3_segmented.JPG', 'brightness-range']\n",
    "                  ]\n",
    "\n",
    "#list_images_aug"
   ]
  },
  {
   "cell_type": "code",
   "execution_count": 284,
   "id": "3f923de9",
   "metadata": {},
   "outputs": [
    {
     "data": {
      "text/plain": [
       "('./waste_images/train_segmented\\\\Magnetic Tape\\\\Magnetic Tape12_segmented.JPG',\n",
       " 'width-shift')"
      ]
     },
     "execution_count": 284,
     "metadata": {},
     "output_type": "execute_result"
    }
   ],
   "source": [
    "list_images_aug[1][0], list_images_aug[1][1]"
   ]
  },
  {
   "cell_type": "code",
   "execution_count": 286,
   "id": "970f9dbd",
   "metadata": {},
   "outputs": [
    {
     "name": "stdout",
     "output_type": "stream",
     "text": [
      "./waste_images/train_segmented\\Magnetic Tape\\Magnetic Tape10_segmented.JPG 1 _width-shift_\n",
      "./waste_images/train_segmented\\Magnetic Tape\\Magnetic Tape12_segmented.JPG 2 _width-shift_\n",
      "./waste_images/train_segmented\\Magnetic Tape\\Magnetic Tape3_segmented.JPG 3 _width-shift_\n",
      "./waste_images/train_segmented\\Magnetic Tape\\Magnetic Tape8_segmented.JPG 4 _width-shift_\n",
      "./waste_images/train_segmented\\Magnetic Tape\\Magnetic Tape10_segmented.JPG 5 _width-shift_\n",
      "./waste_images/train_segmented\\Magnetic Tape\\Magnetic Tape8_segmented.JPG 6 _height-shift_\n",
      "./waste_images/train_segmented\\Magnetic Tape\\Magnetic Tape8_segmented.JPG 7 _height-shift_\n",
      "./waste_images/train_segmented\\Magnetic Tape\\Magnetic Tape12_segmented.JPG 8 _height-shift_\n",
      "./waste_images/train_segmented\\Magnetic Tape\\Magnetic Tape1_segmented.JPG 9 _height-shift_\n",
      "./waste_images/train_segmented\\Magnetic Tape\\Magnetic Tape7_segmented.JPG 10 _height-shift_\n",
      "./waste_images/train_segmented\\Magnetic Tape\\Magnetic Tape14_segmented.JPG 11 _height-shift_\n",
      "./waste_images/train_segmented\\Magnetic Tape\\Magnetic Tape8_segmented.JPG 12 _horizontal-flip_\n",
      "./waste_images/train_segmented\\Magnetic Tape\\Magnetic Tape12_segmented.JPG 13 _horizontal-flip_\n",
      "./waste_images/train_segmented\\Magnetic Tape\\Magnetic Tape15_segmented.JPG 14 _horizontal-flip_\n",
      "./waste_images/train_segmented\\Magnetic Tape\\Magnetic Tape8_segmented.JPG 15 _horizontal-flip_\n",
      "./waste_images/train_segmented\\Magnetic Tape\\Magnetic Tape10_segmented.JPG 16 _horizontal-flip_\n",
      "./waste_images/train_segmented\\Magnetic Tape\\Magnetic Tape7_segmented.JPG 17 _rotation-range_\n",
      "./waste_images/train_segmented\\Magnetic Tape\\Magnetic Tape14_segmented.JPG 18 _rotation-range_\n",
      "./waste_images/train_segmented\\Magnetic Tape\\Magnetic Tape3_segmented.JPG 19 _rotation-range_\n",
      "./waste_images/train_segmented\\Magnetic Tape\\Magnetic Tape4_segmented.JPG 20 _rotation-range_\n",
      "./waste_images/train_segmented\\Magnetic Tape\\Magnetic Tape14_segmented.JPG 21 _rotation-range_\n",
      "./waste_images/train_segmented\\Magnetic Tape\\Magnetic Tape13_segmented.JPG 22 _rotation-range_\n",
      "./waste_images/train_segmented\\Magnetic Tape\\Magnetic Tape12_segmented.JPG 23 _brightness-range_\n",
      "./waste_images/train_segmented\\Magnetic Tape\\Magnetic Tape14_segmented.JPG 24 _brightness-range_\n",
      "./waste_images/train_segmented\\Magnetic Tape\\Magnetic Tape6_segmented.JPG 25 _brightness-range_\n",
      "./waste_images/train_segmented\\Magnetic Tape\\Magnetic Tape6_segmented.JPG 26 _brightness-range_\n",
      "./waste_images/train_segmented\\Magnetic Tape\\Magnetic Tape3_segmented.JPG 27 _brightness-range_\n",
      "./waste_images/train_segmented\\Magnetic Tape\\Magnetic Tape3_segmented.JPG 28 _brightness-range_\n"
     ]
    }
   ],
   "source": [
    "range_list = [1,29] # adding 28 images\n",
    "\n",
    "#image_list = list(np.random.choice(image_paths_tape, size=28))\n",
    "\n",
    "for count in range(range_list[0], range_list[1]):\n",
    "    \n",
    "    imagefile = list_images_aug[count-1][0]\n",
    "    new_dir = './waste_images/train_segmented_balanced/Magnetic Tape\\\\'\n",
    "        \n",
    "    # Creating image date augmentation generator based on percentages of the range interval\n",
    "                    \n",
    "    if list_images_aug[count-1][1] == 'width-shift':\n",
    "        datagen = ImageDataGenerator(width_shift_range=[-200,200]) # width shift\n",
    "        suffix = '_width-shift_'\n",
    "        \n",
    "    elif list_images_aug[count-1][1] == 'height-shift':\n",
    "        datagen = ImageDataGenerator(height_shift_range=0.5) # height shift\n",
    "        suffix = '_height-shift_'\n",
    "     \n",
    "    elif list_images_aug[count-1][1] == 'horizontal-flip':\n",
    "        datagen = ImageDataGenerator(horizontal_flip=True) # horizontal flip\n",
    "        suffix = '_horizontal-flip_'\n",
    "        \n",
    "    elif list_images_aug[count-1][1] == 'rotation-range':\n",
    "        datagen = ImageDataGenerator(rotation_range=90) # rotation\n",
    "        suffix = '_rotation-range_'\n",
    "        \n",
    "    elif list_images_aug[count-1][1] == 'brightness-range':\n",
    "        datagen = ImageDataGenerator(brightness_range=[0.2,1.0]) # brightness\n",
    "        suffix = '_brightness-range_'\n",
    "    \n",
    "    print(imagefile, count, suffix)\n",
    "    \n",
    "    img = load_img(imagefile) # Loading the image\n",
    "    data = img_to_array(img)  # Converting to numpy array\n",
    "    samples = expand_dims(data, 0) # Expanding dimension to one sample\n",
    "    it = datagen.flow(samples, batch_size=1) # Preparing iterator\n",
    "    batch = it.next()  # Generating batch of images\n",
    "    image = batch[0].astype('uint8') # Convert to unsigned integers\n",
    "    Image.fromarray(image).save(new_dir+imagefile.rsplit('\\\\', 1)[1].replace('.JPG','')+suffix+str(count)+'.JPG') # Saving image"
   ]
  },
  {
   "cell_type": "markdown",
   "id": "39471438",
   "metadata": {},
   "source": [
    "## Printed Circuit Board: remove ~ 121 images"
   ]
  },
  {
   "cell_type": "code",
   "execution_count": 289,
   "id": "0ebe15e8",
   "metadata": {},
   "outputs": [],
   "source": [
    "samples_pcb = ['./waste_images/train_segmented_balanced\\\\Printed Circuit Board\\\\Printed Circuit Board126_segmented.JPG',\n",
    " './waste_images/train_segmented_balanced\\\\Printed Circuit Board\\\\Printed Circuit Board22_segmented.JPG',\n",
    " './waste_images/train_segmented_balanced\\\\Printed Circuit Board\\\\Printed Circuit Board20_segmented.JPG',\n",
    " './waste_images/train_segmented_balanced\\\\Printed Circuit Board\\\\Printed Circuit Board161_segmented.JPG',\n",
    " './waste_images/train_segmented_balanced\\\\Printed Circuit Board\\\\Printed Circuit Board64_segmented.JPG',\n",
    " './waste_images/train_segmented_balanced\\\\Printed Circuit Board\\\\Printed Circuit Board110_segmented.JPG',\n",
    " './waste_images/train_segmented_balanced\\\\Printed Circuit Board\\\\Printed Circuit Board29_segmented.JPG',\n",
    " './waste_images/train_segmented_balanced\\\\Printed Circuit Board\\\\Printed Circuit Board62_segmented.JPG',\n",
    " './waste_images/train_segmented_balanced\\\\Printed Circuit Board\\\\Printed Circuit Board144_segmented.JPG',\n",
    " './waste_images/train_segmented_balanced\\\\Printed Circuit Board\\\\Printed Circuit Board94_segmented.JPG',\n",
    " './waste_images/train_segmented_balanced\\\\Printed Circuit Board\\\\Printed Circuit Board178_segmented.JPG',\n",
    " './waste_images/train_segmented_balanced\\\\Printed Circuit Board\\\\Printed Circuit Board107_segmented.JPG',\n",
    " './waste_images/train_segmented_balanced\\\\Printed Circuit Board\\\\Printed Circuit Board206_segmented.JPG',\n",
    " './waste_images/train_segmented_balanced\\\\Printed Circuit Board\\\\Printed Circuit Board159_segmented.JPG',\n",
    " './waste_images/train_segmented_balanced\\\\Printed Circuit Board\\\\Printed Circuit Board79_segmented.JPG',\n",
    " './waste_images/train_segmented_balanced\\\\Printed Circuit Board\\\\Printed Circuit Board30_segmented.JPG',\n",
    " './waste_images/train_segmented_balanced\\\\Printed Circuit Board\\\\Printed Circuit Board175_segmented.JPG',\n",
    " './waste_images/train_segmented_balanced\\\\Printed Circuit Board\\\\Printed Circuit Board95_segmented.JPG',\n",
    " './waste_images/train_segmented_balanced\\\\Printed Circuit Board\\\\Printed Circuit Board89_segmented.JPG',\n",
    " './waste_images/train_segmented_balanced\\\\Printed Circuit Board\\\\Printed Circuit Board188_segmented.JPG',\n",
    " './waste_images/train_segmented_balanced\\\\Printed Circuit Board\\\\Printed Circuit Board15_segmented.JPG',\n",
    " './waste_images/train_segmented_balanced\\\\Printed Circuit Board\\\\Printed Circuit Board1_segmented.JPG',\n",
    " './waste_images/train_segmented_balanced\\\\Printed Circuit Board\\\\Printed Circuit Board108_segmented.JPG',\n",
    " './waste_images/train_segmented_balanced\\\\Printed Circuit Board\\\\Printed Circuit Board136_segmented.JPG',\n",
    " './waste_images/train_segmented_balanced\\\\Printed Circuit Board\\\\Printed Circuit Board143_segmented.JPG',\n",
    " './waste_images/train_segmented_balanced\\\\Printed Circuit Board\\\\Printed Circuit Board151_segmented.JPG',\n",
    " './waste_images/train_segmented_balanced\\\\Printed Circuit Board\\\\Printed Circuit Board40_segmented.JPG',\n",
    " './waste_images/train_segmented_balanced\\\\Printed Circuit Board\\\\Printed Circuit Board109_segmented.JPG',\n",
    " './waste_images/train_segmented_balanced\\\\Printed Circuit Board\\\\Printed Circuit Board73_segmented.JPG',\n",
    " './waste_images/train_segmented_balanced\\\\Printed Circuit Board\\\\Printed Circuit Board45_segmented.JPG',\n",
    " './waste_images/train_segmented_balanced\\\\Printed Circuit Board\\\\Printed Circuit Board28_segmented.JPG',\n",
    " './waste_images/train_segmented_balanced\\\\Printed Circuit Board\\\\Printed Circuit Board135_segmented.JPG',\n",
    " './waste_images/train_segmented_balanced\\\\Printed Circuit Board\\\\Printed Circuit Board154_segmented.JPG',\n",
    " './waste_images/train_segmented_balanced\\\\Printed Circuit Board\\\\Printed Circuit Board77_segmented.JPG',\n",
    " './waste_images/train_segmented_balanced\\\\Printed Circuit Board\\\\Printed Circuit Board216_segmented.JPG',\n",
    " './waste_images/train_segmented_balanced\\\\Printed Circuit Board\\\\Printed Circuit Board160_segmented.JPG',\n",
    " './waste_images/train_segmented_balanced\\\\Printed Circuit Board\\\\Printed Circuit Board203_segmented.JPG',\n",
    " './waste_images/train_segmented_balanced\\\\Printed Circuit Board\\\\Printed Circuit Board101_segmented.JPG',\n",
    " './waste_images/train_segmented_balanced\\\\Printed Circuit Board\\\\Printed Circuit Board192_segmented.JPG',\n",
    " './waste_images/train_segmented_balanced\\\\Printed Circuit Board\\\\Printed Circuit Board207_segmented.JPG',\n",
    " './waste_images/train_segmented_balanced\\\\Printed Circuit Board\\\\Printed Circuit Board202_segmented.JPG',\n",
    " './waste_images/train_segmented_balanced\\\\Printed Circuit Board\\\\Printed Circuit Board102_segmented.JPG',\n",
    " './waste_images/train_segmented_balanced\\\\Printed Circuit Board\\\\Printed Circuit Board97_segmented.JPG',\n",
    " './waste_images/train_segmented_balanced\\\\Printed Circuit Board\\\\Printed Circuit Board92_segmented.JPG',\n",
    " './waste_images/train_segmented_balanced\\\\Printed Circuit Board\\\\Printed Circuit Board155_segmented.JPG',\n",
    " './waste_images/train_segmented_balanced\\\\Printed Circuit Board\\\\Printed Circuit Board204_segmented.JPG',\n",
    " './waste_images/train_segmented_balanced\\\\Printed Circuit Board\\\\Printed Circuit Board225_segmented.JPG',\n",
    " './waste_images/train_segmented_balanced\\\\Printed Circuit Board\\\\Printed Circuit Board167_segmented.JPG',\n",
    " './waste_images/train_segmented_balanced\\\\Printed Circuit Board\\\\Printed Circuit Board205_segmented.JPG',\n",
    " './waste_images/train_segmented_balanced\\\\Printed Circuit Board\\\\Printed Circuit Board74_segmented.JPG',\n",
    " './waste_images/train_segmented_balanced\\\\Printed Circuit Board\\\\Printed Circuit Board78_segmented.JPG',\n",
    " './waste_images/train_segmented_balanced\\\\Printed Circuit Board\\\\Printed Circuit Board132_segmented.JPG',\n",
    " './waste_images/train_segmented_balanced\\\\Printed Circuit Board\\\\Printed Circuit Board24_segmented.JPG',\n",
    " './waste_images/train_segmented_balanced\\\\Printed Circuit Board\\\\Printed Circuit Board59_segmented.JPG',\n",
    " './waste_images/train_segmented_balanced\\\\Printed Circuit Board\\\\Printed Circuit Board193_segmented.JPG',\n",
    " './waste_images/train_segmented_balanced\\\\Printed Circuit Board\\\\Printed Circuit Board7_segmented.JPG',\n",
    " './waste_images/train_segmented_balanced\\\\Printed Circuit Board\\\\Printed Circuit Board63_segmented.JPG',\n",
    " './waste_images/train_segmented_balanced\\\\Printed Circuit Board\\\\Printed Circuit Board201_segmented.JPG',\n",
    " './waste_images/train_segmented_balanced\\\\Printed Circuit Board\\\\Printed Circuit Board104_segmented.JPG',\n",
    " './waste_images/train_segmented_balanced\\\\Printed Circuit Board\\\\Printed Circuit Board47_segmented.JPG',\n",
    " './waste_images/train_segmented_balanced\\\\Printed Circuit Board\\\\Printed Circuit Board218_segmented.JPG',\n",
    " './waste_images/train_segmented_balanced\\\\Printed Circuit Board\\\\Printed Circuit Board60_segmented.JPG',\n",
    " './waste_images/train_segmented_balanced\\\\Printed Circuit Board\\\\Printed Circuit Board142_segmented.JPG',\n",
    " './waste_images/train_segmented_balanced\\\\Printed Circuit Board\\\\Printed Circuit Board163_segmented.JPG',\n",
    " './waste_images/train_segmented_balanced\\\\Printed Circuit Board\\\\Printed Circuit Board186_segmented.JPG',\n",
    " './waste_images/train_segmented_balanced\\\\Printed Circuit Board\\\\Printed Circuit Board100_segmented.JPG',\n",
    " './waste_images/train_segmented_balanced\\\\Printed Circuit Board\\\\Printed Circuit Board131_segmented.JPG',\n",
    " './waste_images/train_segmented_balanced\\\\Printed Circuit Board\\\\Printed Circuit Board9_segmented.JPG',\n",
    " './waste_images/train_segmented_balanced\\\\Printed Circuit Board\\\\Printed Circuit Board209_segmented.JPG',\n",
    " './waste_images/train_segmented_balanced\\\\Printed Circuit Board\\\\Printed Circuit Board86_segmented.JPG',\n",
    " './waste_images/train_segmented_balanced\\\\Printed Circuit Board\\\\Printed Circuit Board44_segmented.JPG',\n",
    " './waste_images/train_segmented_balanced\\\\Printed Circuit Board\\\\Printed Circuit Board166_segmented.JPG',\n",
    " './waste_images/train_segmented_balanced\\\\Printed Circuit Board\\\\Printed Circuit Board170_segmented.JPG',\n",
    " './waste_images/train_segmented_balanced\\\\Printed Circuit Board\\\\Printed Circuit Board13_segmented.JPG',\n",
    " './waste_images/train_segmented_balanced\\\\Printed Circuit Board\\\\Printed Circuit Board181_segmented.JPG',\n",
    " './waste_images/train_segmented_balanced\\\\Printed Circuit Board\\\\Printed Circuit Board91_segmented.JPG',\n",
    " './waste_images/train_segmented_balanced\\\\Printed Circuit Board\\\\Printed Circuit Board183_segmented.JPG',\n",
    " './waste_images/train_segmented_balanced\\\\Printed Circuit Board\\\\Printed Circuit Board121_segmented.JPG',\n",
    " './waste_images/train_segmented_balanced\\\\Printed Circuit Board\\\\Printed Circuit Board67_segmented.JPG',\n",
    " './waste_images/train_segmented_balanced\\\\Printed Circuit Board\\\\Printed Circuit Board50_segmented.JPG',\n",
    " './waste_images/train_segmented_balanced\\\\Printed Circuit Board\\\\Printed Circuit Board198_segmented.JPG',\n",
    " './waste_images/train_segmented_balanced\\\\Printed Circuit Board\\\\Printed Circuit Board226_segmented.JPG',\n",
    " './waste_images/train_segmented_balanced\\\\Printed Circuit Board\\\\Printed Circuit Board172_segmented.JPG',\n",
    " './waste_images/train_segmented_balanced\\\\Printed Circuit Board\\\\Printed Circuit Board17_segmented.JPG',\n",
    " './waste_images/train_segmented_balanced\\\\Printed Circuit Board\\\\Printed Circuit Board56_segmented.JPG',\n",
    " './waste_images/train_segmented_balanced\\\\Printed Circuit Board\\\\Printed Circuit Board189_segmented.JPG',\n",
    " './waste_images/train_segmented_balanced\\\\Printed Circuit Board\\\\Printed Circuit Board208_segmented.JPG',\n",
    " './waste_images/train_segmented_balanced\\\\Printed Circuit Board\\\\Printed Circuit Board213_segmented.JPG',\n",
    " './waste_images/train_segmented_balanced\\\\Printed Circuit Board\\\\Printed Circuit Board171_segmented.JPG',\n",
    " './waste_images/train_segmented_balanced\\\\Printed Circuit Board\\\\Printed Circuit Board14_segmented.JPG',\n",
    " './waste_images/train_segmented_balanced\\\\Printed Circuit Board\\\\Printed Circuit Board27_segmented.JPG',\n",
    " './waste_images/train_segmented_balanced\\\\Printed Circuit Board\\\\Printed Circuit Board122_segmented.JPG',\n",
    " './waste_images/train_segmented_balanced\\\\Printed Circuit Board\\\\Printed Circuit Board88_segmented.JPG',\n",
    " './waste_images/train_segmented_balanced\\\\Printed Circuit Board\\\\Printed Circuit Board83_segmented.JPG',\n",
    " './waste_images/train_segmented_balanced\\\\Printed Circuit Board\\\\Printed Circuit Board224_segmented.JPG',\n",
    " './waste_images/train_segmented_balanced\\\\Printed Circuit Board\\\\Printed Circuit Board211_segmented.JPG',\n",
    " './waste_images/train_segmented_balanced\\\\Printed Circuit Board\\\\Printed Circuit Board124_segmented.JPG',\n",
    " './waste_images/train_segmented_balanced\\\\Printed Circuit Board\\\\Printed Circuit Board229_segmented.JPG',\n",
    " './waste_images/train_segmented_balanced\\\\Printed Circuit Board\\\\Printed Circuit Board134_segmented.JPG',\n",
    " './waste_images/train_segmented_balanced\\\\Printed Circuit Board\\\\Printed Circuit Board221_segmented.JPG',\n",
    " './waste_images/train_segmented_balanced\\\\Printed Circuit Board\\\\Printed Circuit Board51_segmented.JPG',\n",
    " './waste_images/train_segmented_balanced\\\\Printed Circuit Board\\\\Printed Circuit Board125_segmented.JPG',\n",
    " './waste_images/train_segmented_balanced\\\\Printed Circuit Board\\\\Printed Circuit Board129_segmented.JPG',\n",
    " './waste_images/train_segmented_balanced\\\\Printed Circuit Board\\\\Printed Circuit Board153_segmented.JPG',\n",
    " './waste_images/train_segmented_balanced\\\\Printed Circuit Board\\\\Printed Circuit Board184_segmented.JPG',\n",
    " './waste_images/train_segmented_balanced\\\\Printed Circuit Board\\\\Printed Circuit Board48_segmented.JPG',\n",
    " './waste_images/train_segmented_balanced\\\\Printed Circuit Board\\\\Printed Circuit Board118_segmented.JPG',\n",
    " './waste_images/train_segmented_balanced\\\\Printed Circuit Board\\\\Printed Circuit Board8_segmented.JPG',\n",
    " './waste_images/train_segmented_balanced\\\\Printed Circuit Board\\\\Printed Circuit Board158_segmented.JPG',\n",
    " './waste_images/train_segmented_balanced\\\\Printed Circuit Board\\\\Printed Circuit Board196_segmented.JPG',\n",
    " './waste_images/train_segmented_balanced\\\\Printed Circuit Board\\\\Printed Circuit Board46_segmented.JPG',\n",
    " './waste_images/train_segmented_balanced\\\\Printed Circuit Board\\\\Printed Circuit Board190_segmented.JPG',\n",
    " './waste_images/train_segmented_balanced\\\\Printed Circuit Board\\\\Printed Circuit Board127_segmented.JPG',\n",
    " './waste_images/train_segmented_balanced\\\\Printed Circuit Board\\\\Printed Circuit Board11_segmented.JPG',\n",
    " './waste_images/train_segmented_balanced\\\\Printed Circuit Board\\\\Printed Circuit Board113_segmented.JPG',\n",
    " './waste_images/train_segmented_balanced\\\\Printed Circuit Board\\\\Printed Circuit Board182_segmented.JPG',\n",
    " './waste_images/train_segmented_balanced\\\\Printed Circuit Board\\\\Printed Circuit Board150_segmented.JPG',\n",
    " './waste_images/train_segmented_balanced\\\\Printed Circuit Board\\\\Printed Circuit Board194_segmented.JPG',\n",
    " './waste_images/train_segmented_balanced\\\\Printed Circuit Board\\\\Printed Circuit Board162_segmented.JPG',\n",
    " './waste_images/train_segmented_balanced\\\\Printed Circuit Board\\\\Printed Circuit Board38_segmented.JPG',\n",
    " './waste_images/train_segmented_balanced\\\\Printed Circuit Board\\\\Printed Circuit Board18_segmented.JPG']"
   ]
  },
  {
   "cell_type": "code",
   "execution_count": 292,
   "id": "8b584327",
   "metadata": {},
   "outputs": [],
   "source": [
    "for path in samples_pcb: \n",
    "    os.remove(path)"
   ]
  },
  {
   "cell_type": "code",
   "execution_count": null,
   "id": "beb7951c",
   "metadata": {},
   "outputs": [],
   "source": []
  },
  {
   "cell_type": "markdown",
   "id": "fbf8c9b3",
   "metadata": {},
   "source": [
    "## Printer Ribbon and Toner: add ~ 10 images"
   ]
  },
  {
   "cell_type": "code",
   "execution_count": 299,
   "id": "69ea4dda",
   "metadata": {},
   "outputs": [],
   "source": [
    "list_images_aug = [['./waste_images/train_segmented\\Printer Ribbon and Toner\\Printer Ribbon and Toner4_segmented.JPG', 'width-shift'],\n",
    "                   ['./waste_images/train_segmented\\Printer Ribbon and Toner\\Printer Ribbon and Toner36_segmented.JPG', 'width-shift'],\n",
    "                   ['./waste_images/train_segmented\\Printer Ribbon and Toner\\Printer Ribbon and Toner25_segmented.JPG', 'height-shift'],\n",
    "                   ['./waste_images/train_segmented\\Printer Ribbon and Toner\\Printer Ribbon and Toner21_segmented.JPG', 'height-shift'],\n",
    "                   ['./waste_images/train_segmented\\Printer Ribbon and Toner\\Printer Ribbon and Toner39_segmented.JPG', 'horizontal-flip'],\n",
    "                   ['./waste_images/train_segmented\\Printer Ribbon and Toner\\Printer Ribbon and Toner20_segmented.JPG', 'horizontal-flip'],\n",
    "                   ['./waste_images/train_segmented\\Printer Ribbon and Toner\\Printer Ribbon and Toner24_segmented.JPG', 'rotation-range'],\n",
    "                   ['./waste_images/train_segmented\\Printer Ribbon and Toner\\Printer Ribbon and Toner15_segmented.JPG', 'rotation-range'],\n",
    "                   ['./waste_images/train_segmented\\Printer Ribbon and Toner\\Printer Ribbon and Toner32_segmented.JPG', 'brightness-range'],\n",
    "                   ['./waste_images/train_segmented\\Printer Ribbon and Toner\\Printer Ribbon and Toner14_segmented.JPG', 'brightness-range']\n",
    "                ]"
   ]
  },
  {
   "cell_type": "code",
   "execution_count": 300,
   "id": "b344ef5c",
   "metadata": {},
   "outputs": [
    {
     "name": "stdout",
     "output_type": "stream",
     "text": [
      "./waste_images/train_segmented\\Printer Ribbon and Toner\\Printer Ribbon and Toner4_segmented.JPG 1 _width-shift_\n",
      "./waste_images/train_segmented\\Printer Ribbon and Toner\\Printer Ribbon and Toner36_segmented.JPG 2 _width-shift_\n",
      "./waste_images/train_segmented\\Printer Ribbon and Toner\\Printer Ribbon and Toner25_segmented.JPG 3 _height-shift_\n",
      "./waste_images/train_segmented\\Printer Ribbon and Toner\\Printer Ribbon and Toner21_segmented.JPG 4 _height-shift_\n",
      "./waste_images/train_segmented\\Printer Ribbon and Toner\\Printer Ribbon and Toner39_segmented.JPG 5 _horizontal-flip_\n",
      "./waste_images/train_segmented\\Printer Ribbon and Toner\\Printer Ribbon and Toner20_segmented.JPG 6 _horizontal-flip_\n",
      "./waste_images/train_segmented\\Printer Ribbon and Toner\\Printer Ribbon and Toner24_segmented.JPG 7 _rotation-range_\n",
      "./waste_images/train_segmented\\Printer Ribbon and Toner\\Printer Ribbon and Toner15_segmented.JPG 8 _rotation-range_\n",
      "./waste_images/train_segmented\\Printer Ribbon and Toner\\Printer Ribbon and Toner32_segmented.JPG 9 _brightness-range_\n",
      "./waste_images/train_segmented\\Printer Ribbon and Toner\\Printer Ribbon and Toner14_segmented.JPG 10 _brightness-range_\n"
     ]
    }
   ],
   "source": [
    "range_list = [1,11] # adding 10 images\n",
    "\n",
    "for count in range(range_list[0], range_list[1]):\n",
    "    \n",
    "    imagefile = list_images_aug[count-1][0]\n",
    "    new_dir = './waste_images/train_segmented_balanced/Printer Ribbon and Toner\\\\'\n",
    "        \n",
    "    # Creating image date augmentation generator based on percentages of the range interval\n",
    "                    \n",
    "    if list_images_aug[count-1][1] == 'width-shift':\n",
    "        datagen = ImageDataGenerator(width_shift_range=[-200,200]) # width shift\n",
    "        suffix = '_width-shift_'\n",
    "        \n",
    "    elif list_images_aug[count-1][1] == 'height-shift':\n",
    "        datagen = ImageDataGenerator(height_shift_range=0.5) # height shift\n",
    "        suffix = '_height-shift_'\n",
    "     \n",
    "    elif list_images_aug[count-1][1] == 'horizontal-flip':\n",
    "        datagen = ImageDataGenerator(horizontal_flip=True) # horizontal flip\n",
    "        suffix = '_horizontal-flip_'\n",
    "        \n",
    "    elif list_images_aug[count-1][1] == 'rotation-range':\n",
    "        datagen = ImageDataGenerator(rotation_range=90) # rotation\n",
    "        suffix = '_rotation-range_'\n",
    "        \n",
    "    elif list_images_aug[count-1][1] == 'brightness-range':\n",
    "        datagen = ImageDataGenerator(brightness_range=[0.2,1.0]) # brightness\n",
    "        suffix = '_brightness-range_'\n",
    "    \n",
    "    print(imagefile, count, suffix)\n",
    "    \n",
    "    img = load_img(imagefile) # Loading the image\n",
    "    data = img_to_array(img)  # Converting to numpy array\n",
    "    samples = expand_dims(data, 0) # Expanding dimension to one sample\n",
    "    it = datagen.flow(samples, batch_size=1) # Preparing iterator\n",
    "    batch = it.next()  # Generating batch of images\n",
    "    image = batch[0].astype('uint8') # Convert to unsigned integers\n",
    "    Image.fromarray(image).save(new_dir+imagefile.rsplit('\\\\', 1)[1].replace('.JPG','')+suffix+str(count)+'.JPG') # Saving image"
   ]
  },
  {
   "cell_type": "markdown",
   "id": "0c08b9f0",
   "metadata": {},
   "source": [
    "## Water Pump: ~ add 34 images "
   ]
  },
  {
   "cell_type": "code",
   "execution_count": 18,
   "id": "b8449f3a",
   "metadata": {},
   "outputs": [],
   "source": [
    "list_images_aug = [['./waste_images/train_segmented\\Water Pump\\Water Pump1_segmented.JPG', 'width-shift'],\n",
    "                   ['./waste_images/train_segmented\\Water Pump\\Water Pump4_segmented.JPG', 'width-shift'],\n",
    "                   ['./waste_images/train_segmented\\Water Pump\\Water Pump3_segmented.JPG', 'width-shift'],\n",
    "                   ['./waste_images/train_segmented\\Water Pump\\Water Pump4_segmented.JPG', 'width-shift'],\n",
    "                   ['./waste_images/train_segmented\\Water Pump\\Water Pump8_segmented.JPG', 'width-shift'],\n",
    "                   ['./waste_images/train_segmented\\Water Pump\\Water Pump1_segmented.JPG', 'width-shift'],\n",
    "                   ['./waste_images/train_segmented\\Water Pump\\Water Pump3_segmented.JPG', 'height-shift'],\n",
    "                   ['./waste_images/train_segmented\\Water Pump\\Water Pump3_segmented.JPG', 'height-shift'],\n",
    "                   ['./waste_images/train_segmented\\Water Pump\\Water Pump6_segmented.JPG', 'height-shift'],\n",
    "                   ['./waste_images/train_segmented\\Water Pump\\Water Pump3_segmented.JPG', 'height-shift'],\n",
    "                   ['./waste_images/train_segmented\\Water Pump\\Water Pump3_segmented.JPG', 'height-shift'],\n",
    "                   ['./waste_images/train_segmented\\Water Pump\\Water Pump8_segmented.JPG', 'height-shift'],\n",
    "                   ['./waste_images/train_segmented\\Water Pump\\Water Pump1_segmented.JPG', 'height-shift'],\n",
    "                   ['./waste_images/train_segmented\\Water Pump\\Water Pump6_segmented.JPG', 'horizontal-flip'],\n",
    "                   ['./waste_images/train_segmented\\Water Pump\\Water Pump8_segmented.JPG', 'horizontal-flip'],\n",
    "                   ['./waste_images/train_segmented\\Water Pump\\Water Pump4_segmented.JPG', 'horizontal-flip'],\n",
    "                   ['./waste_images/train_segmented\\Water Pump\\Water Pump8_segmented.JPG', 'horizontal-flip'],\n",
    "                   ['./waste_images/train_segmented\\Water Pump\\Water Pump7_segmented.JPG', 'horizontal-flip'],\n",
    "                   ['./waste_images/train_segmented\\Water Pump\\Water Pump1_segmented.JPG', 'horizontal-flip'],\n",
    "                   ['./waste_images/train_segmented\\Water Pump\\Water Pump8_segmented.JPG', 'horizontal-flip'], \n",
    "                   ['./waste_images/train_segmented\\Water Pump\\Water Pump8_segmented.JPG', 'rotation-range'],\n",
    "                   ['./waste_images/train_segmented\\Water Pump\\Water Pump7_segmented.JPG', 'rotation-range'],\n",
    "                   ['./waste_images/train_segmented\\Water Pump\\Water Pump1_segmented.JPG', 'rotation-range'],\n",
    "                   ['./waste_images/train_segmented\\Water Pump\\Water Pump1_segmented.JPG', 'rotation-range'],\n",
    "                   ['./waste_images/train_segmented\\Water Pump\\Water Pump8_segmented.JPG', 'rotation-range'],\n",
    "                   ['./waste_images/train_segmented\\Water Pump\\Water Pump8_segmented.JPG', 'rotation-range'],\n",
    "                   ['./waste_images/train_segmented\\Water Pump\\Water Pump8_segmented.JPG', 'rotation-range'],\n",
    "                   ['./waste_images/train_segmented\\Water Pump\\Water Pump1_segmented.JPG', 'brightness-range'],\n",
    "                   ['./waste_images/train_segmented\\Water Pump\\Water Pump7_segmented.JPG', 'brightness-range'],\n",
    "                   ['./waste_images/train_segmented\\Water Pump\\Water Pump4_segmented.JPG', 'brightness-range'],\n",
    "                   ['./waste_images/train_segmented\\Water Pump\\Water Pump6_segmented.JPG', 'brightness-range'],\n",
    "                   ['./waste_images/train_segmented\\Water Pump\\Water Pump3_segmented.JPG', 'brightness-range'],\n",
    "                   ['./waste_images/train_segmented\\Water Pump\\Water Pump1_segmented.JPG', 'brightness-range'],\n",
    "                   ['./waste_images/train_segmented\\Water Pump\\Water Pump4_segmented.JPG', 'brightness-range']  \n",
    "                ]"
   ]
  },
  {
   "cell_type": "code",
   "execution_count": 19,
   "id": "29324cb9",
   "metadata": {},
   "outputs": [
    {
     "name": "stdout",
     "output_type": "stream",
     "text": [
      "./waste_images/train_segmented\\Water Pump\\Water Pump1_segmented.JPG 1 _width-shift_\n",
      "./waste_images/train_segmented\\Water Pump\\Water Pump4_segmented.JPG 2 _width-shift_\n",
      "./waste_images/train_segmented\\Water Pump\\Water Pump3_segmented.JPG 3 _width-shift_\n",
      "./waste_images/train_segmented\\Water Pump\\Water Pump4_segmented.JPG 4 _width-shift_\n",
      "./waste_images/train_segmented\\Water Pump\\Water Pump8_segmented.JPG 5 _width-shift_\n",
      "./waste_images/train_segmented\\Water Pump\\Water Pump1_segmented.JPG 6 _width-shift_\n",
      "./waste_images/train_segmented\\Water Pump\\Water Pump3_segmented.JPG 7 _height-shift_\n",
      "./waste_images/train_segmented\\Water Pump\\Water Pump3_segmented.JPG 8 _height-shift_\n",
      "./waste_images/train_segmented\\Water Pump\\Water Pump6_segmented.JPG 9 _height-shift_\n",
      "./waste_images/train_segmented\\Water Pump\\Water Pump3_segmented.JPG 10 _height-shift_\n",
      "./waste_images/train_segmented\\Water Pump\\Water Pump3_segmented.JPG 11 _height-shift_\n",
      "./waste_images/train_segmented\\Water Pump\\Water Pump8_segmented.JPG 12 _height-shift_\n",
      "./waste_images/train_segmented\\Water Pump\\Water Pump1_segmented.JPG 13 _height-shift_\n",
      "./waste_images/train_segmented\\Water Pump\\Water Pump6_segmented.JPG 14 _horizontal-flip_\n",
      "./waste_images/train_segmented\\Water Pump\\Water Pump8_segmented.JPG 15 _horizontal-flip_\n",
      "./waste_images/train_segmented\\Water Pump\\Water Pump4_segmented.JPG 16 _horizontal-flip_\n",
      "./waste_images/train_segmented\\Water Pump\\Water Pump8_segmented.JPG 17 _horizontal-flip_\n",
      "./waste_images/train_segmented\\Water Pump\\Water Pump7_segmented.JPG 18 _horizontal-flip_\n",
      "./waste_images/train_segmented\\Water Pump\\Water Pump1_segmented.JPG 19 _horizontal-flip_\n",
      "./waste_images/train_segmented\\Water Pump\\Water Pump8_segmented.JPG 20 _horizontal-flip_\n",
      "./waste_images/train_segmented\\Water Pump\\Water Pump8_segmented.JPG 21 _rotation-range_\n",
      "./waste_images/train_segmented\\Water Pump\\Water Pump7_segmented.JPG 22 _rotation-range_\n",
      "./waste_images/train_segmented\\Water Pump\\Water Pump1_segmented.JPG 23 _rotation-range_\n",
      "./waste_images/train_segmented\\Water Pump\\Water Pump1_segmented.JPG 24 _rotation-range_\n",
      "./waste_images/train_segmented\\Water Pump\\Water Pump8_segmented.JPG 25 _rotation-range_\n",
      "./waste_images/train_segmented\\Water Pump\\Water Pump8_segmented.JPG 26 _rotation-range_\n",
      "./waste_images/train_segmented\\Water Pump\\Water Pump8_segmented.JPG 27 _rotation-range_\n",
      "./waste_images/train_segmented\\Water Pump\\Water Pump1_segmented.JPG 28 _brightness-range_\n",
      "./waste_images/train_segmented\\Water Pump\\Water Pump7_segmented.JPG 29 _brightness-range_\n",
      "./waste_images/train_segmented\\Water Pump\\Water Pump4_segmented.JPG 30 _brightness-range_\n",
      "./waste_images/train_segmented\\Water Pump\\Water Pump6_segmented.JPG 31 _brightness-range_\n",
      "./waste_images/train_segmented\\Water Pump\\Water Pump3_segmented.JPG 32 _brightness-range_\n",
      "./waste_images/train_segmented\\Water Pump\\Water Pump1_segmented.JPG 33 _brightness-range_\n",
      "./waste_images/train_segmented\\Water Pump\\Water Pump4_segmented.JPG 34 _brightness-range_\n"
     ]
    }
   ],
   "source": [
    "range_list = [1,35] # adding 34 images\n",
    "\n",
    "for count in range(range_list[0], range_list[1]):\n",
    "    \n",
    "    imagefile = list_images_aug[count-1][0]\n",
    "    new_dir = './waste_images/train_segmented_balanced/Water Pump\\\\'\n",
    "        \n",
    "    # Creating image date augmentation generator based on percentages of the range interval\n",
    "                    \n",
    "    if list_images_aug[count-1][1] == 'width-shift':\n",
    "        datagen = ImageDataGenerator(width_shift_range=[-200,200]) # width shift\n",
    "        suffix = '_width-shift_'\n",
    "        \n",
    "    elif list_images_aug[count-1][1] == 'height-shift':\n",
    "        datagen = ImageDataGenerator(height_shift_range=0.5) # height shift\n",
    "        suffix = '_height-shift_'\n",
    "     \n",
    "    elif list_images_aug[count-1][1] == 'horizontal-flip':\n",
    "        datagen = ImageDataGenerator(horizontal_flip=True) # horizontal flip\n",
    "        suffix = '_horizontal-flip_'\n",
    "        \n",
    "    elif list_images_aug[count-1][1] == 'rotation-range':\n",
    "        datagen = ImageDataGenerator(rotation_range=90) # rotation\n",
    "        suffix = '_rotation-range_'\n",
    "        \n",
    "    elif list_images_aug[count-1][1] == 'brightness-range':\n",
    "        datagen = ImageDataGenerator(brightness_range=[0.2,1.0]) # brightness\n",
    "        suffix = '_brightness-range_'\n",
    "    \n",
    "    print(imagefile, count, suffix)\n",
    "    \n",
    "    img = load_img(imagefile) # Loading the image\n",
    "    data = img_to_array(img)  # Converting to numpy array\n",
    "    samples = expand_dims(data, 0) # Expanding dimension to one sample\n",
    "    it = datagen.flow(samples, batch_size=1) # Preparing iterator\n",
    "    batch = it.next()  # Generating batch of images\n",
    "    image = batch[0].astype('uint8') # Convert to unsigned integers\n",
    "    Image.fromarray(image).save(new_dir+imagefile.rsplit('\\\\', 1)[1].replace('.JPG','')+suffix+str(count)+'.JPG') # Saving image"
   ]
  },
  {
   "cell_type": "markdown",
   "id": "e0be14da",
   "metadata": {},
   "source": [
    "# Test (after background segmentation)"
   ]
  },
  {
   "cell_type": "code",
   "execution_count": 20,
   "id": "8852a9b5",
   "metadata": {},
   "outputs": [],
   "source": [
    "# Get the path of the testing image(s) and store them in a list\n",
    "test_path = './waste_images/test_segmented' "
   ]
  },
  {
   "cell_type": "code",
   "execution_count": 21,
   "id": "fc99efe0",
   "metadata": {},
   "outputs": [],
   "source": [
    "testing_names = os.listdir(test_path)"
   ]
  },
  {
   "cell_type": "code",
   "execution_count": 23,
   "id": "a3fdd781",
   "metadata": {},
   "outputs": [],
   "source": [
    "# Get path to all images and save them in a list\n",
    "# image_paths and the corresponding label in image_paths\n",
    "image_paths = []\n",
    "image_classes = []\n",
    "class_id = 0\n",
    "\n",
    "#To make it easy to list all file names in a directory let us define a function\n",
    "def imglist(path):\n",
    "    return [os.path.join(path, f) for f in os.listdir(path)]\n",
    "\n",
    "#Fill the placeholder empty lists with image path, classes, and add class ID number\n",
    "\n",
    "for testing_name in testing_names:\n",
    "    dir = os.path.join(test_path, testing_name)\n",
    "    class_path = imglist(dir)\n",
    "    image_paths+=class_path\n",
    "    image_classes+=[class_id]*len(class_path)\n",
    "    class_id+=1"
   ]
  },
  {
   "cell_type": "code",
   "execution_count": 24,
   "id": "a35afac9",
   "metadata": {},
   "outputs": [
    {
     "data": {
      "text/plain": [
       "['./waste_images/test_segmented\\\\Aluminium\\\\Aluminium17_segmented.JPG',\n",
       " './waste_images/test_segmented\\\\Aluminium\\\\Aluminium49_segmented.JPG',\n",
       " './waste_images/test_segmented\\\\Aluminium\\\\Aluminium55_segmented.JPG',\n",
       " './waste_images/test_segmented\\\\Aluminium\\\\Aluminium57_segmented.JPG',\n",
       " './waste_images/test_segmented\\\\Aluminium\\\\Aluminium5_segmented.JPG',\n",
       " './waste_images/test_segmented\\\\Aluminium\\\\Aluminium63_segmented.JPG',\n",
       " './waste_images/test_segmented\\\\Aluminium\\\\Aluminium70_segmented.JPG',\n",
       " './waste_images/test_segmented\\\\Aluminium\\\\Aluminium83_segmented.JPG',\n",
       " './waste_images/test_segmented\\\\Aluminium\\\\Aluminium85_segmented.JPG',\n",
       " './waste_images/test_segmented\\\\Battery\\\\Battery100_segmented.JPG']"
      ]
     },
     "execution_count": 24,
     "metadata": {},
     "output_type": "execute_result"
    }
   ],
   "source": [
    "image_paths[:10]"
   ]
  },
  {
   "cell_type": "code",
   "execution_count": 25,
   "id": "7537ce33",
   "metadata": {},
   "outputs": [
    {
     "data": {
      "text/plain": [
       "139"
      ]
     },
     "execution_count": 25,
     "metadata": {},
     "output_type": "execute_result"
    }
   ],
   "source": [
    "# total number of images in the training set\n",
    "len(image_paths)"
   ]
  },
  {
   "cell_type": "code",
   "execution_count": 27,
   "id": "6e6a59e8",
   "metadata": {},
   "outputs": [
    {
     "data": {
      "text/plain": [
       "array([ 0,  1,  2,  3,  4,  5,  6,  7,  8,  9, 10, 11])"
      ]
     },
     "execution_count": 27,
     "metadata": {},
     "output_type": "execute_result"
    }
   ],
   "source": [
    "# classes\n",
    "np.unique(image_classes)"
   ]
  },
  {
   "cell_type": "code",
   "execution_count": 28,
   "id": "fa055610",
   "metadata": {},
   "outputs": [
    {
     "data": {
      "text/plain": [
       "{0: 9,\n",
       " 1: 19,\n",
       " 2: 10,\n",
       " 3: 10,\n",
       " 4: 9,\n",
       " 5: 11,\n",
       " 6: 6,\n",
       " 7: 3,\n",
       " 8: 42,\n",
       " 9: 8,\n",
       " 10: 10,\n",
       " 11: 2}"
      ]
     },
     "execution_count": 28,
     "metadata": {},
     "output_type": "execute_result"
    }
   ],
   "source": [
    "dict((x,image_classes.count(x)) for x in set(image_classes))"
   ]
  },
  {
   "cell_type": "code",
   "execution_count": 29,
   "id": "15654180",
   "metadata": {},
   "outputs": [],
   "source": [
    "labels_classes = {'Aluminium':0, 'Battery':1, 'Cable and Wire':2, 'Cardboard and Paper':3, 'Connector':4,\n",
    "                'Copper':5, 'Iron':6, 'Magnetic Tape':7, 'Printed Circuit Board':8, \n",
    "                'Printer Ribbon and Toner':9, 'Tube and Screen':10, 'Water Pump':11}"
   ]
  },
  {
   "cell_type": "code",
   "execution_count": null,
   "id": "88d63e38",
   "metadata": {},
   "outputs": [],
   "source": []
  },
  {
   "cell_type": "markdown",
   "id": "2b25b51b",
   "metadata": {},
   "source": [
    "## Battery:  remove ~ 9 images"
   ]
  },
  {
   "cell_type": "code",
   "execution_count": 30,
   "id": "82add00f",
   "metadata": {},
   "outputs": [],
   "source": [
    "samples_battery = ['./waste_images/test_segmented_balanced\\\\Battery\\\\Battery68_segmented.JPG',\n",
    " './waste_images/test_segmented_balanced\\\\Battery\\\\Battery5_segmented.JPG',\n",
    " './waste_images/test_segmented_balanced\\\\Battery\\\\Battery49_segmented.JPG',\n",
    " './waste_images/test_segmented_balanced\\\\Battery\\\\Battery63_segmented.JPG',\n",
    " './waste_images/test_segmented_balanced\\\\Battery\\\\Battery116_segmented.JPG',\n",
    " './waste_images/test_segmented_balanced\\\\Battery\\\\Battery29_segmented.JPG',\n",
    " './waste_images/test_segmented_balanced\\\\Battery\\\\Battery86_segmented.JPG',\n",
    " './waste_images/test_segmented_balanced\\\\Battery\\\\Battery129_segmented.JPG',\n",
    " './waste_images/test_segmented_balanced\\\\Battery\\\\Battery125_segmented.JPG']"
   ]
  },
  {
   "cell_type": "code",
   "execution_count": 32,
   "id": "08b28a8d",
   "metadata": {},
   "outputs": [],
   "source": [
    "for path in samples_battery:\n",
    "    os.remove(path)"
   ]
  },
  {
   "cell_type": "markdown",
   "id": "00262ba5",
   "metadata": {},
   "source": [
    "## Iron: add ~ 4 images"
   ]
  },
  {
   "cell_type": "code",
   "execution_count": 35,
   "id": "58c88e5a",
   "metadata": {},
   "outputs": [],
   "source": [
    "list_images_aug = [['./waste_images/test_segmented\\Iron\\Iron36_segmented.JPG', 'height-shift'],\n",
    "                   ['./waste_images/test_segmented\\Iron\\Iron3_segmented.JPG', 'horizontal-flip'],\n",
    "                   ['./waste_images/test_segmented\\Iron\\Iron27_segmented.JPG', 'rotation-range'],\n",
    "                   ['./waste_images/test_segmented\\Iron\\Iron24_segmented.JPG', 'brightness-range']]"
   ]
  },
  {
   "cell_type": "code",
   "execution_count": 36,
   "id": "4b233175",
   "metadata": {},
   "outputs": [
    {
     "data": {
      "text/plain": [
       "[['./waste_images/test_segmented\\\\Iron\\\\Iron36_segmented.JPG', 'height-shift'],\n",
       " ['./waste_images/test_segmented\\\\Iron\\\\Iron3_segmented.JPG',\n",
       "  'horizontal-flip'],\n",
       " ['./waste_images/test_segmented\\\\Iron\\\\Iron27_segmented.JPG',\n",
       "  'rotation-range'],\n",
       " ['./waste_images/test_segmented\\\\Iron\\\\Iron24_segmented.JPG',\n",
       "  'brightness-range']]"
      ]
     },
     "execution_count": 36,
     "metadata": {},
     "output_type": "execute_result"
    }
   ],
   "source": [
    "list_images_aug"
   ]
  },
  {
   "cell_type": "code",
   "execution_count": 37,
   "id": "e1e1d1f9",
   "metadata": {},
   "outputs": [
    {
     "name": "stdout",
     "output_type": "stream",
     "text": [
      "./waste_images/test_segmented\\Iron\\Iron36_segmented.JPG 1 _height-shift_\n",
      "./waste_images/test_segmented\\Iron\\Iron3_segmented.JPG 2 _horizontal-flip_\n",
      "./waste_images/test_segmented\\Iron\\Iron27_segmented.JPG 3 _rotation-range_\n",
      "./waste_images/test_segmented\\Iron\\Iron24_segmented.JPG 4 _brightness-range_\n"
     ]
    }
   ],
   "source": [
    "range_list = [1,5] # adding 4 images\n",
    "\n",
    "for count in range(range_list[0], range_list[1]):\n",
    "    \n",
    "    imagefile = list_images_aug[count-1][0]\n",
    "    new_dir = './waste_images/test_segmented_balanced/Iron\\\\'\n",
    "        \n",
    "    # Creating image date augmentation generator based on percentages of the range interval\n",
    "                    \n",
    "    if list_images_aug[count-1][1] == 'width-shift':\n",
    "        datagen = ImageDataGenerator(width_shift_range=[-200,200]) # width shift\n",
    "        suffix = '_width-shift_'\n",
    "        \n",
    "    elif list_images_aug[count-1][1] == 'height-shift':\n",
    "        datagen = ImageDataGenerator(height_shift_range=0.5) # height shift\n",
    "        suffix = '_height-shift_'\n",
    "     \n",
    "    elif list_images_aug[count-1][1] == 'horizontal-flip':\n",
    "        datagen = ImageDataGenerator(horizontal_flip=True) # horizontal flip\n",
    "        suffix = '_horizontal-flip_'\n",
    "        \n",
    "    elif list_images_aug[count-1][1] == 'rotation-range':\n",
    "        datagen = ImageDataGenerator(rotation_range=90) # rotation\n",
    "        suffix = '_rotation-range_'\n",
    "        \n",
    "    elif list_images_aug[count-1][1] == 'brightness-range':\n",
    "        datagen = ImageDataGenerator(brightness_range=[0.2,1.0]) # brightness\n",
    "        suffix = '_brightness-range_'\n",
    "    \n",
    "    print(imagefile, count, suffix)\n",
    "    \n",
    "    img = load_img(imagefile) # Loading the image\n",
    "    data = img_to_array(img)  # Converting to numpy array\n",
    "    samples = expand_dims(data, 0) # Expanding dimension to one sample\n",
    "    it = datagen.flow(samples, batch_size=1) # Preparing iterator\n",
    "    batch = it.next()  # Generating batch of images\n",
    "    image = batch[0].astype('uint8') # Convert to unsigned integers\n",
    "    Image.fromarray(image).save(new_dir+imagefile.rsplit('\\\\', 1)[1].replace('.JPG','')+suffix+str(count)+'.JPG') # Saving image"
   ]
  },
  {
   "cell_type": "markdown",
   "id": "5f7c5b10",
   "metadata": {},
   "source": [
    "## Magnetic Tape: add ~ 7 images "
   ]
  },
  {
   "cell_type": "code",
   "execution_count": 38,
   "id": "c1623625",
   "metadata": {},
   "outputs": [],
   "source": [
    "list_images_aug = [['./waste_images/test_segmented\\Magnetic Tape\\Magnetic Tape11_segmented.JPG', 'width-shift'],\n",
    "                   ['./waste_images/test_segmented\\Magnetic Tape\\Magnetic Tape2_segmented.JPG', 'height-shift'],\n",
    "                   ['./waste_images/test_segmented\\Magnetic Tape\\Magnetic Tape2_segmented.JPG', 'horizontal-flip'],\n",
    "                   ['./waste_images/test_segmented\\Magnetic Tape\\Magnetic Tape11_segmented.JPG', 'horizontal-flip'],\n",
    "                   ['./waste_images/test_segmented\\Magnetic Tape\\Magnetic Tape2_segmented.JPG', 'rotation-range'],\n",
    "                   ['./waste_images/test_segmented\\Magnetic Tape\\Magnetic Tape5_segmented.JPG', 'brightness-range'],\n",
    "                   ['./waste_images/test_segmented\\Magnetic Tape\\Magnetic Tape2_segmented.JPG', 'brightness-range']  \n",
    "                ]"
   ]
  },
  {
   "cell_type": "code",
   "execution_count": 39,
   "id": "44bf659d",
   "metadata": {},
   "outputs": [
    {
     "name": "stdout",
     "output_type": "stream",
     "text": [
      "./waste_images/test_segmented\\Magnetic Tape\\Magnetic Tape11_segmented.JPG 1 _width-shift_\n",
      "./waste_images/test_segmented\\Magnetic Tape\\Magnetic Tape2_segmented.JPG 2 _height-shift_\n",
      "./waste_images/test_segmented\\Magnetic Tape\\Magnetic Tape2_segmented.JPG 3 _horizontal-flip_\n",
      "./waste_images/test_segmented\\Magnetic Tape\\Magnetic Tape11_segmented.JPG 4 _horizontal-flip_\n",
      "./waste_images/test_segmented\\Magnetic Tape\\Magnetic Tape2_segmented.JPG 5 _rotation-range_\n",
      "./waste_images/test_segmented\\Magnetic Tape\\Magnetic Tape5_segmented.JPG 6 _brightness-range_\n",
      "./waste_images/test_segmented\\Magnetic Tape\\Magnetic Tape2_segmented.JPG 7 _brightness-range_\n"
     ]
    }
   ],
   "source": [
    "range_list = [1,8] # adding 7 images\n",
    "\n",
    "for count in range(range_list[0], range_list[1]):\n",
    "    \n",
    "    imagefile = list_images_aug[count-1][0]\n",
    "    new_dir = './waste_images/test_segmented_balanced/Magnetic Tape\\\\'\n",
    "        \n",
    "    # Creating image date augmentation generator based on percentages of the range interval\n",
    "                    \n",
    "    if list_images_aug[count-1][1] == 'width-shift':\n",
    "        datagen = ImageDataGenerator(width_shift_range=[-200,200]) # width shift\n",
    "        suffix = '_width-shift_'\n",
    "        \n",
    "    elif list_images_aug[count-1][1] == 'height-shift':\n",
    "        datagen = ImageDataGenerator(height_shift_range=0.5) # height shift\n",
    "        suffix = '_height-shift_'\n",
    "     \n",
    "    elif list_images_aug[count-1][1] == 'horizontal-flip':\n",
    "        datagen = ImageDataGenerator(horizontal_flip=True) # horizontal flip\n",
    "        suffix = '_horizontal-flip_'\n",
    "        \n",
    "    elif list_images_aug[count-1][1] == 'rotation-range':\n",
    "        datagen = ImageDataGenerator(rotation_range=90) # rotation\n",
    "        suffix = '_rotation-range_'\n",
    "        \n",
    "    elif list_images_aug[count-1][1] == 'brightness-range':\n",
    "        datagen = ImageDataGenerator(brightness_range=[0.2,1.0]) # brightness\n",
    "        suffix = '_brightness-range_'\n",
    "    \n",
    "    print(imagefile, count, suffix)\n",
    "    \n",
    "    img = load_img(imagefile) # Loading the image\n",
    "    data = img_to_array(img)  # Converting to numpy array\n",
    "    samples = expand_dims(data, 0) # Expanding dimension to one sample\n",
    "    it = datagen.flow(samples, batch_size=1) # Preparing iterator\n",
    "    batch = it.next()  # Generating batch of images\n",
    "    image = batch[0].astype('uint8') # Convert to unsigned integers\n",
    "    Image.fromarray(image).save(new_dir+imagefile.rsplit('\\\\', 1)[1].replace('.JPG','')+suffix+str(count)+'.JPG') # Saving image"
   ]
  },
  {
   "cell_type": "markdown",
   "id": "fc8c531a",
   "metadata": {},
   "source": [
    "## Printed Circuit Board: remove ~ 27 images"
   ]
  },
  {
   "cell_type": "code",
   "execution_count": 40,
   "id": "7211d6cd",
   "metadata": {},
   "outputs": [],
   "source": [
    "samples_pcb=['./waste_images/test_segmented_balanced\\\\Printed Circuit Board\\\\Printed Circuit Board230_segmented.JPG',\n",
    "             './waste_images/test_segmented_balanced\\\\Printed Circuit Board\\\\Printed Circuit Board210_segmented.JPG',\n",
    "             './waste_images/test_segmented_balanced\\\\Printed Circuit Board\\\\Printed Circuit Board21_segmented.JPG',\n",
    "             './waste_images/test_segmented_balanced\\\\Printed Circuit Board\\\\Printed Circuit Board220_segmented.JPG',\n",
    "             './waste_images/test_segmented_balanced\\\\Printed Circuit Board\\\\Printed Circuit Board152_segmented.JPG',\n",
    "             './waste_images/test_segmented_balanced\\\\Printed Circuit Board\\\\Printed Circuit Board140_segmented.JPG',\n",
    "             './waste_images/test_segmented_balanced\\\\Printed Circuit Board\\\\Printed Circuit Board76_segmented.JPG',\n",
    "             './waste_images/test_segmented_balanced\\\\Printed Circuit Board\\\\Printed Circuit Board180_segmented.JPG',\n",
    "             './waste_images/test_segmented_balanced\\\\Printed Circuit Board\\\\Printed Circuit Board37_segmented.JPG',\n",
    "             './waste_images/test_segmented_balanced\\\\Printed Circuit Board\\\\Printed Circuit Board212_segmented.JPG',\n",
    "             './waste_images/test_segmented_balanced\\\\Printed Circuit Board\\\\Printed Circuit Board49_segmented.JPG',\n",
    "             './waste_images/test_segmented_balanced\\\\Printed Circuit Board\\\\Printed Circuit Board128_segmented.JPG',\n",
    "             './waste_images/test_segmented_balanced\\\\Printed Circuit Board\\\\Printed Circuit Board139_segmented.JPG',\n",
    "             './waste_images/test_segmented_balanced\\\\Printed Circuit Board\\\\Printed Circuit Board165_segmented.JPG',\n",
    "             './waste_images/test_segmented_balanced\\\\Printed Circuit Board\\\\Printed Circuit Board54_segmented.JPG',\n",
    "             './waste_images/test_segmented_balanced\\\\Printed Circuit Board\\\\Printed Circuit Board174_segmented.JPG',\n",
    "             './waste_images/test_segmented_balanced\\\\Printed Circuit Board\\\\Printed Circuit Board25_segmented.JPG',\n",
    "             './waste_images/test_segmented_balanced\\\\Printed Circuit Board\\\\Printed Circuit Board137_segmented.JPG',\n",
    "             './waste_images/test_segmented_balanced\\\\Printed Circuit Board\\\\Printed Circuit Board65_segmented.JPG',\n",
    "             './waste_images/test_segmented_balanced\\\\Printed Circuit Board\\\\Printed Circuit Board215_segmented.JPG',\n",
    "             './waste_images/test_segmented_balanced\\\\Printed Circuit Board\\\\Printed Circuit Board87_segmented.JPG',\n",
    "             './waste_images/test_segmented_balanced\\\\Printed Circuit Board\\\\Printed Circuit Board117_segmented.JPG',\n",
    "             './waste_images/test_segmented_balanced\\\\Printed Circuit Board\\\\Printed Circuit Board112_segmented.JPG',\n",
    "             './waste_images/test_segmented_balanced\\\\Printed Circuit Board\\\\Printed Circuit Board217_segmented.JPG',\n",
    "             './waste_images/test_segmented_balanced\\\\Printed Circuit Board\\\\Printed Circuit Board84_segmented.JPG',\n",
    "             './waste_images/test_segmented_balanced\\\\Printed Circuit Board\\\\Printed Circuit Board223_segmented.JPG',\n",
    "             './waste_images/test_segmented_balanced\\\\Printed Circuit Board\\\\Printed Circuit Board173_segmented.JPG']"
   ]
  },
  {
   "cell_type": "code",
   "execution_count": 42,
   "id": "08fc14c7",
   "metadata": {},
   "outputs": [],
   "source": [
    "for path in samples_pcb:\n",
    "    os.remove(path)"
   ]
  },
  {
   "cell_type": "markdown",
   "id": "fe148bca",
   "metadata": {},
   "source": [
    "## Water Pump: add ~ 8 images"
   ]
  },
  {
   "cell_type": "code",
   "execution_count": 47,
   "id": "8493241b",
   "metadata": {},
   "outputs": [],
   "source": [
    "list_images_aug = [['./waste_images/test_segmented\\Water Pump\\Water Pump2_segmented.JPG', 'width-shift'],\n",
    "                   ['./waste_images/test_segmented\\Water Pump\\Water Pump5_segmented.JPG', 'height-shift'],\n",
    "                   ['./waste_images/test_segmented\\Water Pump\\Water Pump5_segmented.JPG', 'height-shift'],\n",
    "                   ['./waste_images/test_segmented\\Water Pump\\Water Pump5_segmented.JPG', 'horizontal-flip'],\n",
    "                   ['./waste_images/test_segmented\\Water Pump\\Water Pump5_segmented.JPG', 'rotation-range'],\n",
    "                   ['./waste_images/test_segmented\\Water Pump\\Water Pump5_segmented.JPG', 'rotation-range'],\n",
    "                   ['./waste_images/test_segmented\\Water Pump\\Water Pump2_segmented.JPG', 'brightness-range'],\n",
    "                   ['./waste_images/test_segmented\\Water Pump\\Water Pump5_segmented.JPG', 'brightness-range']\n",
    "                  ]"
   ]
  },
  {
   "cell_type": "code",
   "execution_count": 48,
   "id": "f91cd3e6",
   "metadata": {},
   "outputs": [
    {
     "name": "stdout",
     "output_type": "stream",
     "text": [
      "./waste_images/test_segmented\\Water Pump\\Water Pump2_segmented.JPG 1 _width-shift_\n",
      "./waste_images/test_segmented\\Water Pump\\Water Pump5_segmented.JPG 2 _height-shift_\n",
      "./waste_images/test_segmented\\Water Pump\\Water Pump5_segmented.JPG 3 _height-shift_\n",
      "./waste_images/test_segmented\\Water Pump\\Water Pump5_segmented.JPG 4 _horizontal-flip_\n",
      "./waste_images/test_segmented\\Water Pump\\Water Pump5_segmented.JPG 5 _rotation-range_\n",
      "./waste_images/test_segmented\\Water Pump\\Water Pump5_segmented.JPG 6 _rotation-range_\n",
      "./waste_images/test_segmented\\Water Pump\\Water Pump2_segmented.JPG 7 _brightness-range_\n",
      "./waste_images/test_segmented\\Water Pump\\Water Pump5_segmented.JPG 8 _brightness-range_\n"
     ]
    }
   ],
   "source": [
    "range_list = [1,9] # adding 8 images\n",
    "\n",
    "for count in range(range_list[0], range_list[1]):\n",
    "    \n",
    "    imagefile = list_images_aug[count-1][0]\n",
    "    new_dir = './waste_images/test_segmented_balanced/Water Pump\\\\'\n",
    "        \n",
    "    # Creating image date augmentation generator based on percentages of the range interval\n",
    "                    \n",
    "    if list_images_aug[count-1][1] == 'width-shift':\n",
    "        datagen = ImageDataGenerator(width_shift_range=[-200,200]) # width shift\n",
    "        suffix = '_width-shift_'\n",
    "        \n",
    "    elif list_images_aug[count-1][1] == 'height-shift':\n",
    "        datagen = ImageDataGenerator(height_shift_range=0.5) # height shift\n",
    "        suffix = '_height-shift_'\n",
    "     \n",
    "    elif list_images_aug[count-1][1] == 'horizontal-flip':\n",
    "        datagen = ImageDataGenerator(horizontal_flip=True) # horizontal flip\n",
    "        suffix = '_horizontal-flip_'\n",
    "        \n",
    "    elif list_images_aug[count-1][1] == 'rotation-range':\n",
    "        datagen = ImageDataGenerator(rotation_range=90) # rotation\n",
    "        suffix = '_rotation-range_'\n",
    "        \n",
    "    elif list_images_aug[count-1][1] == 'brightness-range':\n",
    "        datagen = ImageDataGenerator(brightness_range=[0.2,1.0]) # brightness\n",
    "        suffix = '_brightness-range_'\n",
    "    \n",
    "    print(imagefile, count, suffix)\n",
    "    \n",
    "    img = load_img(imagefile) # Loading the image\n",
    "    data = img_to_array(img)  # Converting to numpy array\n",
    "    samples = expand_dims(data, 0) # Expanding dimension to one sample\n",
    "    it = datagen.flow(samples, batch_size=1) # Preparing iterator\n",
    "    batch = it.next()  # Generating batch of images\n",
    "    image = batch[0].astype('uint8') # Convert to unsigned integers\n",
    "    Image.fromarray(image).save(new_dir+imagefile.rsplit('\\\\', 1)[1].replace('.JPG','')+suffix+str(count)+'.JPG') # Saving image"
   ]
  },
  {
   "cell_type": "code",
   "execution_count": null,
   "id": "0b414bc0",
   "metadata": {},
   "outputs": [],
   "source": []
  }
 ],
 "metadata": {
  "kernelspec": {
   "display_name": "Python 3",
   "language": "python",
   "name": "python3"
  },
  "language_info": {
   "codemirror_mode": {
    "name": "ipython",
    "version": 3
   },
   "file_extension": ".py",
   "mimetype": "text/x-python",
   "name": "python",
   "nbconvert_exporter": "python",
   "pygments_lexer": "ipython3",
   "version": "3.8.8"
  }
 },
 "nbformat": 4,
 "nbformat_minor": 5
}
